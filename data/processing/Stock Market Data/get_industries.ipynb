{
 "cells": [
  {
   "cell_type": "markdown",
   "metadata": {},
   "source": [
    "# Get the Sector and Industry for all the stocks"
   ]
  },
  {
   "cell_type": "code",
   "execution_count": 10,
   "metadata": {},
   "outputs": [
    {
     "data": {
      "text/plain": [
       "<bound method InteractiveShell.excepthook of <ipykernel.zmqshell.ZMQInteractiveShell object at 0x7fd314093f70>>"
      ]
     },
     "execution_count": 10,
     "metadata": {},
     "output_type": "execute_result"
    }
   ],
   "source": [
    "import numpy as np\n",
    "import pandas as pd\n",
    "\n",
    "import requests\n",
    "import string\n",
    "from time import sleep\n",
    "\n",
    "# To print nicely\n",
    "from rich.jupyter import print\n",
    "from rich.traceback import install\n",
    "install()"
   ]
  },
  {
   "cell_type": "code",
   "execution_count": 11,
   "metadata": {},
   "outputs": [],
   "source": [
    "import os\n",
    "from dotenv import load_dotenv, dotenv_values\n",
    "\n",
    "load_dotenv()\n",
    "\n",
    "API_KEY = os.getenv(\"ALPHA_VANTAGE_API\")"
   ]
  },
  {
   "cell_type": "markdown",
   "metadata": {},
   "source": [
    "Get all the stock tickers for which we need information"
   ]
  },
  {
   "cell_type": "code",
   "execution_count": 12,
   "metadata": {},
   "outputs": [
    {
     "data": {
      "text/html": [
       "<div>\n",
       "<style scoped>\n",
       "    .dataframe tbody tr th:only-of-type {\n",
       "        vertical-align: middle;\n",
       "    }\n",
       "\n",
       "    .dataframe tbody tr th {\n",
       "        vertical-align: top;\n",
       "    }\n",
       "\n",
       "    .dataframe thead th {\n",
       "        text-align: right;\n",
       "    }\n",
       "</style>\n",
       "<table border=\"1\" class=\"dataframe\">\n",
       "  <thead>\n",
       "    <tr style=\"text-align: right;\">\n",
       "      <th></th>\n",
       "      <th>Ticker</th>\n",
       "      <th>Company Name</th>\n",
       "      <th>ISIN Code</th>\n",
       "    </tr>\n",
       "  </thead>\n",
       "  <tbody>\n",
       "    <tr>\n",
       "      <th>0</th>\n",
       "      <td>A</td>\n",
       "      <td>Agilent Technologies Inc.</td>\n",
       "      <td>US00846U1016</td>\n",
       "    </tr>\n",
       "    <tr>\n",
       "      <th>1</th>\n",
       "      <td>AA</td>\n",
       "      <td>Alcoa Inc</td>\n",
       "      <td>US0138171014</td>\n",
       "    </tr>\n",
       "    <tr>\n",
       "      <th>2</th>\n",
       "      <td>AAL</td>\n",
       "      <td>American Airlines Group Inc</td>\n",
       "      <td>US02376R1023</td>\n",
       "    </tr>\n",
       "    <tr>\n",
       "      <th>3</th>\n",
       "      <td>AAP</td>\n",
       "      <td>Advance Auto Parts Inc</td>\n",
       "      <td>US00751Y1064</td>\n",
       "    </tr>\n",
       "    <tr>\n",
       "      <th>4</th>\n",
       "      <td>AAPL</td>\n",
       "      <td>Apple Inc.</td>\n",
       "      <td>US0378331005</td>\n",
       "    </tr>\n",
       "  </tbody>\n",
       "</table>\n",
       "</div>"
      ],
      "text/plain": [
       "  Ticker                 Company Name     ISIN Code\n",
       "0      A    Agilent Technologies Inc.  US00846U1016\n",
       "1     AA                    Alcoa Inc  US0138171014\n",
       "2    AAL  American Airlines Group Inc  US02376R1023\n",
       "3    AAP       Advance Auto Parts Inc  US00751Y1064\n",
       "4   AAPL                   Apple Inc.  US0378331005"
      ]
     },
     "execution_count": 12,
     "metadata": {},
     "output_type": "execute_result"
    }
   ],
   "source": [
    "all_stocks = pd.read_csv(\"../all_stock_info_needed.csv\")\n",
    "all_stocks.head()"
   ]
  },
  {
   "cell_type": "code",
   "execution_count": 13,
   "metadata": {},
   "outputs": [],
   "source": [
    "def get_company_overview(ticker):\n",
    "    while True:\n",
    "        url = f\"https://www.alphavantage.co/query?function=OVERVIEW&symbol={ticker}&apikey={API_KEY}\"\n",
    "        response = requests.get(url)\n",
    "        data = response.json()\n",
    "        \n",
    "        if len(data.keys()) == 0:\n",
    "            raise Exception(f\"returned {data}\")\n",
    "        elif len(data.keys()) == 1:\n",
    "            print(f\"[green]Retrying {ticker} after 1 min, got {data}[/green]\")\n",
    "            sleep(60)\n",
    "            continue\n",
    "        break\n",
    "    \n",
    "    return data\n",
    "\n",
    "def strip_string(text):\n",
    "    return text.translate(str.maketrans('', '', string.punctuation)).strip().lower()\n",
    "\n",
    "def string_similar(str1, str2):\n",
    "    return strip_string(str1) == strip_string(str2)"
   ]
  },
  {
   "cell_type": "code",
   "execution_count": 14,
   "metadata": {},
   "outputs": [],
   "source": [
    "stock_info = pd.DataFrame(columns=[\"Ticker\", \"Name\", \"Sector\", \"Industry\"])"
   ]
  },
  {
   "cell_type": "code",
   "execution_count": 15,
   "metadata": {},
   "outputs": [
    {
     "data": {
      "text/html": [
       "<pre style=\"white-space:pre;overflow-x:auto;line-height:normal;font-family:Menlo,'DejaVu Sans Mono',consolas,'Courier New',monospace\">A | Agilent Technologies Inc. | Agilent Technologies Inc\n",
       "</pre>\n"
      ],
      "text/plain": [
       "A | Agilent Technologies Inc. | Agilent Technologies Inc\n"
      ]
     },
     "metadata": {},
     "output_type": "display_data"
    },
    {
     "data": {
      "text/html": [
       "<pre style=\"white-space:pre;overflow-x:auto;line-height:normal;font-family:Menlo,'DejaVu Sans Mono',consolas,'Courier New',monospace\">AA | Alcoa Inc | Alcoa Corp\n",
       "</pre>\n"
      ],
      "text/plain": [
       "AA | Alcoa Inc | Alcoa Corp\n"
      ]
     },
     "metadata": {},
     "output_type": "display_data"
    },
    {
     "data": {
      "text/html": [
       "<pre style=\"white-space:pre;overflow-x:auto;line-height:normal;font-family:Menlo,'DejaVu Sans Mono',consolas,'Courier New',monospace\">AAL | American Airlines Group Inc | American Airlines Group\n",
       "</pre>\n"
      ],
      "text/plain": [
       "AAL | American Airlines Group Inc | American Airlines Group\n"
      ]
     },
     "metadata": {},
     "output_type": "display_data"
    },
    {
     "data": {
      "text/html": [
       "<pre style=\"white-space:pre;overflow-x:auto;line-height:normal;font-family:Menlo,'DejaVu Sans Mono',consolas,'Courier New',monospace\">AAPL | Apple Inc. | Apple Inc\n",
       "</pre>\n"
      ],
      "text/plain": [
       "AAPL | Apple Inc. | Apple Inc\n"
      ]
     },
     "metadata": {},
     "output_type": "display_data"
    },
    {
     "data": {
      "text/html": [
       "<pre style=\"white-space:pre;overflow-x:auto;line-height:normal;font-family:Menlo,'DejaVu Sans Mono',consolas,'Courier New',monospace\">ABBV | AbbVie Inc. | AbbVie Inc\n",
       "</pre>\n"
      ],
      "text/plain": [
       "ABBV | AbbVie Inc. | AbbVie Inc\n"
      ]
     },
     "metadata": {},
     "output_type": "display_data"
    },
    {
     "data": {
      "text/html": [
       "<pre style=\"white-space:pre;overflow-x:auto;line-height:normal;font-family:Menlo,'DejaVu Sans Mono',consolas,'Courier New',monospace\">COR | Cencora Inc | Cencora Inc.\n",
       "</pre>\n"
      ],
      "text/plain": [
       "COR | Cencora Inc | Cencora Inc.\n"
      ]
     },
     "metadata": {},
     "output_type": "display_data"
    },
    {
     "data": {
      "text/html": [
       "<pre style=\"white-space:pre;overflow-x:auto;line-height:normal;font-family:Menlo,'DejaVu Sans Mono',consolas,'Courier New',monospace\">AMBC | Ambac Financial Group Inc. | Ambac Financial Group Inc\n",
       "</pre>\n"
      ],
      "text/plain": [
       "AMBC | Ambac Financial Group Inc. | Ambac Financial Group Inc\n"
      ]
     },
     "metadata": {},
     "output_type": "display_data"
    },
    {
     "data": {
      "text/html": [
       "<pre style=\"white-space:pre;overflow-x:auto;line-height:normal;font-family:Menlo,'DejaVu Sans Mono',consolas,'Courier New',monospace\">ADBE | Adobe Systems Inc. | Adobe Systems Incorporated\n",
       "</pre>\n"
      ],
      "text/plain": [
       "ADBE | Adobe Systems Inc. | Adobe Systems Incorporated\n"
      ]
     },
     "metadata": {},
     "output_type": "display_data"
    },
    {
     "data": {
      "text/html": [
       "<pre style=\"white-space:pre;overflow-x:auto;line-height:normal;font-family:Menlo,'DejaVu Sans Mono',consolas,'Courier New',monospace\">ADCT | ADC Telecommunications Inc | ADC Therapeutics SA\n",
       "</pre>\n"
      ],
      "text/plain": [
       "ADCT | ADC Telecommunications Inc | ADC Therapeutics SA\n"
      ]
     },
     "metadata": {},
     "output_type": "display_data"
    },
    {
     "data": {
      "text/html": [
       "<pre style=\"white-space:pre;overflow-x:auto;line-height:normal;font-family:Menlo,'DejaVu Sans Mono',consolas,'Courier New',monospace\">ADI | Analog Devices Inc. | Analog Devices Inc\n",
       "</pre>\n"
      ],
      "text/plain": [
       "ADI | Analog Devices Inc. | Analog Devices Inc\n"
      ]
     },
     "metadata": {},
     "output_type": "display_data"
    },
    {
     "data": {
      "text/html": [
       "<pre style=\"white-space:pre;overflow-x:auto;line-height:normal;font-family:Menlo,'DejaVu Sans Mono',consolas,'Courier New',monospace\">ADM | Archer-Daniels-Midland Co. | Archer-Daniels-Midland Company\n",
       "</pre>\n"
      ],
      "text/plain": [
       "ADM | Archer-Daniels-Midland Co. | Archer-Daniels-Midland Company\n"
      ]
     },
     "metadata": {},
     "output_type": "display_data"
    },
    {
     "data": {
      "text/html": [
       "<pre style=\"white-space:pre;overflow-x:auto;line-height:normal;font-family:Menlo,'DejaVu Sans Mono',consolas,'Courier New',monospace\">ADSK | Autodesk Inc. | Autodesk Inc\n",
       "</pre>\n"
      ],
      "text/plain": [
       "ADSK | Autodesk Inc. | Autodesk Inc\n"
      ]
     },
     "metadata": {},
     "output_type": "display_data"
    },
    {
     "data": {
      "text/html": [
       "<pre style=\"white-space:pre;overflow-x:auto;line-height:normal;font-family:Menlo,'DejaVu Sans Mono',consolas,'Courier New',monospace\">ADT | ADT Corp. | ADT Inc\n",
       "</pre>\n"
      ],
      "text/plain": [
       "ADT | ADT Corp. | ADT Inc\n"
      ]
     },
     "metadata": {},
     "output_type": "display_data"
    },
    {
     "data": {
      "text/html": [
       "<pre style=\"white-space:pre;overflow-x:auto;line-height:normal;font-family:Menlo,'DejaVu Sans Mono',consolas,'Courier New',monospace\">AEE | Ameren Corp. | Ameren Corp\n",
       "</pre>\n"
      ],
      "text/plain": [
       "AEE | Ameren Corp. | Ameren Corp\n"
      ]
     },
     "metadata": {},
     "output_type": "display_data"
    },
    {
     "data": {
      "text/html": [
       "<pre style=\"white-space:pre;overflow-x:auto;line-height:normal;font-family:Menlo,'DejaVu Sans Mono',consolas,'Courier New',monospace\">AEP | American Electric Power Company Inc | American Electric Power Co Inc\n",
       "</pre>\n"
      ],
      "text/plain": [
       "AEP | American Electric Power Company Inc | American Electric Power Co Inc\n"
      ]
     },
     "metadata": {},
     "output_type": "display_data"
    },
    {
     "data": {
      "text/html": [
       "<pre style=\"white-space:pre;overflow-x:auto;line-height:normal;font-family:Menlo,'DejaVu Sans Mono',consolas,'Courier New',monospace\">AES | AES Corp. | The AES Corporation\n",
       "</pre>\n"
      ],
      "text/plain": [
       "AES | AES Corp. | The AES Corporation\n"
      ]
     },
     "metadata": {},
     "output_type": "display_data"
    },
    {
     "data": {
      "text/html": [
       "<pre style=\"white-space:pre;overflow-x:auto;line-height:normal;font-family:Menlo,'DejaVu Sans Mono',consolas,'Courier New',monospace\">AFL | AFLAC Inc. | Aflac Incorporated\n",
       "</pre>\n"
      ],
      "text/plain": [
       "AFL | AFLAC Inc. | Aflac Incorporated\n"
      ]
     },
     "metadata": {},
     "output_type": "display_data"
    },
    {
     "data": {
      "text/html": [
       "<pre style=\"white-space:pre;overflow-x:auto;line-height:normal;font-family:Menlo,'DejaVu Sans Mono',consolas,'Courier New',monospace\">AIG | AIG Inc. | American International Group Inc\n",
       "</pre>\n"
      ],
      "text/plain": [
       "AIG | AIG Inc. | American International Group Inc\n"
      ]
     },
     "metadata": {},
     "output_type": "display_data"
    },
    {
     "data": {
      "text/html": [
       "<pre style=\"white-space:pre;overflow-x:auto;line-height:normal;font-family:Menlo,'DejaVu Sans Mono',consolas,'Courier New',monospace\">AIV | Aimco | Apartment Investment and Management Co\n",
       "</pre>\n"
      ],
      "text/plain": [
       "AIV | Aimco | Apartment Investment and Management Co\n"
      ]
     },
     "metadata": {},
     "output_type": "display_data"
    },
    {
     "data": {
      "text/html": [
       "<pre style=\"white-space:pre;overflow-x:auto;line-height:normal;font-family:Menlo,'DejaVu Sans Mono',consolas,'Courier New',monospace\">AIZ | Assurant Inc. | Assurant Inc\n",
       "</pre>\n"
      ],
      "text/plain": [
       "AIZ | Assurant Inc. | Assurant Inc\n"
      ]
     },
     "metadata": {},
     "output_type": "display_data"
    },
    {
     "data": {
      "text/html": [
       "<pre style=\"white-space:pre;overflow-x:auto;line-height:normal;font-family:Menlo,'DejaVu Sans Mono',consolas,'Courier New',monospace\">AJG | Arthur J. Gallagher &amp; Co | Arthur J Gallagher &amp; Co\n",
       "</pre>\n"
      ],
      "text/plain": [
       "AJG | Arthur J. Gallagher & Co | Arthur J Gallagher & Co\n"
      ]
     },
     "metadata": {},
     "output_type": "display_data"
    },
    {
     "data": {
      "text/html": [
       "<pre style=\"white-space:pre;overflow-x:auto;line-height:normal;font-family:Menlo,'DejaVu Sans Mono',consolas,'Courier New',monospace\">AKAM | Akamai Technologies Inc. | Akamai Technologies Inc\n",
       "</pre>\n"
      ],
      "text/plain": [
       "AKAM | Akamai Technologies Inc. | Akamai Technologies Inc\n"
      ]
     },
     "metadata": {},
     "output_type": "display_data"
    },
    {
     "data": {
      "text/html": [
       "<pre style=\"white-space:pre;overflow-x:auto;line-height:normal;font-family:Menlo,'DejaVu Sans Mono',consolas,'Courier New',monospace\">ALK | Alaska Air Group | Alaska Air Group Inc\n",
       "</pre>\n"
      ],
      "text/plain": [
       "ALK | Alaska Air Group | Alaska Air Group Inc\n"
      ]
     },
     "metadata": {},
     "output_type": "display_data"
    },
    {
     "data": {
      "text/html": [
       "<pre style=\"white-space:pre;overflow-x:auto;line-height:normal;font-family:Menlo,'DejaVu Sans Mono',consolas,'Courier New',monospace\">ALL | Allstate Corp. | The Allstate Corporation\n",
       "</pre>\n"
      ],
      "text/plain": [
       "ALL | Allstate Corp. | The Allstate Corporation\n"
      ]
     },
     "metadata": {},
     "output_type": "display_data"
    },
    {
     "data": {
      "text/html": [
       "<pre style=\"white-space:pre;overflow-x:auto;line-height:normal;font-family:Menlo,'DejaVu Sans Mono',consolas,'Courier New',monospace\">ALLE | Allegion Plc | Allegion PLC\n",
       "</pre>\n"
      ],
      "text/plain": [
       "ALLE | Allegion Plc | Allegion PLC\n"
      ]
     },
     "metadata": {},
     "output_type": "display_data"
    },
    {
     "data": {
      "text/html": [
       "<pre style=\"white-space:pre;overflow-x:auto;line-height:normal;font-family:Menlo,'DejaVu Sans Mono',consolas,'Courier New',monospace\">AM | American Greetings Corp | Antero Midstream Partners LP\n",
       "</pre>\n"
      ],
      "text/plain": [
       "AM | American Greetings Corp | Antero Midstream Partners LP\n"
      ]
     },
     "metadata": {},
     "output_type": "display_data"
    },
    {
     "data": {
      "text/html": [
       "<pre style=\"white-space:pre;overflow-x:auto;line-height:normal;font-family:Menlo,'DejaVu Sans Mono',consolas,'Courier New',monospace\">AMAT | Applied Materials Inc. | Applied Materials Inc\n",
       "</pre>\n"
      ],
      "text/plain": [
       "AMAT | Applied Materials Inc. | Applied Materials Inc\n"
      ]
     },
     "metadata": {},
     "output_type": "display_data"
    },
    {
     "data": {
      "text/html": [
       "<pre style=\"white-space:pre;overflow-x:auto;line-height:normal;font-family:Menlo,'DejaVu Sans Mono',consolas,'Courier New',monospace\">AME | AMETEK Inc | Ametek Inc\n",
       "</pre>\n"
      ],
      "text/plain": [
       "AME | AMETEK Inc | Ametek Inc\n"
      ]
     },
     "metadata": {},
     "output_type": "display_data"
    },
    {
     "data": {
      "text/html": [
       "<pre style=\"white-space:pre;overflow-x:auto;line-height:normal;font-family:Menlo,'DejaVu Sans Mono',consolas,'Courier New',monospace\">AMGN | Amgen Inc. | Amgen Inc\n",
       "</pre>\n"
      ],
      "text/plain": [
       "AMGN | Amgen Inc. | Amgen Inc\n"
      ]
     },
     "metadata": {},
     "output_type": "display_data"
    },
    {
     "data": {
      "text/html": [
       "<pre style=\"white-space:pre;overflow-x:auto;line-height:normal;font-family:Menlo,'DejaVu Sans Mono',consolas,'Courier New',monospace\">AMT | American Tower Corp. | American Tower Corp\n",
       "</pre>\n"
      ],
      "text/plain": [
       "AMT | American Tower Corp. | American Tower Corp\n"
      ]
     },
     "metadata": {},
     "output_type": "display_data"
    },
    {
     "data": {
      "text/html": [
       "<pre style=\"white-space:pre;overflow-x:auto;line-height:normal;font-family:Menlo,'DejaVu Sans Mono',consolas,'Courier New',monospace\">AMZN | Amazon.com Inc. | Amazon.com Inc\n",
       "</pre>\n"
      ],
      "text/plain": [
       "AMZN | Amazon.com Inc. | Amazon.com Inc\n"
      ]
     },
     "metadata": {},
     "output_type": "display_data"
    },
    {
     "data": {
      "text/html": [
       "<pre style=\"white-space:pre;overflow-x:auto;line-height:normal;font-family:Menlo,'DejaVu Sans Mono',consolas,'Courier New',monospace\">AN | AutoNation Inc. | AutoNation Inc\n",
       "</pre>\n"
      ],
      "text/plain": [
       "AN | AutoNation Inc. | AutoNation Inc\n"
      ]
     },
     "metadata": {},
     "output_type": "display_data"
    },
    {
     "data": {
      "text/html": [
       "<pre style=\"white-space:pre;overflow-x:auto;line-height:normal;font-family:Menlo,'DejaVu Sans Mono',consolas,'Courier New',monospace\">ANF | Abercrombie &amp; Fitch Co | Abercrombie &amp; Fitch Company\n",
       "</pre>\n"
      ],
      "text/plain": [
       "ANF | Abercrombie & Fitch Co | Abercrombie & Fitch Company\n"
      ]
     },
     "metadata": {},
     "output_type": "display_data"
    },
    {
     "data": {
      "text/html": [
       "<pre style=\"white-space:pre;overflow-x:auto;line-height:normal;font-family:Menlo,'DejaVu Sans Mono',consolas,'Courier New',monospace\">AON | Aon plc | Aon PLC\n",
       "</pre>\n"
      ],
      "text/plain": [
       "AON | Aon plc | Aon PLC\n"
      ]
     },
     "metadata": {},
     "output_type": "display_data"
    },
    {
     "data": {
      "text/html": [
       "<pre style=\"white-space:pre;overflow-x:auto;line-height:normal;font-family:Menlo,'DejaVu Sans Mono',consolas,'Courier New',monospace\">APA | Apache Corp | APA Corporation\n",
       "</pre>\n"
      ],
      "text/plain": [
       "APA | Apache Corp | APA Corporation\n"
      ]
     },
     "metadata": {},
     "output_type": "display_data"
    },
    {
     "data": {
      "text/html": [
       "<pre style=\"white-space:pre;overflow-x:auto;line-height:normal;font-family:Menlo,'DejaVu Sans Mono',consolas,'Courier New',monospace\">APD | Air Products &amp; Chemicals Inc | Air Products and Chemicals Inc\n",
       "</pre>\n"
      ],
      "text/plain": [
       "APD | Air Products & Chemicals Inc | Air Products and Chemicals Inc\n"
      ]
     },
     "metadata": {},
     "output_type": "display_data"
    },
    {
     "data": {
      "text/html": [
       "<pre style=\"white-space:pre;overflow-x:auto;line-height:normal;font-family:Menlo,'DejaVu Sans Mono',consolas,'Courier New',monospace\">APH | Amphenol Corp. | Amphenol Corporation\n",
       "</pre>\n"
      ],
      "text/plain": [
       "APH | Amphenol Corp. | Amphenol Corporation\n"
      ]
     },
     "metadata": {},
     "output_type": "display_data"
    },
    {
     "data": {
      "text/html": [
       "<pre style=\"white-space:pre;overflow-x:auto;line-height:normal;font-family:Menlo,'DejaVu Sans Mono',consolas,'Courier New',monospace\">HWM | Howmet Aerospace Inc | Howmet Aerospace Inc\n",
       "</pre>\n"
      ],
      "text/plain": [
       "HWM | Howmet Aerospace Inc | Howmet Aerospace Inc\n"
      ]
     },
     "metadata": {},
     "output_type": "display_data"
    },
    {
     "data": {
      "text/html": [
       "<pre style=\"white-space:pre;overflow-x:auto;line-height:normal;font-family:Menlo,'DejaVu Sans Mono',consolas,'Courier New',monospace\">ASO | AmSouth Bancorp | Academy Sports Outdoors Inc\n",
       "</pre>\n"
      ],
      "text/plain": [
       "ASO | AmSouth Bancorp | Academy Sports Outdoors Inc\n"
      ]
     },
     "metadata": {},
     "output_type": "display_data"
    },
    {
     "data": {
      "text/html": [
       "<pre style=\"white-space:pre;overflow-x:auto;line-height:normal;font-family:Menlo,'DejaVu Sans Mono',consolas,'Courier New',monospace\">ATI | Allegheny Technologies Inc. | Allegheny Technologies Incorporated\n",
       "</pre>\n"
      ],
      "text/plain": [
       "ATI | Allegheny Technologies Inc. | Allegheny Technologies Incorporated\n"
      ]
     },
     "metadata": {},
     "output_type": "display_data"
    },
    {
     "data": {
      "text/html": [
       "<pre style=\"white-space:pre;overflow-x:auto;line-height:normal;font-family:Menlo,'DejaVu Sans Mono',consolas,'Courier New',monospace\">AVB | AvalonBay Communities | AvalonBay Communities Inc\n",
       "</pre>\n"
      ],
      "text/plain": [
       "AVB | AvalonBay Communities | AvalonBay Communities Inc\n"
      ]
     },
     "metadata": {},
     "output_type": "display_data"
    },
    {
     "data": {
      "text/html": [
       "<pre style=\"white-space:pre;overflow-x:auto;line-height:normal;font-family:Menlo,'DejaVu Sans Mono',consolas,'Courier New',monospace\">AVGO | Broadcom Ltd | Broadcom Inc\n",
       "</pre>\n"
      ],
      "text/plain": [
       "AVGO | Broadcom Ltd | Broadcom Inc\n"
      ]
     },
     "metadata": {},
     "output_type": "display_data"
    },
    {
     "data": {
      "text/html": [
       "<pre style=\"white-space:pre;overflow-x:auto;line-height:normal;font-family:Menlo,'DejaVu Sans Mono',consolas,'Courier New',monospace\">AWK | American Water Works Inc | American Water Works\n",
       "</pre>\n"
      ],
      "text/plain": [
       "AWK | American Water Works Inc | American Water Works\n"
      ]
     },
     "metadata": {},
     "output_type": "display_data"
    },
    {
     "data": {
      "text/html": [
       "<pre style=\"white-space:pre;overflow-x:auto;line-height:normal;font-family:Menlo,'DejaVu Sans Mono',consolas,'Courier New',monospace\">AXP | American Express Co | American Express Company\n",
       "</pre>\n"
      ],
      "text/plain": [
       "AXP | American Express Co | American Express Company\n"
      ]
     },
     "metadata": {},
     "output_type": "display_data"
    },
    {
     "data": {
      "text/html": [
       "<pre style=\"white-space:pre;overflow-x:auto;line-height:normal;font-family:Menlo,'DejaVu Sans Mono',consolas,'Courier New',monospace\">BA | Boeing Co. | The Boeing Company\n",
       "</pre>\n"
      ],
      "text/plain": [
       "BA | Boeing Co. | The Boeing Company\n"
      ]
     },
     "metadata": {},
     "output_type": "display_data"
    },
    {
     "data": {
      "text/html": [
       "<pre style=\"white-space:pre;overflow-x:auto;line-height:normal;font-family:Menlo,'DejaVu Sans Mono',consolas,'Courier New',monospace\">BAC | Bank of America Corp. | Bank of America Corp\n",
       "</pre>\n"
      ],
      "text/plain": [
       "BAC | Bank of America Corp. | Bank of America Corp\n"
      ]
     },
     "metadata": {},
     "output_type": "display_data"
    },
    {
     "data": {
      "text/html": [
       "<pre style=\"white-space:pre;overflow-x:auto;line-height:normal;font-family:Menlo,'DejaVu Sans Mono',consolas,'Courier New',monospace\">BAX | Baxter International Inc. | Baxter International Inc\n",
       "</pre>\n"
      ],
      "text/plain": [
       "BAX | Baxter International Inc. | Baxter International Inc\n"
      ]
     },
     "metadata": {},
     "output_type": "display_data"
    },
    {
     "data": {
      "text/html": [
       "<pre style=\"white-space:pre;overflow-x:auto;line-height:normal;font-family:Menlo,'DejaVu Sans Mono',consolas,'Courier New',monospace\">BBY | Best Buy Co. Inc. | Best Buy Co. Inc\n",
       "</pre>\n"
      ],
      "text/plain": [
       "BBY | Best Buy Co. Inc. | Best Buy Co. Inc\n"
      ]
     },
     "metadata": {},
     "output_type": "display_data"
    },
    {
     "data": {
      "text/html": [
       "<pre style=\"white-space:pre;overflow-x:auto;line-height:normal;font-family:Menlo,'DejaVu Sans Mono',consolas,'Courier New',monospace\">BC | Brunswick Corp. | Brunswick Corporation\n",
       "</pre>\n"
      ],
      "text/plain": [
       "BC | Brunswick Corp. | Brunswick Corporation\n"
      ]
     },
     "metadata": {},
     "output_type": "display_data"
    },
    {
     "data": {
      "text/html": [
       "<pre style=\"white-space:pre;overflow-x:auto;line-height:normal;font-family:Menlo,'DejaVu Sans Mono',consolas,'Courier New',monospace\">BDX | Becton Dickinson &amp; Co | Becton Dickinson and Company\n",
       "</pre>\n"
      ],
      "text/plain": [
       "BDX | Becton Dickinson & Co | Becton Dickinson and Company\n"
      ]
     },
     "metadata": {},
     "output_type": "display_data"
    },
    {
     "data": {
      "text/html": [
       "<pre style=\"white-space:pre;overflow-x:auto;line-height:normal;font-family:Menlo,'DejaVu Sans Mono',consolas,'Courier New',monospace\">BIIB | Biogen Idec Inc | Biogen Inc\n",
       "</pre>\n"
      ],
      "text/plain": [
       "BIIB | Biogen Idec Inc | Biogen Inc\n"
      ]
     },
     "metadata": {},
     "output_type": "display_data"
    },
    {
     "data": {
      "text/html": [
       "<pre style=\"white-space:pre;overflow-x:auto;line-height:normal;font-family:Menlo,'DejaVu Sans Mono',consolas,'Courier New',monospace\">BK | Bank of New York Mellon Corp | Bank of New York Mellon\n",
       "</pre>\n"
      ],
      "text/plain": [
       "BK | Bank of New York Mellon Corp | Bank of New York Mellon\n"
      ]
     },
     "metadata": {},
     "output_type": "display_data"
    },
    {
     "data": {
      "text/html": [
       "<pre style=\"white-space:pre;overflow-x:auto;line-height:normal;font-family:Menlo,'DejaVu Sans Mono',consolas,'Courier New',monospace\">BALL | Ball Corp | Ball Corporation\n",
       "</pre>\n"
      ],
      "text/plain": [
       "BALL | Ball Corp | Ball Corporation\n"
      ]
     },
     "metadata": {},
     "output_type": "display_data"
    },
    {
     "data": {
      "text/html": [
       "<pre style=\"white-space:pre;overflow-x:auto;line-height:normal;font-family:Menlo,'DejaVu Sans Mono',consolas,'Courier New',monospace\">BMY | Bristol-Myers Squibb Co | Bristol-Myers Squibb Company\n",
       "</pre>\n"
      ],
      "text/plain": [
       "BMY | Bristol-Myers Squibb Co | Bristol-Myers Squibb Company\n"
      ]
     },
     "metadata": {},
     "output_type": "display_data"
    },
    {
     "data": {
      "text/html": [
       "<pre style=\"white-space:pre;overflow-x:auto;line-height:normal;font-family:Menlo,'DejaVu Sans Mono',consolas,'Courier New',monospace\">BXP | Boston Properties | Boston Properties Inc\n",
       "</pre>\n"
      ],
      "text/plain": [
       "BXP | Boston Properties | Boston Properties Inc\n"
      ]
     },
     "metadata": {},
     "output_type": "display_data"
    },
    {
     "data": {
      "text/html": [
       "<pre style=\"white-space:pre;overflow-x:auto;line-height:normal;font-family:Menlo,'DejaVu Sans Mono',consolas,'Courier New',monospace\">C | Citigroup Inc. | Citigroup Inc\n",
       "</pre>\n"
      ],
      "text/plain": [
       "C | Citigroup Inc. | Citigroup Inc\n"
      ]
     },
     "metadata": {},
     "output_type": "display_data"
    },
    {
     "data": {
      "text/html": [
       "<pre style=\"white-space:pre;overflow-x:auto;line-height:normal;font-family:Menlo,'DejaVu Sans Mono',consolas,'Courier New',monospace\">CAG | ConAgra Brands Inc | ConAgra Foods Inc\n",
       "</pre>\n"
      ],
      "text/plain": [
       "CAG | ConAgra Brands Inc | ConAgra Foods Inc\n"
      ]
     },
     "metadata": {},
     "output_type": "display_data"
    },
    {
     "data": {
      "text/html": [
       "<pre style=\"white-space:pre;overflow-x:auto;line-height:normal;font-family:Menlo,'DejaVu Sans Mono',consolas,'Courier New',monospace\">CAH | Cardinal Health Inc. | Cardinal Health Inc\n",
       "</pre>\n"
      ],
      "text/plain": [
       "CAH | Cardinal Health Inc. | Cardinal Health Inc\n"
      ]
     },
     "metadata": {},
     "output_type": "display_data"
    },
    {
     "data": {
      "text/html": [
       "<pre style=\"white-space:pre;overflow-x:auto;line-height:normal;font-family:Menlo,'DejaVu Sans Mono',consolas,'Courier New',monospace\">CAT | Caterpillar Inc. | Caterpillar Inc\n",
       "</pre>\n"
      ],
      "text/plain": [
       "CAT | Caterpillar Inc. | Caterpillar Inc\n"
      ]
     },
     "metadata": {},
     "output_type": "display_data"
    },
    {
     "data": {
      "text/html": [
       "<pre style=\"white-space:pre;overflow-x:auto;line-height:normal;font-family:Menlo,'DejaVu Sans Mono',consolas,'Courier New',monospace\">CBRE | CBRE Group Inc | CBRE Group Inc Class A\n",
       "</pre>\n"
      ],
      "text/plain": [
       "CBRE | CBRE Group Inc | CBRE Group Inc Class A\n"
      ]
     },
     "metadata": {},
     "output_type": "display_data"
    },
    {
     "data": {
      "text/html": [
       "<pre style=\"white-space:pre;overflow-x:auto;line-height:normal;font-family:Menlo,'DejaVu Sans Mono',consolas,'Courier New',monospace\">PARA | Paramount Global | Paramount Global Class B\n",
       "</pre>\n"
      ],
      "text/plain": [
       "PARA | Paramount Global | Paramount Global Class B\n"
      ]
     },
     "metadata": {},
     "output_type": "display_data"
    },
    {
     "data": {
      "text/html": [
       "<pre style=\"white-space:pre;overflow-x:auto;line-height:normal;font-family:Menlo,'DejaVu Sans Mono',consolas,'Courier New',monospace\">CCI | Crown Castle Int'l Corp. | Crown Castle\n",
       "</pre>\n"
      ],
      "text/plain": [
       "CCI | Crown Castle Int'l Corp. | Crown Castle\n"
      ]
     },
     "metadata": {},
     "output_type": "display_data"
    },
    {
     "data": {
      "text/html": [
       "<pre style=\"white-space:pre;overflow-x:auto;line-height:normal;font-family:Menlo,'DejaVu Sans Mono',consolas,'Courier New',monospace\">CCL | Carnival Corp. | Carnival Corporation\n",
       "</pre>\n"
      ],
      "text/plain": [
       "CCL | Carnival Corp. | Carnival Corporation\n"
      ]
     },
     "metadata": {},
     "output_type": "display_data"
    },
    {
     "data": {
      "text/html": [
       "<pre style=\"white-space:pre;overflow-x:auto;line-height:normal;font-family:Menlo,'DejaVu Sans Mono',consolas,'Courier New',monospace\">CAR | Avis Budget Group | Avis Budget Group Inc\n",
       "</pre>\n"
      ],
      "text/plain": [
       "CAR | Avis Budget Group | Avis Budget Group Inc\n"
      ]
     },
     "metadata": {},
     "output_type": "display_data"
    },
    {
     "data": {
      "text/html": [
       "<pre style=\"white-space:pre;overflow-x:auto;line-height:normal;font-family:Menlo,'DejaVu Sans Mono',consolas,'Courier New',monospace\">CF | CF Industries Holdings Inc. | CF Industries Holdings Inc\n",
       "</pre>\n"
      ],
      "text/plain": [
       "CF | CF Industries Holdings Inc. | CF Industries Holdings Inc\n"
      ]
     },
     "metadata": {},
     "output_type": "display_data"
    },
    {
     "data": {
      "text/html": [
       "<pre style=\"white-space:pre;overflow-x:auto;line-height:normal;font-family:Menlo,'DejaVu Sans Mono',consolas,'Courier New',monospace\">CFG | Citizens Financial Group Inc | Citizens Financial Group, Inc.\n",
       "</pre>\n"
      ],
      "text/plain": [
       "CFG | Citizens Financial Group Inc | Citizens Financial Group, Inc.\n"
      ]
     },
     "metadata": {},
     "output_type": "display_data"
    },
    {
     "data": {
      "text/html": [
       "<pre style=\"white-space:pre;overflow-x:auto;line-height:normal;font-family:Menlo,'DejaVu Sans Mono',consolas,'Courier New',monospace\">CG | Columbia Energy Group | Carlyle Group Inc\n",
       "</pre>\n"
      ],
      "text/plain": [
       "CG | Columbia Energy Group | Carlyle Group Inc\n"
      ]
     },
     "metadata": {},
     "output_type": "display_data"
    },
    {
     "data": {
      "text/html": [
       "<pre style=\"white-space:pre;overflow-x:auto;line-height:normal;font-family:Menlo,'DejaVu Sans Mono',consolas,'Courier New',monospace\">CHD | Church &amp; Dwight Co Inc | Church &amp; Dwight Company Inc\n",
       "</pre>\n"
      ],
      "text/plain": [
       "CHD | Church & Dwight Co Inc | Church & Dwight Company Inc\n"
      ]
     },
     "metadata": {},
     "output_type": "display_data"
    },
    {
     "data": {
      "text/html": [
       "<pre style=\"white-space:pre;overflow-x:auto;line-height:normal;font-family:Menlo,'DejaVu Sans Mono',consolas,'Courier New',monospace\">CHK | Chesapeake Energy Corp | Chesapeake Energy Corporation\n",
       "</pre>\n"
      ],
      "text/plain": [
       "CHK | Chesapeake Energy Corp | Chesapeake Energy Corporation\n"
      ]
     },
     "metadata": {},
     "output_type": "display_data"
    },
    {
     "data": {
      "text/html": [
       "<pre style=\"white-space:pre;overflow-x:auto;line-height:normal;font-family:Menlo,'DejaVu Sans Mono',consolas,'Courier New',monospace\">CHRW | C.H. Robinson Worldwide Inc | CH Robinson Worldwide Inc\n",
       "</pre>\n"
      ],
      "text/plain": [
       "CHRW | C.H. Robinson Worldwide Inc | CH Robinson Worldwide Inc\n"
      ]
     },
     "metadata": {},
     "output_type": "display_data"
    },
    {
     "data": {
      "text/html": [
       "<pre style=\"white-space:pre;overflow-x:auto;line-height:normal;font-family:Menlo,'DejaVu Sans Mono',consolas,'Courier New',monospace\">CI | Cigna Corp. | Cigna Corp\n",
       "</pre>\n"
      ],
      "text/plain": [
       "CI | Cigna Corp. | Cigna Corp\n"
      ]
     },
     "metadata": {},
     "output_type": "display_data"
    },
    {
     "data": {
      "text/html": [
       "<pre style=\"white-space:pre;overflow-x:auto;line-height:normal;font-family:Menlo,'DejaVu Sans Mono',consolas,'Courier New',monospace\">CIEN | Ciena Corp. | Ciena Corp\n",
       "</pre>\n"
      ],
      "text/plain": [
       "CIEN | Ciena Corp. | Ciena Corp\n"
      ]
     },
     "metadata": {},
     "output_type": "display_data"
    },
    {
     "data": {
      "text/html": [
       "<pre style=\"white-space:pre;overflow-x:auto;line-height:normal;font-family:Menlo,'DejaVu Sans Mono',consolas,'Courier New',monospace\">CINF | Cincinnati Financial Corp | Cincinnati Financial Corporation\n",
       "</pre>\n"
      ],
      "text/plain": [
       "CINF | Cincinnati Financial Corp | Cincinnati Financial Corporation\n"
      ]
     },
     "metadata": {},
     "output_type": "display_data"
    },
    {
     "data": {
      "text/html": [
       "<pre style=\"white-space:pre;overflow-x:auto;line-height:normal;font-family:Menlo,'DejaVu Sans Mono',consolas,'Courier New',monospace\">CL | Colgate-Palmolive Co | Colgate-Palmolive Company\n",
       "</pre>\n"
      ],
      "text/plain": [
       "CL | Colgate-Palmolive Co | Colgate-Palmolive Company\n"
      ]
     },
     "metadata": {},
     "output_type": "display_data"
    },
    {
     "data": {
      "text/html": [
       "<pre style=\"white-space:pre;overflow-x:auto;line-height:normal;font-family:Menlo,'DejaVu Sans Mono',consolas,'Courier New',monospace\">CLX | Clorox Co | The Clorox Company\n",
       "</pre>\n"
      ],
      "text/plain": [
       "CLX | Clorox Co | The Clorox Company\n"
      ]
     },
     "metadata": {},
     "output_type": "display_data"
    },
    {
     "data": {
      "text/html": [
       "<pre style=\"white-space:pre;overflow-x:auto;line-height:normal;font-family:Menlo,'DejaVu Sans Mono',consolas,'Courier New',monospace\">CMA | Comerica Inc. | Comerica Inc\n",
       "</pre>\n"
      ],
      "text/plain": [
       "CMA | Comerica Inc. | Comerica Inc\n"
      ]
     },
     "metadata": {},
     "output_type": "display_data"
    },
    {
     "data": {
      "text/html": [
       "<pre style=\"white-space:pre;overflow-x:auto;line-height:normal;font-family:Menlo,'DejaVu Sans Mono',consolas,'Courier New',monospace\">CMCSA | Comcast Corp Class A | Comcast Corp\n",
       "</pre>\n"
      ],
      "text/plain": [
       "CMCSA | Comcast Corp Class A | Comcast Corp\n"
      ]
     },
     "metadata": {},
     "output_type": "display_data"
    },
    {
     "data": {
      "text/html": [
       "<pre style=\"white-space:pre;overflow-x:auto;line-height:normal;font-family:Menlo,'DejaVu Sans Mono',consolas,'Courier New',monospace\"><span style=\"color: #008000; text-decoration-color: #008000\">Retrying CMCSK after </span><span style=\"color: #008000; text-decoration-color: #008000; font-weight: bold\">1</span><span style=\"color: #008000; text-decoration-color: #008000\"> min, got </span><span style=\"color: #008000; text-decoration-color: #008000; font-weight: bold\">{</span><span style=\"color: #008000; text-decoration-color: #008000\">'Information'</span><span style=\"color: #008000; text-decoration-color: #008000\">: </span><span style=\"color: #008000; text-decoration-color: #008000\">'Thank you for using Alpha Vantage! Please contact </span>\n",
       "<span style=\"color: #008000; text-decoration-color: #008000\">premium@alphavantage.co if you are targeting a higher API call volume.'</span><span style=\"color: #008000; text-decoration-color: #008000; font-weight: bold\">}</span>\n",
       "</pre>\n"
      ],
      "text/plain": [
       "\u001b[32mRetrying CMCSK after \u001b[0m\u001b[1;32m1\u001b[0m\u001b[32m min, got \u001b[0m\u001b[1;32m{\u001b[0m\u001b[32m'Information'\u001b[0m\u001b[32m: \u001b[0m\u001b[32m'Thank you for using Alpha Vantage! Please contact \u001b[0m\n",
       "\u001b[32mpremium@alphavantage.co if you are targeting a higher API call volume.'\u001b[0m\u001b[1;32m}\u001b[0m\n"
      ]
     },
     "metadata": {},
     "output_type": "display_data"
    },
    {
     "data": {
      "text/html": [
       "<pre style=\"white-space:pre;overflow-x:auto;line-height:normal;font-family:Menlo,'DejaVu Sans Mono',consolas,'Courier New',monospace\">CME | CME Group Inc. | CME Group Inc\n",
       "</pre>\n"
      ],
      "text/plain": [
       "CME | CME Group Inc. | CME Group Inc\n"
      ]
     },
     "metadata": {},
     "output_type": "display_data"
    },
    {
     "data": {
      "text/html": [
       "<pre style=\"white-space:pre;overflow-x:auto;line-height:normal;font-family:Menlo,'DejaVu Sans Mono',consolas,'Courier New',monospace\">CMI | Cummins Inc. | Cummins Inc\n",
       "</pre>\n"
      ],
      "text/plain": [
       "CMI | Cummins Inc. | Cummins Inc\n"
      ]
     },
     "metadata": {},
     "output_type": "display_data"
    },
    {
     "data": {
      "text/html": [
       "<pre style=\"white-space:pre;overflow-x:auto;line-height:normal;font-family:Menlo,'DejaVu Sans Mono',consolas,'Courier New',monospace\">CMS | CMS Energy Corp | CMS Energy Corporation\n",
       "</pre>\n"
      ],
      "text/plain": [
       "CMS | CMS Energy Corp | CMS Energy Corporation\n"
      ]
     },
     "metadata": {},
     "output_type": "display_data"
    },
    {
     "data": {
      "text/html": [
       "<pre style=\"white-space:pre;overflow-x:auto;line-height:normal;font-family:Menlo,'DejaVu Sans Mono',consolas,'Courier New',monospace\">CNO | CNO Financial Group | CNO Financial Group Inc\n",
       "</pre>\n"
      ],
      "text/plain": [
       "CNO | CNO Financial Group | CNO Financial Group Inc\n"
      ]
     },
     "metadata": {},
     "output_type": "display_data"
    },
    {
     "data": {
      "text/html": [
       "<pre style=\"white-space:pre;overflow-x:auto;line-height:normal;font-family:Menlo,'DejaVu Sans Mono',consolas,'Courier New',monospace\">CNX | Consol Energy Inc. | CNX Resources Corp\n",
       "</pre>\n"
      ],
      "text/plain": [
       "CNX | Consol Energy Inc. | CNX Resources Corp\n"
      ]
     },
     "metadata": {},
     "output_type": "display_data"
    },
    {
     "data": {
      "text/html": [
       "<pre style=\"white-space:pre;overflow-x:auto;line-height:normal;font-family:Menlo,'DejaVu Sans Mono',consolas,'Courier New',monospace\">COF | Capital One Financial Corp | Capital One Financial Corporation\n",
       "</pre>\n"
      ],
      "text/plain": [
       "COF | Capital One Financial Corp | Capital One Financial Corporation\n"
      ]
     },
     "metadata": {},
     "output_type": "display_data"
    },
    {
     "data": {
      "text/html": [
       "<pre style=\"white-space:pre;overflow-x:auto;line-height:normal;font-family:Menlo,'DejaVu Sans Mono',consolas,'Courier New',monospace\">TPR | Tapestry Inc. | Tapestry Inc\n",
       "</pre>\n"
      ],
      "text/plain": [
       "TPR | Tapestry Inc. | Tapestry Inc\n"
      ]
     },
     "metadata": {},
     "output_type": "display_data"
    },
    {
     "data": {
      "text/html": [
       "<pre style=\"white-space:pre;overflow-x:auto;line-height:normal;font-family:Menlo,'DejaVu Sans Mono',consolas,'Courier New',monospace\">COO | The Cooper Companies Inc | The Cooper Companies, Inc. Common Stock\n",
       "</pre>\n"
      ],
      "text/plain": [
       "COO | The Cooper Companies Inc | The Cooper Companies, Inc. Common Stock\n"
      ]
     },
     "metadata": {},
     "output_type": "display_data"
    },
    {
     "data": {
      "text/html": [
       "<pre style=\"white-space:pre;overflow-x:auto;line-height:normal;font-family:Menlo,'DejaVu Sans Mono',consolas,'Courier New',monospace\">CPB | Campbell Soup Co | Campbell Soup Company Common Stock\n",
       "</pre>\n"
      ],
      "text/plain": [
       "CPB | Campbell Soup Co | Campbell Soup Company Common Stock\n"
      ]
     },
     "metadata": {},
     "output_type": "display_data"
    },
    {
     "data": {
      "text/html": [
       "<pre style=\"white-space:pre;overflow-x:auto;line-height:normal;font-family:Menlo,'DejaVu Sans Mono',consolas,'Courier New',monospace\">CR | Crane Co. | Crane Company\n",
       "</pre>\n"
      ],
      "text/plain": [
       "CR | Crane Co. | Crane Company\n"
      ]
     },
     "metadata": {},
     "output_type": "display_data"
    },
    {
     "data": {
      "text/html": [
       "<pre style=\"white-space:pre;overflow-x:auto;line-height:normal;font-family:Menlo,'DejaVu Sans Mono',consolas,'Courier New',monospace\">CSR | Central &amp; South West Corp | Centerspace\n",
       "</pre>\n"
      ],
      "text/plain": [
       "CSR | Central & South West Corp | Centerspace\n"
      ]
     },
     "metadata": {},
     "output_type": "display_data"
    },
    {
     "data": {
      "text/html": [
       "<pre style=\"white-space:pre;overflow-x:auto;line-height:normal;font-family:Menlo,'DejaVu Sans Mono',consolas,'Courier New',monospace\">CSX | CSX Corp. | CSX Corporation\n",
       "</pre>\n"
      ],
      "text/plain": [
       "CSX | CSX Corp. | CSX Corporation\n"
      ]
     },
     "metadata": {},
     "output_type": "display_data"
    },
    {
     "data": {
      "text/html": [
       "<pre style=\"white-space:pre;overflow-x:auto;line-height:normal;font-family:Menlo,'DejaVu Sans Mono',consolas,'Courier New',monospace\">CTAS | Cintas Corp. | Cintas Corporation\n",
       "</pre>\n"
      ],
      "text/plain": [
       "CTAS | Cintas Corp. | Cintas Corporation\n"
      ]
     },
     "metadata": {},
     "output_type": "display_data"
    },
    {
     "data": {
      "text/html": [
       "<pre style=\"white-space:pre;overflow-x:auto;line-height:normal;font-family:Menlo,'DejaVu Sans Mono',consolas,'Courier New',monospace\">CTSH | Cognizant Technology Solutions Corp | Cognizant Technology Solutions Corp Class A\n",
       "</pre>\n"
      ],
      "text/plain": [
       "CTSH | Cognizant Technology Solutions Corp | Cognizant Technology Solutions Corp Class A\n"
      ]
     },
     "metadata": {},
     "output_type": "display_data"
    },
    {
     "data": {
      "text/html": [
       "<pre style=\"white-space:pre;overflow-x:auto;line-height:normal;font-family:Menlo,'DejaVu Sans Mono',consolas,'Courier New',monospace\">CVS | CVS Health Corp. | CVS Health Corp\n",
       "</pre>\n"
      ],
      "text/plain": [
       "CVS | CVS Health Corp. | CVS Health Corp\n"
      ]
     },
     "metadata": {},
     "output_type": "display_data"
    },
    {
     "data": {
      "text/html": [
       "<pre style=\"white-space:pre;overflow-x:auto;line-height:normal;font-family:Menlo,'DejaVu Sans Mono',consolas,'Courier New',monospace\">CVX | Chevron Corp. | Chevron Corp\n",
       "</pre>\n"
      ],
      "text/plain": [
       "CVX | Chevron Corp. | Chevron Corp\n"
      ]
     },
     "metadata": {},
     "output_type": "display_data"
    },
    {
     "data": {
      "text/html": [
       "<pre style=\"white-space:pre;overflow-x:auto;line-height:normal;font-family:Menlo,'DejaVu Sans Mono',consolas,'Courier New',monospace\">D | Dominion Resources Inc | Dominion Energy Inc\n",
       "</pre>\n"
      ],
      "text/plain": [
       "D | Dominion Resources Inc | Dominion Energy Inc\n"
      ]
     },
     "metadata": {},
     "output_type": "display_data"
    },
    {
     "data": {
      "text/html": [
       "<pre style=\"white-space:pre;overflow-x:auto;line-height:normal;font-family:Menlo,'DejaVu Sans Mono',consolas,'Courier New',monospace\">SITC | SITE Centers Corp | Site Centers Corp\n",
       "</pre>\n"
      ],
      "text/plain": [
       "SITC | SITE Centers Corp | Site Centers Corp\n"
      ]
     },
     "metadata": {},
     "output_type": "display_data"
    },
    {
     "data": {
      "text/html": [
       "<pre style=\"white-space:pre;overflow-x:auto;line-height:normal;font-family:Menlo,'DejaVu Sans Mono',consolas,'Courier New',monospace\">DDS | Dillard's Inc. | Dillards Inc\n",
       "</pre>\n"
      ],
      "text/plain": [
       "DDS | Dillard's Inc. | Dillards Inc\n"
      ]
     },
     "metadata": {},
     "output_type": "display_data"
    },
    {
     "data": {
      "text/html": [
       "<pre style=\"white-space:pre;overflow-x:auto;line-height:normal;font-family:Menlo,'DejaVu Sans Mono',consolas,'Courier New',monospace\">DE | Deere &amp; Co. | Deere &amp; Company\n",
       "</pre>\n"
      ],
      "text/plain": [
       "DE | Deere & Co. | Deere & Company\n"
      ]
     },
     "metadata": {},
     "output_type": "display_data"
    },
    {
     "data": {
      "text/html": [
       "<pre style=\"white-space:pre;overflow-x:auto;line-height:normal;font-family:Menlo,'DejaVu Sans Mono',consolas,'Courier New',monospace\">DELL | Dell Inc | Dell Technologies Inc\n",
       "</pre>\n"
      ],
      "text/plain": [
       "DELL | Dell Inc | Dell Technologies Inc\n"
      ]
     },
     "metadata": {},
     "output_type": "display_data"
    },
    {
     "data": {
      "text/html": [
       "<pre style=\"white-space:pre;overflow-x:auto;line-height:normal;font-family:Menlo,'DejaVu Sans Mono',consolas,'Courier New',monospace\">DG | Dollar General Corp | Dollar General Corporation\n",
       "</pre>\n"
      ],
      "text/plain": [
       "DG | Dollar General Corp | Dollar General Corporation\n"
      ]
     },
     "metadata": {},
     "output_type": "display_data"
    },
    {
     "data": {
      "text/html": [
       "<pre style=\"white-space:pre;overflow-x:auto;line-height:normal;font-family:Menlo,'DejaVu Sans Mono',consolas,'Courier New',monospace\">DGX | Quest Diagnostics Inc | Quest Diagnostics Incorporated\n",
       "</pre>\n"
      ],
      "text/plain": [
       "DGX | Quest Diagnostics Inc | Quest Diagnostics Incorporated\n"
      ]
     },
     "metadata": {},
     "output_type": "display_data"
    },
    {
     "data": {
      "text/html": [
       "<pre style=\"white-space:pre;overflow-x:auto;line-height:normal;font-family:Menlo,'DejaVu Sans Mono',consolas,'Courier New',monospace\">DHI | D.R. Horton Inc | DR Horton Inc\n",
       "</pre>\n"
      ],
      "text/plain": [
       "DHI | D.R. Horton Inc | DR Horton Inc\n"
      ]
     },
     "metadata": {},
     "output_type": "display_data"
    },
    {
     "data": {
      "text/html": [
       "<pre style=\"white-space:pre;overflow-x:auto;line-height:normal;font-family:Menlo,'DejaVu Sans Mono',consolas,'Courier New',monospace\">DHR | Danaher Corp. | Danaher Corporation\n",
       "</pre>\n"
      ],
      "text/plain": [
       "DHR | Danaher Corp. | Danaher Corporation\n"
      ]
     },
     "metadata": {},
     "output_type": "display_data"
    },
    {
     "data": {
      "text/html": [
       "<pre style=\"white-space:pre;overflow-x:auto;line-height:normal;font-family:Menlo,'DejaVu Sans Mono',consolas,'Courier New',monospace\">DIS | Walt Disney Co | Walt Disney Company\n",
       "</pre>\n"
      ],
      "text/plain": [
       "DIS | Walt Disney Co | Walt Disney Company\n"
      ]
     },
     "metadata": {},
     "output_type": "display_data"
    },
    {
     "data": {
      "text/html": [
       "<pre style=\"white-space:pre;overflow-x:auto;line-height:normal;font-family:Menlo,'DejaVu Sans Mono',consolas,'Courier New',monospace\">WBD | Warner Bros. Discovery Inc | Warner Bros Discovery Inc\n",
       "</pre>\n"
      ],
      "text/plain": [
       "WBD | Warner Bros. Discovery Inc | Warner Bros Discovery Inc\n"
      ]
     },
     "metadata": {},
     "output_type": "display_data"
    },
    {
     "data": {
      "text/html": [
       "<pre style=\"white-space:pre;overflow-x:auto;line-height:normal;font-family:Menlo,'DejaVu Sans Mono',consolas,'Courier New',monospace\">DLR | Digital Realty Trust | Digital Realty Trust Inc\n",
       "</pre>\n"
      ],
      "text/plain": [
       "DLR | Digital Realty Trust | Digital Realty Trust Inc\n"
      ]
     },
     "metadata": {},
     "output_type": "display_data"
    },
    {
     "data": {
      "text/html": [
       "<pre style=\"white-space:pre;overflow-x:auto;line-height:normal;font-family:Menlo,'DejaVu Sans Mono',consolas,'Courier New',monospace\">DLX | Deluxe Corp. | Deluxe Corporation\n",
       "</pre>\n"
      ],
      "text/plain": [
       "DLX | Deluxe Corp. | Deluxe Corporation\n"
      ]
     },
     "metadata": {},
     "output_type": "display_data"
    },
    {
     "data": {
      "text/html": [
       "<pre style=\"white-space:pre;overflow-x:auto;line-height:normal;font-family:Menlo,'DejaVu Sans Mono',consolas,'Courier New',monospace\">DNB | Dun &amp; Bradstreet Corp | Dun &amp; Bradstreet Holdings Inc.\n",
       "</pre>\n"
      ],
      "text/plain": [
       "DNB | Dun & Bradstreet Corp | Dun & Bradstreet Holdings Inc.\n"
      ]
     },
     "metadata": {},
     "output_type": "display_data"
    },
    {
     "data": {
      "text/html": [
       "<pre style=\"white-space:pre;overflow-x:auto;line-height:normal;font-family:Menlo,'DejaVu Sans Mono',consolas,'Courier New',monospace\">DOV | Dover Corp. | Dover Corporation\n",
       "</pre>\n"
      ],
      "text/plain": [
       "DOV | Dover Corp. | Dover Corporation\n"
      ]
     },
     "metadata": {},
     "output_type": "display_data"
    },
    {
     "data": {
      "text/html": [
       "<pre style=\"white-space:pre;overflow-x:auto;line-height:normal;font-family:Menlo,'DejaVu Sans Mono',consolas,'Courier New',monospace\">DD | DuPont de Nemours Inc | Dupont De Nemours Inc\n",
       "</pre>\n"
      ],
      "text/plain": [
       "DD | DuPont de Nemours Inc | Dupont De Nemours Inc\n"
      ]
     },
     "metadata": {},
     "output_type": "display_data"
    },
    {
     "data": {
      "text/html": [
       "<pre style=\"white-space:pre;overflow-x:auto;line-height:normal;font-family:Menlo,'DejaVu Sans Mono',consolas,'Courier New',monospace\">DTE | DTE Energy Co. | DTE Energy Company\n",
       "</pre>\n"
      ],
      "text/plain": [
       "DTE | DTE Energy Co. | DTE Energy Company\n"
      ]
     },
     "metadata": {},
     "output_type": "display_data"
    },
    {
     "data": {
      "text/html": [
       "<pre style=\"white-space:pre;overflow-x:auto;line-height:normal;font-family:Menlo,'DejaVu Sans Mono',consolas,'Courier New',monospace\">DUK | Duke Energy Corp | Duke Energy Corporation\n",
       "</pre>\n"
      ],
      "text/plain": [
       "DUK | Duke Energy Corp | Duke Energy Corporation\n"
      ]
     },
     "metadata": {},
     "output_type": "display_data"
    },
    {
     "data": {
      "text/html": [
       "<pre style=\"white-space:pre;overflow-x:auto;line-height:normal;font-family:Menlo,'DejaVu Sans Mono',consolas,'Courier New',monospace\">ATGE | DeVry, Inc. | Adtalem Global Education Inc\n",
       "</pre>\n"
      ],
      "text/plain": [
       "ATGE | DeVry, Inc. | Adtalem Global Education Inc\n"
      ]
     },
     "metadata": {},
     "output_type": "display_data"
    },
    {
     "data": {
      "text/html": [
       "<pre style=\"white-space:pre;overflow-x:auto;line-height:normal;font-family:Menlo,'DejaVu Sans Mono',consolas,'Courier New',monospace\">DVA | DaVita Inc. | DaVita HealthCare Partners Inc\n",
       "</pre>\n"
      ],
      "text/plain": [
       "DVA | DaVita Inc. | DaVita HealthCare Partners Inc\n"
      ]
     },
     "metadata": {},
     "output_type": "display_data"
    },
    {
     "data": {
      "text/html": [
       "<pre style=\"white-space:pre;overflow-x:auto;line-height:normal;font-family:Menlo,'DejaVu Sans Mono',consolas,'Courier New',monospace\">DVN | Devon Energy Corp. | Devon Energy Corporation\n",
       "</pre>\n"
      ],
      "text/plain": [
       "DVN | Devon Energy Corp. | Devon Energy Corporation\n"
      ]
     },
     "metadata": {},
     "output_type": "display_data"
    },
    {
     "data": {
      "text/html": [
       "<pre style=\"white-space:pre;overflow-x:auto;line-height:normal;font-family:Menlo,'DejaVu Sans Mono',consolas,'Courier New',monospace\">DYN | Dynegy Inc. | Dyne Therapeutics Inc\n",
       "</pre>\n"
      ],
      "text/plain": [
       "DYN | Dynegy Inc. | Dyne Therapeutics Inc\n"
      ]
     },
     "metadata": {},
     "output_type": "display_data"
    },
    {
     "data": {
      "text/html": [
       "<pre style=\"white-space:pre;overflow-x:auto;line-height:normal;font-family:Menlo,'DejaVu Sans Mono',consolas,'Courier New',monospace\">EBAY | eBay Inc. | eBay Inc\n",
       "</pre>\n"
      ],
      "text/plain": [
       "EBAY | eBay Inc. | eBay Inc\n"
      ]
     },
     "metadata": {},
     "output_type": "display_data"
    },
    {
     "data": {
      "text/html": [
       "<pre style=\"white-space:pre;overflow-x:auto;line-height:normal;font-family:Menlo,'DejaVu Sans Mono',consolas,'Courier New',monospace\">EC | Engelhard Corp. | Ecopetrol SA ADR\n",
       "</pre>\n"
      ],
      "text/plain": [
       "EC | Engelhard Corp. | Ecopetrol SA ADR\n"
      ]
     },
     "metadata": {},
     "output_type": "display_data"
    },
    {
     "data": {
      "text/html": [
       "<pre style=\"white-space:pre;overflow-x:auto;line-height:normal;font-family:Menlo,'DejaVu Sans Mono',consolas,'Courier New',monospace\">ECL | Ecolab Inc. | Ecolab Inc\n",
       "</pre>\n"
      ],
      "text/plain": [
       "ECL | Ecolab Inc. | Ecolab Inc\n"
      ]
     },
     "metadata": {},
     "output_type": "display_data"
    },
    {
     "data": {
      "text/html": [
       "<pre style=\"white-space:pre;overflow-x:auto;line-height:normal;font-family:Menlo,'DejaVu Sans Mono',consolas,'Courier New',monospace\">EFX | Equifax Inc. | Equifax Inc\n",
       "</pre>\n"
      ],
      "text/plain": [
       "EFX | Equifax Inc. | Equifax Inc\n"
      ]
     },
     "metadata": {},
     "output_type": "display_data"
    },
    {
     "data": {
      "text/html": [
       "<pre style=\"white-space:pre;overflow-x:auto;line-height:normal;font-family:Menlo,'DejaVu Sans Mono',consolas,'Courier New',monospace\">KODK | Eastman Kodak Co. | Eastman Kodak Co\n",
       "</pre>\n"
      ],
      "text/plain": [
       "KODK | Eastman Kodak Co. | Eastman Kodak Co\n"
      ]
     },
     "metadata": {},
     "output_type": "display_data"
    },
    {
     "data": {
      "text/html": [
       "<pre style=\"white-space:pre;overflow-x:auto;line-height:normal;font-family:Menlo,'DejaVu Sans Mono',consolas,'Courier New',monospace\">EMN | Eastman Chemical Co | Eastman Chemical Company\n",
       "</pre>\n"
      ],
      "text/plain": [
       "EMN | Eastman Chemical Co | Eastman Chemical Company\n"
      ]
     },
     "metadata": {},
     "output_type": "display_data"
    },
    {
     "data": {
      "text/html": [
       "<pre style=\"white-space:pre;overflow-x:auto;line-height:normal;font-family:Menlo,'DejaVu Sans Mono',consolas,'Courier New',monospace\">EMR | Emerson Electric Co | Emerson Electric Company\n",
       "</pre>\n"
      ],
      "text/plain": [
       "EMR | Emerson Electric Co | Emerson Electric Company\n"
      ]
     },
     "metadata": {},
     "output_type": "display_data"
    },
    {
     "data": {
      "text/html": [
       "<pre style=\"white-space:pre;overflow-x:auto;line-height:normal;font-family:Menlo,'DejaVu Sans Mono',consolas,'Courier New',monospace\">EP | El Paso Corp. | Empire Petroleum Corp\n",
       "</pre>\n"
      ],
      "text/plain": [
       "EP | El Paso Corp. | Empire Petroleum Corp\n"
      ]
     },
     "metadata": {},
     "output_type": "display_data"
    },
    {
     "data": {
      "text/html": [
       "<pre style=\"white-space:pre;overflow-x:auto;line-height:normal;font-family:Menlo,'DejaVu Sans Mono',consolas,'Courier New',monospace\">EQT | EQT Corp | EQT Corporation\n",
       "</pre>\n"
      ],
      "text/plain": [
       "EQT | EQT Corp | EQT Corporation\n"
      ]
     },
     "metadata": {},
     "output_type": "display_data"
    },
    {
     "data": {
      "text/html": [
       "<pre style=\"white-space:pre;overflow-x:auto;line-height:normal;font-family:Menlo,'DejaVu Sans Mono',consolas,'Courier New',monospace\">ESS | Essex Property Trust | Essex Property Trust Inc\n",
       "</pre>\n"
      ],
      "text/plain": [
       "ESS | Essex Property Trust | Essex Property Trust Inc\n"
      ]
     },
     "metadata": {},
     "output_type": "display_data"
    },
    {
     "data": {
      "text/html": [
       "<pre style=\"white-space:pre;overflow-x:auto;line-height:normal;font-family:Menlo,'DejaVu Sans Mono',consolas,'Courier New',monospace\">VAL | Valaris plc | Valaris Ltd\n",
       "</pre>\n"
      ],
      "text/plain": [
       "VAL | Valaris plc | Valaris Ltd\n"
      ]
     },
     "metadata": {},
     "output_type": "display_data"
    },
    {
     "data": {
      "text/html": [
       "<pre style=\"white-space:pre;overflow-x:auto;line-height:normal;font-family:Menlo,'DejaVu Sans Mono',consolas,'Courier New',monospace\">ETN | Eaton Corporation plc | Eaton Corporation PLC\n",
       "</pre>\n"
      ],
      "text/plain": [
       "ETN | Eaton Corporation plc | Eaton Corporation PLC\n"
      ]
     },
     "metadata": {},
     "output_type": "display_data"
    },
    {
     "data": {
      "text/html": [
       "<pre style=\"white-space:pre;overflow-x:auto;line-height:normal;font-family:Menlo,'DejaVu Sans Mono',consolas,'Courier New',monospace\">ETR | Entergy Corp. | Entergy Corporation\n",
       "</pre>\n"
      ],
      "text/plain": [
       "ETR | Entergy Corp. | Entergy Corporation\n"
      ]
     },
     "metadata": {},
     "output_type": "display_data"
    },
    {
     "data": {
      "text/html": [
       "<pre style=\"white-space:pre;overflow-x:auto;line-height:normal;font-family:Menlo,'DejaVu Sans Mono',consolas,'Courier New',monospace\">EXC | Exelon Corp. | Exelon Corporation\n",
       "</pre>\n"
      ],
      "text/plain": [
       "EXC | Exelon Corp. | Exelon Corporation\n"
      ]
     },
     "metadata": {},
     "output_type": "display_data"
    },
    {
     "data": {
      "text/html": [
       "<pre style=\"white-space:pre;overflow-x:auto;line-height:normal;font-family:Menlo,'DejaVu Sans Mono',consolas,'Courier New',monospace\">EXPD | Expeditors Int'l of Washington Inc | Expeditors International of Washington, Inc.\n",
       "</pre>\n"
      ],
      "text/plain": [
       "EXPD | Expeditors Int'l of Washington Inc | Expeditors International of Washington, Inc.\n"
      ]
     },
     "metadata": {},
     "output_type": "display_data"
    },
    {
     "data": {
      "text/html": [
       "<pre style=\"white-space:pre;overflow-x:auto;line-height:normal;font-family:Menlo,'DejaVu Sans Mono',consolas,'Courier New',monospace\">EXPE | Expedia Inc. | Expedia Group Inc.\n",
       "</pre>\n"
      ],
      "text/plain": [
       "EXPE | Expedia Inc. | Expedia Group Inc.\n"
      ]
     },
     "metadata": {},
     "output_type": "display_data"
    },
    {
     "data": {
      "text/html": [
       "<pre style=\"white-space:pre;overflow-x:auto;line-height:normal;font-family:Menlo,'DejaVu Sans Mono',consolas,'Courier New',monospace\">F | Ford Motor Co | Ford Motor Company\n",
       "</pre>\n"
      ],
      "text/plain": [
       "F | Ford Motor Co | Ford Motor Company\n"
      ]
     },
     "metadata": {},
     "output_type": "display_data"
    },
    {
     "data": {
      "text/html": [
       "<pre style=\"white-space:pre;overflow-x:auto;line-height:normal;font-family:Menlo,'DejaVu Sans Mono',consolas,'Courier New',monospace\">FAST | Fastenal Co. | Fastenal Company\n",
       "</pre>\n"
      ],
      "text/plain": [
       "FAST | Fastenal Co. | Fastenal Company\n"
      ]
     },
     "metadata": {},
     "output_type": "display_data"
    },
    {
     "data": {
      "text/html": [
       "<pre style=\"white-space:pre;overflow-x:auto;line-height:normal;font-family:Menlo,'DejaVu Sans Mono',consolas,'Courier New',monospace\">META | Meta Platforms Inc | Meta Platforms Inc.\n",
       "</pre>\n"
      ],
      "text/plain": [
       "META | Meta Platforms Inc | Meta Platforms Inc.\n"
      ]
     },
     "metadata": {},
     "output_type": "display_data"
    },
    {
     "data": {
      "text/html": [
       "<pre style=\"white-space:pre;overflow-x:auto;line-height:normal;font-family:Menlo,'DejaVu Sans Mono',consolas,'Courier New',monospace\">FBIN | Fortune Brands Innovations Inc | Fortune Brands Innovations Inc.\n",
       "</pre>\n"
      ],
      "text/plain": [
       "FBIN | Fortune Brands Innovations Inc | Fortune Brands Innovations Inc.\n"
      ]
     },
     "metadata": {},
     "output_type": "display_data"
    },
    {
     "data": {
      "text/html": [
       "<pre style=\"white-space:pre;overflow-x:auto;line-height:normal;font-family:Menlo,'DejaVu Sans Mono',consolas,'Courier New',monospace\">FCX | Freeport-McMoRan Inc. | Freeport-McMoran Copper &amp; Gold Inc\n",
       "</pre>\n"
      ],
      "text/plain": [
       "FCX | Freeport-McMoRan Inc. | Freeport-McMoran Copper & Gold Inc\n"
      ]
     },
     "metadata": {},
     "output_type": "display_data"
    },
    {
     "data": {
      "text/html": [
       "<pre style=\"white-space:pre;overflow-x:auto;line-height:normal;font-family:Menlo,'DejaVu Sans Mono',consolas,'Courier New',monospace\">FDX | FedEx Corp | FedEx Corporation\n",
       "</pre>\n"
      ],
      "text/plain": [
       "FDX | FedEx Corp | FedEx Corporation\n"
      ]
     },
     "metadata": {},
     "output_type": "display_data"
    },
    {
     "data": {
      "text/html": [
       "<pre style=\"white-space:pre;overflow-x:auto;line-height:normal;font-family:Menlo,'DejaVu Sans Mono',consolas,'Courier New',monospace\">FE | FirstEnergy Corp | FirstEnergy Corporation\n",
       "</pre>\n"
      ],
      "text/plain": [
       "FE | FirstEnergy Corp | FirstEnergy Corporation\n"
      ]
     },
     "metadata": {},
     "output_type": "display_data"
    },
    {
     "data": {
      "text/html": [
       "<pre style=\"white-space:pre;overflow-x:auto;line-height:normal;font-family:Menlo,'DejaVu Sans Mono',consolas,'Courier New',monospace\">FHN | First Horizon National Corp | First Horizon National Corporation\n",
       "</pre>\n"
      ],
      "text/plain": [
       "FHN | First Horizon National Corp | First Horizon National Corporation\n"
      ]
     },
     "metadata": {},
     "output_type": "display_data"
    },
    {
     "data": {
      "text/html": [
       "<pre style=\"white-space:pre;overflow-x:auto;line-height:normal;font-family:Menlo,'DejaVu Sans Mono',consolas,'Courier New',monospace\">FHI | Federated Hermes Inc | Federated Investors Inc B\n",
       "</pre>\n"
      ],
      "text/plain": [
       "FHI | Federated Hermes Inc | Federated Investors Inc B\n"
      ]
     },
     "metadata": {},
     "output_type": "display_data"
    },
    {
     "data": {
      "text/html": [
       "<pre style=\"white-space:pre;overflow-x:auto;line-height:normal;font-family:Menlo,'DejaVu Sans Mono',consolas,'Courier New',monospace\">FI | Fiserv Inc | Fiserv, Inc.\n",
       "</pre>\n"
      ],
      "text/plain": [
       "FI | Fiserv Inc | Fiserv, Inc.\n"
      ]
     },
     "metadata": {},
     "output_type": "display_data"
    },
    {
     "data": {
      "text/html": [
       "<pre style=\"white-space:pre;overflow-x:auto;line-height:normal;font-family:Menlo,'DejaVu Sans Mono',consolas,'Courier New',monospace\">FL | Foot Locker Inc. | Foot Locker Inc\n",
       "</pre>\n"
      ],
      "text/plain": [
       "FL | Foot Locker Inc. | Foot Locker Inc\n"
      ]
     },
     "metadata": {},
     "output_type": "display_data"
    },
    {
     "data": {
      "text/html": [
       "<pre style=\"white-space:pre;overflow-x:auto;line-height:normal;font-family:Menlo,'DejaVu Sans Mono',consolas,'Courier New',monospace\">FLR | Fluor Corp. | Fluor Corporation\n",
       "</pre>\n"
      ],
      "text/plain": [
       "FLR | Fluor Corp. | Fluor Corporation\n"
      ]
     },
     "metadata": {},
     "output_type": "display_data"
    },
    {
     "data": {
      "text/html": [
       "<pre style=\"white-space:pre;overflow-x:auto;line-height:normal;font-family:Menlo,'DejaVu Sans Mono',consolas,'Courier New',monospace\">FMC | FMC Corp | FMC Corporation\n",
       "</pre>\n"
      ],
      "text/plain": [
       "FMC | FMC Corp | FMC Corporation\n"
      ]
     },
     "metadata": {},
     "output_type": "display_data"
    },
    {
     "data": {
      "text/html": [
       "<pre style=\"white-space:pre;overflow-x:auto;line-height:normal;font-family:Menlo,'DejaVu Sans Mono',consolas,'Courier New',monospace\">FOSL | Fossil Group | Fossil Group Inc\n",
       "</pre>\n"
      ],
      "text/plain": [
       "FOSL | Fossil Group | Fossil Group Inc\n"
      ]
     },
     "metadata": {},
     "output_type": "display_data"
    },
    {
     "data": {
      "text/html": [
       "<pre style=\"white-space:pre;overflow-x:auto;line-height:normal;font-family:Menlo,'DejaVu Sans Mono',consolas,'Courier New',monospace\">FTI | TechnipFMC plc | TechnipFMC PLC\n",
       "</pre>\n"
      ],
      "text/plain": [
       "FTI | TechnipFMC plc | TechnipFMC PLC\n"
      ]
     },
     "metadata": {},
     "output_type": "display_data"
    },
    {
     "data": {
      "text/html": [
       "<pre style=\"white-space:pre;overflow-x:auto;line-height:normal;font-family:Menlo,'DejaVu Sans Mono',consolas,'Courier New',monospace\">GAP | The Great Atlantic &amp; Pacific Tea Co | The Gap, Inc.\n",
       "</pre>\n"
      ],
      "text/plain": [
       "GAP | The Great Atlantic & Pacific Tea Co | The Gap, Inc.\n"
      ]
     },
     "metadata": {},
     "output_type": "display_data"
    },
    {
     "data": {
      "text/html": [
       "<pre style=\"white-space:pre;overflow-x:auto;line-height:normal;font-family:Menlo,'DejaVu Sans Mono',consolas,'Courier New',monospace\">GD | General Dynamics Corp | General Dynamics Corporation\n",
       "</pre>\n"
      ],
      "text/plain": [
       "GD | General Dynamics Corp | General Dynamics Corporation\n"
      ]
     },
     "metadata": {},
     "output_type": "display_data"
    },
    {
     "data": {
      "text/html": [
       "<pre style=\"white-space:pre;overflow-x:auto;line-height:normal;font-family:Menlo,'DejaVu Sans Mono',consolas,'Courier New',monospace\"><span style=\"color: #008000; text-decoration-color: #008000\">Retrying GDW after </span><span style=\"color: #008000; text-decoration-color: #008000; font-weight: bold\">1</span><span style=\"color: #008000; text-decoration-color: #008000\"> min, got </span><span style=\"color: #008000; text-decoration-color: #008000; font-weight: bold\">{</span><span style=\"color: #008000; text-decoration-color: #008000\">'Information'</span><span style=\"color: #008000; text-decoration-color: #008000\">: </span><span style=\"color: #008000; text-decoration-color: #008000\">'Thank you for using Alpha Vantage! Please contact </span>\n",
       "<span style=\"color: #008000; text-decoration-color: #008000\">premium@alphavantage.co if you are targeting a higher API call volume.'</span><span style=\"color: #008000; text-decoration-color: #008000; font-weight: bold\">}</span>\n",
       "</pre>\n"
      ],
      "text/plain": [
       "\u001b[32mRetrying GDW after \u001b[0m\u001b[1;32m1\u001b[0m\u001b[32m min, got \u001b[0m\u001b[1;32m{\u001b[0m\u001b[32m'Information'\u001b[0m\u001b[32m: \u001b[0m\u001b[32m'Thank you for using Alpha Vantage! Please contact \u001b[0m\n",
       "\u001b[32mpremium@alphavantage.co if you are targeting a higher API call volume.'\u001b[0m\u001b[1;32m}\u001b[0m\n"
      ]
     },
     "metadata": {},
     "output_type": "display_data"
    },
    {
     "data": {
      "text/html": [
       "<pre style=\"white-space:pre;overflow-x:auto;line-height:normal;font-family:Menlo,'DejaVu Sans Mono',consolas,'Courier New',monospace\">GE | General Electric Co | GE Aerospace\n",
       "</pre>\n"
      ],
      "text/plain": [
       "GE | General Electric Co | GE Aerospace\n"
      ]
     },
     "metadata": {},
     "output_type": "display_data"
    },
    {
     "data": {
      "text/html": [
       "<pre style=\"white-space:pre;overflow-x:auto;line-height:normal;font-family:Menlo,'DejaVu Sans Mono',consolas,'Courier New',monospace\">GIS | General Mills Inc. | General Mills Inc\n",
       "</pre>\n"
      ],
      "text/plain": [
       "GIS | General Mills Inc. | General Mills Inc\n"
      ]
     },
     "metadata": {},
     "output_type": "display_data"
    },
    {
     "data": {
      "text/html": [
       "<pre style=\"white-space:pre;overflow-x:auto;line-height:normal;font-family:Menlo,'DejaVu Sans Mono',consolas,'Courier New',monospace\">GLW | Corning Inc. | Corning Incorporated\n",
       "</pre>\n"
      ],
      "text/plain": [
       "GLW | Corning Inc. | Corning Incorporated\n"
      ]
     },
     "metadata": {},
     "output_type": "display_data"
    },
    {
     "data": {
      "text/html": [
       "<pre style=\"white-space:pre;overflow-x:auto;line-height:normal;font-family:Menlo,'DejaVu Sans Mono',consolas,'Courier New',monospace\">GM | General Motors Co | General Motors Company\n",
       "</pre>\n"
      ],
      "text/plain": [
       "GM | General Motors Co | General Motors Company\n"
      ]
     },
     "metadata": {},
     "output_type": "display_data"
    },
    {
     "data": {
      "text/html": [
       "<pre style=\"white-space:pre;overflow-x:auto;line-height:normal;font-family:Menlo,'DejaVu Sans Mono',consolas,'Courier New',monospace\">GME | GameStop Corp. | GameStop Corp\n",
       "</pre>\n"
      ],
      "text/plain": [
       "GME | GameStop Corp. | GameStop Corp\n"
      ]
     },
     "metadata": {},
     "output_type": "display_data"
    },
    {
     "data": {
      "text/html": [
       "<pre style=\"white-space:pre;overflow-x:auto;line-height:normal;font-family:Menlo,'DejaVu Sans Mono',consolas,'Courier New',monospace\">GNW | Genworth Financial Inc. | Genworth Financial Inc\n",
       "</pre>\n"
      ],
      "text/plain": [
       "GNW | Genworth Financial Inc. | Genworth Financial Inc\n"
      ]
     },
     "metadata": {},
     "output_type": "display_data"
    },
    {
     "data": {
      "text/html": [
       "<pre style=\"white-space:pre;overflow-x:auto;line-height:normal;font-family:Menlo,'DejaVu Sans Mono',consolas,'Courier New',monospace\">GOOG | Alphabet Inc. Class C | Alphabet Inc Class C\n",
       "</pre>\n"
      ],
      "text/plain": [
       "GOOG | Alphabet Inc. Class C | Alphabet Inc Class C\n"
      ]
     },
     "metadata": {},
     "output_type": "display_data"
    },
    {
     "data": {
      "text/html": [
       "<pre style=\"white-space:pre;overflow-x:auto;line-height:normal;font-family:Menlo,'DejaVu Sans Mono',consolas,'Courier New',monospace\">GOOGL | Alphabet Inc. Class A | Alphabet Inc Class A\n",
       "</pre>\n"
      ],
      "text/plain": [
       "GOOGL | Alphabet Inc. Class A | Alphabet Inc Class A\n"
      ]
     },
     "metadata": {},
     "output_type": "display_data"
    },
    {
     "data": {
      "text/html": [
       "<pre style=\"white-space:pre;overflow-x:auto;line-height:normal;font-family:Menlo,'DejaVu Sans Mono',consolas,'Courier New',monospace\">GP | Georgia-Pacific Group | GreenPower Motor Company Inc\n",
       "</pre>\n"
      ],
      "text/plain": [
       "GP | Georgia-Pacific Group | GreenPower Motor Company Inc\n"
      ]
     },
     "metadata": {},
     "output_type": "display_data"
    },
    {
     "data": {
      "text/html": [
       "<pre style=\"white-space:pre;overflow-x:auto;line-height:normal;font-family:Menlo,'DejaVu Sans Mono',consolas,'Courier New',monospace\">GWW | W. W. Grainger Inc | WW Grainger Inc\n",
       "</pre>\n"
      ],
      "text/plain": [
       "GWW | W. W. Grainger Inc | WW Grainger Inc\n"
      ]
     },
     "metadata": {},
     "output_type": "display_data"
    },
    {
     "data": {
      "text/html": [
       "<pre style=\"white-space:pre;overflow-x:auto;line-height:normal;font-family:Menlo,'DejaVu Sans Mono',consolas,'Courier New',monospace\">HAL | Halliburton Co. | Halliburton Company\n",
       "</pre>\n"
      ],
      "text/plain": [
       "HAL | Halliburton Co. | Halliburton Company\n"
      ]
     },
     "metadata": {},
     "output_type": "display_data"
    },
    {
     "data": {
      "text/html": [
       "<pre style=\"white-space:pre;overflow-x:auto;line-height:normal;font-family:Menlo,'DejaVu Sans Mono',consolas,'Courier New',monospace\">HAS | Hasbro Inc. | Hasbro Inc\n",
       "</pre>\n"
      ],
      "text/plain": [
       "HAS | Hasbro Inc. | Hasbro Inc\n"
      ]
     },
     "metadata": {},
     "output_type": "display_data"
    },
    {
     "data": {
      "text/html": [
       "<pre style=\"white-space:pre;overflow-x:auto;line-height:normal;font-family:Menlo,'DejaVu Sans Mono',consolas,'Courier New',monospace\">HBAN | Huntington Bancshares Inc | Huntington Bancshares Incorporated\n",
       "</pre>\n"
      ],
      "text/plain": [
       "HBAN | Huntington Bancshares Inc | Huntington Bancshares Incorporated\n"
      ]
     },
     "metadata": {},
     "output_type": "display_data"
    },
    {
     "data": {
      "text/html": [
       "<pre style=\"white-space:pre;overflow-x:auto;line-height:normal;font-family:Menlo,'DejaVu Sans Mono',consolas,'Courier New',monospace\">HES | Hess Corp | Hess Corporation\n",
       "</pre>\n"
      ],
      "text/plain": [
       "HES | Hess Corp | Hess Corporation\n"
      ]
     },
     "metadata": {},
     "output_type": "display_data"
    },
    {
     "data": {
      "text/html": [
       "<pre style=\"white-space:pre;overflow-x:auto;line-height:normal;font-family:Menlo,'DejaVu Sans Mono',consolas,'Courier New',monospace\">HIG | Hartford Financial Services Group Inc | Hartford Financial Services Group\n",
       "</pre>\n"
      ],
      "text/plain": [
       "HIG | Hartford Financial Services Group Inc | Hartford Financial Services Group\n"
      ]
     },
     "metadata": {},
     "output_type": "display_data"
    },
    {
     "data": {
      "text/html": [
       "<pre style=\"white-space:pre;overflow-x:auto;line-height:normal;font-family:Menlo,'DejaVu Sans Mono',consolas,'Courier New',monospace\">HLT | Hilton Worldwide Holdings Inc. | Hilton Worldwide Holdings Inc\n",
       "</pre>\n"
      ],
      "text/plain": [
       "HLT | Hilton Worldwide Holdings Inc. | Hilton Worldwide Holdings Inc\n"
      ]
     },
     "metadata": {},
     "output_type": "display_data"
    },
    {
     "data": {
      "text/html": [
       "<pre style=\"white-space:pre;overflow-x:auto;line-height:normal;font-family:Menlo,'DejaVu Sans Mono',consolas,'Courier New',monospace\">EHC | HealthSouth Corp. | Encompass Health Corp\n",
       "</pre>\n"
      ],
      "text/plain": [
       "EHC | HealthSouth Corp. | Encompass Health Corp\n"
      ]
     },
     "metadata": {},
     "output_type": "display_data"
    },
    {
     "data": {
      "text/html": [
       "<pre style=\"white-space:pre;overflow-x:auto;line-height:normal;font-family:Menlo,'DejaVu Sans Mono',consolas,'Courier New',monospace\">HRL | Hormel Foods Corp. | Hormel Foods Corporation\n",
       "</pre>\n"
      ],
      "text/plain": [
       "HRL | Hormel Foods Corp. | Hormel Foods Corporation\n"
      ]
     },
     "metadata": {},
     "output_type": "display_data"
    },
    {
     "data": {
      "text/html": [
       "<pre style=\"white-space:pre;overflow-x:auto;line-height:normal;font-family:Menlo,'DejaVu Sans Mono',consolas,'Courier New',monospace\">HST | Host Hotels &amp; Resorts | Host Hotels &amp; Resorts Inc\n",
       "</pre>\n"
      ],
      "text/plain": [
       "HST | Host Hotels & Resorts | Host Hotels & Resorts Inc\n"
      ]
     },
     "metadata": {},
     "output_type": "display_data"
    },
    {
     "data": {
      "text/html": [
       "<pre style=\"white-space:pre;overflow-x:auto;line-height:normal;font-family:Menlo,'DejaVu Sans Mono',consolas,'Courier New',monospace\">HUM | Humana Inc. | Humana Inc\n",
       "</pre>\n"
      ],
      "text/plain": [
       "HUM | Humana Inc. | Humana Inc\n"
      ]
     },
     "metadata": {},
     "output_type": "display_data"
    },
    {
     "data": {
      "text/html": [
       "<pre style=\"white-space:pre;overflow-x:auto;line-height:normal;font-family:Menlo,'DejaVu Sans Mono',consolas,'Courier New',monospace\">IAC | IAC/InterActiveCorp | IAC Inc.\n",
       "</pre>\n"
      ],
      "text/plain": [
       "IAC | IAC/InterActiveCorp | IAC Inc.\n"
      ]
     },
     "metadata": {},
     "output_type": "display_data"
    },
    {
     "data": {
      "text/html": [
       "<pre style=\"white-space:pre;overflow-x:auto;line-height:normal;font-family:Menlo,'DejaVu Sans Mono',consolas,'Courier New',monospace\">IBM | IBM Corp. | International Business Machines\n",
       "</pre>\n"
      ],
      "text/plain": [
       "IBM | IBM Corp. | International Business Machines\n"
      ]
     },
     "metadata": {},
     "output_type": "display_data"
    },
    {
     "data": {
      "text/html": [
       "<pre style=\"white-space:pre;overflow-x:auto;line-height:normal;font-family:Menlo,'DejaVu Sans Mono',consolas,'Courier New',monospace\">IHRT | iHeartMedia Inc | iHeartMedia Inc Class A\n",
       "</pre>\n"
      ],
      "text/plain": [
       "IHRT | iHeartMedia Inc | iHeartMedia Inc Class A\n"
      ]
     },
     "metadata": {},
     "output_type": "display_data"
    },
    {
     "data": {
      "text/html": [
       "<pre style=\"white-space:pre;overflow-x:auto;line-height:normal;font-family:Menlo,'DejaVu Sans Mono',consolas,'Courier New',monospace\">INCY | Incyte Corp | Incyte Corporation\n",
       "</pre>\n"
      ],
      "text/plain": [
       "INCY | Incyte Corp | Incyte Corporation\n"
      ]
     },
     "metadata": {},
     "output_type": "display_data"
    },
    {
     "data": {
      "text/html": [
       "<pre style=\"white-space:pre;overflow-x:auto;line-height:normal;font-family:Menlo,'DejaVu Sans Mono',consolas,'Courier New',monospace\">INTC | Intel Corp. | Intel Corporation\n",
       "</pre>\n"
      ],
      "text/plain": [
       "INTC | Intel Corp. | Intel Corporation\n"
      ]
     },
     "metadata": {},
     "output_type": "display_data"
    },
    {
     "data": {
      "text/html": [
       "<pre style=\"white-space:pre;overflow-x:auto;line-height:normal;font-family:Menlo,'DejaVu Sans Mono',consolas,'Courier New',monospace\">INTU | Intuit Inc. | Intuit Inc\n",
       "</pre>\n"
      ],
      "text/plain": [
       "INTU | Intuit Inc. | Intuit Inc\n"
      ]
     },
     "metadata": {},
     "output_type": "display_data"
    },
    {
     "data": {
      "text/html": [
       "<pre style=\"white-space:pre;overflow-x:auto;line-height:normal;font-family:Menlo,'DejaVu Sans Mono',consolas,'Courier New',monospace\">IP | International Paper Co. | International Paper\n",
       "</pre>\n"
      ],
      "text/plain": [
       "IP | International Paper Co. | International Paper\n"
      ]
     },
     "metadata": {},
     "output_type": "display_data"
    },
    {
     "data": {
      "text/html": [
       "<pre style=\"white-space:pre;overflow-x:auto;line-height:normal;font-family:Menlo,'DejaVu Sans Mono',consolas,'Courier New',monospace\">IRM | Iron Mountain Inc. | Iron Mountain Incorporated\n",
       "</pre>\n"
      ],
      "text/plain": [
       "IRM | Iron Mountain Inc. | Iron Mountain Incorporated\n"
      ]
     },
     "metadata": {},
     "output_type": "display_data"
    },
    {
     "data": {
      "text/html": [
       "<pre style=\"white-space:pre;overflow-x:auto;line-height:normal;font-family:Menlo,'DejaVu Sans Mono',consolas,'Courier New',monospace\">ISRG | Intuitive Surgical Inc. | Intuitive Surgical Inc\n",
       "</pre>\n"
      ],
      "text/plain": [
       "ISRG | Intuitive Surgical Inc. | Intuitive Surgical Inc\n"
      ]
     },
     "metadata": {},
     "output_type": "display_data"
    },
    {
     "data": {
      "text/html": [
       "<pre style=\"white-space:pre;overflow-x:auto;line-height:normal;font-family:Menlo,'DejaVu Sans Mono',consolas,'Courier New',monospace\">IVZ | Invesco Ltd | Invesco Plc\n",
       "</pre>\n"
      ],
      "text/plain": [
       "IVZ | Invesco Ltd | Invesco Plc\n"
      ]
     },
     "metadata": {},
     "output_type": "display_data"
    },
    {
     "data": {
      "text/html": [
       "<pre style=\"white-space:pre;overflow-x:auto;line-height:normal;font-family:Menlo,'DejaVu Sans Mono',consolas,'Courier New',monospace\">JBHT | J. B. Hunt Transport Services Inc. | JB Hunt Transport Services Inc\n",
       "</pre>\n"
      ],
      "text/plain": [
       "JBHT | J. B. Hunt Transport Services Inc. | JB Hunt Transport Services Inc\n"
      ]
     },
     "metadata": {},
     "output_type": "display_data"
    },
    {
     "data": {
      "text/html": [
       "<pre style=\"white-space:pre;overflow-x:auto;line-height:normal;font-family:Menlo,'DejaVu Sans Mono',consolas,'Courier New',monospace\">JBL | Jabil Inc | Jabil Circuit Inc\n",
       "</pre>\n"
      ],
      "text/plain": [
       "JBL | Jabil Inc | Jabil Circuit Inc\n"
      ]
     },
     "metadata": {},
     "output_type": "display_data"
    },
    {
     "data": {
      "text/html": [
       "<pre style=\"white-space:pre;overflow-x:auto;line-height:normal;font-family:Menlo,'DejaVu Sans Mono',consolas,'Courier New',monospace\">JCI | Johnson Controls International plc | Johnson Controls International PLC\n",
       "</pre>\n"
      ],
      "text/plain": [
       "JCI | Johnson Controls International plc | Johnson Controls International PLC\n"
      ]
     },
     "metadata": {},
     "output_type": "display_data"
    },
    {
     "data": {
      "text/html": [
       "<pre style=\"white-space:pre;overflow-x:auto;line-height:normal;font-family:Menlo,'DejaVu Sans Mono',consolas,'Courier New',monospace\">J | Jacobs Solutions Inc | Jacobs Solutions Inc.\n",
       "</pre>\n"
      ],
      "text/plain": [
       "J | Jacobs Solutions Inc | Jacobs Solutions Inc.\n"
      ]
     },
     "metadata": {},
     "output_type": "display_data"
    },
    {
     "data": {
      "text/html": [
       "<pre style=\"white-space:pre;overflow-x:auto;line-height:normal;font-family:Menlo,'DejaVu Sans Mono',consolas,'Courier New',monospace\">JPM | JPMorgan Chase &amp; Co. | JPMorgan Chase &amp; Co\n",
       "</pre>\n"
      ],
      "text/plain": [
       "JPM | JPMorgan Chase & Co. | JPMorgan Chase & Co\n"
      ]
     },
     "metadata": {},
     "output_type": "display_data"
    },
    {
     "data": {
      "text/html": [
       "<pre style=\"white-space:pre;overflow-x:auto;line-height:normal;font-family:Menlo,'DejaVu Sans Mono',consolas,'Courier New',monospace\">K | Kellogg Co. | Kellanova\n",
       "</pre>\n"
      ],
      "text/plain": [
       "K | Kellogg Co. | Kellanova\n"
      ]
     },
     "metadata": {},
     "output_type": "display_data"
    },
    {
     "data": {
      "text/html": [
       "<pre style=\"white-space:pre;overflow-x:auto;line-height:normal;font-family:Menlo,'DejaVu Sans Mono',consolas,'Courier New',monospace\">KIM | Kimco Realty | Kimco Realty Corporation\n",
       "</pre>\n"
      ],
      "text/plain": [
       "KIM | Kimco Realty | Kimco Realty Corporation\n"
      ]
     },
     "metadata": {},
     "output_type": "display_data"
    },
    {
     "data": {
      "text/html": [
       "<pre style=\"white-space:pre;overflow-x:auto;line-height:normal;font-family:Menlo,'DejaVu Sans Mono',consolas,'Courier New',monospace\">KLAC | KLA-Tencor Corp. | KLA-Tencor Corporation\n",
       "</pre>\n"
      ],
      "text/plain": [
       "KLAC | KLA-Tencor Corp. | KLA-Tencor Corporation\n"
      ]
     },
     "metadata": {},
     "output_type": "display_data"
    },
    {
     "data": {
      "text/html": [
       "<pre style=\"white-space:pre;overflow-x:auto;line-height:normal;font-family:Menlo,'DejaVu Sans Mono',consolas,'Courier New',monospace\">KMB | Kimberly-Clark Corp | Kimberly-Clark Corporation\n",
       "</pre>\n"
      ],
      "text/plain": [
       "KMB | Kimberly-Clark Corp | Kimberly-Clark Corporation\n"
      ]
     },
     "metadata": {},
     "output_type": "display_data"
    },
    {
     "data": {
      "text/html": [
       "<pre style=\"white-space:pre;overflow-x:auto;line-height:normal;font-family:Menlo,'DejaVu Sans Mono',consolas,'Courier New',monospace\">KMX | Carmax Inc. | CarMax Inc\n",
       "</pre>\n"
      ],
      "text/plain": [
       "KMX | Carmax Inc. | CarMax Inc\n"
      ]
     },
     "metadata": {},
     "output_type": "display_data"
    },
    {
     "data": {
      "text/html": [
       "<pre style=\"white-space:pre;overflow-x:auto;line-height:normal;font-family:Menlo,'DejaVu Sans Mono',consolas,'Courier New',monospace\">KO | The Coca Cola Co. | The Coca-Cola Company\n",
       "</pre>\n"
      ],
      "text/plain": [
       "KO | The Coca Cola Co. | The Coca-Cola Company\n"
      ]
     },
     "metadata": {},
     "output_type": "display_data"
    },
    {
     "data": {
      "text/html": [
       "<pre style=\"white-space:pre;overflow-x:auto;line-height:normal;font-family:Menlo,'DejaVu Sans Mono',consolas,'Courier New',monospace\">KR | Kroger Co. | Kroger Company\n",
       "</pre>\n"
      ],
      "text/plain": [
       "KR | Kroger Co. | Kroger Company\n"
      ]
     },
     "metadata": {},
     "output_type": "display_data"
    },
    {
     "data": {
      "text/html": [
       "<pre style=\"white-space:pre;overflow-x:auto;line-height:normal;font-family:Menlo,'DejaVu Sans Mono',consolas,'Courier New',monospace\">KSS | Kohl's Corp. | Kohls Corp\n",
       "</pre>\n"
      ],
      "text/plain": [
       "KSS | Kohl's Corp. | Kohls Corp\n"
      ]
     },
     "metadata": {},
     "output_type": "display_data"
    },
    {
     "data": {
      "text/html": [
       "<pre style=\"white-space:pre;overflow-x:auto;line-height:normal;font-family:Menlo,'DejaVu Sans Mono',consolas,'Courier New',monospace\">L | Loews Corp. | Loews Corp\n",
       "</pre>\n"
      ],
      "text/plain": [
       "L | Loews Corp. | Loews Corp\n"
      ]
     },
     "metadata": {},
     "output_type": "display_data"
    },
    {
     "data": {
      "text/html": [
       "<pre style=\"white-space:pre;overflow-x:auto;line-height:normal;font-family:Menlo,'DejaVu Sans Mono',consolas,'Courier New',monospace\">BBWI | Bath &amp; Body Works Inc | Bath &amp; Body Works Inc.\n",
       "</pre>\n"
      ],
      "text/plain": [
       "BBWI | Bath & Body Works Inc | Bath & Body Works Inc.\n"
      ]
     },
     "metadata": {},
     "output_type": "display_data"
    },
    {
     "data": {
      "text/html": [
       "<pre style=\"white-space:pre;overflow-x:auto;line-height:normal;font-family:Menlo,'DejaVu Sans Mono',consolas,'Courier New',monospace\">LEG | Leggett &amp; Platt Inc | Leggett &amp; Platt Incorporated\n",
       "</pre>\n"
      ],
      "text/plain": [
       "LEG | Leggett & Platt Inc | Leggett & Platt Incorporated\n"
      ]
     },
     "metadata": {},
     "output_type": "display_data"
    },
    {
     "data": {
      "text/html": [
       "<pre style=\"white-space:pre;overflow-x:auto;line-height:normal;font-family:Menlo,'DejaVu Sans Mono',consolas,'Courier New',monospace\">LEN | Lennar Corp. | Lennar Corporation\n",
       "</pre>\n"
      ],
      "text/plain": [
       "LEN | Lennar Corp. | Lennar Corporation\n"
      ]
     },
     "metadata": {},
     "output_type": "display_data"
    },
    {
     "data": {
      "text/html": [
       "<pre style=\"white-space:pre;overflow-x:auto;line-height:normal;font-family:Menlo,'DejaVu Sans Mono',consolas,'Courier New',monospace\">LH | Laboratory Corp of America Holdings | Laboratory Corporation of America Holdings\n",
       "</pre>\n"
      ],
      "text/plain": [
       "LH | Laboratory Corp of America Holdings | Laboratory Corporation of America Holdings\n"
      ]
     },
     "metadata": {},
     "output_type": "display_data"
    },
    {
     "data": {
      "text/html": [
       "<pre style=\"white-space:pre;overflow-x:auto;line-height:normal;font-family:Menlo,'DejaVu Sans Mono',consolas,'Courier New',monospace\">LKQ | LKQ Corp | LKQ Corporation\n",
       "</pre>\n"
      ],
      "text/plain": [
       "LKQ | LKQ Corp | LKQ Corporation\n"
      ]
     },
     "metadata": {},
     "output_type": "display_data"
    },
    {
     "data": {
      "text/html": [
       "<pre style=\"white-space:pre;overflow-x:auto;line-height:normal;font-family:Menlo,'DejaVu Sans Mono',consolas,'Courier New',monospace\">LLY | Eli Lilly and Co. | Eli Lilly and Company\n",
       "</pre>\n"
      ],
      "text/plain": [
       "LLY | Eli Lilly and Co. | Eli Lilly and Company\n"
      ]
     },
     "metadata": {},
     "output_type": "display_data"
    },
    {
     "data": {
      "text/html": [
       "<pre style=\"white-space:pre;overflow-x:auto;line-height:normal;font-family:Menlo,'DejaVu Sans Mono',consolas,'Courier New',monospace\">LMT | Lockheed Martin Corp. | Lockheed Martin Corporation\n",
       "</pre>\n"
      ],
      "text/plain": [
       "LMT | Lockheed Martin Corp. | Lockheed Martin Corporation\n"
      ]
     },
     "metadata": {},
     "output_type": "display_data"
    },
    {
     "data": {
      "text/html": [
       "<pre style=\"white-space:pre;overflow-x:auto;line-height:normal;font-family:Menlo,'DejaVu Sans Mono',consolas,'Courier New',monospace\">LNC | Lincoln National Corp | Lincoln National Corporation\n",
       "</pre>\n"
      ],
      "text/plain": [
       "LNC | Lincoln National Corp | Lincoln National Corporation\n"
      ]
     },
     "metadata": {},
     "output_type": "display_data"
    },
    {
     "data": {
      "text/html": [
       "<pre style=\"white-space:pre;overflow-x:auto;line-height:normal;font-family:Menlo,'DejaVu Sans Mono',consolas,'Courier New',monospace\">LPX | Louisiana-Pacific Corp. | Louisiana-Pacific Corporation\n",
       "</pre>\n"
      ],
      "text/plain": [
       "LPX | Louisiana-Pacific Corp. | Louisiana-Pacific Corporation\n"
      ]
     },
     "metadata": {},
     "output_type": "display_data"
    },
    {
     "data": {
      "text/html": [
       "<pre style=\"white-space:pre;overflow-x:auto;line-height:normal;font-family:Menlo,'DejaVu Sans Mono',consolas,'Courier New',monospace\">LU | Lucent Technology | Lufax Holding Ltd\n",
       "</pre>\n"
      ],
      "text/plain": [
       "LU | Lucent Technology | Lufax Holding Ltd\n"
      ]
     },
     "metadata": {},
     "output_type": "display_data"
    },
    {
     "data": {
      "text/html": [
       "<pre style=\"white-space:pre;overflow-x:auto;line-height:normal;font-family:Menlo,'DejaVu Sans Mono',consolas,'Courier New',monospace\">LUV | Southwest Airlines Co | Southwest Airlines Company\n",
       "</pre>\n"
      ],
      "text/plain": [
       "LUV | Southwest Airlines Co | Southwest Airlines Company\n"
      ]
     },
     "metadata": {},
     "output_type": "display_data"
    },
    {
     "data": {
      "text/html": [
       "<pre style=\"white-space:pre;overflow-x:auto;line-height:normal;font-family:Menlo,'DejaVu Sans Mono',consolas,'Courier New',monospace\">M | Macy's Inc. | Macy’s Inc\n",
       "</pre>\n"
      ],
      "text/plain": [
       "M | Macy's Inc. | Macy’s Inc\n"
      ]
     },
     "metadata": {},
     "output_type": "display_data"
    },
    {
     "data": {
      "text/html": [
       "<pre style=\"white-space:pre;overflow-x:auto;line-height:normal;font-family:Menlo,'DejaVu Sans Mono',consolas,'Courier New',monospace\">MA | Mastercard Inc. | Mastercard Inc\n",
       "</pre>\n"
      ],
      "text/plain": [
       "MA | Mastercard Inc. | Mastercard Inc\n"
      ]
     },
     "metadata": {},
     "output_type": "display_data"
    },
    {
     "data": {
      "text/html": [
       "<pre style=\"white-space:pre;overflow-x:auto;line-height:normal;font-family:Menlo,'DejaVu Sans Mono',consolas,'Courier New',monospace\">MAA | Mid-America Apartment Communities | Mid-America Apartment Communities Inc\n",
       "</pre>\n"
      ],
      "text/plain": [
       "MAA | Mid-America Apartment Communities | Mid-America Apartment Communities Inc\n"
      ]
     },
     "metadata": {},
     "output_type": "display_data"
    },
    {
     "data": {
      "text/html": [
       "<pre style=\"white-space:pre;overflow-x:auto;line-height:normal;font-family:Menlo,'DejaVu Sans Mono',consolas,'Courier New',monospace\">MAC | Macerich | Macerich Company\n",
       "</pre>\n"
      ],
      "text/plain": [
       "MAC | Macerich | Macerich Company\n"
      ]
     },
     "metadata": {},
     "output_type": "display_data"
    },
    {
     "data": {
      "text/html": [
       "<pre style=\"white-space:pre;overflow-x:auto;line-height:normal;font-family:Menlo,'DejaVu Sans Mono',consolas,'Courier New',monospace\">MAS | Masco Corp. | Masco Corporation\n",
       "</pre>\n"
      ],
      "text/plain": [
       "MAS | Masco Corp. | Masco Corporation\n"
      ]
     },
     "metadata": {},
     "output_type": "display_data"
    },
    {
     "data": {
      "text/html": [
       "<pre style=\"white-space:pre;overflow-x:auto;line-height:normal;font-family:Menlo,'DejaVu Sans Mono',consolas,'Courier New',monospace\">MAT | Mattel Inc. | Mattel Inc\n",
       "</pre>\n"
      ],
      "text/plain": [
       "MAT | Mattel Inc. | Mattel Inc\n"
      ]
     },
     "metadata": {},
     "output_type": "display_data"
    },
    {
     "data": {
      "text/html": [
       "<pre style=\"white-space:pre;overflow-x:auto;line-height:normal;font-family:Menlo,'DejaVu Sans Mono',consolas,'Courier New',monospace\">MCD | McDonald's Corp. | McDonald’s Corporation\n",
       "</pre>\n"
      ],
      "text/plain": [
       "MCD | McDonald's Corp. | McDonald’s Corporation\n"
      ]
     },
     "metadata": {},
     "output_type": "display_data"
    },
    {
     "data": {
      "text/html": [
       "<pre style=\"white-space:pre;overflow-x:auto;line-height:normal;font-family:Menlo,'DejaVu Sans Mono',consolas,'Courier New',monospace\">MCK | McKesson Corp. | McKesson Corporation\n",
       "</pre>\n"
      ],
      "text/plain": [
       "MCK | McKesson Corp. | McKesson Corporation\n"
      ]
     },
     "metadata": {},
     "output_type": "display_data"
    },
    {
     "data": {
      "text/html": [
       "<pre style=\"white-space:pre;overflow-x:auto;line-height:normal;font-family:Menlo,'DejaVu Sans Mono',consolas,'Courier New',monospace\">MCO | Moody's Corp | Moodys Corporation\n",
       "</pre>\n"
      ],
      "text/plain": [
       "MCO | Moody's Corp | Moodys Corporation\n"
      ]
     },
     "metadata": {},
     "output_type": "display_data"
    },
    {
     "data": {
      "text/html": [
       "<pre style=\"white-space:pre;overflow-x:auto;line-height:normal;font-family:Menlo,'DejaVu Sans Mono',consolas,'Courier New',monospace\">MET | MetLife Inc. | MetLife Inc\n",
       "</pre>\n"
      ],
      "text/plain": [
       "MET | MetLife Inc. | MetLife Inc\n"
      ]
     },
     "metadata": {},
     "output_type": "display_data"
    },
    {
     "data": {
      "text/html": [
       "<pre style=\"white-space:pre;overflow-x:auto;line-height:normal;font-family:Menlo,'DejaVu Sans Mono',consolas,'Courier New',monospace\">MI | Marshall &amp; Ilsley Corp | NFT Limited\n",
       "</pre>\n"
      ],
      "text/plain": [
       "MI | Marshall & Ilsley Corp | NFT Limited\n"
      ]
     },
     "metadata": {},
     "output_type": "display_data"
    },
    {
     "data": {
      "text/html": [
       "<pre style=\"white-space:pre;overflow-x:auto;line-height:normal;font-family:Menlo,'DejaVu Sans Mono',consolas,'Courier New',monospace\">MKC | McCormick &amp; Company Inc | McCormick &amp; Company Incorporated\n",
       "</pre>\n"
      ],
      "text/plain": [
       "MKC | McCormick & Company Inc | McCormick & Company Incorporated\n"
      ]
     },
     "metadata": {},
     "output_type": "display_data"
    },
    {
     "data": {
      "text/html": [
       "<pre style=\"white-space:pre;overflow-x:auto;line-height:normal;font-family:Menlo,'DejaVu Sans Mono',consolas,'Courier New',monospace\">MMM | 3M Co | 3M Company\n",
       "</pre>\n"
      ],
      "text/plain": [
       "MMM | 3M Co | 3M Company\n"
      ]
     },
     "metadata": {},
     "output_type": "display_data"
    },
    {
     "data": {
      "text/html": [
       "<pre style=\"white-space:pre;overflow-x:auto;line-height:normal;font-family:Menlo,'DejaVu Sans Mono',consolas,'Courier New',monospace\">MO | Altria Group Inc. | Altria Group\n",
       "</pre>\n"
      ],
      "text/plain": [
       "MO | Altria Group Inc. | Altria Group\n"
      ]
     },
     "metadata": {},
     "output_type": "display_data"
    },
    {
     "data": {
      "text/html": [
       "<pre style=\"white-space:pre;overflow-x:auto;line-height:normal;font-family:Menlo,'DejaVu Sans Mono',consolas,'Courier New',monospace\">MOS | Mosaic Co | The Mosaic Company\n",
       "</pre>\n"
      ],
      "text/plain": [
       "MOS | Mosaic Co | The Mosaic Company\n"
      ]
     },
     "metadata": {},
     "output_type": "display_data"
    },
    {
     "data": {
      "text/html": [
       "<pre style=\"white-space:pre;overflow-x:auto;line-height:normal;font-family:Menlo,'DejaVu Sans Mono',consolas,'Courier New',monospace\">MRK | Merck &amp; Co Inc | Merck &amp; Company Inc\n",
       "</pre>\n"
      ],
      "text/plain": [
       "MRK | Merck & Co Inc | Merck & Company Inc\n"
      ]
     },
     "metadata": {},
     "output_type": "display_data"
    },
    {
     "data": {
      "text/html": [
       "<pre style=\"white-space:pre;overflow-x:auto;line-height:normal;font-family:Menlo,'DejaVu Sans Mono',consolas,'Courier New',monospace\">MRO | Marathon Oil Corp. | Marathon Oil Corporation\n",
       "</pre>\n"
      ],
      "text/plain": [
       "MRO | Marathon Oil Corp. | Marathon Oil Corporation\n"
      ]
     },
     "metadata": {},
     "output_type": "display_data"
    },
    {
     "data": {
      "text/html": [
       "<pre style=\"white-space:pre;overflow-x:auto;line-height:normal;font-family:Menlo,'DejaVu Sans Mono',consolas,'Courier New',monospace\">MSFT | Microsoft Corp. | Microsoft Corporation\n",
       "</pre>\n"
      ],
      "text/plain": [
       "MSFT | Microsoft Corp. | Microsoft Corporation\n"
      ]
     },
     "metadata": {},
     "output_type": "display_data"
    },
    {
     "data": {
      "text/html": [
       "<pre style=\"white-space:pre;overflow-x:auto;line-height:normal;font-family:Menlo,'DejaVu Sans Mono',consolas,'Courier New',monospace\">MSI | Motorola Solutions Inc. | Motorola Solutions Inc\n",
       "</pre>\n"
      ],
      "text/plain": [
       "MSI | Motorola Solutions Inc. | Motorola Solutions Inc\n"
      ]
     },
     "metadata": {},
     "output_type": "display_data"
    },
    {
     "data": {
      "text/html": [
       "<pre style=\"white-space:pre;overflow-x:auto;line-height:normal;font-family:Menlo,'DejaVu Sans Mono',consolas,'Courier New',monospace\">MTB | M&amp;T Bank Corp. | M&amp;T Bank Corporation\n",
       "</pre>\n"
      ],
      "text/plain": [
       "MTB | M&T Bank Corp. | M&T Bank Corporation\n"
      ]
     },
     "metadata": {},
     "output_type": "display_data"
    },
    {
     "data": {
      "text/html": [
       "<pre style=\"white-space:pre;overflow-x:auto;line-height:normal;font-family:Menlo,'DejaVu Sans Mono',consolas,'Courier New',monospace\">MTD | Mettler-Toledo Int'l Inc | Mettler-Toledo International Inc\n",
       "</pre>\n"
      ],
      "text/plain": [
       "MTD | Mettler-Toledo Int'l Inc | Mettler-Toledo International Inc\n"
      ]
     },
     "metadata": {},
     "output_type": "display_data"
    },
    {
     "data": {
      "text/html": [
       "<pre style=\"white-space:pre;overflow-x:auto;line-height:normal;font-family:Menlo,'DejaVu Sans Mono',consolas,'Courier New',monospace\"><span style=\"color: #008000; text-decoration-color: #008000\">Retrying MTW after </span><span style=\"color: #008000; text-decoration-color: #008000; font-weight: bold\">1</span><span style=\"color: #008000; text-decoration-color: #008000\"> min, got </span><span style=\"color: #008000; text-decoration-color: #008000; font-weight: bold\">{</span><span style=\"color: #008000; text-decoration-color: #008000\">'Information'</span><span style=\"color: #008000; text-decoration-color: #008000\">: </span><span style=\"color: #008000; text-decoration-color: #008000\">'Thank you for using Alpha Vantage! Please contact </span>\n",
       "<span style=\"color: #008000; text-decoration-color: #008000\">premium@alphavantage.co if you are targeting a higher API call volume.'</span><span style=\"color: #008000; text-decoration-color: #008000; font-weight: bold\">}</span>\n",
       "</pre>\n"
      ],
      "text/plain": [
       "\u001b[32mRetrying MTW after \u001b[0m\u001b[1;32m1\u001b[0m\u001b[32m min, got \u001b[0m\u001b[1;32m{\u001b[0m\u001b[32m'Information'\u001b[0m\u001b[32m: \u001b[0m\u001b[32m'Thank you for using Alpha Vantage! Please contact \u001b[0m\n",
       "\u001b[32mpremium@alphavantage.co if you are targeting a higher API call volume.'\u001b[0m\u001b[1;32m}\u001b[0m\n"
      ]
     },
     "metadata": {},
     "output_type": "display_data"
    },
    {
     "data": {
      "text/html": [
       "<pre style=\"white-space:pre;overflow-x:auto;line-height:normal;font-family:Menlo,'DejaVu Sans Mono',consolas,'Courier New',monospace\">MTW | Manitowoc Inc | Manitowoc Company Inc\n",
       "</pre>\n"
      ],
      "text/plain": [
       "MTW | Manitowoc Inc | Manitowoc Company Inc\n"
      ]
     },
     "metadata": {},
     "output_type": "display_data"
    },
    {
     "data": {
      "text/html": [
       "<pre style=\"white-space:pre;overflow-x:auto;line-height:normal;font-family:Menlo,'DejaVu Sans Mono',consolas,'Courier New',monospace\">MUR | Murphy Oil Corp | Murphy Oil Corporation\n",
       "</pre>\n"
      ],
      "text/plain": [
       "MUR | Murphy Oil Corp | Murphy Oil Corporation\n"
      ]
     },
     "metadata": {},
     "output_type": "display_data"
    },
    {
     "data": {
      "text/html": [
       "<pre style=\"white-space:pre;overflow-x:auto;line-height:normal;font-family:Menlo,'DejaVu Sans Mono',consolas,'Courier New',monospace\">NE | Noble Corp plc | Noble Corporation plc\n",
       "</pre>\n"
      ],
      "text/plain": [
       "NE | Noble Corp plc | Noble Corporation plc\n"
      ]
     },
     "metadata": {},
     "output_type": "display_data"
    },
    {
     "data": {
      "text/html": [
       "<pre style=\"white-space:pre;overflow-x:auto;line-height:normal;font-family:Menlo,'DejaVu Sans Mono',consolas,'Courier New',monospace\">NEE | NextEra Energy Inc | Nextera Energy Inc\n",
       "</pre>\n"
      ],
      "text/plain": [
       "NEE | NextEra Energy Inc | Nextera Energy Inc\n"
      ]
     },
     "metadata": {},
     "output_type": "display_data"
    },
    {
     "data": {
      "text/html": [
       "<pre style=\"white-space:pre;overflow-x:auto;line-height:normal;font-family:Menlo,'DejaVu Sans Mono',consolas,'Courier New',monospace\">NEM | Newmont Mining Corp. | Newmont Goldcorp Corp\n",
       "</pre>\n"
      ],
      "text/plain": [
       "NEM | Newmont Mining Corp. | Newmont Goldcorp Corp\n"
      ]
     },
     "metadata": {},
     "output_type": "display_data"
    },
    {
     "data": {
      "text/html": [
       "<pre style=\"white-space:pre;overflow-x:auto;line-height:normal;font-family:Menlo,'DejaVu Sans Mono',consolas,'Courier New',monospace\">NFLX | Netflix Inc. | Netflix Inc\n",
       "</pre>\n"
      ],
      "text/plain": [
       "NFLX | Netflix Inc. | Netflix Inc\n"
      ]
     },
     "metadata": {},
     "output_type": "display_data"
    },
    {
     "data": {
      "text/html": [
       "<pre style=\"white-space:pre;overflow-x:auto;line-height:normal;font-family:Menlo,'DejaVu Sans Mono',consolas,'Courier New',monospace\">NI | NiSource Inc. | NiSource Inc\n",
       "</pre>\n"
      ],
      "text/plain": [
       "NI | NiSource Inc. | NiSource Inc\n"
      ]
     },
     "metadata": {},
     "output_type": "display_data"
    },
    {
     "data": {
      "text/html": [
       "<pre style=\"white-space:pre;overflow-x:auto;line-height:normal;font-family:Menlo,'DejaVu Sans Mono',consolas,'Courier New',monospace\">NKE | Nike Inc. | Nike Inc\n",
       "</pre>\n"
      ],
      "text/plain": [
       "NKE | Nike Inc. | Nike Inc\n"
      ]
     },
     "metadata": {},
     "output_type": "display_data"
    },
    {
     "data": {
      "text/html": [
       "<pre style=\"white-space:pre;overflow-x:auto;line-height:normal;font-family:Menlo,'DejaVu Sans Mono',consolas,'Courier New',monospace\">NOC | Northrop Grumman Corp. | Northrop Grumman Corporation\n",
       "</pre>\n"
      ],
      "text/plain": [
       "NOC | Northrop Grumman Corp. | Northrop Grumman Corporation\n"
      ]
     },
     "metadata": {},
     "output_type": "display_data"
    },
    {
     "data": {
      "text/html": [
       "<pre style=\"white-space:pre;overflow-x:auto;line-height:normal;font-family:Menlo,'DejaVu Sans Mono',consolas,'Courier New',monospace\">NOV | National Oilwell Varco Inc. | NOV Inc.\n",
       "</pre>\n"
      ],
      "text/plain": [
       "NOV | National Oilwell Varco Inc. | NOV Inc.\n"
      ]
     },
     "metadata": {},
     "output_type": "display_data"
    },
    {
     "data": {
      "text/html": [
       "<pre style=\"white-space:pre;overflow-x:auto;line-height:normal;font-family:Menlo,'DejaVu Sans Mono',consolas,'Courier New',monospace\">NRG | NRG Energy Inc | NRG Energy Inc.\n",
       "</pre>\n"
      ],
      "text/plain": [
       "NRG | NRG Energy Inc | NRG Energy Inc.\n"
      ]
     },
     "metadata": {},
     "output_type": "display_data"
    },
    {
     "data": {
      "text/html": [
       "<pre style=\"white-space:pre;overflow-x:auto;line-height:normal;font-family:Menlo,'DejaVu Sans Mono',consolas,'Courier New',monospace\">NSC | Norfolk Southern Corp. | Norfolk Southern Corporation\n",
       "</pre>\n"
      ],
      "text/plain": [
       "NSC | Norfolk Southern Corp. | Norfolk Southern Corporation\n"
      ]
     },
     "metadata": {},
     "output_type": "display_data"
    },
    {
     "data": {
      "text/html": [
       "<pre style=\"white-space:pre;overflow-x:auto;line-height:normal;font-family:Menlo,'DejaVu Sans Mono',consolas,'Courier New',monospace\">NTRS | Northern Trust Corp. | Northern Trust Corporation\n",
       "</pre>\n"
      ],
      "text/plain": [
       "NTRS | Northern Trust Corp. | Northern Trust Corporation\n"
      ]
     },
     "metadata": {},
     "output_type": "display_data"
    },
    {
     "data": {
      "text/html": [
       "<pre style=\"white-space:pre;overflow-x:auto;line-height:normal;font-family:Menlo,'DejaVu Sans Mono',consolas,'Courier New',monospace\">NUE | Nucor Corp. | Nucor Corp\n",
       "</pre>\n"
      ],
      "text/plain": [
       "NUE | Nucor Corp. | Nucor Corp\n"
      ]
     },
     "metadata": {},
     "output_type": "display_data"
    },
    {
     "data": {
      "text/html": [
       "<pre style=\"white-space:pre;overflow-x:auto;line-height:normal;font-family:Menlo,'DejaVu Sans Mono',consolas,'Courier New',monospace\">NVDA | Nvidia Corp. | NVIDIA Corporation\n",
       "</pre>\n"
      ],
      "text/plain": [
       "NVDA | Nvidia Corp. | NVIDIA Corporation\n"
      ]
     },
     "metadata": {},
     "output_type": "display_data"
    },
    {
     "data": {
      "text/html": [
       "<pre style=\"white-space:pre;overflow-x:auto;line-height:normal;font-family:Menlo,'DejaVu Sans Mono',consolas,'Courier New',monospace\">NWS | News Corp Class B | News Corp B\n",
       "</pre>\n"
      ],
      "text/plain": [
       "NWS | News Corp Class B | News Corp B\n"
      ]
     },
     "metadata": {},
     "output_type": "display_data"
    },
    {
     "data": {
      "text/html": [
       "<pre style=\"white-space:pre;overflow-x:auto;line-height:normal;font-family:Menlo,'DejaVu Sans Mono',consolas,'Courier New',monospace\">NWSA | News Corp Class A | News Corp A\n",
       "</pre>\n"
      ],
      "text/plain": [
       "NWSA | News Corp Class A | News Corp A\n"
      ]
     },
     "metadata": {},
     "output_type": "display_data"
    },
    {
     "data": {
      "text/html": [
       "<pre style=\"white-space:pre;overflow-x:auto;line-height:normal;font-family:Menlo,'DejaVu Sans Mono',consolas,'Courier New',monospace\">NYT | New York Times Co | New York Times Company\n",
       "</pre>\n"
      ],
      "text/plain": [
       "NYT | New York Times Co | New York Times Company\n"
      ]
     },
     "metadata": {},
     "output_type": "display_data"
    },
    {
     "data": {
      "text/html": [
       "<pre style=\"white-space:pre;overflow-x:auto;line-height:normal;font-family:Menlo,'DejaVu Sans Mono',consolas,'Courier New',monospace\">O | Realty Income Corp | Realty Income Corporation\n",
       "</pre>\n"
      ],
      "text/plain": [
       "O | Realty Income Corp | Realty Income Corporation\n"
      ]
     },
     "metadata": {},
     "output_type": "display_data"
    },
    {
     "data": {
      "text/html": [
       "<pre style=\"white-space:pre;overflow-x:auto;line-height:normal;font-family:Menlo,'DejaVu Sans Mono',consolas,'Courier New',monospace\">ODP | Office Depot Inc. | ODP Corp\n",
       "</pre>\n"
      ],
      "text/plain": [
       "ODP | Office Depot Inc. | ODP Corp\n"
      ]
     },
     "metadata": {},
     "output_type": "display_data"
    },
    {
     "data": {
      "text/html": [
       "<pre style=\"white-space:pre;overflow-x:auto;line-height:normal;font-family:Menlo,'DejaVu Sans Mono',consolas,'Courier New',monospace\">OI | Owens-Illinois Inc. | O-I Glass Inc\n",
       "</pre>\n"
      ],
      "text/plain": [
       "OI | Owens-Illinois Inc. | O-I Glass Inc\n"
      ]
     },
     "metadata": {},
     "output_type": "display_data"
    },
    {
     "data": {
      "text/html": [
       "<pre style=\"white-space:pre;overflow-x:auto;line-height:normal;font-family:Menlo,'DejaVu Sans Mono',consolas,'Courier New',monospace\">ORCL | Oracle Corp. | Oracle Corporation\n",
       "</pre>\n"
      ],
      "text/plain": [
       "ORCL | Oracle Corp. | Oracle Corporation\n"
      ]
     },
     "metadata": {},
     "output_type": "display_data"
    },
    {
     "data": {
      "text/html": [
       "<pre style=\"white-space:pre;overflow-x:auto;line-height:normal;font-family:Menlo,'DejaVu Sans Mono',consolas,'Courier New',monospace\">ORLY | O'Reilly Automotive Inc | O’Reilly Automotive Inc\n",
       "</pre>\n"
      ],
      "text/plain": [
       "ORLY | O'Reilly Automotive Inc | O’Reilly Automotive Inc\n"
      ]
     },
     "metadata": {},
     "output_type": "display_data"
    },
    {
     "data": {
      "text/html": [
       "<pre style=\"white-space:pre;overflow-x:auto;line-height:normal;font-family:Menlo,'DejaVu Sans Mono',consolas,'Courier New',monospace\">OC | Owens Corning | Owens Corning Inc\n",
       "</pre>\n"
      ],
      "text/plain": [
       "OC | Owens Corning | Owens Corning Inc\n"
      ]
     },
     "metadata": {},
     "output_type": "display_data"
    },
    {
     "data": {
      "text/html": [
       "<pre style=\"white-space:pre;overflow-x:auto;line-height:normal;font-family:Menlo,'DejaVu Sans Mono',consolas,'Courier New',monospace\">OXY | Occidental Petroleum Corp | Occidental Petroleum Corporation\n",
       "</pre>\n"
      ],
      "text/plain": [
       "OXY | Occidental Petroleum Corp | Occidental Petroleum Corporation\n"
      ]
     },
     "metadata": {},
     "output_type": "display_data"
    },
    {
     "data": {
      "text/html": [
       "<pre style=\"white-space:pre;overflow-x:auto;line-height:normal;font-family:Menlo,'DejaVu Sans Mono',consolas,'Courier New',monospace\">PAYX | Paychex Inc. | Paychex Inc\n",
       "</pre>\n"
      ],
      "text/plain": [
       "PAYX | Paychex Inc. | Paychex Inc\n"
      ]
     },
     "metadata": {},
     "output_type": "display_data"
    },
    {
     "data": {
      "text/html": [
       "<pre style=\"white-space:pre;overflow-x:auto;line-height:normal;font-family:Menlo,'DejaVu Sans Mono',consolas,'Courier New',monospace\">PCAR | PACCAR Inc. | PACCAR Inc\n",
       "</pre>\n"
      ],
      "text/plain": [
       "PCAR | PACCAR Inc. | PACCAR Inc\n"
      ]
     },
     "metadata": {},
     "output_type": "display_data"
    },
    {
     "data": {
      "text/html": [
       "<pre style=\"white-space:pre;overflow-x:auto;line-height:normal;font-family:Menlo,'DejaVu Sans Mono',consolas,'Courier New',monospace\">PD | Phelps Dodge Corp | Pagerduty Inc\n",
       "</pre>\n"
      ],
      "text/plain": [
       "PD | Phelps Dodge Corp | Pagerduty Inc\n"
      ]
     },
     "metadata": {},
     "output_type": "display_data"
    },
    {
     "data": {
      "text/html": [
       "<pre style=\"white-space:pre;overflow-x:auto;line-height:normal;font-family:Menlo,'DejaVu Sans Mono',consolas,'Courier New',monospace\">PDCO | Patterson Companies | Patterson Companies Inc\n",
       "</pre>\n"
      ],
      "text/plain": [
       "PDCO | Patterson Companies | Patterson Companies Inc\n"
      ]
     },
     "metadata": {},
     "output_type": "display_data"
    },
    {
     "data": {
      "text/html": [
       "<pre style=\"white-space:pre;overflow-x:auto;line-height:normal;font-family:Menlo,'DejaVu Sans Mono',consolas,'Courier New',monospace\">PEP | PepsiCo Inc. | PepsiCo Inc\n",
       "</pre>\n"
      ],
      "text/plain": [
       "PEP | PepsiCo Inc. | PepsiCo Inc\n"
      ]
     },
     "metadata": {},
     "output_type": "display_data"
    },
    {
     "data": {
      "text/html": [
       "<pre style=\"white-space:pre;overflow-x:auto;line-height:normal;font-family:Menlo,'DejaVu Sans Mono',consolas,'Courier New',monospace\">PFE | Pfizer Inc. | Pfizer Inc\n",
       "</pre>\n"
      ],
      "text/plain": [
       "PFE | Pfizer Inc. | Pfizer Inc\n"
      ]
     },
     "metadata": {},
     "output_type": "display_data"
    },
    {
     "data": {
      "text/html": [
       "<pre style=\"white-space:pre;overflow-x:auto;line-height:normal;font-family:Menlo,'DejaVu Sans Mono',consolas,'Courier New',monospace\">PG | Procter &amp; Gamble Co | Procter &amp; Gamble Company\n",
       "</pre>\n"
      ],
      "text/plain": [
       "PG | Procter & Gamble Co | Procter & Gamble Company\n"
      ]
     },
     "metadata": {},
     "output_type": "display_data"
    },
    {
     "data": {
      "text/html": [
       "<pre style=\"white-space:pre;overflow-x:auto;line-height:normal;font-family:Menlo,'DejaVu Sans Mono',consolas,'Courier New',monospace\">PGR | Progressive Corp. | Progressive Corp\n",
       "</pre>\n"
      ],
      "text/plain": [
       "PGR | Progressive Corp. | Progressive Corp\n"
      ]
     },
     "metadata": {},
     "output_type": "display_data"
    },
    {
     "data": {
      "text/html": [
       "<pre style=\"white-space:pre;overflow-x:auto;line-height:normal;font-family:Menlo,'DejaVu Sans Mono',consolas,'Courier New',monospace\">PH | Parker-Hannifin Corp | Parker-Hannifin Corporation\n",
       "</pre>\n"
      ],
      "text/plain": [
       "PH | Parker-Hannifin Corp | Parker-Hannifin Corporation\n"
      ]
     },
     "metadata": {},
     "output_type": "display_data"
    },
    {
     "data": {
      "text/html": [
       "<pre style=\"white-space:pre;overflow-x:auto;line-height:normal;font-family:Menlo,'DejaVu Sans Mono',consolas,'Courier New',monospace\">RVTY | Revvity Inc | Revvity Inc.\n",
       "</pre>\n"
      ],
      "text/plain": [
       "RVTY | Revvity Inc | Revvity Inc.\n"
      ]
     },
     "metadata": {},
     "output_type": "display_data"
    },
    {
     "data": {
      "text/html": [
       "<pre style=\"white-space:pre;overflow-x:auto;line-height:normal;font-family:Menlo,'DejaVu Sans Mono',consolas,'Courier New',monospace\">PLD | Prologis | Prologis Inc\n",
       "</pre>\n"
      ],
      "text/plain": [
       "PLD | Prologis | Prologis Inc\n"
      ]
     },
     "metadata": {},
     "output_type": "display_data"
    },
    {
     "data": {
      "text/html": [
       "<pre style=\"white-space:pre;overflow-x:auto;line-height:normal;font-family:Menlo,'DejaVu Sans Mono',consolas,'Courier New',monospace\">PLL | Pall Corp. | Piedmont Lithium Ltd ADR\n",
       "</pre>\n"
      ],
      "text/plain": [
       "PLL | Pall Corp. | Piedmont Lithium Ltd ADR\n"
      ]
     },
     "metadata": {},
     "output_type": "display_data"
    },
    {
     "data": {
      "text/html": [
       "<pre style=\"white-space:pre;overflow-x:auto;line-height:normal;font-family:Menlo,'DejaVu Sans Mono',consolas,'Courier New',monospace\">PNR | Pentair plc | Pentair PLC\n",
       "</pre>\n"
      ],
      "text/plain": [
       "PNR | Pentair plc | Pentair PLC\n"
      ]
     },
     "metadata": {},
     "output_type": "display_data"
    },
    {
     "data": {
      "text/html": [
       "<pre style=\"white-space:pre;overflow-x:auto;line-height:normal;font-family:Menlo,'DejaVu Sans Mono',consolas,'Courier New',monospace\">PPL | PPL Corp. | PPL Corporation\n",
       "</pre>\n"
      ],
      "text/plain": [
       "PPL | PPL Corp. | PPL Corporation\n"
      ]
     },
     "metadata": {},
     "output_type": "display_data"
    },
    {
     "data": {
      "text/html": [
       "<pre style=\"white-space:pre;overflow-x:auto;line-height:normal;font-family:Menlo,'DejaVu Sans Mono',consolas,'Courier New',monospace\">PRGO | Perrigo Company Plc | Perrigo Company PLC\n",
       "</pre>\n"
      ],
      "text/plain": [
       "PRGO | Perrigo Company Plc | Perrigo Company PLC\n"
      ]
     },
     "metadata": {},
     "output_type": "display_data"
    },
    {
     "data": {
      "text/html": [
       "<pre style=\"white-space:pre;overflow-x:auto;line-height:normal;font-family:Menlo,'DejaVu Sans Mono',consolas,'Courier New',monospace\">PAR | PAR Technology Corp | PAR Technology Corporation\n",
       "</pre>\n"
      ],
      "text/plain": [
       "PAR | PAR Technology Corp | PAR Technology Corporation\n"
      ]
     },
     "metadata": {},
     "output_type": "display_data"
    },
    {
     "data": {
      "text/html": [
       "<pre style=\"white-space:pre;overflow-x:auto;line-height:normal;font-family:Menlo,'DejaVu Sans Mono',consolas,'Courier New',monospace\">PVH | PVH Corp. | PVH Corp\n",
       "</pre>\n"
      ],
      "text/plain": [
       "PVH | PVH Corp. | PVH Corp\n"
      ]
     },
     "metadata": {},
     "output_type": "display_data"
    },
    {
     "data": {
      "text/html": [
       "<pre style=\"white-space:pre;overflow-x:auto;line-height:normal;font-family:Menlo,'DejaVu Sans Mono',consolas,'Courier New',monospace\">PWR | Quanta Services Inc. | Quanta Services Inc\n",
       "</pre>\n"
      ],
      "text/plain": [
       "PWR | Quanta Services Inc. | Quanta Services Inc\n"
      ]
     },
     "metadata": {},
     "output_type": "display_data"
    },
    {
     "data": {
      "text/html": [
       "<pre style=\"white-space:pre;overflow-x:auto;line-height:normal;font-family:Menlo,'DejaVu Sans Mono',consolas,'Courier New',monospace\">LIN | Linde plc | Linde plc Ordinary Shares\n",
       "</pre>\n"
      ],
      "text/plain": [
       "LIN | Linde plc | Linde plc Ordinary Shares\n"
      ]
     },
     "metadata": {},
     "output_type": "display_data"
    },
    {
     "data": {
      "text/html": [
       "<pre style=\"white-space:pre;overflow-x:auto;line-height:normal;font-family:Menlo,'DejaVu Sans Mono',consolas,'Courier New',monospace\">PYPL | PayPal Holdings Inc. | PayPal Holdings Inc\n",
       "</pre>\n"
      ],
      "text/plain": [
       "PYPL | PayPal Holdings Inc. | PayPal Holdings Inc\n"
      ]
     },
     "metadata": {},
     "output_type": "display_data"
    },
    {
     "data": {
      "text/html": [
       "<pre style=\"white-space:pre;overflow-x:auto;line-height:normal;font-family:Menlo,'DejaVu Sans Mono',consolas,'Courier New',monospace\">QCOM | Qualcomm Inc | Qualcomm Incorporated\n",
       "</pre>\n"
      ],
      "text/plain": [
       "QCOM | Qualcomm Inc | Qualcomm Incorporated\n"
      ]
     },
     "metadata": {},
     "output_type": "display_data"
    },
    {
     "data": {
      "text/html": [
       "<pre style=\"white-space:pre;overflow-x:auto;line-height:normal;font-family:Menlo,'DejaVu Sans Mono',consolas,'Courier New',monospace\">REGN | Regeneron Pharmaceuticals Inc. | Regeneron Pharmaceuticals Inc\n",
       "</pre>\n"
      ],
      "text/plain": [
       "REGN | Regeneron Pharmaceuticals Inc. | Regeneron Pharmaceuticals Inc\n"
      ]
     },
     "metadata": {},
     "output_type": "display_data"
    },
    {
     "data": {
      "text/html": [
       "<pre style=\"white-space:pre;overflow-x:auto;line-height:normal;font-family:Menlo,'DejaVu Sans Mono',consolas,'Courier New',monospace\">RF | Regions Financial Corp. | Regions Financial Corporation\n",
       "</pre>\n"
      ],
      "text/plain": [
       "RF | Regions Financial Corp. | Regions Financial Corporation\n"
      ]
     },
     "metadata": {},
     "output_type": "display_data"
    },
    {
     "data": {
      "text/html": [
       "<pre style=\"white-space:pre;overflow-x:auto;line-height:normal;font-family:Menlo,'DejaVu Sans Mono',consolas,'Courier New',monospace\">RHI | Robert Half Int'l Inc | Robert Half International Inc\n",
       "</pre>\n"
      ],
      "text/plain": [
       "RHI | Robert Half Int'l Inc | Robert Half International Inc\n"
      ]
     },
     "metadata": {},
     "output_type": "display_data"
    },
    {
     "data": {
      "text/html": [
       "<pre style=\"white-space:pre;overflow-x:auto;line-height:normal;font-family:Menlo,'DejaVu Sans Mono',consolas,'Courier New',monospace\">RL | Ralph Lauren Corp | Ralph Lauren Corp Class A\n",
       "</pre>\n"
      ],
      "text/plain": [
       "RL | Ralph Lauren Corp | Ralph Lauren Corp Class A\n"
      ]
     },
     "metadata": {},
     "output_type": "display_data"
    },
    {
     "data": {
      "text/html": [
       "<pre style=\"white-space:pre;overflow-x:auto;line-height:normal;font-family:Menlo,'DejaVu Sans Mono',consolas,'Courier New',monospace\">ROK | Rockwell Automation Inc. | Rockwell Automation Inc\n",
       "</pre>\n"
      ],
      "text/plain": [
       "ROK | Rockwell Automation Inc. | Rockwell Automation Inc\n"
      ]
     },
     "metadata": {},
     "output_type": "display_data"
    },
    {
     "data": {
      "text/html": [
       "<pre style=\"white-space:pre;overflow-x:auto;line-height:normal;font-family:Menlo,'DejaVu Sans Mono',consolas,'Courier New',monospace\">ROP | Roper Technologies Inc | Roper Technologies, Inc. Common Stock\n",
       "</pre>\n"
      ],
      "text/plain": [
       "ROP | Roper Technologies Inc | Roper Technologies, Inc. Common Stock\n"
      ]
     },
     "metadata": {},
     "output_type": "display_data"
    },
    {
     "data": {
      "text/html": [
       "<pre style=\"white-space:pre;overflow-x:auto;line-height:normal;font-family:Menlo,'DejaVu Sans Mono',consolas,'Courier New',monospace\">RRC | Range Resources Corp. | Range Resources Corp\n",
       "</pre>\n"
      ],
      "text/plain": [
       "RRC | Range Resources Corp. | Range Resources Corp\n"
      ]
     },
     "metadata": {},
     "output_type": "display_data"
    },
    {
     "data": {
      "text/html": [
       "<pre style=\"white-space:pre;overflow-x:auto;line-height:normal;font-family:Menlo,'DejaVu Sans Mono',consolas,'Courier New',monospace\">RSG | Republic Services Inc. | Republic Services Inc\n",
       "</pre>\n"
      ],
      "text/plain": [
       "RSG | Republic Services Inc. | Republic Services Inc\n"
      ]
     },
     "metadata": {},
     "output_type": "display_data"
    },
    {
     "data": {
      "text/html": [
       "<pre style=\"white-space:pre;overflow-x:auto;line-height:normal;font-family:Menlo,'DejaVu Sans Mono',consolas,'Courier New',monospace\">S | Sprint Corp | SentinelOne Inc\n",
       "</pre>\n"
      ],
      "text/plain": [
       "S | Sprint Corp | SentinelOne Inc\n"
      ]
     },
     "metadata": {},
     "output_type": "display_data"
    },
    {
     "data": {
      "text/html": [
       "<pre style=\"white-space:pre;overflow-x:auto;line-height:normal;font-family:Menlo,'DejaVu Sans Mono',consolas,'Courier New',monospace\">SANM | Sanmina Corp. | Sanmina Corporation\n",
       "</pre>\n"
      ],
      "text/plain": [
       "SANM | Sanmina Corp. | Sanmina Corporation\n"
      ]
     },
     "metadata": {},
     "output_type": "display_data"
    },
    {
     "data": {
      "text/html": [
       "<pre style=\"white-space:pre;overflow-x:auto;line-height:normal;font-family:Menlo,'DejaVu Sans Mono',consolas,'Courier New',monospace\">SBUX | Starbucks Corp. | Starbucks Corporation\n",
       "</pre>\n"
      ],
      "text/plain": [
       "SBUX | Starbucks Corp. | Starbucks Corporation\n"
      ]
     },
     "metadata": {},
     "output_type": "display_data"
    },
    {
     "data": {
      "text/html": [
       "<pre style=\"white-space:pre;overflow-x:auto;line-height:normal;font-family:Menlo,'DejaVu Sans Mono',consolas,'Courier New',monospace\">SCHW | Charles Schwab Corp. | Charles Schwab Corp\n",
       "</pre>\n"
      ],
      "text/plain": [
       "SCHW | Charles Schwab Corp. | Charles Schwab Corp\n"
      ]
     },
     "metadata": {},
     "output_type": "display_data"
    },
    {
     "data": {
      "text/html": [
       "<pre style=\"white-space:pre;overflow-x:auto;line-height:normal;font-family:Menlo,'DejaVu Sans Mono',consolas,'Courier New',monospace\">SE | Spectra Energy Corp. | Sea Ltd\n",
       "</pre>\n"
      ],
      "text/plain": [
       "SE | Spectra Energy Corp. | Sea Ltd\n"
      ]
     },
     "metadata": {},
     "output_type": "display_data"
    },
    {
     "data": {
      "text/html": [
       "<pre style=\"white-space:pre;overflow-x:auto;line-height:normal;font-family:Menlo,'DejaVu Sans Mono',consolas,'Courier New',monospace\">SEE | Sealed Air Corp. | Sealed Air Corporation\n",
       "</pre>\n"
      ],
      "text/plain": [
       "SEE | Sealed Air Corp. | Sealed Air Corporation\n"
      ]
     },
     "metadata": {},
     "output_type": "display_data"
    },
    {
     "data": {
      "text/html": [
       "<pre style=\"white-space:pre;overflow-x:auto;line-height:normal;font-family:Menlo,'DejaVu Sans Mono',consolas,'Courier New',monospace\">SEG | Seagate Technology <span style=\"font-weight: bold\">(</span>Old<span style=\"font-weight: bold\">)</span> | Seaport Entertainment Group Inc\n",
       "</pre>\n"
      ],
      "text/plain": [
       "SEG | Seagate Technology \u001b[1m(\u001b[0mOld\u001b[1m)\u001b[0m | Seaport Entertainment Group Inc\n"
      ]
     },
     "metadata": {},
     "output_type": "display_data"
    },
    {
     "data": {
      "text/html": [
       "<pre style=\"white-space:pre;overflow-x:auto;line-height:normal;font-family:Menlo,'DejaVu Sans Mono',consolas,'Courier New',monospace\"><span style=\"color: #008000; text-decoration-color: #008000\">Retrying SHLD after </span><span style=\"color: #008000; text-decoration-color: #008000; font-weight: bold\">1</span><span style=\"color: #008000; text-decoration-color: #008000\"> min, got </span><span style=\"color: #008000; text-decoration-color: #008000; font-weight: bold\">{</span><span style=\"color: #008000; text-decoration-color: #008000\">'Information'</span><span style=\"color: #008000; text-decoration-color: #008000\">: </span><span style=\"color: #008000; text-decoration-color: #008000\">'Thank you for using Alpha Vantage! Please contact </span>\n",
       "<span style=\"color: #008000; text-decoration-color: #008000\">premium@alphavantage.co if you are targeting a higher API call volume.'</span><span style=\"color: #008000; text-decoration-color: #008000; font-weight: bold\">}</span>\n",
       "</pre>\n"
      ],
      "text/plain": [
       "\u001b[32mRetrying SHLD after \u001b[0m\u001b[1;32m1\u001b[0m\u001b[32m min, got \u001b[0m\u001b[1;32m{\u001b[0m\u001b[32m'Information'\u001b[0m\u001b[32m: \u001b[0m\u001b[32m'Thank you for using Alpha Vantage! Please contact \u001b[0m\n",
       "\u001b[32mpremium@alphavantage.co if you are targeting a higher API call volume.'\u001b[0m\u001b[1;32m}\u001b[0m\n"
      ]
     },
     "metadata": {},
     "output_type": "display_data"
    },
    {
     "data": {
      "text/html": [
       "<pre style=\"white-space:pre;overflow-x:auto;line-height:normal;font-family:Menlo,'DejaVu Sans Mono',consolas,'Courier New',monospace\">SHW | Sherwin-Williams Co. | Sherwin-Williams Co\n",
       "</pre>\n"
      ],
      "text/plain": [
       "SHW | Sherwin-Williams Co. | Sherwin-Williams Co\n"
      ]
     },
     "metadata": {},
     "output_type": "display_data"
    },
    {
     "data": {
      "text/html": [
       "<pre style=\"white-space:pre;overflow-x:auto;line-height:normal;font-family:Menlo,'DejaVu Sans Mono',consolas,'Courier New',monospace\">SII | Smith Int'l Inc | Sprott Inc.\n",
       "</pre>\n"
      ],
      "text/plain": [
       "SII | Smith Int'l Inc | Sprott Inc.\n"
      ]
     },
     "metadata": {},
     "output_type": "display_data"
    },
    {
     "data": {
      "text/html": [
       "<pre style=\"white-space:pre;overflow-x:auto;line-height:normal;font-family:Menlo,'DejaVu Sans Mono',consolas,'Courier New',monospace\">SJM | J. M. Smucker Co | JM Smucker Company\n",
       "</pre>\n"
      ],
      "text/plain": [
       "SJM | J. M. Smucker Co | JM Smucker Company\n"
      ]
     },
     "metadata": {},
     "output_type": "display_data"
    },
    {
     "data": {
      "text/html": [
       "<pre style=\"white-space:pre;overflow-x:auto;line-height:normal;font-family:Menlo,'DejaVu Sans Mono',consolas,'Courier New',monospace\">SLG | SL Green Realty | SL Green Realty Corp\n",
       "</pre>\n"
      ],
      "text/plain": [
       "SLG | SL Green Realty | SL Green Realty Corp\n"
      ]
     },
     "metadata": {},
     "output_type": "display_data"
    },
    {
     "data": {
      "text/html": [
       "<pre style=\"white-space:pre;overflow-x:auto;line-height:normal;font-family:Menlo,'DejaVu Sans Mono',consolas,'Courier New',monospace\">SLM | SLM Corp. | SLM Corp\n",
       "</pre>\n"
      ],
      "text/plain": [
       "SLM | SLM Corp. | SLM Corp\n"
      ]
     },
     "metadata": {},
     "output_type": "display_data"
    },
    {
     "data": {
      "text/html": [
       "<pre style=\"white-space:pre;overflow-x:auto;line-height:normal;font-family:Menlo,'DejaVu Sans Mono',consolas,'Courier New',monospace\">SNA | Snap-On Inc. | Snap-On Inc\n",
       "</pre>\n"
      ],
      "text/plain": [
       "SNA | Snap-On Inc. | Snap-On Inc\n"
      ]
     },
     "metadata": {},
     "output_type": "display_data"
    },
    {
     "data": {
      "text/html": [
       "<pre style=\"white-space:pre;overflow-x:auto;line-height:normal;font-family:Menlo,'DejaVu Sans Mono',consolas,'Courier New',monospace\">SNV | Synovus Financial Corp. | Synovus Financial Corp\n",
       "</pre>\n"
      ],
      "text/plain": [
       "SNV | Synovus Financial Corp. | Synovus Financial Corp\n"
      ]
     },
     "metadata": {},
     "output_type": "display_data"
    },
    {
     "data": {
      "text/html": [
       "<pre style=\"white-space:pre;overflow-x:auto;line-height:normal;font-family:Menlo,'DejaVu Sans Mono',consolas,'Courier New',monospace\">SO | Southern Co. | Southern Company\n",
       "</pre>\n"
      ],
      "text/plain": [
       "SO | Southern Co. | Southern Company\n"
      ]
     },
     "metadata": {},
     "output_type": "display_data"
    },
    {
     "data": {
      "text/html": [
       "<pre style=\"white-space:pre;overflow-x:auto;line-height:normal;font-family:Menlo,'DejaVu Sans Mono',consolas,'Courier New',monospace\">SPG | Simon Property Group | Simon Property Group Inc\n",
       "</pre>\n"
      ],
      "text/plain": [
       "SPG | Simon Property Group | Simon Property Group Inc\n"
      ]
     },
     "metadata": {},
     "output_type": "display_data"
    },
    {
     "data": {
      "text/html": [
       "<pre style=\"white-space:pre;overflow-x:auto;line-height:normal;font-family:Menlo,'DejaVu Sans Mono',consolas,'Courier New',monospace\">SPGI | S&amp;P Global Inc. | S&amp;P Global Inc\n",
       "</pre>\n"
      ],
      "text/plain": [
       "SPGI | S&P Global Inc. | S&P Global Inc\n"
      ]
     },
     "metadata": {},
     "output_type": "display_data"
    },
    {
     "data": {
      "text/html": [
       "<pre style=\"white-space:pre;overflow-x:auto;line-height:normal;font-family:Menlo,'DejaVu Sans Mono',consolas,'Courier New',monospace\">SRCL | Stericycle Inc. | Stericycle Inc\n",
       "</pre>\n"
      ],
      "text/plain": [
       "SRCL | Stericycle Inc. | Stericycle Inc\n"
      ]
     },
     "metadata": {},
     "output_type": "display_data"
    },
    {
     "data": {
      "text/html": [
       "<pre style=\"white-space:pre;overflow-x:auto;line-height:normal;font-family:Menlo,'DejaVu Sans Mono',consolas,'Courier New',monospace\">SCI | Service Corp. Int'l | Service Corporation International\n",
       "</pre>\n"
      ],
      "text/plain": [
       "SCI | Service Corp. Int'l | Service Corporation International\n"
      ]
     },
     "metadata": {},
     "output_type": "display_data"
    },
    {
     "data": {
      "text/html": [
       "<pre style=\"white-space:pre;overflow-x:auto;line-height:normal;font-family:Menlo,'DejaVu Sans Mono',consolas,'Courier New',monospace\">SSP | E. W. Scripps Co | E. W. Scripps Co Class A\n",
       "</pre>\n"
      ],
      "text/plain": [
       "SSP | E. W. Scripps Co | E. W. Scripps Co Class A\n"
      ]
     },
     "metadata": {},
     "output_type": "display_data"
    },
    {
     "data": {
      "text/html": [
       "<pre style=\"white-space:pre;overflow-x:auto;line-height:normal;font-family:Menlo,'DejaVu Sans Mono',consolas,'Courier New',monospace\">STI | SunTrust Banks Inc | Solidion Technology Inc.\n",
       "</pre>\n"
      ],
      "text/plain": [
       "STI | SunTrust Banks Inc | Solidion Technology Inc.\n"
      ]
     },
     "metadata": {},
     "output_type": "display_data"
    },
    {
     "data": {
      "text/html": [
       "<pre style=\"white-space:pre;overflow-x:auto;line-height:normal;font-family:Menlo,'DejaVu Sans Mono',consolas,'Courier New',monospace\">STR | Questar Corp. | Sitio Royalties Corp.\n",
       "</pre>\n"
      ],
      "text/plain": [
       "STR | Questar Corp. | Sitio Royalties Corp.\n"
      ]
     },
     "metadata": {},
     "output_type": "display_data"
    },
    {
     "data": {
      "text/html": [
       "<pre style=\"white-space:pre;overflow-x:auto;line-height:normal;font-family:Menlo,'DejaVu Sans Mono',consolas,'Courier New',monospace\">STT | State Street Corp. | State Street Corp\n",
       "</pre>\n"
      ],
      "text/plain": [
       "STT | State Street Corp. | State Street Corp\n"
      ]
     },
     "metadata": {},
     "output_type": "display_data"
    },
    {
     "data": {
      "text/html": [
       "<pre style=\"white-space:pre;overflow-x:auto;line-height:normal;font-family:Menlo,'DejaVu Sans Mono',consolas,'Courier New',monospace\">STX | Seagate Technology plc | Seagate Technology PLC\n",
       "</pre>\n"
      ],
      "text/plain": [
       "STX | Seagate Technology plc | Seagate Technology PLC\n"
      ]
     },
     "metadata": {},
     "output_type": "display_data"
    },
    {
     "data": {
      "text/html": [
       "<pre style=\"white-space:pre;overflow-x:auto;line-height:normal;font-family:Menlo,'DejaVu Sans Mono',consolas,'Courier New',monospace\">STZ | Constellation Brands Inc | Constellation Brands Inc Class A\n",
       "</pre>\n"
      ],
      "text/plain": [
       "STZ | Constellation Brands Inc | Constellation Brands Inc Class A\n"
      ]
     },
     "metadata": {},
     "output_type": "display_data"
    },
    {
     "data": {
      "text/html": [
       "<pre style=\"white-space:pre;overflow-x:auto;line-height:normal;font-family:Menlo,'DejaVu Sans Mono',consolas,'Courier New',monospace\">SWKS | Skyworks Solutions Inc. | Skyworks Solutions Inc\n",
       "</pre>\n"
      ],
      "text/plain": [
       "SWKS | Skyworks Solutions Inc. | Skyworks Solutions Inc\n"
      ]
     },
     "metadata": {},
     "output_type": "display_data"
    },
    {
     "data": {
      "text/html": [
       "<pre style=\"white-space:pre;overflow-x:auto;line-height:normal;font-family:Menlo,'DejaVu Sans Mono',consolas,'Courier New',monospace\">SWN | Southwestern Energy Co | Southwestern Energy Company\n",
       "</pre>\n"
      ],
      "text/plain": [
       "SWN | Southwestern Energy Co | Southwestern Energy Company\n"
      ]
     },
     "metadata": {},
     "output_type": "display_data"
    },
    {
     "data": {
      "text/html": [
       "<pre style=\"white-space:pre;overflow-x:auto;line-height:normal;font-family:Menlo,'DejaVu Sans Mono',consolas,'Courier New',monospace\">SYK | Stryker Corp. | Stryker Corporation\n",
       "</pre>\n"
      ],
      "text/plain": [
       "SYK | Stryker Corp. | Stryker Corporation\n"
      ]
     },
     "metadata": {},
     "output_type": "display_data"
    },
    {
     "data": {
      "text/html": [
       "<pre style=\"white-space:pre;overflow-x:auto;line-height:normal;font-family:Menlo,'DejaVu Sans Mono',consolas,'Courier New',monospace\">GEN | Gen Digital Inc | Gen Digital Inc.\n",
       "</pre>\n"
      ],
      "text/plain": [
       "GEN | Gen Digital Inc | Gen Digital Inc.\n"
      ]
     },
     "metadata": {},
     "output_type": "display_data"
    },
    {
     "data": {
      "text/html": [
       "<pre style=\"white-space:pre;overflow-x:auto;line-height:normal;font-family:Menlo,'DejaVu Sans Mono',consolas,'Courier New',monospace\">SYY | Sysco Corp. | Sysco Corporation\n",
       "</pre>\n"
      ],
      "text/plain": [
       "SYY | Sysco Corp. | Sysco Corporation\n"
      ]
     },
     "metadata": {},
     "output_type": "display_data"
    },
    {
     "data": {
      "text/html": [
       "<pre style=\"white-space:pre;overflow-x:auto;line-height:normal;font-family:Menlo,'DejaVu Sans Mono',consolas,'Courier New',monospace\">T | AT&amp;T Inc. | AT&amp;T Inc\n",
       "</pre>\n"
      ],
      "text/plain": [
       "T | AT&T Inc. | AT&T Inc\n"
      ]
     },
     "metadata": {},
     "output_type": "display_data"
    },
    {
     "data": {
      "text/html": [
       "<pre style=\"white-space:pre;overflow-x:auto;line-height:normal;font-family:Menlo,'DejaVu Sans Mono',consolas,'Courier New',monospace\">TAP | Molson Coors Brewing Co. | Molson Coors Brewing Co Class B\n",
       "</pre>\n"
      ],
      "text/plain": [
       "TAP | Molson Coors Brewing Co. | Molson Coors Brewing Co Class B\n"
      ]
     },
     "metadata": {},
     "output_type": "display_data"
    },
    {
     "data": {
      "text/html": [
       "<pre style=\"white-space:pre;overflow-x:auto;line-height:normal;font-family:Menlo,'DejaVu Sans Mono',consolas,'Courier New',monospace\">TDC | Teradata Corp. | Teradata Corp\n",
       "</pre>\n"
      ],
      "text/plain": [
       "TDC | Teradata Corp. | Teradata Corp\n"
      ]
     },
     "metadata": {},
     "output_type": "display_data"
    },
    {
     "data": {
      "text/html": [
       "<pre style=\"white-space:pre;overflow-x:auto;line-height:normal;font-family:Menlo,'DejaVu Sans Mono',consolas,'Courier New',monospace\">TDG | TransDigm Group | Transdigm Group Incorporated\n",
       "</pre>\n"
      ],
      "text/plain": [
       "TDG | TransDigm Group | Transdigm Group Incorporated\n"
      ]
     },
     "metadata": {},
     "output_type": "display_data"
    },
    {
     "data": {
      "text/html": [
       "<pre style=\"white-space:pre;overflow-x:auto;line-height:normal;font-family:Menlo,'DejaVu Sans Mono',consolas,'Courier New',monospace\">TEX | Terex Corp. | Terex Corporation\n",
       "</pre>\n"
      ],
      "text/plain": [
       "TEX | Terex Corp. | Terex Corporation\n"
      ]
     },
     "metadata": {},
     "output_type": "display_data"
    },
    {
     "data": {
      "text/html": [
       "<pre style=\"white-space:pre;overflow-x:auto;line-height:normal;font-family:Menlo,'DejaVu Sans Mono',consolas,'Courier New',monospace\">TGNA | TEGNA Inc | Tegna Inc\n",
       "</pre>\n"
      ],
      "text/plain": [
       "TGNA | TEGNA Inc | Tegna Inc\n"
      ]
     },
     "metadata": {},
     "output_type": "display_data"
    },
    {
     "data": {
      "text/html": [
       "<pre style=\"white-space:pre;overflow-x:auto;line-height:normal;font-family:Menlo,'DejaVu Sans Mono',consolas,'Courier New',monospace\">TGT | Target Corp. | Target Corporation\n",
       "</pre>\n"
      ],
      "text/plain": [
       "TGT | Target Corp. | Target Corporation\n"
      ]
     },
     "metadata": {},
     "output_type": "display_data"
    },
    {
     "data": {
      "text/html": [
       "<pre style=\"white-space:pre;overflow-x:auto;line-height:normal;font-family:Menlo,'DejaVu Sans Mono',consolas,'Courier New',monospace\">THC | Tenet Healthcare Corp. | Tenet Healthcare Corporation\n",
       "</pre>\n"
      ],
      "text/plain": [
       "THC | Tenet Healthcare Corp. | Tenet Healthcare Corporation\n"
      ]
     },
     "metadata": {},
     "output_type": "display_data"
    },
    {
     "data": {
      "text/html": [
       "<pre style=\"white-space:pre;overflow-x:auto;line-height:normal;font-family:Menlo,'DejaVu Sans Mono',consolas,'Courier New',monospace\">TJX | TJX Companies Inc. | The TJX Companies Inc\n",
       "</pre>\n"
      ],
      "text/plain": [
       "TJX | TJX Companies Inc. | The TJX Companies Inc\n"
      ]
     },
     "metadata": {},
     "output_type": "display_data"
    },
    {
     "data": {
      "text/html": [
       "<pre style=\"white-space:pre;overflow-x:auto;line-height:normal;font-family:Menlo,'DejaVu Sans Mono',consolas,'Courier New',monospace\">TKR | Timken Co. | Timken Company\n",
       "</pre>\n"
      ],
      "text/plain": [
       "TKR | Timken Co. | Timken Company\n"
      ]
     },
     "metadata": {},
     "output_type": "display_data"
    },
    {
     "data": {
      "text/html": [
       "<pre style=\"white-space:pre;overflow-x:auto;line-height:normal;font-family:Menlo,'DejaVu Sans Mono',consolas,'Courier New',monospace\">TRV | Travelers Companies Inc | The Travelers Companies Inc\n",
       "</pre>\n"
      ],
      "text/plain": [
       "TRV | Travelers Companies Inc | The Travelers Companies Inc\n"
      ]
     },
     "metadata": {},
     "output_type": "display_data"
    },
    {
     "data": {
      "text/html": [
       "<pre style=\"white-space:pre;overflow-x:auto;line-height:normal;font-family:Menlo,'DejaVu Sans Mono',consolas,'Courier New',monospace\">TSCO | Tractor Supply Co. | Tractor Supply Company\n",
       "</pre>\n"
      ],
      "text/plain": [
       "TSCO | Tractor Supply Co. | Tractor Supply Company\n"
      ]
     },
     "metadata": {},
     "output_type": "display_data"
    },
    {
     "data": {
      "text/html": [
       "<pre style=\"white-space:pre;overflow-x:auto;line-height:normal;font-family:Menlo,'DejaVu Sans Mono',consolas,'Courier New',monospace\">TX | Texaco Inc. | Ternium SA ADR\n",
       "</pre>\n"
      ],
      "text/plain": [
       "TX | Texaco Inc. | Ternium SA ADR\n"
      ]
     },
     "metadata": {},
     "output_type": "display_data"
    },
    {
     "data": {
      "text/html": [
       "<pre style=\"white-space:pre;overflow-x:auto;line-height:normal;font-family:Menlo,'DejaVu Sans Mono',consolas,'Courier New',monospace\">TXN | Texas Instruments Inc | Texas Instruments Incorporated\n",
       "</pre>\n"
      ],
      "text/plain": [
       "TXN | Texas Instruments Inc | Texas Instruments Incorporated\n"
      ]
     },
     "metadata": {},
     "output_type": "display_data"
    },
    {
     "data": {
      "text/html": [
       "<pre style=\"white-space:pre;overflow-x:auto;line-height:normal;font-family:Menlo,'DejaVu Sans Mono',consolas,'Courier New',monospace\">TXT | Textron Inc. | Textron Inc\n",
       "</pre>\n"
      ],
      "text/plain": [
       "TXT | Textron Inc. | Textron Inc\n"
      ]
     },
     "metadata": {},
     "output_type": "display_data"
    },
    {
     "data": {
      "text/html": [
       "<pre style=\"white-space:pre;overflow-x:auto;line-height:normal;font-family:Menlo,'DejaVu Sans Mono',consolas,'Courier New',monospace\">U | US Airways Group <span style=\"font-weight: bold\">(</span>Old<span style=\"font-weight: bold\">)</span> | Unity Software Inc\n",
       "</pre>\n"
      ],
      "text/plain": [
       "U | US Airways Group \u001b[1m(\u001b[0mOld\u001b[1m)\u001b[0m | Unity Software Inc\n"
      ]
     },
     "metadata": {},
     "output_type": "display_data"
    },
    {
     "data": {
      "text/html": [
       "<pre style=\"white-space:pre;overflow-x:auto;line-height:normal;font-family:Menlo,'DejaVu Sans Mono',consolas,'Courier New',monospace\">UA | Under Armour Inc Class C | Under Armour Inc C\n",
       "</pre>\n"
      ],
      "text/plain": [
       "UA | Under Armour Inc Class C | Under Armour Inc C\n"
      ]
     },
     "metadata": {},
     "output_type": "display_data"
    },
    {
     "data": {
      "text/html": [
       "<pre style=\"white-space:pre;overflow-x:auto;line-height:normal;font-family:Menlo,'DejaVu Sans Mono',consolas,'Courier New',monospace\">UAL | United Continental Holdings Inc | United Airlines Holdings Inc\n",
       "</pre>\n"
      ],
      "text/plain": [
       "UAL | United Continental Holdings Inc | United Airlines Holdings Inc\n"
      ]
     },
     "metadata": {},
     "output_type": "display_data"
    },
    {
     "data": {
      "text/html": [
       "<pre style=\"white-space:pre;overflow-x:auto;line-height:normal;font-family:Menlo,'DejaVu Sans Mono',consolas,'Courier New',monospace\">UCL | Unocal Co | Ucloudlink Group Inc\n",
       "</pre>\n"
      ],
      "text/plain": [
       "UCL | Unocal Co | Ucloudlink Group Inc\n"
      ]
     },
     "metadata": {},
     "output_type": "display_data"
    },
    {
     "data": {
      "text/html": [
       "<pre style=\"white-space:pre;overflow-x:auto;line-height:normal;font-family:Menlo,'DejaVu Sans Mono',consolas,'Courier New',monospace\">UIS | Unisys Corp. | Unisys Corporation\n",
       "</pre>\n"
      ],
      "text/plain": [
       "UIS | Unisys Corp. | Unisys Corporation\n"
      ]
     },
     "metadata": {},
     "output_type": "display_data"
    },
    {
     "data": {
      "text/html": [
       "<pre style=\"white-space:pre;overflow-x:auto;line-height:normal;font-family:Menlo,'DejaVu Sans Mono',consolas,'Courier New',monospace\">UK | Union Carbide Corp Holding Co | Ucommune International Ltd\n",
       "</pre>\n"
      ],
      "text/plain": [
       "UK | Union Carbide Corp Holding Co | Ucommune International Ltd\n"
      ]
     },
     "metadata": {},
     "output_type": "display_data"
    },
    {
     "data": {
      "text/html": [
       "<pre style=\"white-space:pre;overflow-x:auto;line-height:normal;font-family:Menlo,'DejaVu Sans Mono',consolas,'Courier New',monospace\">ULTA | Ulta Salon Cosmetics &amp; Fragrance Inc | Ulta Beauty Inc\n",
       "</pre>\n"
      ],
      "text/plain": [
       "ULTA | Ulta Salon Cosmetics & Fragrance Inc | Ulta Beauty Inc\n"
      ]
     },
     "metadata": {},
     "output_type": "display_data"
    },
    {
     "data": {
      "text/html": [
       "<pre style=\"white-space:pre;overflow-x:auto;line-height:normal;font-family:Menlo,'DejaVu Sans Mono',consolas,'Courier New',monospace\">UNH | UnitedHealth Group Inc | UnitedHealth Group Incorporated\n",
       "</pre>\n"
      ],
      "text/plain": [
       "UNH | UnitedHealth Group Inc | UnitedHealth Group Incorporated\n"
      ]
     },
     "metadata": {},
     "output_type": "display_data"
    },
    {
     "data": {
      "text/html": [
       "<pre style=\"white-space:pre;overflow-x:auto;line-height:normal;font-family:Menlo,'DejaVu Sans Mono',consolas,'Courier New',monospace\">UNP | Union Pacific Corp | Union Pacific Corporation\n",
       "</pre>\n"
      ],
      "text/plain": [
       "UNP | Union Pacific Corp | Union Pacific Corporation\n"
      ]
     },
     "metadata": {},
     "output_type": "display_data"
    },
    {
     "data": {
      "text/html": [
       "<pre style=\"white-space:pre;overflow-x:auto;line-height:normal;font-family:Menlo,'DejaVu Sans Mono',consolas,'Courier New',monospace\">UPC | Union Planters Corp. | Universe Pharmaceuticals Inc\n",
       "</pre>\n"
      ],
      "text/plain": [
       "UPC | Union Planters Corp. | Universe Pharmaceuticals Inc\n"
      ]
     },
     "metadata": {},
     "output_type": "display_data"
    },
    {
     "data": {
      "text/html": [
       "<pre style=\"white-space:pre;overflow-x:auto;line-height:normal;font-family:Menlo,'DejaVu Sans Mono',consolas,'Courier New',monospace\">V | Visa Inc. | Visa Inc. Class A\n",
       "</pre>\n"
      ],
      "text/plain": [
       "V | Visa Inc. | Visa Inc. Class A\n"
      ]
     },
     "metadata": {},
     "output_type": "display_data"
    },
    {
     "data": {
      "text/html": [
       "<pre style=\"white-space:pre;overflow-x:auto;line-height:normal;font-family:Menlo,'DejaVu Sans Mono',consolas,'Courier New',monospace\">VC | Visteon Corp. | Visteon Corp\n",
       "</pre>\n"
      ],
      "text/plain": [
       "VC | Visteon Corp. | Visteon Corp\n"
      ]
     },
     "metadata": {},
     "output_type": "display_data"
    },
    {
     "data": {
      "text/html": [
       "<pre style=\"white-space:pre;overflow-x:auto;line-height:normal;font-family:Menlo,'DejaVu Sans Mono',consolas,'Courier New',monospace\">VFC | VF Corp | VF Corporation\n",
       "</pre>\n"
      ],
      "text/plain": [
       "VFC | VF Corp | VF Corporation\n"
      ]
     },
     "metadata": {},
     "output_type": "display_data"
    },
    {
     "data": {
      "text/html": [
       "<pre style=\"white-space:pre;overflow-x:auto;line-height:normal;font-family:Menlo,'DejaVu Sans Mono',consolas,'Courier New',monospace\">VIAV | VIAVI Solutions Inc | Viavi Solutions Inc\n",
       "</pre>\n"
      ],
      "text/plain": [
       "VIAV | VIAVI Solutions Inc | Viavi Solutions Inc\n"
      ]
     },
     "metadata": {},
     "output_type": "display_data"
    },
    {
     "data": {
      "text/html": [
       "<pre style=\"white-space:pre;overflow-x:auto;line-height:normal;font-family:Menlo,'DejaVu Sans Mono',consolas,'Courier New',monospace\">VLO | Valero Energy Corp | Valero Energy Corporation\n",
       "</pre>\n"
      ],
      "text/plain": [
       "VLO | Valero Energy Corp | Valero Energy Corporation\n"
      ]
     },
     "metadata": {},
     "output_type": "display_data"
    },
    {
     "data": {
      "text/html": [
       "<pre style=\"white-space:pre;overflow-x:auto;line-height:normal;font-family:Menlo,'DejaVu Sans Mono',consolas,'Courier New',monospace\">VMC | Vulcan Materials Co | Vulcan Materials Company\n",
       "</pre>\n"
      ],
      "text/plain": [
       "VMC | Vulcan Materials Co | Vulcan Materials Company\n"
      ]
     },
     "metadata": {},
     "output_type": "display_data"
    },
    {
     "data": {
      "text/html": [
       "<pre style=\"white-space:pre;overflow-x:auto;line-height:normal;font-family:Menlo,'DejaVu Sans Mono',consolas,'Courier New',monospace\">VRSN | Verisign Inc. | VeriSign Inc\n",
       "</pre>\n"
      ],
      "text/plain": [
       "VRSN | Verisign Inc. | VeriSign Inc\n"
      ]
     },
     "metadata": {},
     "output_type": "display_data"
    },
    {
     "data": {
      "text/html": [
       "<pre style=\"white-space:pre;overflow-x:auto;line-height:normal;font-family:Menlo,'DejaVu Sans Mono',consolas,'Courier New',monospace\">VRTX | Vertex Pharmaceuticals Inc. | Vertex Pharmaceuticals Inc\n",
       "</pre>\n"
      ],
      "text/plain": [
       "VRTX | Vertex Pharmaceuticals Inc. | Vertex Pharmaceuticals Inc\n"
      ]
     },
     "metadata": {},
     "output_type": "display_data"
    },
    {
     "data": {
      "text/html": [
       "<pre style=\"white-space:pre;overflow-x:auto;line-height:normal;font-family:Menlo,'DejaVu Sans Mono',consolas,'Courier New',monospace\">VTR | Ventas Inc. | Ventas Inc\n",
       "</pre>\n"
      ],
      "text/plain": [
       "VTR | Ventas Inc. | Ventas Inc\n"
      ]
     },
     "metadata": {},
     "output_type": "display_data"
    },
    {
     "data": {
      "text/html": [
       "<pre style=\"white-space:pre;overflow-x:auto;line-height:normal;font-family:Menlo,'DejaVu Sans Mono',consolas,'Courier New',monospace\">WAT | Waters Corp. | Waters Corporation\n",
       "</pre>\n"
      ],
      "text/plain": [
       "WAT | Waters Corp. | Waters Corporation\n"
      ]
     },
     "metadata": {},
     "output_type": "display_data"
    },
    {
     "data": {
      "text/html": [
       "<pre style=\"white-space:pre;overflow-x:auto;line-height:normal;font-family:Menlo,'DejaVu Sans Mono',consolas,'Courier New',monospace\">WB | Wachovia Corp. | Weibo Corp\n",
       "</pre>\n"
      ],
      "text/plain": [
       "WB | Wachovia Corp. | Weibo Corp\n"
      ]
     },
     "metadata": {},
     "output_type": "display_data"
    },
    {
     "data": {
      "text/html": [
       "<pre style=\"white-space:pre;overflow-x:auto;line-height:normal;font-family:Menlo,'DejaVu Sans Mono',consolas,'Courier New',monospace\">WDC | Western Digital Corp | Western Digital Corporation\n",
       "</pre>\n"
      ],
      "text/plain": [
       "WDC | Western Digital Corp | Western Digital Corporation\n"
      ]
     },
     "metadata": {},
     "output_type": "display_data"
    },
    {
     "data": {
      "text/html": [
       "<pre style=\"white-space:pre;overflow-x:auto;line-height:normal;font-family:Menlo,'DejaVu Sans Mono',consolas,'Courier New',monospace\">WEN | Wendy's International | The Wendy’s Co\n",
       "</pre>\n"
      ],
      "text/plain": [
       "WEN | Wendy's International | The Wendy’s Co\n"
      ]
     },
     "metadata": {},
     "output_type": "display_data"
    },
    {
     "data": {
      "text/html": [
       "<pre style=\"white-space:pre;overflow-x:auto;line-height:normal;font-family:Menlo,'DejaVu Sans Mono',consolas,'Courier New',monospace\">WFC | Wells Fargo &amp; Co | Wells Fargo &amp; Company\n",
       "</pre>\n"
      ],
      "text/plain": [
       "WFC | Wells Fargo & Co | Wells Fargo & Company\n"
      ]
     },
     "metadata": {},
     "output_type": "display_data"
    },
    {
     "data": {
      "text/html": [
       "<pre style=\"white-space:pre;overflow-x:auto;line-height:normal;font-family:Menlo,'DejaVu Sans Mono',consolas,'Courier New',monospace\">WHR | Whirlpool Corp. | Whirlpool Corporation\n",
       "</pre>\n"
      ],
      "text/plain": [
       "WHR | Whirlpool Corp. | Whirlpool Corporation\n"
      ]
     },
     "metadata": {},
     "output_type": "display_data"
    },
    {
     "data": {
      "text/html": [
       "<pre style=\"white-space:pre;overflow-x:auto;line-height:normal;font-family:Menlo,'DejaVu Sans Mono',consolas,'Courier New',monospace\">WTW | Willis Towers Watson plc | Willis Towers Watson PLC\n",
       "</pre>\n"
      ],
      "text/plain": [
       "WTW | Willis Towers Watson plc | Willis Towers Watson PLC\n"
      ]
     },
     "metadata": {},
     "output_type": "display_data"
    },
    {
     "data": {
      "text/html": [
       "<pre style=\"white-space:pre;overflow-x:auto;line-height:normal;font-family:Menlo,'DejaVu Sans Mono',consolas,'Courier New',monospace\">WM | Waste Management Inc. | Waste Management Inc\n",
       "</pre>\n"
      ],
      "text/plain": [
       "WM | Waste Management Inc. | Waste Management Inc\n"
      ]
     },
     "metadata": {},
     "output_type": "display_data"
    },
    {
     "data": {
      "text/html": [
       "<pre style=\"white-space:pre;overflow-x:auto;line-height:normal;font-family:Menlo,'DejaVu Sans Mono',consolas,'Courier New',monospace\">WMT | Wal-Mart Stores Inc | Walmart Inc\n",
       "</pre>\n"
      ],
      "text/plain": [
       "WMT | Wal-Mart Stores Inc | Walmart Inc\n"
      ]
     },
     "metadata": {},
     "output_type": "display_data"
    },
    {
     "data": {
      "text/html": [
       "<pre style=\"white-space:pre;overflow-x:auto;line-height:normal;font-family:Menlo,'DejaVu Sans Mono',consolas,'Courier New',monospace\">WU | Western Union Co. | Western Union Co\n",
       "</pre>\n"
      ],
      "text/plain": [
       "WU | Western Union Co. | Western Union Co\n"
      ]
     },
     "metadata": {},
     "output_type": "display_data"
    },
    {
     "data": {
      "text/html": [
       "<pre style=\"white-space:pre;overflow-x:auto;line-height:normal;font-family:Menlo,'DejaVu Sans Mono',consolas,'Courier New',monospace\">WY | Weyerhaeuser Co | Weyerhaeuser Company\n",
       "</pre>\n"
      ],
      "text/plain": [
       "WY | Weyerhaeuser Co | Weyerhaeuser Company\n"
      ]
     },
     "metadata": {},
     "output_type": "display_data"
    },
    {
     "data": {
      "text/html": [
       "<pre style=\"white-space:pre;overflow-x:auto;line-height:normal;font-family:Menlo,'DejaVu Sans Mono',consolas,'Courier New',monospace\">WYNN | Wynn Resorts Ltd | Wynn Resorts Limited\n",
       "</pre>\n"
      ],
      "text/plain": [
       "WYNN | Wynn Resorts Ltd | Wynn Resorts Limited\n"
      ]
     },
     "metadata": {},
     "output_type": "display_data"
    },
    {
     "data": {
      "text/html": [
       "<pre style=\"white-space:pre;overflow-x:auto;line-height:normal;font-family:Menlo,'DejaVu Sans Mono',consolas,'Courier New',monospace\">X | United States Steel Corp | United States Steel Corporation\n",
       "</pre>\n"
      ],
      "text/plain": [
       "X | United States Steel Corp | United States Steel Corporation\n"
      ]
     },
     "metadata": {},
     "output_type": "display_data"
    },
    {
     "data": {
      "text/html": [
       "<pre style=\"white-space:pre;overflow-x:auto;line-height:normal;font-family:Menlo,'DejaVu Sans Mono',consolas,'Courier New',monospace\">XEL | Xcel Energy Inc. | Xcel Energy Inc\n",
       "</pre>\n"
      ],
      "text/plain": [
       "XEL | Xcel Energy Inc. | Xcel Energy Inc\n"
      ]
     },
     "metadata": {},
     "output_type": "display_data"
    },
    {
     "data": {
      "text/html": [
       "<pre style=\"white-space:pre;overflow-x:auto;line-height:normal;font-family:Menlo,'DejaVu Sans Mono',consolas,'Courier New',monospace\">XOM | Exxon Mobil Corp. | Exxon Mobil Corp\n",
       "</pre>\n"
      ],
      "text/plain": [
       "XOM | Exxon Mobil Corp. | Exxon Mobil Corp\n"
      ]
     },
     "metadata": {},
     "output_type": "display_data"
    },
    {
     "data": {
      "text/html": [
       "<pre style=\"white-space:pre;overflow-x:auto;line-height:normal;font-family:Menlo,'DejaVu Sans Mono',consolas,'Courier New',monospace\">XRX | Xerox Corp. | Xerox Corp\n",
       "</pre>\n"
      ],
      "text/plain": [
       "XRX | Xerox Corp. | Xerox Corp\n"
      ]
     },
     "metadata": {},
     "output_type": "display_data"
    },
    {
     "data": {
      "text/html": [
       "<pre style=\"white-space:pre;overflow-x:auto;line-height:normal;font-family:Menlo,'DejaVu Sans Mono',consolas,'Courier New',monospace\">XYL | Xylem Inc. | Xylem Inc\n",
       "</pre>\n"
      ],
      "text/plain": [
       "XYL | Xylem Inc. | Xylem Inc\n"
      ]
     },
     "metadata": {},
     "output_type": "display_data"
    },
    {
     "data": {
      "text/html": [
       "<pre style=\"white-space:pre;overflow-x:auto;line-height:normal;font-family:Menlo,'DejaVu Sans Mono',consolas,'Courier New',monospace\">YUM | Yum! Brands Inc. | Yum! Brands Inc\n",
       "</pre>\n"
      ],
      "text/plain": [
       "YUM | Yum! Brands Inc. | Yum! Brands Inc\n"
      ]
     },
     "metadata": {},
     "output_type": "display_data"
    },
    {
     "data": {
      "text/html": [
       "<pre style=\"white-space:pre;overflow-x:auto;line-height:normal;font-family:Menlo,'DejaVu Sans Mono',consolas,'Courier New',monospace\">ZION | Zion Bancorp | Zions Bancorporation\n",
       "</pre>\n"
      ],
      "text/plain": [
       "ZION | Zion Bancorp | Zions Bancorporation\n"
      ]
     },
     "metadata": {},
     "output_type": "display_data"
    },
    {
     "data": {
      "text/html": [
       "<pre style=\"white-space:pre;overflow-x:auto;line-height:normal;font-family:Menlo,'DejaVu Sans Mono',consolas,'Courier New',monospace\">RJF | Raymond James Financial Inc | Raymond James Financial Inc.\n",
       "</pre>\n"
      ],
      "text/plain": [
       "RJF | Raymond James Financial Inc | Raymond James Financial Inc.\n"
      ]
     },
     "metadata": {},
     "output_type": "display_data"
    },
    {
     "data": {
      "text/html": [
       "<pre style=\"white-space:pre;overflow-x:auto;line-height:normal;font-family:Menlo,'DejaVu Sans Mono',consolas,'Courier New',monospace\">ARE | Alexandria Real Estate Equities | Alexandria Real Estate Equities Inc\n",
       "</pre>\n"
      ],
      "text/plain": [
       "ARE | Alexandria Real Estate Equities | Alexandria Real Estate Equities Inc\n"
      ]
     },
     "metadata": {},
     "output_type": "display_data"
    },
    {
     "data": {
      "text/html": [
       "<pre style=\"white-space:pre;overflow-x:auto;line-height:normal;font-family:Menlo,'DejaVu Sans Mono',consolas,'Courier New',monospace\">REG | Regency Centers | Regency Centers Corporation\n",
       "</pre>\n"
      ],
      "text/plain": [
       "REG | Regency Centers | Regency Centers Corporation\n"
      ]
     },
     "metadata": {},
     "output_type": "display_data"
    },
    {
     "data": {
      "text/html": [
       "<pre style=\"white-space:pre;overflow-x:auto;line-height:normal;font-family:Menlo,'DejaVu Sans Mono',consolas,'Courier New',monospace\">CBOE | CBOE Holdings Inc | Cboe Global Markets Inc\n",
       "</pre>\n"
      ],
      "text/plain": [
       "CBOE | CBOE Holdings Inc | Cboe Global Markets Inc\n"
      ]
     },
     "metadata": {},
     "output_type": "display_data"
    },
    {
     "data": {
      "text/html": [
       "<pre style=\"white-space:pre;overflow-x:auto;line-height:normal;font-family:Menlo,'DejaVu Sans Mono',consolas,'Courier New',monospace\">ALGN | Align Technology Inc. | Align Technology Inc\n",
       "</pre>\n"
      ],
      "text/plain": [
       "ALGN | Align Technology Inc. | Align Technology Inc\n"
      ]
     },
     "metadata": {},
     "output_type": "display_data"
    },
    {
     "data": {
      "text/html": [
       "<pre style=\"white-space:pre;overflow-x:auto;line-height:normal;font-family:Menlo,'DejaVu Sans Mono',consolas,'Courier New',monospace\">ANSS | ANSYS Inc. | ANSYS Inc\n",
       "</pre>\n"
      ],
      "text/plain": [
       "ANSS | ANSYS Inc. | ANSYS Inc\n"
      ]
     },
     "metadata": {},
     "output_type": "display_data"
    },
    {
     "data": {
      "text/html": [
       "<pre style=\"white-space:pre;overflow-x:auto;line-height:normal;font-family:Menlo,'DejaVu Sans Mono',consolas,'Courier New',monospace\">SBAC | SBA Comm's Corp | SBA Communications Corp\n",
       "</pre>\n"
      ],
      "text/plain": [
       "SBAC | SBA Comm's Corp | SBA Communications Corp\n"
      ]
     },
     "metadata": {},
     "output_type": "display_data"
    },
    {
     "data": {
      "text/html": [
       "<pre style=\"white-space:pre;overflow-x:auto;line-height:normal;font-family:Menlo,'DejaVu Sans Mono',consolas,'Courier New',monospace\">RMD | ResMed Inc. | ResMed Inc\n",
       "</pre>\n"
      ],
      "text/plain": [
       "RMD | ResMed Inc. | ResMed Inc\n"
      ]
     },
     "metadata": {},
     "output_type": "display_data"
    },
    {
     "data": {
      "text/html": [
       "<pre style=\"white-space:pre;overflow-x:auto;line-height:normal;font-family:Menlo,'DejaVu Sans Mono',consolas,'Courier New',monospace\">AOS | A. O. Smith Corp | Smith AO Corporation\n",
       "</pre>\n"
      ],
      "text/plain": [
       "AOS | A. O. Smith Corp | Smith AO Corporation\n"
      ]
     },
     "metadata": {},
     "output_type": "display_data"
    },
    {
     "data": {
      "text/html": [
       "<pre style=\"white-space:pre;overflow-x:auto;line-height:normal;font-family:Menlo,'DejaVu Sans Mono',consolas,'Courier New',monospace\"><span style=\"color: #008000; text-decoration-color: #008000\">Retrying DRE after </span><span style=\"color: #008000; text-decoration-color: #008000; font-weight: bold\">1</span><span style=\"color: #008000; text-decoration-color: #008000\"> min, got </span><span style=\"color: #008000; text-decoration-color: #008000; font-weight: bold\">{</span><span style=\"color: #008000; text-decoration-color: #008000\">'Information'</span><span style=\"color: #008000; text-decoration-color: #008000\">: </span><span style=\"color: #008000; text-decoration-color: #008000\">'Thank you for using Alpha Vantage! Please contact </span>\n",
       "<span style=\"color: #008000; text-decoration-color: #008000\">premium@alphavantage.co if you are targeting a higher API call volume.'</span><span style=\"color: #008000; text-decoration-color: #008000; font-weight: bold\">}</span>\n",
       "</pre>\n"
      ],
      "text/plain": [
       "\u001b[32mRetrying DRE after \u001b[0m\u001b[1;32m1\u001b[0m\u001b[32m min, got \u001b[0m\u001b[1;32m{\u001b[0m\u001b[32m'Information'\u001b[0m\u001b[32m: \u001b[0m\u001b[32m'Thank you for using Alpha Vantage! Please contact \u001b[0m\n",
       "\u001b[32mpremium@alphavantage.co if you are targeting a higher API call volume.'\u001b[0m\u001b[1;32m}\u001b[0m\n"
      ]
     },
     "metadata": {},
     "output_type": "display_data"
    },
    {
     "data": {
      "text/html": [
       "<pre style=\"white-space:pre;overflow-x:auto;line-height:normal;font-family:Menlo,'DejaVu Sans Mono',consolas,'Courier New',monospace\">HII | Huntington Ingalls Industries Inc. | Huntington Ingalls Industries Inc\n",
       "</pre>\n"
      ],
      "text/plain": [
       "HII | Huntington Ingalls Industries Inc. | Huntington Ingalls Industries Inc\n"
      ]
     },
     "metadata": {},
     "output_type": "display_data"
    },
    {
     "data": {
      "text/html": [
       "<pre style=\"white-space:pre;overflow-x:auto;line-height:normal;font-family:Menlo,'DejaVu Sans Mono',consolas,'Courier New',monospace\">TTWO | Take-Two Interactive Software Inc. | Take-Two Interactive Software Inc\n",
       "</pre>\n"
      ],
      "text/plain": [
       "TTWO | Take-Two Interactive Software Inc. | Take-Two Interactive Software Inc\n"
      ]
     },
     "metadata": {},
     "output_type": "display_data"
    },
    {
     "data": {
      "text/html": [
       "<pre style=\"white-space:pre;overflow-x:auto;line-height:normal;font-family:Menlo,'DejaVu Sans Mono',consolas,'Courier New',monospace\">IPGP | IPG Photonics Corp | IPG Photonics Corporation\n",
       "</pre>\n"
      ],
      "text/plain": [
       "IPGP | IPG Photonics Corp | IPG Photonics Corporation\n"
      ]
     },
     "metadata": {},
     "output_type": "display_data"
    },
    {
     "data": {
      "text/html": [
       "<pre style=\"white-space:pre;overflow-x:auto;line-height:normal;font-family:Menlo,'DejaVu Sans Mono',consolas,'Courier New',monospace\">EVRG | Evergy Inc | Evergy, Inc.\n",
       "</pre>\n"
      ],
      "text/plain": [
       "EVRG | Evergy Inc | Evergy, Inc.\n"
      ]
     },
     "metadata": {},
     "output_type": "display_data"
    },
    {
     "data": {
      "text/html": [
       "<pre style=\"white-space:pre;overflow-x:auto;line-height:normal;font-family:Menlo,'DejaVu Sans Mono',consolas,'Courier New',monospace\">ANET | Arista Networks Inc | Arista Networks\n",
       "</pre>\n"
      ],
      "text/plain": [
       "ANET | Arista Networks Inc | Arista Networks\n"
      ]
     },
     "metadata": {},
     "output_type": "display_data"
    },
    {
     "data": {
      "text/html": [
       "<pre style=\"white-space:pre;overflow-x:auto;line-height:normal;font-family:Menlo,'DejaVu Sans Mono',consolas,'Courier New',monospace\">CE | Celanese Corp | Celanese Corporation\n",
       "</pre>\n"
      ],
      "text/plain": [
       "CE | Celanese Corp | Celanese Corporation\n"
      ]
     },
     "metadata": {},
     "output_type": "display_data"
    },
    {
     "data": {
      "text/html": [
       "<pre style=\"white-space:pre;overflow-x:auto;line-height:normal;font-family:Menlo,'DejaVu Sans Mono',consolas,'Courier New',monospace\">WAB | Wabtec Corp | Westinghouse Air Brake Technologies Corp\n",
       "</pre>\n"
      ],
      "text/plain": [
       "WAB | Wabtec Corp | Westinghouse Air Brake Technologies Corp\n"
      ]
     },
     "metadata": {},
     "output_type": "display_data"
    },
    {
     "data": {
      "text/html": [
       "<pre style=\"white-space:pre;overflow-x:auto;line-height:normal;font-family:Menlo,'DejaVu Sans Mono',consolas,'Courier New',monospace\">ATO | Atmos Energy Corp | Atmos Energy Corporation\n",
       "</pre>\n"
      ],
      "text/plain": [
       "ATO | Atmos Energy Corp | Atmos Energy Corporation\n"
      ]
     },
     "metadata": {},
     "output_type": "display_data"
    },
    {
     "data": {
      "text/html": [
       "<pre style=\"white-space:pre;overflow-x:auto;line-height:normal;font-family:Menlo,'DejaVu Sans Mono',consolas,'Courier New',monospace\">TFX | Teleflex Inc | Teleflex Incorporated\n",
       "</pre>\n"
      ],
      "text/plain": [
       "TFX | Teleflex Inc | Teleflex Incorporated\n"
      ]
     },
     "metadata": {},
     "output_type": "display_data"
    },
    {
     "data": {
      "text/html": [
       "<pre style=\"white-space:pre;overflow-x:auto;line-height:normal;font-family:Menlo,'DejaVu Sans Mono',consolas,'Courier New',monospace\">CTVA | Corteva Inc. | Corteva Inc\n",
       "</pre>\n"
      ],
      "text/plain": [
       "CTVA | Corteva Inc. | Corteva Inc\n"
      ]
     },
     "metadata": {},
     "output_type": "display_data"
    },
    {
     "data": {
      "text/html": [
       "<pre style=\"white-space:pre;overflow-x:auto;line-height:normal;font-family:Menlo,'DejaVu Sans Mono',consolas,'Courier New',monospace\">AMCR | Amcor plc | Amcor PLC\n",
       "</pre>\n"
      ],
      "text/plain": [
       "AMCR | Amcor plc | Amcor PLC\n"
      ]
     },
     "metadata": {},
     "output_type": "display_data"
    },
    {
     "data": {
      "text/html": [
       "<pre style=\"white-space:pre;overflow-x:auto;line-height:normal;font-family:Menlo,'DejaVu Sans Mono',consolas,'Courier New',monospace\">IEX | IDEX Corp | IDEX Corporation\n",
       "</pre>\n"
      ],
      "text/plain": [
       "IEX | IDEX Corp | IDEX Corporation\n"
      ]
     },
     "metadata": {},
     "output_type": "display_data"
    },
    {
     "data": {
      "text/html": [
       "<pre style=\"white-space:pre;overflow-x:auto;line-height:normal;font-family:Menlo,'DejaVu Sans Mono',consolas,'Courier New',monospace\">ZBRA | Zebra Technologies Corp | Zebra Technologies Corporation\n",
       "</pre>\n"
      ],
      "text/plain": [
       "ZBRA | Zebra Technologies Corp | Zebra Technologies Corporation\n"
      ]
     },
     "metadata": {},
     "output_type": "display_data"
    },
    {
     "data": {
      "text/html": [
       "<pre style=\"white-space:pre;overflow-x:auto;line-height:normal;font-family:Menlo,'DejaVu Sans Mono',consolas,'Courier New',monospace\">PAYC | Paycom Software Inc | Paycom Soft\n",
       "</pre>\n"
      ],
      "text/plain": [
       "PAYC | Paycom Software Inc | Paycom Soft\n"
      ]
     },
     "metadata": {},
     "output_type": "display_data"
    },
    {
     "data": {
      "text/html": [
       "<pre style=\"white-space:pre;overflow-x:auto;line-height:normal;font-family:Menlo,'DejaVu Sans Mono',consolas,'Courier New',monospace\">CARR | Carrier Global Corp | Carrier Global Corp\n",
       "</pre>\n"
      ],
      "text/plain": [
       "CARR | Carrier Global Corp | Carrier Global Corp\n"
      ]
     },
     "metadata": {},
     "output_type": "display_data"
    },
    {
     "data": {
      "text/html": [
       "<pre style=\"white-space:pre;overflow-x:auto;line-height:normal;font-family:Menlo,'DejaVu Sans Mono',consolas,'Courier New',monospace\">DPZ | Domino's Pizza Inc | Domino’s Pizza Inc\n",
       "</pre>\n"
      ],
      "text/plain": [
       "DPZ | Domino's Pizza Inc | Domino’s Pizza Inc\n"
      ]
     },
     "metadata": {},
     "output_type": "display_data"
    },
    {
     "data": {
      "text/html": [
       "<pre style=\"white-space:pre;overflow-x:auto;line-height:normal;font-family:Menlo,'DejaVu Sans Mono',consolas,'Courier New',monospace\">TDY | Teledyne Technologies Inc | Teledyne Technologies Incorporated\n",
       "</pre>\n"
      ],
      "text/plain": [
       "TDY | Teledyne Technologies Inc | Teledyne Technologies Incorporated\n"
      ]
     },
     "metadata": {},
     "output_type": "display_data"
    },
    {
     "data": {
      "text/html": [
       "<pre style=\"white-space:pre;overflow-x:auto;line-height:normal;font-family:Menlo,'DejaVu Sans Mono',consolas,'Courier New',monospace\">ETSY | Etsy Inc. | Etsy Inc\n",
       "</pre>\n"
      ],
      "text/plain": [
       "ETSY | Etsy Inc. | Etsy Inc\n"
      ]
     },
     "metadata": {},
     "output_type": "display_data"
    },
    {
     "data": {
      "text/html": [
       "<pre style=\"white-space:pre;overflow-x:auto;line-height:normal;font-family:Menlo,'DejaVu Sans Mono',consolas,'Courier New',monospace\">VNT | Vontier Corp. | Vontier Corp\n",
       "</pre>\n"
      ],
      "text/plain": [
       "VNT | Vontier Corp. | Vontier Corp\n"
      ]
     },
     "metadata": {},
     "output_type": "display_data"
    },
    {
     "data": {
      "text/html": [
       "<pre style=\"white-space:pre;overflow-x:auto;line-height:normal;font-family:Menlo,'DejaVu Sans Mono',consolas,'Courier New',monospace\">POOL | Pool Corp | Pool Corporation\n",
       "</pre>\n"
      ],
      "text/plain": [
       "POOL | Pool Corp | Pool Corporation\n"
      ]
     },
     "metadata": {},
     "output_type": "display_data"
    },
    {
     "data": {
      "text/html": [
       "<pre style=\"white-space:pre;overflow-x:auto;line-height:normal;font-family:Menlo,'DejaVu Sans Mono',consolas,'Courier New',monospace\">CZR | Caesars Entertainment Inc | Caesars Entertainment Corporation\n",
       "</pre>\n"
      ],
      "text/plain": [
       "CZR | Caesars Entertainment Inc | Caesars Entertainment Corporation\n"
      ]
     },
     "metadata": {},
     "output_type": "display_data"
    },
    {
     "data": {
      "text/html": [
       "<pre style=\"white-space:pre;overflow-x:auto;line-height:normal;font-family:Menlo,'DejaVu Sans Mono',consolas,'Courier New',monospace\">CRL | Charles River Laboratories International Inc  | Charles River Laboratories\n",
       "</pre>\n"
      ],
      "text/plain": [
       "CRL | Charles River Laboratories International Inc  | Charles River Laboratories\n"
      ]
     },
     "metadata": {},
     "output_type": "display_data"
    },
    {
     "data": {
      "text/html": [
       "<pre style=\"white-space:pre;overflow-x:auto;line-height:normal;font-family:Menlo,'DejaVu Sans Mono',consolas,'Courier New',monospace\">DAY | Dayforce Inc | Dayforce Inc.\n",
       "</pre>\n"
      ],
      "text/plain": [
       "DAY | Dayforce Inc | Dayforce Inc.\n"
      ]
     },
     "metadata": {},
     "output_type": "display_data"
    },
    {
     "data": {
      "text/html": [
       "<pre style=\"white-space:pre;overflow-x:auto;line-height:normal;font-family:Menlo,'DejaVu Sans Mono',consolas,'Courier New',monospace\">NDSN | Nordson Corp | Nordson Corporation\n",
       "</pre>\n"
      ],
      "text/plain": [
       "NDSN | Nordson Corp | Nordson Corporation\n"
      ]
     },
     "metadata": {},
     "output_type": "display_data"
    },
    {
     "data": {
      "text/html": [
       "<pre style=\"white-space:pre;overflow-x:auto;line-height:normal;font-family:Menlo,'DejaVu Sans Mono',consolas,'Courier New',monospace\">ON | ON Semiconductor Corp | ON Semiconductor Corporation\n",
       "</pre>\n"
      ],
      "text/plain": [
       "ON | ON Semiconductor Corp | ON Semiconductor Corporation\n"
      ]
     },
     "metadata": {},
     "output_type": "display_data"
    },
    {
     "data": {
      "text/html": [
       "<pre style=\"white-space:pre;overflow-x:auto;line-height:normal;font-family:Menlo,'DejaVu Sans Mono',consolas,'Courier New',monospace\">TRGP | Targa Resources Corp | Targa Resources Inc\n",
       "</pre>\n"
      ],
      "text/plain": [
       "TRGP | Targa Resources Corp | Targa Resources Inc\n"
      ]
     },
     "metadata": {},
     "output_type": "display_data"
    },
    {
     "data": {
      "text/html": [
       "<pre style=\"white-space:pre;overflow-x:auto;line-height:normal;font-family:Menlo,'DejaVu Sans Mono',consolas,'Courier New',monospace\">GEHC | GE HealthCare Technologies Inc | GE HealthCare Technologies Inc.\n",
       "</pre>\n"
      ],
      "text/plain": [
       "GEHC | GE HealthCare Technologies Inc | GE HealthCare Technologies Inc.\n"
      ]
     },
     "metadata": {},
     "output_type": "display_data"
    },
    {
     "data": {
      "text/html": [
       "<pre style=\"white-space:pre;overflow-x:auto;line-height:normal;font-family:Menlo,'DejaVu Sans Mono',consolas,'Courier New',monospace\">FICO | Fair Isaac &amp; Co Inc | Fair Isaac Corporation\n",
       "</pre>\n"
      ],
      "text/plain": [
       "FICO | Fair Isaac & Co Inc | Fair Isaac Corporation\n"
      ]
     },
     "metadata": {},
     "output_type": "display_data"
    },
    {
     "data": {
      "text/html": [
       "<pre style=\"white-space:pre;overflow-x:auto;line-height:normal;font-family:Menlo,'DejaVu Sans Mono',consolas,'Courier New',monospace\">BG | Bunge Ltd | Bunge Limited\n",
       "</pre>\n"
      ],
      "text/plain": [
       "BG | Bunge Ltd | Bunge Limited\n"
      ]
     },
     "metadata": {},
     "output_type": "display_data"
    },
    {
     "data": {
      "text/html": [
       "<pre style=\"white-space:pre;overflow-x:auto;line-height:normal;font-family:Menlo,'DejaVu Sans Mono',consolas,'Courier New',monospace\">PODD | Insulet Corp | Insulet Corporation\n",
       "</pre>\n"
      ],
      "text/plain": [
       "PODD | Insulet Corp | Insulet Corporation\n"
      ]
     },
     "metadata": {},
     "output_type": "display_data"
    },
    {
     "data": {
      "text/html": [
       "<pre style=\"white-space:pre;overflow-x:auto;line-height:normal;font-family:Menlo,'DejaVu Sans Mono',consolas,'Courier New',monospace\">AXON | Axon Enterprise Inc | Axon Enterprise Inc.\n",
       "</pre>\n"
      ],
      "text/plain": [
       "AXON | Axon Enterprise Inc | Axon Enterprise Inc.\n"
      ]
     },
     "metadata": {},
     "output_type": "display_data"
    },
    {
     "data": {
      "text/html": [
       "<pre style=\"white-space:pre;overflow-x:auto;line-height:normal;font-family:Menlo,'DejaVu Sans Mono',consolas,'Courier New',monospace\">KVUE | Kenvue Inc | Kenvue Inc.\n",
       "</pre>\n"
      ],
      "text/plain": [
       "KVUE | Kenvue Inc | Kenvue Inc.\n"
      ]
     },
     "metadata": {},
     "output_type": "display_data"
    },
    {
     "data": {
      "text/html": [
       "<pre style=\"white-space:pre;overflow-x:auto;line-height:normal;font-family:Menlo,'DejaVu Sans Mono',consolas,'Courier New',monospace\">BX | Blackstone Inc | Blackstone Group Inc\n",
       "</pre>\n"
      ],
      "text/plain": [
       "BX | Blackstone Inc | Blackstone Group Inc\n"
      ]
     },
     "metadata": {},
     "output_type": "display_data"
    },
    {
     "data": {
      "text/html": [
       "<pre style=\"white-space:pre;overflow-x:auto;line-height:normal;font-family:Menlo,'DejaVu Sans Mono',consolas,'Courier New',monospace\">ABNB | Airbnb Inc | Airbnb Inc\n",
       "</pre>\n"
      ],
      "text/plain": [
       "ABNB | Airbnb Inc | Airbnb Inc\n"
      ]
     },
     "metadata": {},
     "output_type": "display_data"
    },
    {
     "data": {
      "text/html": [
       "<pre style=\"white-space:pre;overflow-x:auto;line-height:normal;font-family:Menlo,'DejaVu Sans Mono',consolas,'Courier New',monospace\">LULU | Lululemon Athletica Inc | Lululemon Athletica Inc.\n",
       "</pre>\n"
      ],
      "text/plain": [
       "LULU | Lululemon Athletica Inc | Lululemon Athletica Inc.\n"
      ]
     },
     "metadata": {},
     "output_type": "display_data"
    },
    {
     "data": {
      "text/html": [
       "<pre style=\"white-space:pre;overflow-x:auto;line-height:normal;font-family:Menlo,'DejaVu Sans Mono',consolas,'Courier New',monospace\">VLTO | Veralto Corp | Veralto Corporation\n",
       "</pre>\n"
      ],
      "text/plain": [
       "VLTO | Veralto Corp | Veralto Corporation\n"
      ]
     },
     "metadata": {},
     "output_type": "display_data"
    },
    {
     "data": {
      "text/html": [
       "<pre style=\"white-space:pre;overflow-x:auto;line-height:normal;font-family:Menlo,'DejaVu Sans Mono',consolas,'Courier New',monospace\">DECK | Deckers Outdoor Corp | Deckers Outdoor Corporation\n",
       "</pre>\n"
      ],
      "text/plain": [
       "DECK | Deckers Outdoor Corp | Deckers Outdoor Corporation\n"
      ]
     },
     "metadata": {},
     "output_type": "display_data"
    },
    {
     "data": {
      "text/html": [
       "<pre style=\"white-space:pre;overflow-x:auto;line-height:normal;font-family:Menlo,'DejaVu Sans Mono',consolas,'Courier New',monospace\">GEV | GE Vernova Inc | GE Vernova LLC\n",
       "</pre>\n"
      ],
      "text/plain": [
       "GEV | GE Vernova Inc | GE Vernova LLC\n"
      ]
     },
     "metadata": {},
     "output_type": "display_data"
    },
    {
     "data": {
      "text/html": [
       "<pre style=\"white-space:pre;overflow-x:auto;line-height:normal;font-family:Menlo,'DejaVu Sans Mono',consolas,'Courier New',monospace\">SOLV | Solventum Corp | Solventum Corp.\n",
       "</pre>\n"
      ],
      "text/plain": [
       "SOLV | Solventum Corp | Solventum Corp.\n"
      ]
     },
     "metadata": {},
     "output_type": "display_data"
    },
    {
     "data": {
      "text/html": [
       "<pre style=\"white-space:pre;overflow-x:auto;line-height:normal;font-family:Menlo,'DejaVu Sans Mono',consolas,'Courier New',monospace\">VST | Vistra Corp | Vistra Energy Corp\n",
       "</pre>\n"
      ],
      "text/plain": [
       "VST | Vistra Corp | Vistra Energy Corp\n"
      ]
     },
     "metadata": {},
     "output_type": "display_data"
    },
    {
     "data": {
      "text/html": [
       "<pre style=\"white-space:pre;overflow-x:auto;line-height:normal;font-family:Menlo,'DejaVu Sans Mono',consolas,'Courier New',monospace\">KKR | KKR &amp; Co Inc | KKR &amp; Co LP\n",
       "</pre>\n"
      ],
      "text/plain": [
       "KKR | KKR & Co Inc | KKR & Co LP\n"
      ]
     },
     "metadata": {},
     "output_type": "display_data"
    },
    {
     "data": {
      "text/html": [
       "<pre style=\"white-space:pre;overflow-x:auto;line-height:normal;font-family:Menlo,'DejaVu Sans Mono',consolas,'Courier New',monospace\">CRWD | CrowdStrike Holdings Inc | Crowdstrike Holdings Inc\n",
       "</pre>\n"
      ],
      "text/plain": [
       "CRWD | CrowdStrike Holdings Inc | Crowdstrike Holdings Inc\n"
      ]
     },
     "metadata": {},
     "output_type": "display_data"
    },
    {
     "data": {
      "text/html": [
       "<pre style=\"white-space:pre;overflow-x:auto;line-height:normal;font-family:Menlo,'DejaVu Sans Mono',consolas,'Courier New',monospace\">GDDY | GoDaddy Inc | Godaddy Inc\n",
       "</pre>\n"
      ],
      "text/plain": [
       "GDDY | GoDaddy Inc | Godaddy Inc\n"
      ]
     },
     "metadata": {},
     "output_type": "display_data"
    },
    {
     "data": {
      "text/html": [
       "<pre style=\"white-space:pre;overflow-x:auto;line-height:normal;font-family:Menlo,'DejaVu Sans Mono',consolas,'Courier New',monospace\">PLTR | Palantir Technologies Inc | Palantir Technologies Inc\n",
       "</pre>\n"
      ],
      "text/plain": [
       "PLTR | Palantir Technologies Inc | Palantir Technologies Inc\n"
      ]
     },
     "metadata": {},
     "output_type": "display_data"
    },
    {
     "data": {
      "text/html": [
       "<pre style=\"white-space:pre;overflow-x:auto;line-height:normal;font-family:Menlo,'DejaVu Sans Mono',consolas,'Courier New',monospace\">ERIE | Erie Indemnity Co | Erie Indemnity Company\n",
       "</pre>\n"
      ],
      "text/plain": [
       "ERIE | Erie Indemnity Co | Erie Indemnity Company\n"
      ]
     },
     "metadata": {},
     "output_type": "display_data"
    },
    {
     "data": {
      "text/html": [
       "<pre style=\"white-space:pre;overflow-x:auto;line-height:normal;font-family:Menlo,'DejaVu Sans Mono',consolas,'Courier New',monospace\">AMTM | Amentum Holdings Inc | Amentum Holdings Inc.\n",
       "</pre>\n"
      ],
      "text/plain": [
       "AMTM | Amentum Holdings Inc | Amentum Holdings Inc.\n"
      ]
     },
     "metadata": {},
     "output_type": "display_data"
    },
    {
     "data": {
      "text/html": [
       "<pre style=\"white-space:pre;overflow-x:auto;line-height:normal;font-family:Menlo,'DejaVu Sans Mono',consolas,'Courier New',monospace\">ABI | Applied Biosystems Inc. | returned <span style=\"font-weight: bold\">{}</span>\n",
       "ABS | Albertson's Inc. | returned <span style=\"font-weight: bold\">{}</span>\n",
       "ABX | Barrick Gold Corp. | returned <span style=\"font-weight: bold\">{}</span>\n",
       "ACAS | American Capital Ltd | returned <span style=\"font-weight: bold\">{}</span>\n",
       "ACKH | Armstrong Holding Inc | returned <span style=\"font-weight: bold\">{}</span>\n",
       "ACS | Affiliated Computer Services | returned <span style=\"font-weight: bold\">{}</span>\n",
       "ACV | Alberto-Culver Co. | returned <span style=\"font-weight: bold\">{}</span>\n",
       "SXCL | Steel Excel Inc | returned <span style=\"font-weight: bold\">{}</span>\n",
       "ADS | Alliance Data Systems Corp. | returned <span style=\"font-weight: bold\">{}</span>\n",
       "AET | Aetna Inc. | returned <span style=\"font-weight: bold\">{}</span>\n",
       "AFS.A | Associates First Capital Corp | returned <span style=\"font-weight: bold\">{}</span>\n",
       "AGC | American General Insurance Co | returned <span style=\"font-weight: bold\">{}</span>\n",
       "AGN | Allergan plc | returned <span style=\"font-weight: bold\">{}</span>\n",
       "AGN <span style=\"font-weight: bold\">(</span>Old<span style=\"font-weight: bold\">)</span> | Allergan Inc. <span style=\"font-weight: bold\">(</span>Old<span style=\"font-weight: bold\">)</span> | returned <span style=\"font-weight: bold\">{}</span>\n",
       "AKS | AK Steel Holding Corp. | returned <span style=\"font-weight: bold\">{}</span>\n",
       "AL <span style=\"font-weight: bold\">(</span>Alc<span style=\"font-weight: bold\">)</span> | Alcan Inc. | returned <span style=\"font-weight: bold\">{}</span>\n",
       "ALTR <span style=\"font-weight: bold\">(</span>Alt<span style=\"font-weight: bold\">)</span> | Altera Corp. | returned <span style=\"font-weight: bold\">{}</span>\n",
       "ALXN | Alexion Pharmaceuticals Inc | returned <span style=\"font-weight: bold\">{}</span>\n",
       "AMCC | Applied Micro Circuits Corp. | returned <span style=\"font-weight: bold\">{}</span>\n",
       "AMR <span style=\"font-weight: bold\">(</span>AMR<span style=\"font-weight: bold\">)</span> | AMR Corp. | returned <span style=\"font-weight: bold\">{}</span>\n",
       "ANDW | Andrew Corp. | returned <span style=\"font-weight: bold\">{}</span>\n",
       "ANR | Alpha Natural Resources Inc | returned <span style=\"font-weight: bold\">{}</span>\n",
       "APC | Anadarko Petroleum Corp. | returned <span style=\"font-weight: bold\">{}</span>\n",
       "APCC | American Power Conversion Corp | returned <span style=\"font-weight: bold\">{}</span>\n",
       "APOL | Apollo Education Group | returned <span style=\"font-weight: bold\">{}</span>\n",
       "ARC <span style=\"font-weight: bold\">(</span>Atl<span style=\"font-weight: bold\">)</span> | Atlantic Richfield Co | returned <span style=\"font-weight: bold\">{}</span>\n",
       "ARG | Airgas Inc. | returned <span style=\"font-weight: bold\">{}</span>\n",
       "ASN | Archstone-Smith Trust | returned <span style=\"font-weight: bold\">{}</span>\n",
       "AT <span style=\"font-weight: bold\">(</span>All<span style=\"font-weight: bold\">)</span> | Alltel Corp | returned <span style=\"font-weight: bold\">{}</span>\n",
       "ATVI | Activision Blizzard Inc | returned <span style=\"font-weight: bold\">{}</span>\n",
       "AV | Avaya Inc. | returned <span style=\"font-weight: bold\">{}</span>\n",
       "AVP | Avon Products Inc | returned <span style=\"font-weight: bold\">{}</span>\n",
       "AW | Allied Waste Industries Inc. | returned <span style=\"font-weight: bold\">{}</span>\n",
       "AWE | AT&amp;T Wireless | returned <span style=\"font-weight: bold\">{}</span>\n",
       "AYE | Allegheny Energy Inc. | returned <span style=\"font-weight: bold\">{}</span>\n",
       "AZA.A | ALZA Corp. | returned <span style=\"font-weight: bold\">{}</span>\n",
       "BBBY | Bed Bath &amp; Beyond Inc | returned <span style=\"font-weight: bold\">{}</span>\n",
       "BCR | C. R. Bard Inc | returned <span style=\"font-weight: bold\">{}</span>\n",
       "BDK | Black &amp; Decker Manufacturing | returned <span style=\"font-weight: bold\">{}</span>\n",
       "BEAM <span style=\"font-weight: bold\">(</span>Sun<span style=\"font-weight: bold\">)</span> | Beam Suntory Inc | returned <span style=\"font-weight: bold\">{}</span>\n",
       "BF.B | Brown-Forman Corp. | returned <span style=\"font-weight: bold\">{}</span>\n",
       "BFO | BestFoods | returned <span style=\"font-weight: bold\">{}</span>\n",
       "BGEN | Biogen NV | returned <span style=\"font-weight: bold\">{}</span>\n",
       "BGG | Briggs &amp; Stratton Corp | returned <span style=\"font-weight: bold\">{}</span>\n",
       "BIG | Big Lots Inc. | returned <span style=\"font-weight: bold\">{}</span>\n",
       "BJS | BJ Services Co. | returned <span style=\"font-weight: bold\">{}</span>\n",
       "BLS | BellSouth Corp. | returned <span style=\"font-weight: bold\">{}</span>\n",
       "BMC | BMC Software Inc | returned <span style=\"font-weight: bold\">{}</span>\n",
       "BMET | Biomet Inc. | returned <span style=\"font-weight: bold\">{}</span>\n",
       "BMS | Bemis Company Inc | returned <span style=\"font-weight: bold\">{}</span>\n",
       "BNI | Burlington Northern Santa Fe Corp | returned <span style=\"font-weight: bold\">{}</span>\n",
       "BOL | Bausch &amp; Lomb Inc. | returned <span style=\"font-weight: bold\">{}</span>\n",
       "BR <span style=\"font-weight: bold\">(</span>OLD<span style=\"font-weight: bold\">)</span> | Burlington Resources | returned <span style=\"font-weight: bold\">{}</span>\n",
       "BRCM | Broadcom Corp. | returned <span style=\"font-weight: bold\">{}</span>\n",
       "BRK.B | Berkshire Hathaway Inc | returned <span style=\"font-weight: bold\">{}</span>\n",
       "BRL | Barr Pharmaceuticals Inc. | returned <span style=\"font-weight: bold\">{}</span>\n",
       "BS | Bethlehem Steel Corp | returned <span style=\"font-weight: bold\">{}</span>\n",
       "BSC | Bear Stearns Co | returned <span style=\"font-weight: bold\">{}</span>\n",
       "BUD <span style=\"font-weight: bold\">(</span>Anh<span style=\"font-weight: bold\">)</span> | Anheuser-Busch Inc. | returned <span style=\"font-weight: bold\">{}</span>\n",
       "BVSN | BroadVision Inc. | returned <span style=\"font-weight: bold\">{}</span>\n",
       "BXLT | Baxalta | returned <span style=\"font-weight: bold\">{}</span>\n",
       "CA | CA Inc | returned <span style=\"font-weight: bold\">{}</span>\n",
       "CAM | Cameron International Corp | returned <span style=\"font-weight: bold\">{}</span>\n",
       "CB <span style=\"font-weight: bold\">(</span>Old<span style=\"font-weight: bold\">)</span> | Chubb Corp. <span style=\"font-weight: bold\">(</span>Old<span style=\"font-weight: bold\">)</span> | returned <span style=\"font-weight: bold\">{}</span>\n",
       "CBE | Cooper Industries plc | returned <span style=\"font-weight: bold\">{}</span>\n",
       "CBH | Commerce Bancorp <span style=\"font-weight: bold\">(</span>New Jersey<span style=\"font-weight: bold\">)</span> | returned <span style=\"font-weight: bold\">{}</span>\n",
       "CBS <span style=\"font-weight: bold\">(</span>Old<span style=\"font-weight: bold\">)</span> | CBS Corp. <span style=\"font-weight: bold\">(</span>Old<span style=\"font-weight: bold\">)</span> | returned <span style=\"font-weight: bold\">{}</span>\n",
       "CBSS | Compass Bancshares Inc | returned <span style=\"font-weight: bold\">{}</span>\n",
       "CC <span style=\"font-weight: bold\">(</span>Circ<span style=\"font-weight: bold\">)</span> | Circuit City Stores Inc. | returned <span style=\"font-weight: bold\">{}</span>\n",
       "CCE | Coca-Cola European Partners plc | returned <span style=\"font-weight: bold\">{}</span>\n",
       "CE <span style=\"font-weight: bold\">(</span>Con<span style=\"font-weight: bold\">)</span> | Concord EFS Inc. | returned <span style=\"font-weight: bold\">{}</span>\n",
       "CEG <span style=\"font-weight: bold\">(</span>Old<span style=\"font-weight: bold\">)</span> | Constellation Energy Group Inc <span style=\"font-weight: bold\">(</span>Old<span style=\"font-weight: bold\">)</span> | returned <span style=\"font-weight: bold\">{}</span>\n",
       "CELG | Celgene Corp. | returned <span style=\"font-weight: bold\">{}</span>\n",
       "CEN | Ceridian Corp. | returned <span style=\"font-weight: bold\">{}</span>\n",
       "CEPH | Cephalon Inc. | returned <span style=\"font-weight: bold\">{}</span>\n",
       "CERN | Cerner Corp | returned <span style=\"font-weight: bold\">{}</span>\n",
       "CF <span style=\"font-weight: bold\">(</span>Char<span style=\"font-weight: bold\">)</span> | Charter One Financial Inc | returned <span style=\"font-weight: bold\">{}</span>\n",
       "CFC | Countrywide Financial Corp. | returned <span style=\"font-weight: bold\">{}</span>\n",
       "CFN | CareFusion Corp | returned <span style=\"font-weight: bold\">{}</span>\n",
       "CGP | Coastal Corp. | returned <span style=\"font-weight: bold\">{}</span>\n",
       "CHA | Champion International Corp | returned <span style=\"font-weight: bold\">{}</span>\n",
       "CHIR | Chiron Corp. | returned <span style=\"font-weight: bold\">{}</span>\n",
       "CIN | Cinergy Corp. | returned <span style=\"font-weight: bold\">{}</span>\n",
       "CIT | CIT Group Inc. | returned <span style=\"font-weight: bold\">{}</span>\n",
       "CMCSK | Comcast Class A Spec. | returned <span style=\"font-weight: bold\">{}</span>\n",
       "CMCSK <span style=\"font-weight: bold\">(</span>Old<span style=\"font-weight: bold\">)</span> | Comcast Corp <span style=\"font-weight: bold\">(</span>Old<span style=\"font-weight: bold\">)</span> | returned <span style=\"font-weight: bold\">{}</span>\n",
       "CMVT | Comverse Technology Inc | returned <span style=\"font-weight: bold\">{}</span>\n",
       "CMX | Caremark Rx | returned <span style=\"font-weight: bold\">{}</span>\n",
       "CNG | Consolidated Natural Gas Co | returned <span style=\"font-weight: bold\">{}</span>\n",
       "CNXT | Conexant Systems | returned <span style=\"font-weight: bold\">{}</span>\n",
       "COC.B | Conoco Inc. | returned <span style=\"font-weight: bold\">{}</span>\n",
       "COL | Rockwell Collins Inc | returned <span style=\"font-weight: bold\">{}</span>\n",
       "COMS | 3Com Corp. | returned <span style=\"font-weight: bold\">{}</span>\n",
       "COV | Covidien Plc | returned <span style=\"font-weight: bold\">{}</span>\n",
       "CPGX | Columbia Pipeline Group Inc. | returned <span style=\"font-weight: bold\">{}</span>\n",
       "CPN | Calpine Corp. | returned <span style=\"font-weight: bold\">{}</span>\n",
       "CPQ | Compaq Computer Corp | returned <span style=\"font-weight: bold\">{}</span>\n",
       "CPWR | Compuware Corp | returned <span style=\"font-weight: bold\">{}</span>\n",
       "CSC | Computer Sciences Corp. | returned <span style=\"font-weight: bold\">{}</span>\n",
       "CSRA | CSRA Inc | returned <span style=\"font-weight: bold\">{}</span>\n",
       "CTB | Cooper Tire &amp; Rubber Co. | returned <span style=\"font-weight: bold\">{}</span>\n",
       "CTX | Centex Corp. | returned <span style=\"font-weight: bold\">{}</span>\n",
       "CTXS | Citrix Systems Inc | returned <span style=\"font-weight: bold\">{}</span>\n",
       "RMG | Cablevision Systems Corp. | returned <span style=\"font-weight: bold\">{}</span>\n",
       "CVG | Convergys Corp. | returned <span style=\"font-weight: bold\">{}</span>\n",
       "CVH | Coventry Corp | returned <span style=\"font-weight: bold\">{}</span>\n",
       "CXO | Concho Resources Inc | returned <span style=\"font-weight: bold\">{}</span>\n",
       "DD <span style=\"font-weight: bold\">(</span>Old<span style=\"font-weight: bold\">)</span> | DuPont Co <span style=\"font-weight: bold\">(</span>Old<span style=\"font-weight: bold\">)</span> | returned <span style=\"font-weight: bold\">{}</span>\n",
       "DF | Dean Foods Co | returned <span style=\"font-weight: bold\">{}</span>\n",
       "DISCK | Discovery Communications Inc Class C <span style=\"font-weight: bold\">(</span>Warner Bros. Discovery Inc<span style=\"font-weight: bold\">)</span> | returned <span style=\"font-weight: bold\">{}</span>\n",
       "DJ | Dow Jones &amp; Co. Inc. | returned <span style=\"font-weight: bold\">{}</span>\n",
       "DNR | Denbury Resources Inc. | returned <span style=\"font-weight: bold\">{}</span>\n",
       "DO | Diamond Offshore Drilling Inc | returned <span style=\"font-weight: bold\">{}</span>\n",
       "DPH | Delphi Corp. <span style=\"font-weight: bold\">(</span>Old<span style=\"font-weight: bold\">)</span> | returned <span style=\"font-weight: bold\">{}</span>\n",
       "DPS | Dr Pepper Snapple Group Inc | returned <span style=\"font-weight: bold\">{}</span>\n",
       "DTV | DirecTV | returned <span style=\"font-weight: bold\">{}</span>\n",
       "EDS | Electronic Data Systems Corp | returned <span style=\"font-weight: bold\">{}</span>\n",
       "EFU | Eastern Enterprises | returned <span style=\"font-weight: bold\">{}</span>\n",
       "EMC | EMC Corp. | returned <span style=\"font-weight: bold\">{}</span>\n",
       "ENDP | Endo Int'l plc | returned <span style=\"font-weight: bold\">{}</span>\n",
       "ENRNQ | Enron Corp. | returned <span style=\"font-weight: bold\">{}</span>\n",
       "EOP | Equity Office Properties Trust | returned <span style=\"font-weight: bold\">{}</span>\n",
       "EQ <span style=\"font-weight: bold\">(</span>Emb<span style=\"font-weight: bold\">)</span> | Embarq Corporation | returned <span style=\"font-weight: bold\">{}</span>\n",
       "ESRX | Express Scripts Holding Co | returned <span style=\"font-weight: bold\">{}</span>\n",
       "ETFC | E*Trade Financial Corp. | returned <span style=\"font-weight: bold\">{}</span>\n",
       "ETS | Enterasys Networks Inc. | returned <span style=\"font-weight: bold\">{}</span>\n",
       "EVHC | Envision Healthcare Holdings Inc | returned <span style=\"font-weight: bold\">{}</span>\n",
       "FBF | FleetBoston Financial Group Inc | returned <span style=\"font-weight: bold\">{}</span>\n",
       "FDC | First Data Corp. | returned <span style=\"font-weight: bold\">{}</span>\n",
       "FDO | Family Dollar Stores Inc | returned <span style=\"font-weight: bold\">{}</span>\n",
       "FJ | Fort James Corp. | returned <span style=\"font-weight: bold\">{}</span>\n",
       "FLE | Fleetwood Enterprises Inc | returned <span style=\"font-weight: bold\">{}</span>\n",
       "FLIR | FLIR Systems Inc | returned <span style=\"font-weight: bold\">{}</span>\n",
       "FNMA | Fannie Mae <span style=\"font-weight: bold\">(</span>FNMA<span style=\"font-weight: bold\">)</span> | returned <span style=\"font-weight: bold\">{}</span>\n",
       "FOX <span style=\"font-weight: bold\">(</span>Old<span style=\"font-weight: bold\">)</span> | Twenty-First Century Fox Inc Class B | returned <span style=\"font-weight: bold\">{}</span>\n",
       "FOXA <span style=\"font-weight: bold\">(</span>Old<span style=\"font-weight: bold\">)</span> | Twenty-First Century Fox Inc Class A | returned <span style=\"font-weight: bold\">{}</span>\n",
       "FPC | Florida Progress Corp | returned <span style=\"font-weight: bold\">{}</span>\n",
       "FRC | First Republic Bank | returned <span style=\"font-weight: bold\">{}</span>\n",
       "FMCC | Freddie Mac <span style=\"font-weight: bold\">(</span>FHLMC<span style=\"font-weight: bold\">)</span> | returned <span style=\"font-weight: bold\">{}</span>\n",
       "FRX | Forest Laboratories Inc | returned <span style=\"font-weight: bold\">{}</span>\n",
       "FSH | Fisher Scientific Int'l | returned <span style=\"font-weight: bold\">{}</span>\n",
       "FSLB | Freescale Semiconductor Inc | returned <span style=\"font-weight: bold\">{}</span>\n",
       "FTR | Frontier Comm's Corp | returned <span style=\"font-weight: bold\">{}</span>\n",
       "FWLT | Foster Wheeler AG | returned <span style=\"font-weight: bold\">{}</span>\n",
       "G <span style=\"font-weight: bold\">(</span>Gil<span style=\"font-weight: bold\">)</span> | Gillette Co. | returned <span style=\"font-weight: bold\">{}</span>\n",
       "GAS | AGL Resources Inc. | returned <span style=\"font-weight: bold\">{}</span>\n",
       "GAS <span style=\"font-weight: bold\">(</span>Nico<span style=\"font-weight: bold\">)</span> | Nicor Inc. | returned <span style=\"font-weight: bold\">{}</span>\n",
       "GDT | Guidant Corp | returned <span style=\"font-weight: bold\">{}</span>\n",
       "GDW | Golden West Financial | returned <span style=\"font-weight: bold\">{}</span>\n",
       "GEN <span style=\"font-weight: bold\">(</span>Gen<span style=\"font-weight: bold\">)</span> | GenOn Energy Inc | returned <span style=\"font-weight: bold\">{}</span>\n",
       "GENZ | Genzyme Corp. | returned <span style=\"font-weight: bold\">{}</span>\n",
       "GGP | GGP Inc | returned <span style=\"font-weight: bold\">{}</span>\n",
       "NLV | NextLevel Systems Inc | returned <span style=\"font-weight: bold\">{}</span>\n",
       "GLK <span style=\"font-weight: bold\">(</span>Chem<span style=\"font-weight: bold\">)</span> | Great Lakes Chemical Corp | returned <span style=\"font-weight: bold\">{}</span>\n",
       "GMCR | Keurig Green Mountain Inc | returned <span style=\"font-weight: bold\">{}</span>\n",
       "GPS | Gap Inc. | returned <span style=\"font-weight: bold\">{}</span>\n",
       "GPU | GPU Inc. | returned <span style=\"font-weight: bold\">{}</span>\n",
       "GR | Goodrich Corp. | returned <span style=\"font-weight: bold\">{}</span>\n",
       "GRA | W. R. Grace &amp; Co | returned <span style=\"font-weight: bold\">{}</span>\n",
       "GTE <span style=\"font-weight: bold\">(</span>GTE<span style=\"font-weight: bold\">)</span> | GTE Corp. | returned <span style=\"font-weight: bold\">{}</span>\n",
       "GTW | Gateway Inc. | returned <span style=\"font-weight: bold\">{}</span>\n",
       "GLBC <span style=\"font-weight: bold\">(</span>Glob<span style=\"font-weight: bold\">)</span> | Global Crossing Ltd | returned <span style=\"font-weight: bold\">{}</span>\n",
       "H <span style=\"font-weight: bold\">(</span>Har<span style=\"font-weight: bold\">)</span> | Harcourt General Inc. | returned <span style=\"font-weight: bold\">{}</span>\n",
       "HAR | Harman Int'l Industries Inc | returned <span style=\"font-weight: bold\">{}</span>\n",
       "HCBK | Hudson City Bancorp Inc | returned <span style=\"font-weight: bold\">{}</span>\n",
       "HCR | Manor Care Inc. | returned <span style=\"font-weight: bold\">{}</span>\n",
       "CZR <span style=\"font-weight: bold\">(</span>Har<span style=\"font-weight: bold\">)</span> | Harrah's Entertainment | returned <span style=\"font-weight: bold\">{}</span>\n",
       "HI <span style=\"font-weight: bold\">(</span>Hou<span style=\"font-weight: bold\">)</span> | Household International Inc | returned <span style=\"font-weight: bold\">{}</span>\n",
       "HM | Homestake Mining Co | returned <span style=\"font-weight: bold\">{}</span>\n",
       "HMA | Health Management Associates Inc | returned <span style=\"font-weight: bold\">{}</span>\n",
       "HNZ | H. J. Heinz Company | returned <span style=\"font-weight: bold\">{}</span>\n",
       "HOT | Starwood Hotels &amp; Resorts Worldwide Inc | returned <span style=\"font-weight: bold\">{}</span>\n",
       "HPC | Hercules Inc. | returned <span style=\"font-weight: bold\">{}</span>\n",
       "HSH | Hillshire Brands Co | returned <span style=\"font-weight: bold\">{}</span>\n",
       "HSP | Hospira Inc. | returned <span style=\"font-weight: bold\">{}</span>\n",
       "IGT <span style=\"font-weight: bold\">(</span>Old<span style=\"font-weight: bold\">)</span> | International Game Technology plc <span style=\"font-weight: bold\">(</span>Old<span style=\"font-weight: bold\">)</span> | returned <span style=\"font-weight: bold\">{}</span>\n",
       "IKN | IKON Office Solutions Inc | returned <span style=\"font-weight: bold\">{}</span>\n",
       "IMNX | Immunex Corp. | returned <span style=\"font-weight: bold\">{}</span>\n",
       "JAVA | Sun Microsystems | returned <span style=\"font-weight: bold\">{}</span>\n",
       "JCI <span style=\"font-weight: bold\">(</span>Old<span style=\"font-weight: bold\">)</span> | Johnson Controls <span style=\"font-weight: bold\">(</span>Old<span style=\"font-weight: bold\">)</span> | returned <span style=\"font-weight: bold\">{}</span>\n",
       "JCP | J.C. Penney Co Inc | returned <span style=\"font-weight: bold\">{}</span>\n",
       "JHF | John Hancock Financial Services Inc | returned <span style=\"font-weight: bold\">{}</span>\n",
       "JNS | Janus Capital Group | returned <span style=\"font-weight: bold\">{}</span>\n",
       "JNY | Jones Group | returned <span style=\"font-weight: bold\">{}</span>\n",
       "JOS | Jostens Inc. | returned <span style=\"font-weight: bold\">{}</span>\n",
       "JOY | Joy Global Inc. | returned <span style=\"font-weight: bold\">{}</span>\n",
       "JP | Jefferson-Pilot Corp. | returned <span style=\"font-weight: bold\">{}</span>\n",
       "JPM <span style=\"font-weight: bold\">(</span>Old<span style=\"font-weight: bold\">)</span> | J. P. Morgan &amp; Co. Inc <span style=\"font-weight: bold\">(</span>Old<span style=\"font-weight: bold\">)</span> | returned <span style=\"font-weight: bold\">{}</span>\n",
       "KATE | Kate Spade &amp; Co | returned <span style=\"font-weight: bold\">{}</span>\n",
       "KG | King Pharmaceuticals Inc. | returned <span style=\"font-weight: bold\">{}</span>\n",
       "KM | Kmart Corp | returned <span style=\"font-weight: bold\">{}</span>\n",
       "KMG <span style=\"font-weight: bold\">(</span>Ker<span style=\"font-weight: bold\">)</span> | Kerr-McGee Corp. | returned <span style=\"font-weight: bold\">{}</span>\n",
       "KRB | MBNA Corp. | returned <span style=\"font-weight: bold\">{}</span>\n",
       "KRI | Knight-Ridder Inc. | returned <span style=\"font-weight: bold\">{}</span>\n",
       "KSE | KeySpan Corp | returned <span style=\"font-weight: bold\">{}</span>\n",
       "KSU | Kansas City Southern | returned <span style=\"font-weight: bold\">{}</span>\n",
       "LDG | Longs Drug Stores Inc | returned <span style=\"font-weight: bold\">{}</span>\n",
       "LEHMQ | Lehman Brothers Holding | returned <span style=\"font-weight: bold\">{}</span>\n",
       "LIFE <span style=\"font-weight: bold\">(</span>Tech<span style=\"font-weight: bold\">)</span> | Life Technologies Corp | returned <span style=\"font-weight: bold\">{}</span>\n",
       "LLL | L-<span style=\"color: #008080; text-decoration-color: #008080; font-weight: bold\">3</span> Comm's Holdings Inc | returned <span style=\"font-weight: bold\">{}</span>\n",
       "LLTC | Linear Technology Corp. | returned <span style=\"font-weight: bold\">{}</span>\n",
       "LM | Legg Mason Inc | returned <span style=\"font-weight: bold\">{}</span>\n",
       "LO | Lorillard Inc. | returned <span style=\"font-weight: bold\">{}</span>\n",
       "LSI <span style=\"font-weight: bold\">(</span>LSI<span style=\"font-weight: bold\">)</span> | LSI Corp | returned <span style=\"font-weight: bold\">{}</span>\n",
       "LVLT | Level <span style=\"color: #008080; text-decoration-color: #008080; font-weight: bold\">3</span> Comm's Inc | returned <span style=\"font-weight: bold\">{}</span>\n",
       "LXK | Lexmark International Inc | returned <span style=\"font-weight: bold\">{}</span>\n",
       "MAY | May Dept Stores | returned <span style=\"font-weight: bold\">{}</span>\n",
       "MDP | Meredith Corp. | returned <span style=\"font-weight: bold\">{}</span>\n",
       "MDR | McDermott Int'l Inc | returned <span style=\"font-weight: bold\">{}</span>\n",
       "MEA | Mead Corp. | returned <span style=\"font-weight: bold\">{}</span>\n",
       "MEDI | MedImmune Inc. | returned <span style=\"font-weight: bold\">{}</span>\n",
       "MEE | Massey Energy Co. | returned <span style=\"font-weight: bold\">{}</span>\n",
       "MEL | Mellon Financial Corp | returned <span style=\"font-weight: bold\">{}</span>\n",
       "MER | Merrill Lynch &amp; Co | returned <span style=\"font-weight: bold\">{}</span>\n",
       "MERQ | Mercury Interactive Corp | returned <span style=\"font-weight: bold\">{}</span>\n",
       "MFE | McAfee Inc. | returned <span style=\"font-weight: bold\">{}</span>\n",
       "MHS | Medco Health Solution Inc | returned <span style=\"font-weight: bold\">{}</span>\n",
       "MIL | Millipore Corp | returned <span style=\"font-weight: bold\">{}</span>\n",
       "MIR <span style=\"font-weight: bold\">(</span>M. R.<span style=\"font-weight: bold\">)</span> | Mirage Resorts Inc | returned <span style=\"font-weight: bold\">{}</span>\n",
       "MJN | Mead Johnson Nutrition Co | returned <span style=\"font-weight: bold\">{}</span>\n",
       "MKG | Mallinckrodt Inc. <span style=\"font-weight: bold\">(</span>Old<span style=\"font-weight: bold\">)</span> | returned <span style=\"font-weight: bold\">{}</span>\n",
       "MMI <span style=\"font-weight: bold\">(</span>Mot<span style=\"font-weight: bold\">)</span> | Motorola Mobility | returned <span style=\"font-weight: bold\">{}</span>\n",
       "MNK | Mallinckrodt plc | returned <span style=\"font-weight: bold\">{}</span>\n",
       "MOLX | Molex Inc. | returned <span style=\"font-weight: bold\">{}</span>\n",
       "MON | Monsanto Co. | returned <span style=\"font-weight: bold\">{}</span>\n",
       "MWW | Monster Worldwide Inc. | returned <span style=\"font-weight: bold\">{}</span>\n",
       "MXIM | Maxim Integrated Products Inc | returned <span style=\"font-weight: bold\">{}</span>\n",
       "MYG | Maytag Corp. | returned <span style=\"font-weight: bold\">{}</span>\n",
       "MZ | Milacron Inc. | returned <span style=\"font-weight: bold\">{}</span>\n",
       "N <span style=\"font-weight: bold\">(</span>Inc<span style=\"font-weight: bold\">)</span> | Inco Ltd. | returned <span style=\"font-weight: bold\">{}</span>\n",
       "NAV | Navistar Int'l Corp | returned <span style=\"font-weight: bold\">{}</span>\n",
       "NBL | Noble Energy Inc. | returned <span style=\"font-weight: bold\">{}</span>\n",
       "NCC | National City Corp. | returned <span style=\"font-weight: bold\">{}</span>\n",
       "NCE | New Century Energies Inc | returned <span style=\"font-weight: bold\">{}</span>\n",
       "NCR | NCR Corp. | returned <span style=\"font-weight: bold\">{}</span>\n",
       "NFB | North Fork BanCorp | returned <span style=\"font-weight: bold\">{}</span>\n",
       "NFX | Newfield Exploration Co. | returned <span style=\"font-weight: bold\">{}</span>\n",
       "NGH | Nabisco Group Holding Corp | returned <span style=\"font-weight: bold\">{}</span>\n",
       "NLSN | Nielsen Holdings PLC | returned <span style=\"font-weight: bold\">{}</span>\n",
       "NMK | Niagara Mohawk Holdings Inc. | returned <span style=\"font-weight: bold\">{}</span>\n",
       "NOVL | Novell Inc | returned <span style=\"font-weight: bold\">{}</span>\n",
       "NSI | National Service Industries Inc | returned <span style=\"font-weight: bold\">{}</span>\n",
       "NSM <span style=\"font-weight: bold\">(</span>Nat<span style=\"font-weight: bold\">)</span> | National Semiconductor | returned <span style=\"font-weight: bold\">{}</span>\n",
       "NT | Nortel Networks | returned <span style=\"font-weight: bold\">{}</span>\n",
       "NVLS <span style=\"font-weight: bold\">(</span>Nove<span style=\"font-weight: bold\">)</span> | Novellus Systems Inc | returned <span style=\"font-weight: bold\">{}</span>\n",
       "NXTL | Nextel Communications Inc | returned <span style=\"font-weight: bold\">{}</span>\n",
       "NYX | NYSE Euronext Inc | returned <span style=\"font-weight: bold\">{}</span>\n",
       "OAT | Quaker Oats Co | returned <span style=\"font-weight: bold\">{}</span>\n",
       "OK | Old Kent Financial Corp | returned <span style=\"font-weight: bold\">{}</span>\n",
       "OMX <span style=\"font-weight: bold\">(</span>Old<span style=\"font-weight: bold\">)</span> | OfficeMax Inc <span style=\"font-weight: bold\">(</span>Old<span style=\"font-weight: bold\">)</span> | returned <span style=\"font-weight: bold\">{}</span>\n",
       "ONE | Bank One Corp. | returned <span style=\"font-weight: bold\">{}</span>\n",
       "PALM | Palm Inc. | returned <span style=\"font-weight: bold\">{}</span>\n",
       "PBCT | People's United Financial Inc | returned <span style=\"font-weight: bold\">{}</span>\n",
       "PBG | Pepsi Bottling Group Inc. | returned <span style=\"font-weight: bold\">{}</span>\n",
       "PBY | Pep Boys: Manny, Moe &amp; Jack | returned <span style=\"font-weight: bold\">{}</span>\n",
       "PCL | Plum Creek Timber Company | returned <span style=\"font-weight: bold\">{}</span>\n",
       "PCP | Precision Castparts Corp | returned <span style=\"font-weight: bold\">{}</span>\n",
       "PCS <span style=\"font-weight: bold\">(</span>Sprint<span style=\"font-weight: bold\">)</span> | Sprint PCS Group | returned <span style=\"font-weight: bold\">{}</span>\n",
       "PDG | Placer Dome Inc. | returned <span style=\"font-weight: bold\">{}</span>\n",
       "PETM | PetSmart Inc | returned <span style=\"font-weight: bold\">{}</span>\n",
       "PGL | Peoples Energy Corp | returned <span style=\"font-weight: bold\">{}</span>\n",
       "PGN | Progress Energy Inc. | returned <span style=\"font-weight: bold\">{}</span>\n",
       "PHA | Pharmacia Corp. | returned <span style=\"font-weight: bold\">{}</span>\n",
       "PMCS | PMC-Sierra Inc | returned <span style=\"font-weight: bold\">{}</span>\n",
       "PNU | Pharmacia &amp; Upjohn Inc. | returned <span style=\"font-weight: bold\">{}</span>\n",
       "POM | Pepco Holdings Inc. | returned <span style=\"font-weight: bold\">{}</span>\n",
       "PRD | Polaroid Corp | returned <span style=\"font-weight: bold\">{}</span>\n",
       "PSFT | People Soft Inc | returned <span style=\"font-weight: bold\">{}</span>\n",
       "PTV | Pactiv Corp | returned <span style=\"font-weight: bold\">{}</span>\n",
       "PVN <span style=\"font-weight: bold\">(</span>Fin<span style=\"font-weight: bold\">)</span> | Providian Financial Corp | returned <span style=\"font-weight: bold\">{}</span>\n",
       "PWER | Power-One Inc | returned <span style=\"font-weight: bold\">{}</span>\n",
       "PWJ | Paine Webber Group Inc | returned <span style=\"font-weight: bold\">{}</span>\n",
       "PXD | Pioneer Natural Resources Co | returned <span style=\"font-weight: bold\">{}</span>\n",
       "Q <span style=\"font-weight: bold\">(</span>Qwe<span style=\"font-weight: bold\">)</span> | Qwest Communications Int'l Inc | returned <span style=\"font-weight: bold\">{}</span>\n",
       "QEP | QEP Resources Inc | returned <span style=\"font-weight: bold\">{}</span>\n",
       "QLGC | QLogic Corp. | returned <span style=\"font-weight: bold\">{}</span>\n",
       "QTRN | Quintiles Transnational Corp | returned <span style=\"font-weight: bold\">{}</span>\n",
       "RAD | Rite Aid Corp. | returned <span style=\"font-weight: bold\">{}</span>\n",
       "RAI | Reynolds American Inc. | returned <span style=\"font-weight: bold\">{}</span>\n",
       "RAL | Ralston Purina Co. | returned <span style=\"font-weight: bold\">{}</span>\n",
       "RATL | Rational Software Corp | returned <span style=\"font-weight: bold\">{}</span>\n",
       "RBK | Reebok Int'l Ltd | returned <span style=\"font-weight: bold\">{}</span>\n",
       "RD | Royal Dutch Petroleum | returned <span style=\"font-weight: bold\">{}</span>\n",
       "RDC | Rowan Companies plc | returned <span style=\"font-weight: bold\">{}</span>\n",
       "RHT | Red Hat Inc. | returned <span style=\"font-weight: bold\">{}</span>\n",
       "RLGY | Realogy Holdings Corp | returned <span style=\"font-weight: bold\">{}</span>\n",
       "RLM | Reynolds Metals Co | returned <span style=\"font-weight: bold\">{}</span>\n",
       "RML | Russell Corp. | returned <span style=\"font-weight: bold\">{}</span>\n",
       "RNB | Republic New York Corp | returned <span style=\"font-weight: bold\">{}</span>\n",
       "ROH | Rohm &amp; Hass Co | returned <span style=\"font-weight: bold\">{}</span>\n",
       "RRD | RR Donnelley &amp; Sons Co | returned <span style=\"font-weight: bold\">{}</span>\n",
       "RSH | RadioShack Corp. | returned <span style=\"font-weight: bold\">{}</span>\n",
       "RTN | Raytheon Co. <span style=\"font-weight: bold\">(</span>Old<span style=\"font-weight: bold\">)</span> | returned <span style=\"font-weight: bold\">{}</span>\n",
       "IMS | IMS Health Holdings Inc | returned <span style=\"font-weight: bold\">{}</span>\n",
       "S <span style=\"font-weight: bold\">(</span>Sears<span style=\"font-weight: bold\">)</span> | Sears Roebuck &amp; Co | returned <span style=\"font-weight: bold\">{}</span>\n",
       "SAF | Safeco Corp. | returned <span style=\"font-weight: bold\">{}</span>\n",
       "SAPE | Sapient Corp. | returned <span style=\"font-weight: bold\">{}</span>\n",
       "SBL | Symbol Technologies Inc | returned <span style=\"font-weight: bold\">{}</span>\n",
       "SCG | SCANA Corp. | returned <span style=\"font-weight: bold\">{}</span>\n",
       "SDS | Sungard Data Systems Inc | returned <span style=\"font-weight: bold\">{}</span>\n",
       "SEBL | Siebel Systems Inc. | returned <span style=\"font-weight: bold\">{}</span>\n",
       "SFA | Scientific-Atlanta Inc | returned <span style=\"font-weight: bold\">{}</span>\n",
       "SGI <span style=\"font-weight: bold\">(</span>Old<span style=\"font-weight: bold\">)</span> | Silicon Graphics Inc <span style=\"font-weight: bold\">(</span>Old<span style=\"font-weight: bold\">)</span> | returned <span style=\"font-weight: bold\">{}</span>\n",
       "SGP | Schering-Plough Corp. | returned <span style=\"font-weight: bold\">{}</span>\n",
       "SHLD | Sears Holdings Corp | returned <span style=\"font-weight: bold\">{}</span>\n",
       "SIAL | Sigma-Aldrich Corp. | returned <span style=\"font-weight: bold\">{}</span>\n",
       "SLR | Solectron Corp. | returned <span style=\"font-weight: bold\">{}</span>\n",
       "SMI | Springs Industries Inc. | returned <span style=\"font-weight: bold\">{}</span>\n",
       "SMS | Shared Medical Systems Corp | returned <span style=\"font-weight: bold\">{}</span>\n",
       "SNDK | SanDisk Corp | returned <span style=\"font-weight: bold\">{}</span>\n",
       "SNI | Scripps Networks Interactive Inc | returned <span style=\"font-weight: bold\">{}</span>\n",
       "SOTR | SouthTrust Corp | returned <span style=\"font-weight: bold\">{}</span>\n",
       "SOV | Sovereign Bancorp Inc | returned <span style=\"font-weight: bold\">{}</span>\n",
       "SPLS | Staples Inc. | returned <span style=\"font-weight: bold\">{}</span>\n",
       "STJ | St. Jude Medical Inc | returned <span style=\"font-weight: bold\">{}</span>\n",
       "SUB | Summit Bancorp | returned <span style=\"font-weight: bold\">{}</span>\n",
       "SUN <span style=\"font-weight: bold\">(</span>Sun<span style=\"font-weight: bold\">)</span> | Sunoco Inc <span style=\"font-weight: bold\">(</span>Old<span style=\"font-weight: bold\">)</span> | returned <span style=\"font-weight: bold\">{}</span>\n",
       "SUNEQ | SunEdison Inc | returned <span style=\"font-weight: bold\">{}</span>\n",
       "SVU | Supervalu Inc. | returned <span style=\"font-weight: bold\">{}</span>\n",
       "SWY | Safeway Inc. | returned <span style=\"font-weight: bold\">{}</span>\n",
       "T <span style=\"font-weight: bold\">(</span>Old<span style=\"font-weight: bold\">)</span> | AT&amp;T Corp. <span style=\"font-weight: bold\">(</span>Old<span style=\"font-weight: bold\">)</span> | returned <span style=\"font-weight: bold\">{}</span>\n",
       "TAP.B | Travelers Property Casualty | returned <span style=\"font-weight: bold\">{}</span>\n",
       "TE | TECO Energy Inc | returned <span style=\"font-weight: bold\">{}</span>\n",
       "TEG | Integrys Energy Group | returned <span style=\"font-weight: bold\">{}</span>\n",
       "TEK | Tektronix Inc. | returned <span style=\"font-weight: bold\">{}</span>\n",
       "TIE | Titanium Metal Corp | returned <span style=\"font-weight: bold\">{}</span>\n",
       "TIF | Tiffany &amp; Co. | returned <span style=\"font-weight: bold\">{}</span>\n",
       "TIN | Temple-Inland Inc. | returned <span style=\"font-weight: bold\">{}</span>\n",
       "TLAB | Tellabs Inc. | returned <span style=\"font-weight: bold\">{}</span>\n",
       "TMC.A | Times Mirror Co Share | returned <span style=\"font-weight: bold\">{}</span>\n",
       "TNB | Thomas &amp; Betts Corp | returned <span style=\"font-weight: bold\">{}</span>\n",
       "TOS | Tosco Corp. | returned <span style=\"font-weight: bold\">{}</span>\n",
       "TOY | Toys <span style=\"color: #008000; text-decoration-color: #008000\">\"R\"</span> Us, Inc. | returned <span style=\"font-weight: bold\">{}</span>\n",
       "TRCO | Tribune Media Co | returned <span style=\"font-weight: bold\">{}</span>\n",
       "TRW <span style=\"font-weight: bold\">(</span>TRW<span style=\"font-weight: bold\">)</span> | TRW Inc. | returned <span style=\"font-weight: bold\">{}</span>\n",
       "TSG | Sabre Holdings Corp | returned <span style=\"font-weight: bold\">{}</span>\n",
       "ANDV | Andeavor | returned <span style=\"font-weight: bold\">{}</span>\n",
       "TSS | Total System Services Inc | returned <span style=\"font-weight: bold\">{}</span>\n",
       "TT <span style=\"font-weight: bold\">(</span>Tra<span style=\"font-weight: bold\">)</span> | Trane Inc. | returned <span style=\"font-weight: bold\">{}</span>\n",
       "TUP | Tupperware Brands Corp | returned <span style=\"font-weight: bold\">{}</span>\n",
       "TWC | Time Warner Cable Inc. | returned <span style=\"font-weight: bold\">{}</span>\n",
       "TWX | Time Warner Inc. | returned <span style=\"font-weight: bold\">{}</span>\n",
       "TWX <span style=\"font-weight: bold\">(</span>Old<span style=\"font-weight: bold\">)</span> | Time Warner Inc. <span style=\"font-weight: bold\">(</span>Old<span style=\"font-weight: bold\">)</span> | returned <span style=\"font-weight: bold\">{}</span>\n",
       "TXU | TXU Corp. | returned <span style=\"font-weight: bold\">{}</span>\n",
       "UA.A | Under Armour Inc Class A | returned <span style=\"font-weight: bold\">{}</span>\n",
       "UCM | Unicom Corp Holding Co | returned <span style=\"font-weight: bold\">{}</span>\n",
       "UMG | MediaOne Group Inc. | returned <span style=\"font-weight: bold\">{}</span>\n",
       "UN | Unilever N.V. | returned <span style=\"font-weight: bold\">{}</span>\n",
       "UPR | Union Pacific Resources Group Inc | returned <span style=\"font-weight: bold\">{}</span>\n",
       "USB <span style=\"font-weight: bold\">(</span>FBS<span style=\"font-weight: bold\">)</span> | U.S. Bancorp <span style=\"font-weight: bold\">(</span>First Bank<span style=\"font-weight: bold\">)</span> | returned <span style=\"font-weight: bold\">{}</span>\n",
       "UST | UST Inc. | returned <span style=\"font-weight: bold\">{}</span>\n",
       "USW | US West Inc. | returned <span style=\"font-weight: bold\">{}</span>\n",
       "UVN | Univision Comm Inc | returned <span style=\"font-weight: bold\">{}</span>\n",
       "VAR | Varian Medical Systems Inc | returned <span style=\"font-weight: bold\">{}</span>\n",
       "VIAB | Viacom Inc. | returned <span style=\"font-weight: bold\">{}</span>\n",
       "VO | Seagram Co. Ltd. | returned <span style=\"font-weight: bold\">{}</span>\n",
       "VRTS <span style=\"font-weight: bold\">(</span>Veri<span style=\"font-weight: bold\">)</span> | Veritas Software Corp | returned <span style=\"font-weight: bold\">{}</span>\n",
       "VTSS | Vitesse Semiconductor Corp | returned <span style=\"font-weight: bold\">{}</span>\n",
       "WB <span style=\"font-weight: bold\">(</span>Old<span style=\"font-weight: bold\">)</span> | Wachovia Corp <span style=\"font-weight: bold\">(</span>Old<span style=\"font-weight: bold\">)</span> | returned <span style=\"font-weight: bold\">{}</span>\n",
       "WCOM | WorldCom Inc | returned <span style=\"font-weight: bold\">{}</span>\n",
       "WFM | Whole Foods Market Inc | returned <span style=\"font-weight: bold\">{}</span>\n",
       "WFT | Weatherford Int'l plc | returned <span style=\"font-weight: bold\">{}</span>\n",
       "WIN | Windstream Holdings Inc | returned <span style=\"font-weight: bold\">{}</span>\n",
       "WIN <span style=\"font-weight: bold\">(</span>W-D<span style=\"font-weight: bold\">)</span> | Winn-Dixie Stores Inc <span style=\"font-weight: bold\">(</span>Old<span style=\"font-weight: bold\">)</span> | returned <span style=\"font-weight: bold\">{}</span>\n",
       "WLA | Warner Lambert Pharmaceutical Co | returned <span style=\"font-weight: bold\">{}</span>\n",
       "WLL <span style=\"font-weight: bold\">(</span>Wil<span style=\"font-weight: bold\">)</span> | Willamette Industries Inc | returned <span style=\"font-weight: bold\">{}</span>\n",
       "WLP | Wellpoint Health Networks Inc | returned <span style=\"font-weight: bold\">{}</span>\n",
       "WPX | WPX Energy Inc | returned <span style=\"font-weight: bold\">{}</span>\n",
       "WWY | Wrigley Co. | returned <span style=\"font-weight: bold\">{}</span>\n",
       "WYE | Wyeth Corp. | returned <span style=\"font-weight: bold\">{}</span>\n",
       "WYND | Wyndham Destinations Inc | returned <span style=\"font-weight: bold\">{}</span>\n",
       "XEC | Cimarex Energy Co | returned <span style=\"font-weight: bold\">{}</span>\n",
       "XL | XL Group Ltd | returned <span style=\"font-weight: bold\">{}</span>\n",
       "XLNX | Xilinx Inc. | returned <span style=\"font-weight: bold\">{}</span>\n",
       "XTO | XTO Energy Inc. | returned <span style=\"font-weight: bold\">{}</span>\n",
       "YHOO | Yahoo! Inc | returned <span style=\"font-weight: bold\">{}</span>\n",
       "YNR | Young &amp; Rubicam Inc | returned <span style=\"font-weight: bold\">{}</span>\n",
       "DISH | DISH Network Corp | returned <span style=\"font-weight: bold\">{}</span>\n",
       "INFO | IHS Markit Ltd. | returned <span style=\"font-weight: bold\">{}</span>\n",
       "DRE | Duke Realty | returned <span style=\"font-weight: bold\">{}</span>\n",
       "SIVB | SVB Financial Group | returned <span style=\"font-weight: bold\">{}</span>\n",
       "ABMD | ABIOMED Inc | returned <span style=\"font-weight: bold\">{}</span>\n",
       "TWTR | Twitter Inc | returned <span style=\"font-weight: bold\">{}</span>\n",
       "HFC | HollyFrontier Corp | returned <span style=\"font-weight: bold\">{}</span>\n",
       "WCG | WellCare Health Plans Inc | returned <span style=\"font-weight: bold\">{}</span>\n",
       "SBNY | Signature Bank | returned <span style=\"font-weight: bold\">{}</span>\n",
       "\n",
       "</pre>\n"
      ],
      "text/plain": [
       "ABI | Applied Biosystems Inc. | returned \u001b[1m{\u001b[0m\u001b[1m}\u001b[0m\n",
       "ABS | Albertson's Inc. | returned \u001b[1m{\u001b[0m\u001b[1m}\u001b[0m\n",
       "ABX | Barrick Gold Corp. | returned \u001b[1m{\u001b[0m\u001b[1m}\u001b[0m\n",
       "ACAS | American Capital Ltd | returned \u001b[1m{\u001b[0m\u001b[1m}\u001b[0m\n",
       "ACKH | Armstrong Holding Inc | returned \u001b[1m{\u001b[0m\u001b[1m}\u001b[0m\n",
       "ACS | Affiliated Computer Services | returned \u001b[1m{\u001b[0m\u001b[1m}\u001b[0m\n",
       "ACV | Alberto-Culver Co. | returned \u001b[1m{\u001b[0m\u001b[1m}\u001b[0m\n",
       "SXCL | Steel Excel Inc | returned \u001b[1m{\u001b[0m\u001b[1m}\u001b[0m\n",
       "ADS | Alliance Data Systems Corp. | returned \u001b[1m{\u001b[0m\u001b[1m}\u001b[0m\n",
       "AET | Aetna Inc. | returned \u001b[1m{\u001b[0m\u001b[1m}\u001b[0m\n",
       "AFS.A | Associates First Capital Corp | returned \u001b[1m{\u001b[0m\u001b[1m}\u001b[0m\n",
       "AGC | American General Insurance Co | returned \u001b[1m{\u001b[0m\u001b[1m}\u001b[0m\n",
       "AGN | Allergan plc | returned \u001b[1m{\u001b[0m\u001b[1m}\u001b[0m\n",
       "AGN \u001b[1m(\u001b[0mOld\u001b[1m)\u001b[0m | Allergan Inc. \u001b[1m(\u001b[0mOld\u001b[1m)\u001b[0m | returned \u001b[1m{\u001b[0m\u001b[1m}\u001b[0m\n",
       "AKS | AK Steel Holding Corp. | returned \u001b[1m{\u001b[0m\u001b[1m}\u001b[0m\n",
       "AL \u001b[1m(\u001b[0mAlc\u001b[1m)\u001b[0m | Alcan Inc. | returned \u001b[1m{\u001b[0m\u001b[1m}\u001b[0m\n",
       "ALTR \u001b[1m(\u001b[0mAlt\u001b[1m)\u001b[0m | Altera Corp. | returned \u001b[1m{\u001b[0m\u001b[1m}\u001b[0m\n",
       "ALXN | Alexion Pharmaceuticals Inc | returned \u001b[1m{\u001b[0m\u001b[1m}\u001b[0m\n",
       "AMCC | Applied Micro Circuits Corp. | returned \u001b[1m{\u001b[0m\u001b[1m}\u001b[0m\n",
       "AMR \u001b[1m(\u001b[0mAMR\u001b[1m)\u001b[0m | AMR Corp. | returned \u001b[1m{\u001b[0m\u001b[1m}\u001b[0m\n",
       "ANDW | Andrew Corp. | returned \u001b[1m{\u001b[0m\u001b[1m}\u001b[0m\n",
       "ANR | Alpha Natural Resources Inc | returned \u001b[1m{\u001b[0m\u001b[1m}\u001b[0m\n",
       "APC | Anadarko Petroleum Corp. | returned \u001b[1m{\u001b[0m\u001b[1m}\u001b[0m\n",
       "APCC | American Power Conversion Corp | returned \u001b[1m{\u001b[0m\u001b[1m}\u001b[0m\n",
       "APOL | Apollo Education Group | returned \u001b[1m{\u001b[0m\u001b[1m}\u001b[0m\n",
       "ARC \u001b[1m(\u001b[0mAtl\u001b[1m)\u001b[0m | Atlantic Richfield Co | returned \u001b[1m{\u001b[0m\u001b[1m}\u001b[0m\n",
       "ARG | Airgas Inc. | returned \u001b[1m{\u001b[0m\u001b[1m}\u001b[0m\n",
       "ASN | Archstone-Smith Trust | returned \u001b[1m{\u001b[0m\u001b[1m}\u001b[0m\n",
       "AT \u001b[1m(\u001b[0mAll\u001b[1m)\u001b[0m | Alltel Corp | returned \u001b[1m{\u001b[0m\u001b[1m}\u001b[0m\n",
       "ATVI | Activision Blizzard Inc | returned \u001b[1m{\u001b[0m\u001b[1m}\u001b[0m\n",
       "AV | Avaya Inc. | returned \u001b[1m{\u001b[0m\u001b[1m}\u001b[0m\n",
       "AVP | Avon Products Inc | returned \u001b[1m{\u001b[0m\u001b[1m}\u001b[0m\n",
       "AW | Allied Waste Industries Inc. | returned \u001b[1m{\u001b[0m\u001b[1m}\u001b[0m\n",
       "AWE | AT&T Wireless | returned \u001b[1m{\u001b[0m\u001b[1m}\u001b[0m\n",
       "AYE | Allegheny Energy Inc. | returned \u001b[1m{\u001b[0m\u001b[1m}\u001b[0m\n",
       "AZA.A | ALZA Corp. | returned \u001b[1m{\u001b[0m\u001b[1m}\u001b[0m\n",
       "BBBY | Bed Bath & Beyond Inc | returned \u001b[1m{\u001b[0m\u001b[1m}\u001b[0m\n",
       "BCR | C. R. Bard Inc | returned \u001b[1m{\u001b[0m\u001b[1m}\u001b[0m\n",
       "BDK | Black & Decker Manufacturing | returned \u001b[1m{\u001b[0m\u001b[1m}\u001b[0m\n",
       "BEAM \u001b[1m(\u001b[0mSun\u001b[1m)\u001b[0m | Beam Suntory Inc | returned \u001b[1m{\u001b[0m\u001b[1m}\u001b[0m\n",
       "BF.B | Brown-Forman Corp. | returned \u001b[1m{\u001b[0m\u001b[1m}\u001b[0m\n",
       "BFO | BestFoods | returned \u001b[1m{\u001b[0m\u001b[1m}\u001b[0m\n",
       "BGEN | Biogen NV | returned \u001b[1m{\u001b[0m\u001b[1m}\u001b[0m\n",
       "BGG | Briggs & Stratton Corp | returned \u001b[1m{\u001b[0m\u001b[1m}\u001b[0m\n",
       "BIG | Big Lots Inc. | returned \u001b[1m{\u001b[0m\u001b[1m}\u001b[0m\n",
       "BJS | BJ Services Co. | returned \u001b[1m{\u001b[0m\u001b[1m}\u001b[0m\n",
       "BLS | BellSouth Corp. | returned \u001b[1m{\u001b[0m\u001b[1m}\u001b[0m\n",
       "BMC | BMC Software Inc | returned \u001b[1m{\u001b[0m\u001b[1m}\u001b[0m\n",
       "BMET | Biomet Inc. | returned \u001b[1m{\u001b[0m\u001b[1m}\u001b[0m\n",
       "BMS | Bemis Company Inc | returned \u001b[1m{\u001b[0m\u001b[1m}\u001b[0m\n",
       "BNI | Burlington Northern Santa Fe Corp | returned \u001b[1m{\u001b[0m\u001b[1m}\u001b[0m\n",
       "BOL | Bausch & Lomb Inc. | returned \u001b[1m{\u001b[0m\u001b[1m}\u001b[0m\n",
       "BR \u001b[1m(\u001b[0mOLD\u001b[1m)\u001b[0m | Burlington Resources | returned \u001b[1m{\u001b[0m\u001b[1m}\u001b[0m\n",
       "BRCM | Broadcom Corp. | returned \u001b[1m{\u001b[0m\u001b[1m}\u001b[0m\n",
       "BRK.B | Berkshire Hathaway Inc | returned \u001b[1m{\u001b[0m\u001b[1m}\u001b[0m\n",
       "BRL | Barr Pharmaceuticals Inc. | returned \u001b[1m{\u001b[0m\u001b[1m}\u001b[0m\n",
       "BS | Bethlehem Steel Corp | returned \u001b[1m{\u001b[0m\u001b[1m}\u001b[0m\n",
       "BSC | Bear Stearns Co | returned \u001b[1m{\u001b[0m\u001b[1m}\u001b[0m\n",
       "BUD \u001b[1m(\u001b[0mAnh\u001b[1m)\u001b[0m | Anheuser-Busch Inc. | returned \u001b[1m{\u001b[0m\u001b[1m}\u001b[0m\n",
       "BVSN | BroadVision Inc. | returned \u001b[1m{\u001b[0m\u001b[1m}\u001b[0m\n",
       "BXLT | Baxalta | returned \u001b[1m{\u001b[0m\u001b[1m}\u001b[0m\n",
       "CA | CA Inc | returned \u001b[1m{\u001b[0m\u001b[1m}\u001b[0m\n",
       "CAM | Cameron International Corp | returned \u001b[1m{\u001b[0m\u001b[1m}\u001b[0m\n",
       "CB \u001b[1m(\u001b[0mOld\u001b[1m)\u001b[0m | Chubb Corp. \u001b[1m(\u001b[0mOld\u001b[1m)\u001b[0m | returned \u001b[1m{\u001b[0m\u001b[1m}\u001b[0m\n",
       "CBE | Cooper Industries plc | returned \u001b[1m{\u001b[0m\u001b[1m}\u001b[0m\n",
       "CBH | Commerce Bancorp \u001b[1m(\u001b[0mNew Jersey\u001b[1m)\u001b[0m | returned \u001b[1m{\u001b[0m\u001b[1m}\u001b[0m\n",
       "CBS \u001b[1m(\u001b[0mOld\u001b[1m)\u001b[0m | CBS Corp. \u001b[1m(\u001b[0mOld\u001b[1m)\u001b[0m | returned \u001b[1m{\u001b[0m\u001b[1m}\u001b[0m\n",
       "CBSS | Compass Bancshares Inc | returned \u001b[1m{\u001b[0m\u001b[1m}\u001b[0m\n",
       "CC \u001b[1m(\u001b[0mCirc\u001b[1m)\u001b[0m | Circuit City Stores Inc. | returned \u001b[1m{\u001b[0m\u001b[1m}\u001b[0m\n",
       "CCE | Coca-Cola European Partners plc | returned \u001b[1m{\u001b[0m\u001b[1m}\u001b[0m\n",
       "CE \u001b[1m(\u001b[0mCon\u001b[1m)\u001b[0m | Concord EFS Inc. | returned \u001b[1m{\u001b[0m\u001b[1m}\u001b[0m\n",
       "CEG \u001b[1m(\u001b[0mOld\u001b[1m)\u001b[0m | Constellation Energy Group Inc \u001b[1m(\u001b[0mOld\u001b[1m)\u001b[0m | returned \u001b[1m{\u001b[0m\u001b[1m}\u001b[0m\n",
       "CELG | Celgene Corp. | returned \u001b[1m{\u001b[0m\u001b[1m}\u001b[0m\n",
       "CEN | Ceridian Corp. | returned \u001b[1m{\u001b[0m\u001b[1m}\u001b[0m\n",
       "CEPH | Cephalon Inc. | returned \u001b[1m{\u001b[0m\u001b[1m}\u001b[0m\n",
       "CERN | Cerner Corp | returned \u001b[1m{\u001b[0m\u001b[1m}\u001b[0m\n",
       "CF \u001b[1m(\u001b[0mChar\u001b[1m)\u001b[0m | Charter One Financial Inc | returned \u001b[1m{\u001b[0m\u001b[1m}\u001b[0m\n",
       "CFC | Countrywide Financial Corp. | returned \u001b[1m{\u001b[0m\u001b[1m}\u001b[0m\n",
       "CFN | CareFusion Corp | returned \u001b[1m{\u001b[0m\u001b[1m}\u001b[0m\n",
       "CGP | Coastal Corp. | returned \u001b[1m{\u001b[0m\u001b[1m}\u001b[0m\n",
       "CHA | Champion International Corp | returned \u001b[1m{\u001b[0m\u001b[1m}\u001b[0m\n",
       "CHIR | Chiron Corp. | returned \u001b[1m{\u001b[0m\u001b[1m}\u001b[0m\n",
       "CIN | Cinergy Corp. | returned \u001b[1m{\u001b[0m\u001b[1m}\u001b[0m\n",
       "CIT | CIT Group Inc. | returned \u001b[1m{\u001b[0m\u001b[1m}\u001b[0m\n",
       "CMCSK | Comcast Class A Spec. | returned \u001b[1m{\u001b[0m\u001b[1m}\u001b[0m\n",
       "CMCSK \u001b[1m(\u001b[0mOld\u001b[1m)\u001b[0m | Comcast Corp \u001b[1m(\u001b[0mOld\u001b[1m)\u001b[0m | returned \u001b[1m{\u001b[0m\u001b[1m}\u001b[0m\n",
       "CMVT | Comverse Technology Inc | returned \u001b[1m{\u001b[0m\u001b[1m}\u001b[0m\n",
       "CMX | Caremark Rx | returned \u001b[1m{\u001b[0m\u001b[1m}\u001b[0m\n",
       "CNG | Consolidated Natural Gas Co | returned \u001b[1m{\u001b[0m\u001b[1m}\u001b[0m\n",
       "CNXT | Conexant Systems | returned \u001b[1m{\u001b[0m\u001b[1m}\u001b[0m\n",
       "COC.B | Conoco Inc. | returned \u001b[1m{\u001b[0m\u001b[1m}\u001b[0m\n",
       "COL | Rockwell Collins Inc | returned \u001b[1m{\u001b[0m\u001b[1m}\u001b[0m\n",
       "COMS | 3Com Corp. | returned \u001b[1m{\u001b[0m\u001b[1m}\u001b[0m\n",
       "COV | Covidien Plc | returned \u001b[1m{\u001b[0m\u001b[1m}\u001b[0m\n",
       "CPGX | Columbia Pipeline Group Inc. | returned \u001b[1m{\u001b[0m\u001b[1m}\u001b[0m\n",
       "CPN | Calpine Corp. | returned \u001b[1m{\u001b[0m\u001b[1m}\u001b[0m\n",
       "CPQ | Compaq Computer Corp | returned \u001b[1m{\u001b[0m\u001b[1m}\u001b[0m\n",
       "CPWR | Compuware Corp | returned \u001b[1m{\u001b[0m\u001b[1m}\u001b[0m\n",
       "CSC | Computer Sciences Corp. | returned \u001b[1m{\u001b[0m\u001b[1m}\u001b[0m\n",
       "CSRA | CSRA Inc | returned \u001b[1m{\u001b[0m\u001b[1m}\u001b[0m\n",
       "CTB | Cooper Tire & Rubber Co. | returned \u001b[1m{\u001b[0m\u001b[1m}\u001b[0m\n",
       "CTX | Centex Corp. | returned \u001b[1m{\u001b[0m\u001b[1m}\u001b[0m\n",
       "CTXS | Citrix Systems Inc | returned \u001b[1m{\u001b[0m\u001b[1m}\u001b[0m\n",
       "RMG | Cablevision Systems Corp. | returned \u001b[1m{\u001b[0m\u001b[1m}\u001b[0m\n",
       "CVG | Convergys Corp. | returned \u001b[1m{\u001b[0m\u001b[1m}\u001b[0m\n",
       "CVH | Coventry Corp | returned \u001b[1m{\u001b[0m\u001b[1m}\u001b[0m\n",
       "CXO | Concho Resources Inc | returned \u001b[1m{\u001b[0m\u001b[1m}\u001b[0m\n",
       "DD \u001b[1m(\u001b[0mOld\u001b[1m)\u001b[0m | DuPont Co \u001b[1m(\u001b[0mOld\u001b[1m)\u001b[0m | returned \u001b[1m{\u001b[0m\u001b[1m}\u001b[0m\n",
       "DF | Dean Foods Co | returned \u001b[1m{\u001b[0m\u001b[1m}\u001b[0m\n",
       "DISCK | Discovery Communications Inc Class C \u001b[1m(\u001b[0mWarner Bros. Discovery Inc\u001b[1m)\u001b[0m | returned \u001b[1m{\u001b[0m\u001b[1m}\u001b[0m\n",
       "DJ | Dow Jones & Co. Inc. | returned \u001b[1m{\u001b[0m\u001b[1m}\u001b[0m\n",
       "DNR | Denbury Resources Inc. | returned \u001b[1m{\u001b[0m\u001b[1m}\u001b[0m\n",
       "DO | Diamond Offshore Drilling Inc | returned \u001b[1m{\u001b[0m\u001b[1m}\u001b[0m\n",
       "DPH | Delphi Corp. \u001b[1m(\u001b[0mOld\u001b[1m)\u001b[0m | returned \u001b[1m{\u001b[0m\u001b[1m}\u001b[0m\n",
       "DPS | Dr Pepper Snapple Group Inc | returned \u001b[1m{\u001b[0m\u001b[1m}\u001b[0m\n",
       "DTV | DirecTV | returned \u001b[1m{\u001b[0m\u001b[1m}\u001b[0m\n",
       "EDS | Electronic Data Systems Corp | returned \u001b[1m{\u001b[0m\u001b[1m}\u001b[0m\n",
       "EFU | Eastern Enterprises | returned \u001b[1m{\u001b[0m\u001b[1m}\u001b[0m\n",
       "EMC | EMC Corp. | returned \u001b[1m{\u001b[0m\u001b[1m}\u001b[0m\n",
       "ENDP | Endo Int'l plc | returned \u001b[1m{\u001b[0m\u001b[1m}\u001b[0m\n",
       "ENRNQ | Enron Corp. | returned \u001b[1m{\u001b[0m\u001b[1m}\u001b[0m\n",
       "EOP | Equity Office Properties Trust | returned \u001b[1m{\u001b[0m\u001b[1m}\u001b[0m\n",
       "EQ \u001b[1m(\u001b[0mEmb\u001b[1m)\u001b[0m | Embarq Corporation | returned \u001b[1m{\u001b[0m\u001b[1m}\u001b[0m\n",
       "ESRX | Express Scripts Holding Co | returned \u001b[1m{\u001b[0m\u001b[1m}\u001b[0m\n",
       "ETFC | E*Trade Financial Corp. | returned \u001b[1m{\u001b[0m\u001b[1m}\u001b[0m\n",
       "ETS | Enterasys Networks Inc. | returned \u001b[1m{\u001b[0m\u001b[1m}\u001b[0m\n",
       "EVHC | Envision Healthcare Holdings Inc | returned \u001b[1m{\u001b[0m\u001b[1m}\u001b[0m\n",
       "FBF | FleetBoston Financial Group Inc | returned \u001b[1m{\u001b[0m\u001b[1m}\u001b[0m\n",
       "FDC | First Data Corp. | returned \u001b[1m{\u001b[0m\u001b[1m}\u001b[0m\n",
       "FDO | Family Dollar Stores Inc | returned \u001b[1m{\u001b[0m\u001b[1m}\u001b[0m\n",
       "FJ | Fort James Corp. | returned \u001b[1m{\u001b[0m\u001b[1m}\u001b[0m\n",
       "FLE | Fleetwood Enterprises Inc | returned \u001b[1m{\u001b[0m\u001b[1m}\u001b[0m\n",
       "FLIR | FLIR Systems Inc | returned \u001b[1m{\u001b[0m\u001b[1m}\u001b[0m\n",
       "FNMA | Fannie Mae \u001b[1m(\u001b[0mFNMA\u001b[1m)\u001b[0m | returned \u001b[1m{\u001b[0m\u001b[1m}\u001b[0m\n",
       "FOX \u001b[1m(\u001b[0mOld\u001b[1m)\u001b[0m | Twenty-First Century Fox Inc Class B | returned \u001b[1m{\u001b[0m\u001b[1m}\u001b[0m\n",
       "FOXA \u001b[1m(\u001b[0mOld\u001b[1m)\u001b[0m | Twenty-First Century Fox Inc Class A | returned \u001b[1m{\u001b[0m\u001b[1m}\u001b[0m\n",
       "FPC | Florida Progress Corp | returned \u001b[1m{\u001b[0m\u001b[1m}\u001b[0m\n",
       "FRC | First Republic Bank | returned \u001b[1m{\u001b[0m\u001b[1m}\u001b[0m\n",
       "FMCC | Freddie Mac \u001b[1m(\u001b[0mFHLMC\u001b[1m)\u001b[0m | returned \u001b[1m{\u001b[0m\u001b[1m}\u001b[0m\n",
       "FRX | Forest Laboratories Inc | returned \u001b[1m{\u001b[0m\u001b[1m}\u001b[0m\n",
       "FSH | Fisher Scientific Int'l | returned \u001b[1m{\u001b[0m\u001b[1m}\u001b[0m\n",
       "FSLB | Freescale Semiconductor Inc | returned \u001b[1m{\u001b[0m\u001b[1m}\u001b[0m\n",
       "FTR | Frontier Comm's Corp | returned \u001b[1m{\u001b[0m\u001b[1m}\u001b[0m\n",
       "FWLT | Foster Wheeler AG | returned \u001b[1m{\u001b[0m\u001b[1m}\u001b[0m\n",
       "G \u001b[1m(\u001b[0mGil\u001b[1m)\u001b[0m | Gillette Co. | returned \u001b[1m{\u001b[0m\u001b[1m}\u001b[0m\n",
       "GAS | AGL Resources Inc. | returned \u001b[1m{\u001b[0m\u001b[1m}\u001b[0m\n",
       "GAS \u001b[1m(\u001b[0mNico\u001b[1m)\u001b[0m | Nicor Inc. | returned \u001b[1m{\u001b[0m\u001b[1m}\u001b[0m\n",
       "GDT | Guidant Corp | returned \u001b[1m{\u001b[0m\u001b[1m}\u001b[0m\n",
       "GDW | Golden West Financial | returned \u001b[1m{\u001b[0m\u001b[1m}\u001b[0m\n",
       "GEN \u001b[1m(\u001b[0mGen\u001b[1m)\u001b[0m | GenOn Energy Inc | returned \u001b[1m{\u001b[0m\u001b[1m}\u001b[0m\n",
       "GENZ | Genzyme Corp. | returned \u001b[1m{\u001b[0m\u001b[1m}\u001b[0m\n",
       "GGP | GGP Inc | returned \u001b[1m{\u001b[0m\u001b[1m}\u001b[0m\n",
       "NLV | NextLevel Systems Inc | returned \u001b[1m{\u001b[0m\u001b[1m}\u001b[0m\n",
       "GLK \u001b[1m(\u001b[0mChem\u001b[1m)\u001b[0m | Great Lakes Chemical Corp | returned \u001b[1m{\u001b[0m\u001b[1m}\u001b[0m\n",
       "GMCR | Keurig Green Mountain Inc | returned \u001b[1m{\u001b[0m\u001b[1m}\u001b[0m\n",
       "GPS | Gap Inc. | returned \u001b[1m{\u001b[0m\u001b[1m}\u001b[0m\n",
       "GPU | GPU Inc. | returned \u001b[1m{\u001b[0m\u001b[1m}\u001b[0m\n",
       "GR | Goodrich Corp. | returned \u001b[1m{\u001b[0m\u001b[1m}\u001b[0m\n",
       "GRA | W. R. Grace & Co | returned \u001b[1m{\u001b[0m\u001b[1m}\u001b[0m\n",
       "GTE \u001b[1m(\u001b[0mGTE\u001b[1m)\u001b[0m | GTE Corp. | returned \u001b[1m{\u001b[0m\u001b[1m}\u001b[0m\n",
       "GTW | Gateway Inc. | returned \u001b[1m{\u001b[0m\u001b[1m}\u001b[0m\n",
       "GLBC \u001b[1m(\u001b[0mGlob\u001b[1m)\u001b[0m | Global Crossing Ltd | returned \u001b[1m{\u001b[0m\u001b[1m}\u001b[0m\n",
       "H \u001b[1m(\u001b[0mHar\u001b[1m)\u001b[0m | Harcourt General Inc. | returned \u001b[1m{\u001b[0m\u001b[1m}\u001b[0m\n",
       "HAR | Harman Int'l Industries Inc | returned \u001b[1m{\u001b[0m\u001b[1m}\u001b[0m\n",
       "HCBK | Hudson City Bancorp Inc | returned \u001b[1m{\u001b[0m\u001b[1m}\u001b[0m\n",
       "HCR | Manor Care Inc. | returned \u001b[1m{\u001b[0m\u001b[1m}\u001b[0m\n",
       "CZR \u001b[1m(\u001b[0mHar\u001b[1m)\u001b[0m | Harrah's Entertainment | returned \u001b[1m{\u001b[0m\u001b[1m}\u001b[0m\n",
       "HI \u001b[1m(\u001b[0mHou\u001b[1m)\u001b[0m | Household International Inc | returned \u001b[1m{\u001b[0m\u001b[1m}\u001b[0m\n",
       "HM | Homestake Mining Co | returned \u001b[1m{\u001b[0m\u001b[1m}\u001b[0m\n",
       "HMA | Health Management Associates Inc | returned \u001b[1m{\u001b[0m\u001b[1m}\u001b[0m\n",
       "HNZ | H. J. Heinz Company | returned \u001b[1m{\u001b[0m\u001b[1m}\u001b[0m\n",
       "HOT | Starwood Hotels & Resorts Worldwide Inc | returned \u001b[1m{\u001b[0m\u001b[1m}\u001b[0m\n",
       "HPC | Hercules Inc. | returned \u001b[1m{\u001b[0m\u001b[1m}\u001b[0m\n",
       "HSH | Hillshire Brands Co | returned \u001b[1m{\u001b[0m\u001b[1m}\u001b[0m\n",
       "HSP | Hospira Inc. | returned \u001b[1m{\u001b[0m\u001b[1m}\u001b[0m\n",
       "IGT \u001b[1m(\u001b[0mOld\u001b[1m)\u001b[0m | International Game Technology plc \u001b[1m(\u001b[0mOld\u001b[1m)\u001b[0m | returned \u001b[1m{\u001b[0m\u001b[1m}\u001b[0m\n",
       "IKN | IKON Office Solutions Inc | returned \u001b[1m{\u001b[0m\u001b[1m}\u001b[0m\n",
       "IMNX | Immunex Corp. | returned \u001b[1m{\u001b[0m\u001b[1m}\u001b[0m\n",
       "JAVA | Sun Microsystems | returned \u001b[1m{\u001b[0m\u001b[1m}\u001b[0m\n",
       "JCI \u001b[1m(\u001b[0mOld\u001b[1m)\u001b[0m | Johnson Controls \u001b[1m(\u001b[0mOld\u001b[1m)\u001b[0m | returned \u001b[1m{\u001b[0m\u001b[1m}\u001b[0m\n",
       "JCP | J.C. Penney Co Inc | returned \u001b[1m{\u001b[0m\u001b[1m}\u001b[0m\n",
       "JHF | John Hancock Financial Services Inc | returned \u001b[1m{\u001b[0m\u001b[1m}\u001b[0m\n",
       "JNS | Janus Capital Group | returned \u001b[1m{\u001b[0m\u001b[1m}\u001b[0m\n",
       "JNY | Jones Group | returned \u001b[1m{\u001b[0m\u001b[1m}\u001b[0m\n",
       "JOS | Jostens Inc. | returned \u001b[1m{\u001b[0m\u001b[1m}\u001b[0m\n",
       "JOY | Joy Global Inc. | returned \u001b[1m{\u001b[0m\u001b[1m}\u001b[0m\n",
       "JP | Jefferson-Pilot Corp. | returned \u001b[1m{\u001b[0m\u001b[1m}\u001b[0m\n",
       "JPM \u001b[1m(\u001b[0mOld\u001b[1m)\u001b[0m | J. P. Morgan & Co. Inc \u001b[1m(\u001b[0mOld\u001b[1m)\u001b[0m | returned \u001b[1m{\u001b[0m\u001b[1m}\u001b[0m\n",
       "KATE | Kate Spade & Co | returned \u001b[1m{\u001b[0m\u001b[1m}\u001b[0m\n",
       "KG | King Pharmaceuticals Inc. | returned \u001b[1m{\u001b[0m\u001b[1m}\u001b[0m\n",
       "KM | Kmart Corp | returned \u001b[1m{\u001b[0m\u001b[1m}\u001b[0m\n",
       "KMG \u001b[1m(\u001b[0mKer\u001b[1m)\u001b[0m | Kerr-McGee Corp. | returned \u001b[1m{\u001b[0m\u001b[1m}\u001b[0m\n",
       "KRB | MBNA Corp. | returned \u001b[1m{\u001b[0m\u001b[1m}\u001b[0m\n",
       "KRI | Knight-Ridder Inc. | returned \u001b[1m{\u001b[0m\u001b[1m}\u001b[0m\n",
       "KSE | KeySpan Corp | returned \u001b[1m{\u001b[0m\u001b[1m}\u001b[0m\n",
       "KSU | Kansas City Southern | returned \u001b[1m{\u001b[0m\u001b[1m}\u001b[0m\n",
       "LDG | Longs Drug Stores Inc | returned \u001b[1m{\u001b[0m\u001b[1m}\u001b[0m\n",
       "LEHMQ | Lehman Brothers Holding | returned \u001b[1m{\u001b[0m\u001b[1m}\u001b[0m\n",
       "LIFE \u001b[1m(\u001b[0mTech\u001b[1m)\u001b[0m | Life Technologies Corp | returned \u001b[1m{\u001b[0m\u001b[1m}\u001b[0m\n",
       "LLL | L-\u001b[1;36m3\u001b[0m Comm's Holdings Inc | returned \u001b[1m{\u001b[0m\u001b[1m}\u001b[0m\n",
       "LLTC | Linear Technology Corp. | returned \u001b[1m{\u001b[0m\u001b[1m}\u001b[0m\n",
       "LM | Legg Mason Inc | returned \u001b[1m{\u001b[0m\u001b[1m}\u001b[0m\n",
       "LO | Lorillard Inc. | returned \u001b[1m{\u001b[0m\u001b[1m}\u001b[0m\n",
       "LSI \u001b[1m(\u001b[0mLSI\u001b[1m)\u001b[0m | LSI Corp | returned \u001b[1m{\u001b[0m\u001b[1m}\u001b[0m\n",
       "LVLT | Level \u001b[1;36m3\u001b[0m Comm's Inc | returned \u001b[1m{\u001b[0m\u001b[1m}\u001b[0m\n",
       "LXK | Lexmark International Inc | returned \u001b[1m{\u001b[0m\u001b[1m}\u001b[0m\n",
       "MAY | May Dept Stores | returned \u001b[1m{\u001b[0m\u001b[1m}\u001b[0m\n",
       "MDP | Meredith Corp. | returned \u001b[1m{\u001b[0m\u001b[1m}\u001b[0m\n",
       "MDR | McDermott Int'l Inc | returned \u001b[1m{\u001b[0m\u001b[1m}\u001b[0m\n",
       "MEA | Mead Corp. | returned \u001b[1m{\u001b[0m\u001b[1m}\u001b[0m\n",
       "MEDI | MedImmune Inc. | returned \u001b[1m{\u001b[0m\u001b[1m}\u001b[0m\n",
       "MEE | Massey Energy Co. | returned \u001b[1m{\u001b[0m\u001b[1m}\u001b[0m\n",
       "MEL | Mellon Financial Corp | returned \u001b[1m{\u001b[0m\u001b[1m}\u001b[0m\n",
       "MER | Merrill Lynch & Co | returned \u001b[1m{\u001b[0m\u001b[1m}\u001b[0m\n",
       "MERQ | Mercury Interactive Corp | returned \u001b[1m{\u001b[0m\u001b[1m}\u001b[0m\n",
       "MFE | McAfee Inc. | returned \u001b[1m{\u001b[0m\u001b[1m}\u001b[0m\n",
       "MHS | Medco Health Solution Inc | returned \u001b[1m{\u001b[0m\u001b[1m}\u001b[0m\n",
       "MIL | Millipore Corp | returned \u001b[1m{\u001b[0m\u001b[1m}\u001b[0m\n",
       "MIR \u001b[1m(\u001b[0mM. R.\u001b[1m)\u001b[0m | Mirage Resorts Inc | returned \u001b[1m{\u001b[0m\u001b[1m}\u001b[0m\n",
       "MJN | Mead Johnson Nutrition Co | returned \u001b[1m{\u001b[0m\u001b[1m}\u001b[0m\n",
       "MKG | Mallinckrodt Inc. \u001b[1m(\u001b[0mOld\u001b[1m)\u001b[0m | returned \u001b[1m{\u001b[0m\u001b[1m}\u001b[0m\n",
       "MMI \u001b[1m(\u001b[0mMot\u001b[1m)\u001b[0m | Motorola Mobility | returned \u001b[1m{\u001b[0m\u001b[1m}\u001b[0m\n",
       "MNK | Mallinckrodt plc | returned \u001b[1m{\u001b[0m\u001b[1m}\u001b[0m\n",
       "MOLX | Molex Inc. | returned \u001b[1m{\u001b[0m\u001b[1m}\u001b[0m\n",
       "MON | Monsanto Co. | returned \u001b[1m{\u001b[0m\u001b[1m}\u001b[0m\n",
       "MWW | Monster Worldwide Inc. | returned \u001b[1m{\u001b[0m\u001b[1m}\u001b[0m\n",
       "MXIM | Maxim Integrated Products Inc | returned \u001b[1m{\u001b[0m\u001b[1m}\u001b[0m\n",
       "MYG | Maytag Corp. | returned \u001b[1m{\u001b[0m\u001b[1m}\u001b[0m\n",
       "MZ | Milacron Inc. | returned \u001b[1m{\u001b[0m\u001b[1m}\u001b[0m\n",
       "N \u001b[1m(\u001b[0mInc\u001b[1m)\u001b[0m | Inco Ltd. | returned \u001b[1m{\u001b[0m\u001b[1m}\u001b[0m\n",
       "NAV | Navistar Int'l Corp | returned \u001b[1m{\u001b[0m\u001b[1m}\u001b[0m\n",
       "NBL | Noble Energy Inc. | returned \u001b[1m{\u001b[0m\u001b[1m}\u001b[0m\n",
       "NCC | National City Corp. | returned \u001b[1m{\u001b[0m\u001b[1m}\u001b[0m\n",
       "NCE | New Century Energies Inc | returned \u001b[1m{\u001b[0m\u001b[1m}\u001b[0m\n",
       "NCR | NCR Corp. | returned \u001b[1m{\u001b[0m\u001b[1m}\u001b[0m\n",
       "NFB | North Fork BanCorp | returned \u001b[1m{\u001b[0m\u001b[1m}\u001b[0m\n",
       "NFX | Newfield Exploration Co. | returned \u001b[1m{\u001b[0m\u001b[1m}\u001b[0m\n",
       "NGH | Nabisco Group Holding Corp | returned \u001b[1m{\u001b[0m\u001b[1m}\u001b[0m\n",
       "NLSN | Nielsen Holdings PLC | returned \u001b[1m{\u001b[0m\u001b[1m}\u001b[0m\n",
       "NMK | Niagara Mohawk Holdings Inc. | returned \u001b[1m{\u001b[0m\u001b[1m}\u001b[0m\n",
       "NOVL | Novell Inc | returned \u001b[1m{\u001b[0m\u001b[1m}\u001b[0m\n",
       "NSI | National Service Industries Inc | returned \u001b[1m{\u001b[0m\u001b[1m}\u001b[0m\n",
       "NSM \u001b[1m(\u001b[0mNat\u001b[1m)\u001b[0m | National Semiconductor | returned \u001b[1m{\u001b[0m\u001b[1m}\u001b[0m\n",
       "NT | Nortel Networks | returned \u001b[1m{\u001b[0m\u001b[1m}\u001b[0m\n",
       "NVLS \u001b[1m(\u001b[0mNove\u001b[1m)\u001b[0m | Novellus Systems Inc | returned \u001b[1m{\u001b[0m\u001b[1m}\u001b[0m\n",
       "NXTL | Nextel Communications Inc | returned \u001b[1m{\u001b[0m\u001b[1m}\u001b[0m\n",
       "NYX | NYSE Euronext Inc | returned \u001b[1m{\u001b[0m\u001b[1m}\u001b[0m\n",
       "OAT | Quaker Oats Co | returned \u001b[1m{\u001b[0m\u001b[1m}\u001b[0m\n",
       "OK | Old Kent Financial Corp | returned \u001b[1m{\u001b[0m\u001b[1m}\u001b[0m\n",
       "OMX \u001b[1m(\u001b[0mOld\u001b[1m)\u001b[0m | OfficeMax Inc \u001b[1m(\u001b[0mOld\u001b[1m)\u001b[0m | returned \u001b[1m{\u001b[0m\u001b[1m}\u001b[0m\n",
       "ONE | Bank One Corp. | returned \u001b[1m{\u001b[0m\u001b[1m}\u001b[0m\n",
       "PALM | Palm Inc. | returned \u001b[1m{\u001b[0m\u001b[1m}\u001b[0m\n",
       "PBCT | People's United Financial Inc | returned \u001b[1m{\u001b[0m\u001b[1m}\u001b[0m\n",
       "PBG | Pepsi Bottling Group Inc. | returned \u001b[1m{\u001b[0m\u001b[1m}\u001b[0m\n",
       "PBY | Pep Boys: Manny, Moe & Jack | returned \u001b[1m{\u001b[0m\u001b[1m}\u001b[0m\n",
       "PCL | Plum Creek Timber Company | returned \u001b[1m{\u001b[0m\u001b[1m}\u001b[0m\n",
       "PCP | Precision Castparts Corp | returned \u001b[1m{\u001b[0m\u001b[1m}\u001b[0m\n",
       "PCS \u001b[1m(\u001b[0mSprint\u001b[1m)\u001b[0m | Sprint PCS Group | returned \u001b[1m{\u001b[0m\u001b[1m}\u001b[0m\n",
       "PDG | Placer Dome Inc. | returned \u001b[1m{\u001b[0m\u001b[1m}\u001b[0m\n",
       "PETM | PetSmart Inc | returned \u001b[1m{\u001b[0m\u001b[1m}\u001b[0m\n",
       "PGL | Peoples Energy Corp | returned \u001b[1m{\u001b[0m\u001b[1m}\u001b[0m\n",
       "PGN | Progress Energy Inc. | returned \u001b[1m{\u001b[0m\u001b[1m}\u001b[0m\n",
       "PHA | Pharmacia Corp. | returned \u001b[1m{\u001b[0m\u001b[1m}\u001b[0m\n",
       "PMCS | PMC-Sierra Inc | returned \u001b[1m{\u001b[0m\u001b[1m}\u001b[0m\n",
       "PNU | Pharmacia & Upjohn Inc. | returned \u001b[1m{\u001b[0m\u001b[1m}\u001b[0m\n",
       "POM | Pepco Holdings Inc. | returned \u001b[1m{\u001b[0m\u001b[1m}\u001b[0m\n",
       "PRD | Polaroid Corp | returned \u001b[1m{\u001b[0m\u001b[1m}\u001b[0m\n",
       "PSFT | People Soft Inc | returned \u001b[1m{\u001b[0m\u001b[1m}\u001b[0m\n",
       "PTV | Pactiv Corp | returned \u001b[1m{\u001b[0m\u001b[1m}\u001b[0m\n",
       "PVN \u001b[1m(\u001b[0mFin\u001b[1m)\u001b[0m | Providian Financial Corp | returned \u001b[1m{\u001b[0m\u001b[1m}\u001b[0m\n",
       "PWER | Power-One Inc | returned \u001b[1m{\u001b[0m\u001b[1m}\u001b[0m\n",
       "PWJ | Paine Webber Group Inc | returned \u001b[1m{\u001b[0m\u001b[1m}\u001b[0m\n",
       "PXD | Pioneer Natural Resources Co | returned \u001b[1m{\u001b[0m\u001b[1m}\u001b[0m\n",
       "Q \u001b[1m(\u001b[0mQwe\u001b[1m)\u001b[0m | Qwest Communications Int'l Inc | returned \u001b[1m{\u001b[0m\u001b[1m}\u001b[0m\n",
       "QEP | QEP Resources Inc | returned \u001b[1m{\u001b[0m\u001b[1m}\u001b[0m\n",
       "QLGC | QLogic Corp. | returned \u001b[1m{\u001b[0m\u001b[1m}\u001b[0m\n",
       "QTRN | Quintiles Transnational Corp | returned \u001b[1m{\u001b[0m\u001b[1m}\u001b[0m\n",
       "RAD | Rite Aid Corp. | returned \u001b[1m{\u001b[0m\u001b[1m}\u001b[0m\n",
       "RAI | Reynolds American Inc. | returned \u001b[1m{\u001b[0m\u001b[1m}\u001b[0m\n",
       "RAL | Ralston Purina Co. | returned \u001b[1m{\u001b[0m\u001b[1m}\u001b[0m\n",
       "RATL | Rational Software Corp | returned \u001b[1m{\u001b[0m\u001b[1m}\u001b[0m\n",
       "RBK | Reebok Int'l Ltd | returned \u001b[1m{\u001b[0m\u001b[1m}\u001b[0m\n",
       "RD | Royal Dutch Petroleum | returned \u001b[1m{\u001b[0m\u001b[1m}\u001b[0m\n",
       "RDC | Rowan Companies plc | returned \u001b[1m{\u001b[0m\u001b[1m}\u001b[0m\n",
       "RHT | Red Hat Inc. | returned \u001b[1m{\u001b[0m\u001b[1m}\u001b[0m\n",
       "RLGY | Realogy Holdings Corp | returned \u001b[1m{\u001b[0m\u001b[1m}\u001b[0m\n",
       "RLM | Reynolds Metals Co | returned \u001b[1m{\u001b[0m\u001b[1m}\u001b[0m\n",
       "RML | Russell Corp. | returned \u001b[1m{\u001b[0m\u001b[1m}\u001b[0m\n",
       "RNB | Republic New York Corp | returned \u001b[1m{\u001b[0m\u001b[1m}\u001b[0m\n",
       "ROH | Rohm & Hass Co | returned \u001b[1m{\u001b[0m\u001b[1m}\u001b[0m\n",
       "RRD | RR Donnelley & Sons Co | returned \u001b[1m{\u001b[0m\u001b[1m}\u001b[0m\n",
       "RSH | RadioShack Corp. | returned \u001b[1m{\u001b[0m\u001b[1m}\u001b[0m\n",
       "RTN | Raytheon Co. \u001b[1m(\u001b[0mOld\u001b[1m)\u001b[0m | returned \u001b[1m{\u001b[0m\u001b[1m}\u001b[0m\n",
       "IMS | IMS Health Holdings Inc | returned \u001b[1m{\u001b[0m\u001b[1m}\u001b[0m\n",
       "S \u001b[1m(\u001b[0mSears\u001b[1m)\u001b[0m | Sears Roebuck & Co | returned \u001b[1m{\u001b[0m\u001b[1m}\u001b[0m\n",
       "SAF | Safeco Corp. | returned \u001b[1m{\u001b[0m\u001b[1m}\u001b[0m\n",
       "SAPE | Sapient Corp. | returned \u001b[1m{\u001b[0m\u001b[1m}\u001b[0m\n",
       "SBL | Symbol Technologies Inc | returned \u001b[1m{\u001b[0m\u001b[1m}\u001b[0m\n",
       "SCG | SCANA Corp. | returned \u001b[1m{\u001b[0m\u001b[1m}\u001b[0m\n",
       "SDS | Sungard Data Systems Inc | returned \u001b[1m{\u001b[0m\u001b[1m}\u001b[0m\n",
       "SEBL | Siebel Systems Inc. | returned \u001b[1m{\u001b[0m\u001b[1m}\u001b[0m\n",
       "SFA | Scientific-Atlanta Inc | returned \u001b[1m{\u001b[0m\u001b[1m}\u001b[0m\n",
       "SGI \u001b[1m(\u001b[0mOld\u001b[1m)\u001b[0m | Silicon Graphics Inc \u001b[1m(\u001b[0mOld\u001b[1m)\u001b[0m | returned \u001b[1m{\u001b[0m\u001b[1m}\u001b[0m\n",
       "SGP | Schering-Plough Corp. | returned \u001b[1m{\u001b[0m\u001b[1m}\u001b[0m\n",
       "SHLD | Sears Holdings Corp | returned \u001b[1m{\u001b[0m\u001b[1m}\u001b[0m\n",
       "SIAL | Sigma-Aldrich Corp. | returned \u001b[1m{\u001b[0m\u001b[1m}\u001b[0m\n",
       "SLR | Solectron Corp. | returned \u001b[1m{\u001b[0m\u001b[1m}\u001b[0m\n",
       "SMI | Springs Industries Inc. | returned \u001b[1m{\u001b[0m\u001b[1m}\u001b[0m\n",
       "SMS | Shared Medical Systems Corp | returned \u001b[1m{\u001b[0m\u001b[1m}\u001b[0m\n",
       "SNDK | SanDisk Corp | returned \u001b[1m{\u001b[0m\u001b[1m}\u001b[0m\n",
       "SNI | Scripps Networks Interactive Inc | returned \u001b[1m{\u001b[0m\u001b[1m}\u001b[0m\n",
       "SOTR | SouthTrust Corp | returned \u001b[1m{\u001b[0m\u001b[1m}\u001b[0m\n",
       "SOV | Sovereign Bancorp Inc | returned \u001b[1m{\u001b[0m\u001b[1m}\u001b[0m\n",
       "SPLS | Staples Inc. | returned \u001b[1m{\u001b[0m\u001b[1m}\u001b[0m\n",
       "STJ | St. Jude Medical Inc | returned \u001b[1m{\u001b[0m\u001b[1m}\u001b[0m\n",
       "SUB | Summit Bancorp | returned \u001b[1m{\u001b[0m\u001b[1m}\u001b[0m\n",
       "SUN \u001b[1m(\u001b[0mSun\u001b[1m)\u001b[0m | Sunoco Inc \u001b[1m(\u001b[0mOld\u001b[1m)\u001b[0m | returned \u001b[1m{\u001b[0m\u001b[1m}\u001b[0m\n",
       "SUNEQ | SunEdison Inc | returned \u001b[1m{\u001b[0m\u001b[1m}\u001b[0m\n",
       "SVU | Supervalu Inc. | returned \u001b[1m{\u001b[0m\u001b[1m}\u001b[0m\n",
       "SWY | Safeway Inc. | returned \u001b[1m{\u001b[0m\u001b[1m}\u001b[0m\n",
       "T \u001b[1m(\u001b[0mOld\u001b[1m)\u001b[0m | AT&T Corp. \u001b[1m(\u001b[0mOld\u001b[1m)\u001b[0m | returned \u001b[1m{\u001b[0m\u001b[1m}\u001b[0m\n",
       "TAP.B | Travelers Property Casualty | returned \u001b[1m{\u001b[0m\u001b[1m}\u001b[0m\n",
       "TE | TECO Energy Inc | returned \u001b[1m{\u001b[0m\u001b[1m}\u001b[0m\n",
       "TEG | Integrys Energy Group | returned \u001b[1m{\u001b[0m\u001b[1m}\u001b[0m\n",
       "TEK | Tektronix Inc. | returned \u001b[1m{\u001b[0m\u001b[1m}\u001b[0m\n",
       "TIE | Titanium Metal Corp | returned \u001b[1m{\u001b[0m\u001b[1m}\u001b[0m\n",
       "TIF | Tiffany & Co. | returned \u001b[1m{\u001b[0m\u001b[1m}\u001b[0m\n",
       "TIN | Temple-Inland Inc. | returned \u001b[1m{\u001b[0m\u001b[1m}\u001b[0m\n",
       "TLAB | Tellabs Inc. | returned \u001b[1m{\u001b[0m\u001b[1m}\u001b[0m\n",
       "TMC.A | Times Mirror Co Share | returned \u001b[1m{\u001b[0m\u001b[1m}\u001b[0m\n",
       "TNB | Thomas & Betts Corp | returned \u001b[1m{\u001b[0m\u001b[1m}\u001b[0m\n",
       "TOS | Tosco Corp. | returned \u001b[1m{\u001b[0m\u001b[1m}\u001b[0m\n",
       "TOY | Toys \u001b[32m\"R\"\u001b[0m Us, Inc. | returned \u001b[1m{\u001b[0m\u001b[1m}\u001b[0m\n",
       "TRCO | Tribune Media Co | returned \u001b[1m{\u001b[0m\u001b[1m}\u001b[0m\n",
       "TRW \u001b[1m(\u001b[0mTRW\u001b[1m)\u001b[0m | TRW Inc. | returned \u001b[1m{\u001b[0m\u001b[1m}\u001b[0m\n",
       "TSG | Sabre Holdings Corp | returned \u001b[1m{\u001b[0m\u001b[1m}\u001b[0m\n",
       "ANDV | Andeavor | returned \u001b[1m{\u001b[0m\u001b[1m}\u001b[0m\n",
       "TSS | Total System Services Inc | returned \u001b[1m{\u001b[0m\u001b[1m}\u001b[0m\n",
       "TT \u001b[1m(\u001b[0mTra\u001b[1m)\u001b[0m | Trane Inc. | returned \u001b[1m{\u001b[0m\u001b[1m}\u001b[0m\n",
       "TUP | Tupperware Brands Corp | returned \u001b[1m{\u001b[0m\u001b[1m}\u001b[0m\n",
       "TWC | Time Warner Cable Inc. | returned \u001b[1m{\u001b[0m\u001b[1m}\u001b[0m\n",
       "TWX | Time Warner Inc. | returned \u001b[1m{\u001b[0m\u001b[1m}\u001b[0m\n",
       "TWX \u001b[1m(\u001b[0mOld\u001b[1m)\u001b[0m | Time Warner Inc. \u001b[1m(\u001b[0mOld\u001b[1m)\u001b[0m | returned \u001b[1m{\u001b[0m\u001b[1m}\u001b[0m\n",
       "TXU | TXU Corp. | returned \u001b[1m{\u001b[0m\u001b[1m}\u001b[0m\n",
       "UA.A | Under Armour Inc Class A | returned \u001b[1m{\u001b[0m\u001b[1m}\u001b[0m\n",
       "UCM | Unicom Corp Holding Co | returned \u001b[1m{\u001b[0m\u001b[1m}\u001b[0m\n",
       "UMG | MediaOne Group Inc. | returned \u001b[1m{\u001b[0m\u001b[1m}\u001b[0m\n",
       "UN | Unilever N.V. | returned \u001b[1m{\u001b[0m\u001b[1m}\u001b[0m\n",
       "UPR | Union Pacific Resources Group Inc | returned \u001b[1m{\u001b[0m\u001b[1m}\u001b[0m\n",
       "USB \u001b[1m(\u001b[0mFBS\u001b[1m)\u001b[0m | U.S. Bancorp \u001b[1m(\u001b[0mFirst Bank\u001b[1m)\u001b[0m | returned \u001b[1m{\u001b[0m\u001b[1m}\u001b[0m\n",
       "UST | UST Inc. | returned \u001b[1m{\u001b[0m\u001b[1m}\u001b[0m\n",
       "USW | US West Inc. | returned \u001b[1m{\u001b[0m\u001b[1m}\u001b[0m\n",
       "UVN | Univision Comm Inc | returned \u001b[1m{\u001b[0m\u001b[1m}\u001b[0m\n",
       "VAR | Varian Medical Systems Inc | returned \u001b[1m{\u001b[0m\u001b[1m}\u001b[0m\n",
       "VIAB | Viacom Inc. | returned \u001b[1m{\u001b[0m\u001b[1m}\u001b[0m\n",
       "VO | Seagram Co. Ltd. | returned \u001b[1m{\u001b[0m\u001b[1m}\u001b[0m\n",
       "VRTS \u001b[1m(\u001b[0mVeri\u001b[1m)\u001b[0m | Veritas Software Corp | returned \u001b[1m{\u001b[0m\u001b[1m}\u001b[0m\n",
       "VTSS | Vitesse Semiconductor Corp | returned \u001b[1m{\u001b[0m\u001b[1m}\u001b[0m\n",
       "WB \u001b[1m(\u001b[0mOld\u001b[1m)\u001b[0m | Wachovia Corp \u001b[1m(\u001b[0mOld\u001b[1m)\u001b[0m | returned \u001b[1m{\u001b[0m\u001b[1m}\u001b[0m\n",
       "WCOM | WorldCom Inc | returned \u001b[1m{\u001b[0m\u001b[1m}\u001b[0m\n",
       "WFM | Whole Foods Market Inc | returned \u001b[1m{\u001b[0m\u001b[1m}\u001b[0m\n",
       "WFT | Weatherford Int'l plc | returned \u001b[1m{\u001b[0m\u001b[1m}\u001b[0m\n",
       "WIN | Windstream Holdings Inc | returned \u001b[1m{\u001b[0m\u001b[1m}\u001b[0m\n",
       "WIN \u001b[1m(\u001b[0mW-D\u001b[1m)\u001b[0m | Winn-Dixie Stores Inc \u001b[1m(\u001b[0mOld\u001b[1m)\u001b[0m | returned \u001b[1m{\u001b[0m\u001b[1m}\u001b[0m\n",
       "WLA | Warner Lambert Pharmaceutical Co | returned \u001b[1m{\u001b[0m\u001b[1m}\u001b[0m\n",
       "WLL \u001b[1m(\u001b[0mWil\u001b[1m)\u001b[0m | Willamette Industries Inc | returned \u001b[1m{\u001b[0m\u001b[1m}\u001b[0m\n",
       "WLP | Wellpoint Health Networks Inc | returned \u001b[1m{\u001b[0m\u001b[1m}\u001b[0m\n",
       "WPX | WPX Energy Inc | returned \u001b[1m{\u001b[0m\u001b[1m}\u001b[0m\n",
       "WWY | Wrigley Co. | returned \u001b[1m{\u001b[0m\u001b[1m}\u001b[0m\n",
       "WYE | Wyeth Corp. | returned \u001b[1m{\u001b[0m\u001b[1m}\u001b[0m\n",
       "WYND | Wyndham Destinations Inc | returned \u001b[1m{\u001b[0m\u001b[1m}\u001b[0m\n",
       "XEC | Cimarex Energy Co | returned \u001b[1m{\u001b[0m\u001b[1m}\u001b[0m\n",
       "XL | XL Group Ltd | returned \u001b[1m{\u001b[0m\u001b[1m}\u001b[0m\n",
       "XLNX | Xilinx Inc. | returned \u001b[1m{\u001b[0m\u001b[1m}\u001b[0m\n",
       "XTO | XTO Energy Inc. | returned \u001b[1m{\u001b[0m\u001b[1m}\u001b[0m\n",
       "YHOO | Yahoo! Inc | returned \u001b[1m{\u001b[0m\u001b[1m}\u001b[0m\n",
       "YNR | Young & Rubicam Inc | returned \u001b[1m{\u001b[0m\u001b[1m}\u001b[0m\n",
       "DISH | DISH Network Corp | returned \u001b[1m{\u001b[0m\u001b[1m}\u001b[0m\n",
       "INFO | IHS Markit Ltd. | returned \u001b[1m{\u001b[0m\u001b[1m}\u001b[0m\n",
       "DRE | Duke Realty | returned \u001b[1m{\u001b[0m\u001b[1m}\u001b[0m\n",
       "SIVB | SVB Financial Group | returned \u001b[1m{\u001b[0m\u001b[1m}\u001b[0m\n",
       "ABMD | ABIOMED Inc | returned \u001b[1m{\u001b[0m\u001b[1m}\u001b[0m\n",
       "TWTR | Twitter Inc | returned \u001b[1m{\u001b[0m\u001b[1m}\u001b[0m\n",
       "HFC | HollyFrontier Corp | returned \u001b[1m{\u001b[0m\u001b[1m}\u001b[0m\n",
       "WCG | WellCare Health Plans Inc | returned \u001b[1m{\u001b[0m\u001b[1m}\u001b[0m\n",
       "SBNY | Signature Bank | returned \u001b[1m{\u001b[0m\u001b[1m}\u001b[0m\n",
       "\n"
      ]
     },
     "metadata": {},
     "output_type": "display_data"
    }
   ],
   "source": [
    "manual_check = []\n",
    "skip = []\n",
    "\n",
    "errors = \"\"\n",
    "\n",
    "for _, row in all_stocks.iterrows():\n",
    "    if stock_info[stock_info[\"Ticker\"] == row[\"Ticker\"]].shape[0] > 0 or row[\"Ticker\"] in skip:\n",
    "        continue\n",
    "    ticker = row[\"Ticker\"]\n",
    "    \n",
    "    try:\n",
    "        company_info = get_company_overview(ticker)\n",
    "    except Exception as e:\n",
    "        errors += f\"{ticker} | {row['Company Name']} | {e}\\n\"\n",
    "        skip.append(ticker)\n",
    "        continue\n",
    "    \n",
    "    \n",
    "    new_row = pd.DataFrame([{\n",
    "        \"Ticker\": ticker,\n",
    "        \"Name\": company_info.get(\"Name\"),\n",
    "        \"Sector\": company_info.get(\"Sector\"),\n",
    "        \"Industry\": company_info.get(\"Industry\")\n",
    "    }])\n",
    "    stock_info = pd.concat([stock_info, new_row], ignore_index=True)\n",
    "    \n",
    "    if ticker not in manual_check and company_info.get(\"Name\") != row[\"Company Name\"]:\n",
    "        print(f\"{ticker} | {row['Company Name']} | {company_info.get('Name')}\")\n",
    "\n",
    "print(errors)"
   ]
  },
  {
   "cell_type": "code",
   "execution_count": null,
   "metadata": {},
   "outputs": [
    {
     "data": {
      "text/html": [
       "<div>\n",
       "<style scoped>\n",
       "    .dataframe tbody tr th:only-of-type {\n",
       "        vertical-align: middle;\n",
       "    }\n",
       "\n",
       "    .dataframe tbody tr th {\n",
       "        vertical-align: top;\n",
       "    }\n",
       "\n",
       "    .dataframe thead th {\n",
       "        text-align: right;\n",
       "    }\n",
       "</style>\n",
       "<table border=\"1\" class=\"dataframe\">\n",
       "  <thead>\n",
       "    <tr style=\"text-align: right;\">\n",
       "      <th></th>\n",
       "      <th>Ticker</th>\n",
       "      <th>Company Name</th>\n",
       "      <th>ISIN Code</th>\n",
       "    </tr>\n",
       "  </thead>\n",
       "  <tbody>\n",
       "    <tr>\n",
       "      <th>11</th>\n",
       "      <td>ABX</td>\n",
       "      <td>Barrick Gold Corp.</td>\n",
       "      <td>CA0679011084</td>\n",
       "    </tr>\n",
       "  </tbody>\n",
       "</table>\n",
       "</div>"
      ],
      "text/plain": [
       "   Ticker        Company Name     ISIN Code\n",
       "11    ABX  Barrick Gold Corp.  CA0679011084"
      ]
     },
     "execution_count": 52,
     "metadata": {},
     "output_type": "execute_result"
    }
   ],
   "source": [
    "all_stocks[all_stocks[\"Ticker\"] == \"ABX\"]"
   ]
  },
  {
   "cell_type": "code",
   "execution_count": 23,
   "metadata": {},
   "outputs": [
    {
     "data": {
      "text/plain": [
       "{'Symbol': 'ACI',\n",
       " 'AssetType': 'Common Stock',\n",
       " 'Name': 'Albertsons Companies',\n",
       " 'Description': 'Albertsons Companies, Inc. participates in the pharmacy and food operation in the United States. ',\n",
       " 'CIK': '1646972',\n",
       " 'Exchange': 'NYSE',\n",
       " 'Currency': 'USD',\n",
       " 'Country': 'USA',\n",
       " 'Sector': 'TRADE & SERVICES',\n",
       " 'Industry': 'RETAIL-GROCERY STORES',\n",
       " 'Address': '250 PARKCENTER BLVD., BOISE, ID, US',\n",
       " 'OfficialSite': 'https://www.albertsonscompanies.com',\n",
       " 'FiscalYearEnd': 'February',\n",
       " 'LatestQuarter': '2024-08-31',\n",
       " 'MarketCapitalization': '10746905000',\n",
       " 'EBITDA': '3863700000',\n",
       " 'PERatio': '10.85',\n",
       " 'PEGRatio': '2.836',\n",
       " 'BookValue': '5.21',\n",
       " 'DividendPerShare': '0.48',\n",
       " 'DividendYield': '0.0259',\n",
       " 'EPS': '1.71',\n",
       " 'RevenuePerShareTTM': '137.96',\n",
       " 'ProfitMargin': '0.0125',\n",
       " 'OperatingMarginTTM': '0.0227',\n",
       " 'ReturnOnAssetsTTM': '0.0505',\n",
       " 'ReturnOnEquityTTM': '0.381',\n",
       " 'RevenueTTM': '79713698000',\n",
       " 'GrossProfitTTM': '21755600000',\n",
       " 'DilutedEPSTTM': '1.71',\n",
       " 'QuarterlyEarningsGrowthYOY': '-0.457',\n",
       " 'QuarterlyRevenueGrowthYOY': '0.014',\n",
       " 'AnalystTargetPrice': '23.75',\n",
       " 'AnalystRatingStrongBuy': '1',\n",
       " 'AnalystRatingBuy': '3',\n",
       " 'AnalystRatingHold': '12',\n",
       " 'AnalystRatingSell': '0',\n",
       " 'AnalystRatingStrongSell': '0',\n",
       " 'TrailingPE': '10.85',\n",
       " 'ForwardPE': '8.94',\n",
       " 'PriceToSalesRatioTTM': '0.134',\n",
       " 'PriceToBookRatio': '3.539',\n",
       " 'EVToRevenue': '0.309',\n",
       " 'EVToEBITDA': '5.83',\n",
       " 'Beta': '0.327',\n",
       " '52WeekHigh': '22.91',\n",
       " '52WeekLow': '17.68',\n",
       " '50DayMovingAverage': '18.71',\n",
       " '200DayMovingAverage': '20.07',\n",
       " 'SharesOutstanding': '579348000',\n",
       " 'DividendDate': '2024-11-08',\n",
       " 'ExDividendDate': '2024-10-28'}"
      ]
     },
     "execution_count": 23,
     "metadata": {},
     "output_type": "execute_result"
    }
   ],
   "source": [
    "get_company_overview(\"ACI\")"
   ]
  },
  {
   "cell_type": "code",
   "execution_count": 22,
   "metadata": {},
   "outputs": [
    {
     "data": {
      "text/plain": [
       "dict_keys(['2024-11-05', '2024-11-04', '2024-11-01', '2024-10-31', '2024-10-30', '2024-10-29', '2024-10-28', '2024-10-25', '2024-10-24', '2024-10-23', '2024-10-22', '2024-10-21', '2024-10-18', '2024-10-17', '2024-10-16', '2024-10-15', '2024-10-14', '2024-10-11', '2024-10-10', '2024-10-09', '2024-10-08', '2024-10-07', '2024-10-04', '2024-10-03', '2024-10-02', '2024-10-01', '2024-09-30', '2024-09-27', '2024-09-26', '2024-09-25', '2024-09-24', '2024-09-23', '2024-09-20', '2024-09-19', '2024-09-18', '2024-09-17', '2024-09-16', '2024-09-13', '2024-09-12', '2024-09-11', '2024-09-10', '2024-09-09', '2024-09-06', '2024-09-05', '2024-09-04', '2024-09-03', '2024-08-30', '2024-08-29', '2024-08-28', '2024-08-27', '2024-08-26', '2024-08-23', '2024-08-22', '2024-08-21', '2024-08-20', '2024-08-19', '2024-08-16', '2024-08-15', '2024-08-14', '2024-08-13', '2024-08-12', '2024-08-09', '2024-08-08', '2024-08-07', '2024-08-06', '2024-08-05', '2024-08-02', '2024-08-01', '2024-07-31', '2024-07-30', '2024-07-29', '2024-07-26', '2024-07-25', '2024-07-24', '2024-07-23', '2024-07-22', '2024-07-19', '2024-07-18', '2024-07-17', '2024-07-16', '2024-07-15', '2024-07-12', '2024-07-11', '2024-07-10', '2024-07-09', '2024-07-08', '2024-07-05', '2024-07-03', '2024-07-02', '2024-07-01', '2024-06-28', '2024-06-27', '2024-06-26', '2024-06-25', '2024-06-24', '2024-06-21', '2024-06-20', '2024-06-18', '2024-06-17', '2024-06-14', '2024-06-13', '2024-06-12', '2024-06-11', '2024-06-10', '2024-06-07', '2024-06-06', '2024-06-05', '2024-06-04', '2024-06-03', '2024-05-31', '2024-05-30', '2024-05-29', '2024-05-28', '2024-05-24', '2024-05-23', '2024-05-22', '2024-05-21', '2024-05-20', '2024-05-17', '2024-05-16', '2024-05-15', '2024-05-14', '2024-05-13', '2024-05-10', '2024-05-09', '2024-05-08', '2024-05-07', '2024-05-06', '2024-05-03', '2024-05-02', '2024-05-01', '2024-04-30', '2024-04-29', '2024-04-26', '2024-04-25', '2024-04-24', '2024-04-23', '2024-04-22', '2024-04-19', '2024-04-18', '2024-04-17', '2024-04-16', '2024-04-15', '2024-04-12', '2024-04-11', '2024-04-10', '2024-04-09', '2024-04-08', '2024-04-05', '2024-04-04', '2024-04-03', '2024-04-02', '2024-04-01', '2024-03-28', '2024-03-27', '2024-03-26', '2024-03-25', '2024-03-22', '2024-03-21', '2024-03-20', '2024-03-19', '2024-03-18', '2024-03-15', '2024-03-14', '2024-03-13', '2024-03-12', '2024-03-11', '2024-03-08', '2024-03-07', '2024-03-06', '2024-03-05', '2024-03-04', '2024-03-01', '2024-02-29', '2024-02-28', '2024-02-27', '2024-02-26', '2024-02-23', '2024-02-22', '2024-02-21', '2024-02-20', '2024-02-16', '2024-02-15', '2024-02-14', '2024-02-13', '2024-02-12', '2024-02-09', '2024-02-08', '2024-02-07', '2024-02-06', '2024-02-05', '2024-02-02', '2024-02-01', '2024-01-31', '2024-01-30', '2024-01-29', '2024-01-26', '2024-01-25', '2024-01-24', '2024-01-23', '2024-01-22', '2024-01-19', '2024-01-18', '2024-01-17', '2024-01-16', '2024-01-12', '2024-01-11', '2024-01-10', '2024-01-09', '2024-01-08', '2024-01-05', '2024-01-04', '2024-01-03', '2024-01-02', '2023-12-29', '2023-12-28', '2023-12-27', '2023-12-26', '2023-12-22', '2023-12-21', '2023-12-20', '2023-12-19', '2023-12-18', '2023-12-15', '2023-12-14', '2023-12-13', '2023-12-12', '2023-12-11', '2023-12-08', '2023-12-07', '2023-12-06', '2023-12-05', '2023-12-04', '2023-12-01', '2023-11-30', '2023-11-29', '2023-11-28', '2023-11-27', '2023-11-24', '2023-11-22', '2023-11-21', '2023-11-20', '2023-11-17', '2023-11-16', '2023-11-15', '2023-11-14', '2023-11-13', '2023-11-10', '2023-11-09', '2023-11-08', '2023-11-07', '2023-11-06', '2023-11-03', '2023-11-02', '2023-11-01', '2023-10-31', '2023-10-30', '2023-10-27', '2023-10-26', '2023-10-25', '2023-10-24', '2023-10-23', '2023-10-20', '2023-10-19', '2023-10-18', '2023-10-17', '2023-10-16', '2023-10-13', '2023-10-12', '2023-10-11', '2023-10-10', '2023-10-09', '2023-10-06', '2023-10-05', '2023-10-04', '2023-10-03', '2023-10-02', '2023-09-29', '2023-09-28', '2023-09-27', '2023-09-26', '2023-09-25', '2023-09-22', '2023-09-21', '2023-09-20', '2023-09-19', '2023-09-18', '2023-09-15', '2023-09-14', '2023-09-13', '2023-09-12', '2023-09-11', '2023-09-08', '2023-09-07', '2023-09-06', '2023-09-05', '2023-09-01', '2023-08-31', '2023-08-30', '2023-08-29', '2023-08-28', '2023-08-25', '2023-08-24', '2023-08-23', '2023-08-22', '2023-08-21', '2023-08-18', '2023-08-17', '2023-08-16', '2023-08-15', '2023-08-14', '2023-08-11', '2023-08-10', '2023-08-09', '2023-08-08', '2023-08-07', '2023-08-04', '2023-08-03', '2023-08-02', '2023-08-01', '2023-07-31', '2023-07-28', '2023-07-27', '2023-07-26', '2023-07-25', '2023-07-24', '2023-07-21', '2023-07-20', '2023-07-19', '2023-07-18', '2023-07-17', '2023-07-14', '2023-07-13', '2023-07-12', '2023-07-11', '2023-07-10', '2023-07-07', '2023-07-06', '2023-07-05', '2023-07-03', '2023-06-30', '2023-06-29', '2023-06-28', '2023-06-27', '2023-06-26', '2023-06-23', '2023-06-22', '2023-06-21', '2023-06-20', '2023-06-16', '2023-06-15', '2023-06-14', '2023-06-13', '2023-06-12', '2023-06-09', '2023-06-08', '2023-06-07', '2023-06-06', '2023-06-05', '2023-06-02', '2023-06-01', '2023-05-31', '2023-05-30', '2023-05-26', '2023-05-25', '2023-05-24', '2023-05-23', '2023-05-22', '2023-05-19', '2023-05-18', '2023-05-17', '2023-05-16', '2023-05-15', '2023-05-12', '2023-05-11', '2023-05-10', '2023-05-09', '2023-05-08', '2023-05-05', '2023-05-04', '2023-05-03', '2023-05-02', '2023-05-01', '2023-04-28', '2023-04-27', '2023-04-26', '2023-04-25', '2023-04-24', '2023-04-21', '2023-04-20', '2023-04-19', '2023-04-18', '2023-04-17', '2023-04-14', '2023-04-13', '2023-04-12', '2023-04-11', '2023-04-10', '2023-04-06', '2023-04-05', '2023-04-04', '2023-04-03', '2023-03-31', '2023-03-30', '2023-03-29', '2023-03-28', '2023-03-27', '2023-03-24', '2023-03-23', '2023-03-22', '2023-03-21', '2023-03-20', '2023-03-17', '2023-03-16', '2023-03-15', '2023-03-14', '2023-03-13', '2023-03-10', '2023-03-09', '2023-03-08', '2023-03-07', '2023-03-06', '2023-03-03', '2023-03-02', '2023-03-01', '2023-02-28', '2023-02-27', '2023-02-24', '2023-02-23', '2023-02-22', '2023-02-21', '2023-02-17', '2023-02-16', '2023-02-15', '2023-02-14', '2023-02-13', '2023-02-10', '2023-02-09', '2023-02-08', '2023-02-07', '2023-02-06', '2023-02-03', '2023-02-02', '2023-02-01', '2023-01-31', '2023-01-30', '2023-01-27', '2023-01-26', '2023-01-25', '2023-01-24', '2023-01-23', '2023-01-20', '2023-01-19', '2023-01-18', '2023-01-17', '2023-01-13', '2023-01-12', '2023-01-11', '2023-01-10', '2023-01-09', '2023-01-06', '2023-01-05', '2023-01-04', '2023-01-03', '2022-12-30', '2022-12-29', '2022-12-28', '2022-12-27', '2022-12-23', '2022-12-22', '2022-12-21', '2022-12-20', '2022-12-19', '2022-12-16', '2022-12-15', '2022-12-14', '2022-12-13', '2022-12-12', '2022-12-09', '2022-12-08', '2022-12-07', '2022-12-06', '2022-12-05', '2022-12-02', '2022-12-01', '2022-11-30', '2022-11-29', '2022-11-28', '2022-11-25', '2022-11-23', '2022-11-22', '2022-11-21', '2022-11-18', '2022-11-17', '2022-11-16', '2022-11-15', '2022-11-14', '2022-11-11', '2022-11-10', '2022-11-09', '2022-11-08', '2022-11-07', '2022-11-04', '2022-11-03', '2022-11-02', '2022-11-01', '2022-10-31', '2022-10-28', '2022-10-27', '2022-10-26', '2022-10-25', '2022-10-24', '2022-10-21', '2022-10-20', '2022-10-19', '2022-10-18', '2022-10-17', '2022-10-14', '2022-10-13', '2022-10-12', '2022-10-11', '2022-10-10', '2022-10-07', '2022-10-06', '2022-10-05', '2022-10-04', '2022-10-03', '2022-09-30', '2022-09-29', '2022-09-28', '2022-09-27', '2022-09-26', '2022-09-23', '2022-09-22', '2022-09-21', '2022-09-20', '2022-09-19', '2022-09-16', '2022-09-15', '2022-09-14', '2022-09-13', '2022-09-12', '2022-09-09', '2022-09-08', '2022-09-07', '2022-09-06', '2022-09-02', '2022-09-01', '2022-08-31', '2022-08-30', '2022-08-29', '2022-08-26', '2022-08-25', '2022-08-24', '2022-08-23', '2022-08-22', '2022-08-19', '2022-08-18', '2022-08-17', '2022-08-16', '2022-08-15', '2022-08-12', '2022-08-11', '2022-08-10', '2022-08-09', '2022-08-08', '2022-08-05', '2022-08-04', '2022-08-03', '2022-08-02', '2022-08-01', '2022-07-29', '2022-07-28', '2022-07-27', '2022-07-26', '2022-07-25', '2022-07-22', '2022-07-21', '2022-07-20', '2022-07-19', '2022-07-18', '2022-07-15', '2022-07-14', '2022-07-13', '2022-07-12', '2022-07-11', '2022-07-08', '2022-07-07', '2022-07-06', '2022-07-05', '2022-07-01', '2022-06-30', '2022-06-29', '2022-06-28', '2022-06-27', '2022-06-24', '2022-06-23', '2022-06-22', '2022-06-21', '2022-06-17', '2022-06-16', '2022-06-15', '2022-06-14', '2022-06-13', '2022-06-10', '2022-06-09', '2022-06-08', '2022-06-07', '2022-06-06', '2022-06-03', '2022-06-02', '2022-06-01', '2022-05-31', '2022-05-27', '2022-05-26', '2022-05-25', '2022-05-24', '2022-05-23', '2022-05-20', '2022-05-19', '2022-05-18', '2022-05-17', '2022-05-16', '2022-05-13', '2022-05-12', '2022-05-11', '2022-05-10', '2022-05-09', '2022-05-06', '2022-05-05', '2022-05-04', '2022-05-03', '2022-05-02', '2022-04-29', '2022-04-28', '2022-04-27', '2022-04-26', '2022-04-25', '2022-04-22', '2022-04-21', '2022-04-20', '2022-04-19', '2022-04-18', '2022-04-14', '2022-04-13', '2022-04-12', '2022-04-11', '2022-04-08', '2022-04-07', '2022-04-06', '2022-04-05', '2022-04-04', '2022-04-01', '2022-03-31', '2022-03-30', '2022-03-29', '2022-03-28', '2022-03-25', '2022-03-24', '2022-03-23', '2022-03-22', '2022-03-21', '2022-03-18', '2022-03-17', '2022-03-16', '2022-03-15', '2022-03-14', '2022-03-11', '2022-03-10', '2022-03-09', '2022-03-08', '2022-03-07', '2022-03-04', '2022-03-03', '2022-03-02', '2022-03-01', '2022-02-28', '2022-02-25', '2022-02-24', '2022-02-23', '2022-02-22', '2022-02-18', '2022-02-17', '2022-02-16', '2022-02-15', '2022-02-14', '2022-02-11', '2022-02-10', '2022-02-09', '2022-02-08', '2022-02-07', '2022-02-04', '2022-02-03', '2022-02-02', '2022-02-01', '2022-01-31', '2022-01-28', '2022-01-27', '2022-01-26', '2022-01-25', '2022-01-24', '2022-01-21', '2022-01-20', '2022-01-19', '2022-01-18', '2022-01-14', '2022-01-13', '2022-01-12', '2022-01-11', '2022-01-10', '2022-01-07', '2022-01-06', '2022-01-05', '2022-01-04', '2022-01-03', '2021-12-31', '2021-12-30', '2021-12-29', '2021-12-28', '2021-12-27', '2021-12-23', '2021-12-22', '2021-12-21', '2021-12-20', '2021-12-17', '2021-12-16', '2021-12-15', '2021-12-14', '2021-12-13', '2021-12-10', '2021-12-09', '2021-12-08', '2021-12-07', '2021-12-06', '2021-12-03', '2021-12-02', '2021-12-01', '2021-11-30', '2021-11-29', '2021-11-26', '2021-11-24', '2021-11-23', '2021-11-22', '2021-11-19', '2021-11-18', '2021-11-17', '2021-11-16', '2021-11-15', '2021-11-12', '2021-11-11', '2021-11-10', '2021-11-09', '2021-11-08', '2021-11-05', '2021-11-04', '2021-11-03', '2021-11-02', '2021-11-01', '2021-10-29', '2021-10-28', '2021-10-27', '2021-10-26', '2021-10-25', '2021-10-22', '2021-10-21', '2021-10-20', '2021-10-19', '2021-10-18', '2021-10-15', '2021-10-14', '2021-10-13', '2021-10-12', '2021-10-11', '2021-10-08', '2021-10-07', '2021-10-06', '2021-10-05', '2021-10-04', '2021-10-01', '2021-09-30', '2021-09-29', '2021-09-28', '2021-09-27', '2021-09-24', '2021-09-23', '2021-09-22', '2021-09-21', '2021-09-20', '2021-09-17', '2021-09-16', '2021-09-15', '2021-09-14', '2021-09-13', '2021-09-10', '2021-09-09', '2021-09-08', '2021-09-07', '2021-09-03', '2021-09-02', '2021-09-01', '2021-08-31', '2021-08-30', '2021-08-27', '2021-08-26', '2021-08-25', '2021-08-24', '2021-08-23', '2021-08-20', '2021-08-19', '2021-08-18', '2021-08-17', '2021-08-16', '2021-08-13', '2021-08-12', '2021-08-11', '2021-08-10', '2021-08-09', '2021-08-06', '2021-08-05', '2021-08-04', '2021-08-03', '2021-08-02', '2021-07-30', '2021-07-29', '2021-07-28', '2021-07-27', '2021-07-26', '2021-07-23', '2021-07-22', '2021-07-21', '2021-07-20', '2021-07-19', '2021-07-16', '2021-07-15', '2021-07-14', '2021-07-13', '2021-07-12', '2021-07-09', '2021-07-08', '2021-07-07', '2021-07-06', '2021-07-02', '2021-07-01', '2021-06-30', '2021-06-29', '2021-06-28', '2021-06-25', '2021-06-24', '2021-06-23', '2021-06-22', '2021-06-21', '2021-06-18', '2021-06-17', '2021-06-16', '2021-06-15', '2021-06-14', '2021-06-11', '2021-06-10', '2021-06-09', '2021-06-08', '2021-06-07', '2021-06-04', '2021-06-03', '2021-06-02', '2021-06-01', '2021-05-28', '2021-05-27', '2021-05-26', '2021-05-25', '2021-05-24', '2021-05-21', '2021-05-20', '2021-05-19', '2021-05-18', '2021-05-17', '2021-05-14', '2021-05-13', '2021-05-12', '2021-05-11', '2021-05-10', '2021-05-07', '2021-05-06', '2021-05-05', '2021-05-04', '2021-05-03', '2021-04-30', '2021-04-29', '2021-04-28', '2021-04-27', '2021-04-26', '2021-04-23', '2021-04-22', '2021-04-21', '2021-04-20', '2021-04-19', '2021-04-16', '2021-04-15', '2021-04-14', '2021-04-13', '2021-04-12', '2021-04-09', '2021-04-08', '2021-04-07', '2021-04-06', '2021-04-05', '2021-04-01', '2021-03-31', '2021-03-30', '2021-03-29', '2021-03-26', '2021-03-25', '2021-03-24', '2021-03-23', '2021-03-22', '2021-03-19', '2021-03-18', '2021-03-17', '2021-03-16', '2021-03-15', '2021-03-12', '2021-03-11', '2021-03-10', '2021-03-09', '2021-03-08', '2021-03-05', '2021-03-04', '2021-03-03', '2021-03-02', '2021-03-01', '2021-02-26', '2021-02-25', '2021-02-24', '2021-02-23', '2021-02-22', '2021-02-19', '2021-02-18', '2021-02-17', '2021-02-16', '2021-02-12', '2021-02-11', '2021-02-10', '2021-02-09', '2021-02-08', '2021-02-05', '2021-02-04', '2021-02-03', '2021-02-02', '2021-02-01', '2021-01-29', '2021-01-28', '2021-01-27', '2021-01-26', '2021-01-25', '2021-01-22', '2021-01-21', '2021-01-20', '2021-01-19', '2021-01-15', '2021-01-14', '2021-01-13', '2021-01-12', '2021-01-11', '2021-01-08', '2021-01-07', '2021-01-06', '2021-01-05', '2021-01-04', '2020-12-31', '2020-12-30', '2020-12-29', '2020-12-28', '2020-12-24', '2020-12-23', '2020-12-22', '2020-12-21', '2020-12-18', '2020-12-17', '2020-12-16', '2020-12-15', '2020-12-14', '2020-12-11', '2020-12-10', '2020-12-09', '2020-12-08', '2020-12-07', '2020-12-04', '2020-12-03', '2020-12-02', '2020-12-01', '2020-11-30', '2020-11-27', '2020-11-25', '2020-11-24', '2020-11-23', '2020-11-20', '2020-11-19', '2020-11-18', '2020-11-17', '2020-11-16', '2020-11-13', '2020-11-12', '2020-11-11', '2020-11-10', '2020-11-09', '2020-11-06', '2020-11-05', '2020-11-04', '2020-11-03', '2020-11-02', '2020-10-30', '2020-10-29', '2020-10-28', '2020-10-27', '2020-10-26', '2020-10-23', '2020-10-22', '2020-10-21', '2020-10-20', '2020-10-19', '2020-10-16', '2020-10-15', '2020-10-14', '2020-10-13', '2020-10-12', '2020-10-09', '2020-10-08', '2020-10-07', '2020-10-06', '2020-10-05', '2020-10-02', '2020-10-01', '2020-09-30', '2020-09-29', '2020-09-28', '2020-09-25', '2020-09-24', '2020-09-23', '2020-09-22', '2020-09-21', '2020-09-18', '2020-09-17', '2020-09-16', '2020-09-15', '2020-09-14', '2020-09-11', '2020-09-10', '2020-09-09', '2020-09-08', '2020-09-04', '2020-09-03', '2020-09-02', '2020-09-01', '2020-08-31', '2020-08-28', '2020-08-27', '2020-08-26', '2020-08-25', '2020-08-24', '2020-08-21', '2020-08-20', '2020-08-19', '2020-08-18', '2020-08-17', '2020-08-14', '2020-08-13', '2020-08-12', '2020-08-11', '2020-08-10', '2020-08-07', '2020-08-06', '2020-08-05', '2020-08-04', '2020-08-03', '2020-07-31', '2020-07-30', '2020-07-29', '2020-07-28', '2020-07-27', '2020-07-24', '2020-07-23', '2020-07-22', '2020-07-21', '2020-07-20', '2020-07-17', '2020-07-16', '2020-07-15', '2020-07-14', '2020-07-13', '2020-07-10', '2020-07-09', '2020-07-08', '2020-07-07', '2020-07-06', '2020-07-02', '2020-07-01', '2020-06-30', '2020-06-29', '2020-06-26'])"
      ]
     },
     "execution_count": 22,
     "metadata": {},
     "output_type": "execute_result"
    }
   ],
   "source": [
    "ticker = \"ACI\"\n",
    "url = f\"https://www.alphavantage.co/query?function=TIME_SERIES_DAILY_ADJUSTED&symbol={ticker}&apikey={API_KEY}&outputsize=full\"\n",
    "response = requests.get(url)\n",
    "data = response.json()\n",
    "data['Time Series (Daily)'].keys()"
   ]
  },
  {
   "cell_type": "code",
   "execution_count": null,
   "metadata": {},
   "outputs": [],
   "source": [
    "import math\n",
    "list_of_floats = [1.1, 2.2, 3.3]\n",
    "stuff = map(round, list_of_floats)\n",
    "\n",
    "del print\n",
    "print(stuff) # Error\n",
    "\n",
    "pw = math.pow\n",
    "pw(16, 7)\n",
    "\n",
    "ls = [round, input, sorted]\n",
    "\n",
    "def pick(b):\n",
    "    if b:\n",
    "        return sorted\n",
    "    else:\n",
    "        return reversed\n",
    "\n",
    "def quadratic(a, b, c):\n",
    "    df = (b*b - 4*a*c)**0.5\n",
    "    r1 = (-b + df) / (2 * a)\n",
    "    r2 = (-b - df) / (2 * a)\n",
    "    return r1, r2\n",
    "first, second = quadratic(1, 4, 2)\n",
    "# first = -0.58\n",
    "# second = -3.41\n",
    "\n",
    "def rectangle_properties(length, width):\n",
    "    area = length * width\n",
    "    perimeter = 2 * (length + width)\n",
    "    diagonal = (length**2 + width**2)**0.5\n",
    "    return area, perimeter, diagonal\n",
    "\n",
    "# Sample function call\n",
    "area, perimeter, diagonal = rectangle_properties(5, 12)\n",
    "\n",
    "# Expected Output\n",
    "# area = 60\n",
    "# perimeter = 34\n",
    "# diagonal ≈ 13.0\n",
    "\n",
    "\n",
    "num = 2\n",
    "def print_num():\n",
    "    print(num)  # Prints 2\n",
    "    \n",
    "def make_num():\n",
    "    num = 2\n",
    "make_num()    \n",
    "print(num)  # Causes NameError\n",
    "\n",
    "def test_function():\n",
    "    print(sum)  \n",
    "# Here, sum refers to the built-in function <built-in function sum>\n",
    "\n",
    "count = 0\n",
    "def increment():\n",
    "    global count\n",
    "    count += 1"
   ]
  },
  {
   "cell_type": "code",
   "execution_count": 5,
   "metadata": {},
   "outputs": [
    {
     "name": "stdout",
     "output_type": "stream",
     "text": [
      "Global namespace: {'__name__': '__main__', '__doc__': 'Automatically created module for IPython interactive environment', '__package__': None, '__loader__': None, '__spec__': None, '__builtin__': <module 'builtins' (built-in)>, '__builtins__': <module 'builtins' (built-in)>, '_ih': ['', \"def test_function():\\n    print(locals())\\nx = 100\\nvar = 'apple'\\nprint(globals())\", \"def test_function():\\n    print(locals()) # {'y': 50}\\nx = 100\\nvar = 'apple'\\ntest_function()\\nprint(globals())\\n# {'__name__': '__main__', '__doc__': None, '__package__': None, '__loader__': <_frozen_importlib_external.SourceFileLoader object at 0x7fbf94919030>, '__spec__': None, '__annotations__': {}, '__builtins__': <module 'builtins' (built-in)>, '__file__': '/mnt/d/Code/Acadmic/CS 682 -Neural Network/Project/data/processing/Stock Market Data/test.py', '__cached__': None, 'test_function': <function test_function at 0x7fbf9497e4d0>, 'x': 100, 'var': 'apple'}\\nprint(vars(x))\", \"def test_function():\\n    print(locals()) # {'y': 50}\\nx = 100\\nvar = 'apple'\\ntest_function()\\nprint(globals())\\n# {'__name__': '__main__', '__doc__': None, '__package__': None, '__loader__': <_frozen_importlib_external.SourceFileLoader object at 0x7fbf94919030>, '__spec__': None, '__annotations__': {}, '__builtins__': <module 'builtins' (built-in)>, '__file__': '/mnt/d/Code/Acadmic/CS 682 -Neural Network/Project/data/processing/Stock Market Data/test.py', '__cached__': None, 'test_function': <function test_function at 0x7fbf9497e4d0>, 'x': 100, 'var': 'apple'}\\nprint(vars())\", \"def test_function():\\n    y = 50\\n    print(vars('y'))\\n    print(locals()) # {'y': 50}\\nx = 100\\nvar = 'apple'\\ntest_function()\\nprint(globals())\\n# {'__name__': '__main__', '__doc__': None, '__package__': None, '__loader__': <_frozen_importlib_external.SourceFileLoader object at 0x7fbf94919030>, '__spec__': None, '__annotations__': {}, '__builtins__': <module 'builtins' (built-in)>, '__file__': '/mnt/d/Code/Acadmic/CS 682 -Neural Network/Project/data/processing/Stock Market Data/test.py', '__cached__': None, 'test_function': <function test_function at 0x7fbf9497e4d0>, 'x': 100, 'var': 'apple'}\", 'def test_function():\\n    print(\"Local namespace:\", locals())\\nx = 100\\nvar = \\'apple\\'\\nprint(\"Global namespace:\", globals())\\nprint(\"Namespace of a list object:\", vars([1, 2, 3]))'], '_oh': {}, '_dh': [PosixPath('/mnt/d/Code/Acadmic/CS 682 -Neural Network/Project/data/processing/Stock Market Data')], 'In': ['', \"def test_function():\\n    print(locals())\\nx = 100\\nvar = 'apple'\\nprint(globals())\", \"def test_function():\\n    print(locals()) # {'y': 50}\\nx = 100\\nvar = 'apple'\\ntest_function()\\nprint(globals())\\n# {'__name__': '__main__', '__doc__': None, '__package__': None, '__loader__': <_frozen_importlib_external.SourceFileLoader object at 0x7fbf94919030>, '__spec__': None, '__annotations__': {}, '__builtins__': <module 'builtins' (built-in)>, '__file__': '/mnt/d/Code/Acadmic/CS 682 -Neural Network/Project/data/processing/Stock Market Data/test.py', '__cached__': None, 'test_function': <function test_function at 0x7fbf9497e4d0>, 'x': 100, 'var': 'apple'}\\nprint(vars(x))\", \"def test_function():\\n    print(locals()) # {'y': 50}\\nx = 100\\nvar = 'apple'\\ntest_function()\\nprint(globals())\\n# {'__name__': '__main__', '__doc__': None, '__package__': None, '__loader__': <_frozen_importlib_external.SourceFileLoader object at 0x7fbf94919030>, '__spec__': None, '__annotations__': {}, '__builtins__': <module 'builtins' (built-in)>, '__file__': '/mnt/d/Code/Acadmic/CS 682 -Neural Network/Project/data/processing/Stock Market Data/test.py', '__cached__': None, 'test_function': <function test_function at 0x7fbf9497e4d0>, 'x': 100, 'var': 'apple'}\\nprint(vars())\", \"def test_function():\\n    y = 50\\n    print(vars('y'))\\n    print(locals()) # {'y': 50}\\nx = 100\\nvar = 'apple'\\ntest_function()\\nprint(globals())\\n# {'__name__': '__main__', '__doc__': None, '__package__': None, '__loader__': <_frozen_importlib_external.SourceFileLoader object at 0x7fbf94919030>, '__spec__': None, '__annotations__': {}, '__builtins__': <module 'builtins' (built-in)>, '__file__': '/mnt/d/Code/Acadmic/CS 682 -Neural Network/Project/data/processing/Stock Market Data/test.py', '__cached__': None, 'test_function': <function test_function at 0x7fbf9497e4d0>, 'x': 100, 'var': 'apple'}\", 'def test_function():\\n    print(\"Local namespace:\", locals())\\nx = 100\\nvar = \\'apple\\'\\nprint(\"Global namespace:\", globals())\\nprint(\"Namespace of a list object:\", vars([1, 2, 3]))'], 'Out': {}, 'get_ipython': <bound method InteractiveShell.get_ipython of <ipykernel.zmqshell.ZMQInteractiveShell object at 0x7fb1d9523fa0>>, 'exit': <IPython.core.autocall.ZMQExitAutocall object at 0x7fb1d9574bb0>, 'quit': <IPython.core.autocall.ZMQExitAutocall object at 0x7fb1d9574bb0>, 'open': <function open at 0x7fb1ead4a3b0>, '_': '', '__': '', '___': '', '__vsc_ipynb_file__': '/mnt/d/Code/Acadmic/CS 682 -Neural Network/Project/data/processing/Stock Market Data/get_industries.ipynb', '_i': \"def test_function():\\n    y = 50\\n    print(vars('y'))\\n    print(locals()) # {'y': 50}\\nx = 100\\nvar = 'apple'\\ntest_function()\\nprint(globals())\\n# {'__name__': '__main__', '__doc__': None, '__package__': None, '__loader__': <_frozen_importlib_external.SourceFileLoader object at 0x7fbf94919030>, '__spec__': None, '__annotations__': {}, '__builtins__': <module 'builtins' (built-in)>, '__file__': '/mnt/d/Code/Acadmic/CS 682 -Neural Network/Project/data/processing/Stock Market Data/test.py', '__cached__': None, 'test_function': <function test_function at 0x7fbf9497e4d0>, 'x': 100, 'var': 'apple'}\", '_ii': \"def test_function():\\n    print(locals()) # {'y': 50}\\nx = 100\\nvar = 'apple'\\ntest_function()\\nprint(globals())\\n# {'__name__': '__main__', '__doc__': None, '__package__': None, '__loader__': <_frozen_importlib_external.SourceFileLoader object at 0x7fbf94919030>, '__spec__': None, '__annotations__': {}, '__builtins__': <module 'builtins' (built-in)>, '__file__': '/mnt/d/Code/Acadmic/CS 682 -Neural Network/Project/data/processing/Stock Market Data/test.py', '__cached__': None, 'test_function': <function test_function at 0x7fbf9497e4d0>, 'x': 100, 'var': 'apple'}\\nprint(vars())\", '_iii': \"def test_function():\\n    print(locals()) # {'y': 50}\\nx = 100\\nvar = 'apple'\\ntest_function()\\nprint(globals())\\n# {'__name__': '__main__', '__doc__': None, '__package__': None, '__loader__': <_frozen_importlib_external.SourceFileLoader object at 0x7fbf94919030>, '__spec__': None, '__annotations__': {}, '__builtins__': <module 'builtins' (built-in)>, '__file__': '/mnt/d/Code/Acadmic/CS 682 -Neural Network/Project/data/processing/Stock Market Data/test.py', '__cached__': None, 'test_function': <function test_function at 0x7fbf9497e4d0>, 'x': 100, 'var': 'apple'}\\nprint(vars(x))\", '_i1': \"def test_function():\\n    print(locals())\\nx = 100\\nvar = 'apple'\\nprint(globals())\", 'test_function': <function test_function at 0x7fb1d8212cb0>, 'x': 100, 'var': 'apple', '_i2': \"def test_function():\\n    print(locals()) # {'y': 50}\\nx = 100\\nvar = 'apple'\\ntest_function()\\nprint(globals())\\n# {'__name__': '__main__', '__doc__': None, '__package__': None, '__loader__': <_frozen_importlib_external.SourceFileLoader object at 0x7fbf94919030>, '__spec__': None, '__annotations__': {}, '__builtins__': <module 'builtins' (built-in)>, '__file__': '/mnt/d/Code/Acadmic/CS 682 -Neural Network/Project/data/processing/Stock Market Data/test.py', '__cached__': None, 'test_function': <function test_function at 0x7fbf9497e4d0>, 'x': 100, 'var': 'apple'}\\nprint(vars(x))\", '_i3': \"def test_function():\\n    print(locals()) # {'y': 50}\\nx = 100\\nvar = 'apple'\\ntest_function()\\nprint(globals())\\n# {'__name__': '__main__', '__doc__': None, '__package__': None, '__loader__': <_frozen_importlib_external.SourceFileLoader object at 0x7fbf94919030>, '__spec__': None, '__annotations__': {}, '__builtins__': <module 'builtins' (built-in)>, '__file__': '/mnt/d/Code/Acadmic/CS 682 -Neural Network/Project/data/processing/Stock Market Data/test.py', '__cached__': None, 'test_function': <function test_function at 0x7fbf9497e4d0>, 'x': 100, 'var': 'apple'}\\nprint(vars())\", '_i4': \"def test_function():\\n    y = 50\\n    print(vars('y'))\\n    print(locals()) # {'y': 50}\\nx = 100\\nvar = 'apple'\\ntest_function()\\nprint(globals())\\n# {'__name__': '__main__', '__doc__': None, '__package__': None, '__loader__': <_frozen_importlib_external.SourceFileLoader object at 0x7fbf94919030>, '__spec__': None, '__annotations__': {}, '__builtins__': <module 'builtins' (built-in)>, '__file__': '/mnt/d/Code/Acadmic/CS 682 -Neural Network/Project/data/processing/Stock Market Data/test.py', '__cached__': None, 'test_function': <function test_function at 0x7fbf9497e4d0>, 'x': 100, 'var': 'apple'}\", '_i5': 'def test_function():\\n    print(\"Local namespace:\", locals())\\nx = 100\\nvar = \\'apple\\'\\nprint(\"Global namespace:\", globals())\\nprint(\"Namespace of a list object:\", vars([1, 2, 3]))'}\n"
     ]
    },
    {
     "ename": "TypeError",
     "evalue": "vars() argument must have __dict__ attribute",
     "output_type": "error",
     "traceback": [
      "\u001b[0;31m---------------------------------------------------------------------------\u001b[0m",
      "\u001b[0;31mTypeError\u001b[0m                                 Traceback (most recent call last)",
      "Cell \u001b[0;32mIn[5], line 6\u001b[0m\n\u001b[1;32m      4\u001b[0m var \u001b[38;5;241m=\u001b[39m \u001b[38;5;124m'\u001b[39m\u001b[38;5;124mapple\u001b[39m\u001b[38;5;124m'\u001b[39m\n\u001b[1;32m      5\u001b[0m \u001b[38;5;28mprint\u001b[39m(\u001b[38;5;124m\"\u001b[39m\u001b[38;5;124mGlobal namespace:\u001b[39m\u001b[38;5;124m\"\u001b[39m, \u001b[38;5;28mglobals\u001b[39m())\n\u001b[0;32m----> 6\u001b[0m \u001b[38;5;28mprint\u001b[39m(\u001b[38;5;124m\"\u001b[39m\u001b[38;5;124mNamespace of a list object:\u001b[39m\u001b[38;5;124m\"\u001b[39m, \u001b[38;5;28;43mvars\u001b[39;49m\u001b[43m(\u001b[49m\u001b[43m[\u001b[49m\u001b[38;5;241;43m1\u001b[39;49m\u001b[43m,\u001b[49m\u001b[43m \u001b[49m\u001b[38;5;241;43m2\u001b[39;49m\u001b[43m,\u001b[49m\u001b[43m \u001b[49m\u001b[38;5;241;43m3\u001b[39;49m\u001b[43m]\u001b[49m\u001b[43m)\u001b[49m)\n",
      "\u001b[0;31mTypeError\u001b[0m: vars() argument must have __dict__ attribute"
     ]
    }
   ],
   "source": [
    "def test_function():\n",
    "    print(\"Local namespace:\", locals())\n",
    "x = 100\n",
    "var = 'apple'\n",
    "print(\"Global namespace:\", globals())\n",
    "print(\"Namespace of a list object:\", vars([1, 2, 3]))"
   ]
  },
  {
   "cell_type": "code",
   "execution_count": null,
   "metadata": {},
   "outputs": [],
   "source": [
    "# Filters out all even numbers\n",
    "def div_2(x):\n",
    "    return x % 2 != 0\n",
    "\n",
    "my_list = [1, 2, 3, 4, 5]\n",
    "filter_result = list(filter(div_2, my_list))\n",
    "print(filter_result)  # [1, 3, 5]\n"
   ]
  },
  {
   "cell_type": "code",
   "execution_count": 5,
   "metadata": {},
   "outputs": [
    {
     "name": "stdout",
     "output_type": "stream",
     "text": [
      "{'name': 'John', 'details': {'favorite_numbers': [1, 2, 3], 'favorite_colors': ['red', 'blue', 'green']}, 'hobbies': ['reading', 'coding', 'gaming']}\n",
      "{'details': {'favorite_colors': ['red', 'blue', 'green'],\n",
      "             'favorite_numbers': [1, 2, 3]},\n",
      " 'hobbies': ['reading', 'coding', 'gaming'],\n",
      " 'name': 'John'}\n",
      "{'details': {'favorite_colors': ['red', 'blue', 'green'],\n",
      "             'favorite_numbers': [1, 2, 3]},\n",
      " 'hobbies': ['reading', 'coding', 'gaming'],\n",
      " 'name': 'John'}\n",
      "The value of Pi is 3.141592653589793\n"
     ]
    }
   ],
   "source": [
    "my_dict = {\n",
    "    'name': 'John',\n",
    "    'details': {\n",
    "        'favorite_numbers': [1, 2, 3],\n",
    "        'favorite_colors': ['red', 'blue', 'green']\n",
    "    },\n",
    "    'hobbies': ['reading', 'coding', 'gaming']\n",
    "}\n",
    "\n",
    "print(my_dict)\n",
    "\n",
    "import pprint\n",
    "\n",
    "pprint.pprint(my_dict)\n",
    "\n",
    "from pprint import pprint as pp\n",
    "pp(my_dict)\n",
    "\n",
    "import datetime\n",
    "today = datetime.date.today()\n",
    "\n",
    "\n",
    "from datetime import date\n",
    "today = date.today()\n",
    "\n",
    "\n",
    "from math import sqrt as s, pi as p\n",
    "result = s(16)\n",
    "print(f\"The value of Pi is {p}\")"
   ]
  },
  {
   "cell_type": "code",
   "execution_count": 6,
   "metadata": {},
   "outputs": [],
   "source": [
    "from datetime import date as d\n",
    "today = d.today()\n"
   ]
  },
  {
   "cell_type": "code",
   "execution_count": 8,
   "metadata": {},
   "outputs": [
    {
     "name": "stdout",
     "output_type": "stream",
     "text": [
      "November 12, 2024\n",
      "['nice', 'slashes']\n"
     ]
    }
   ],
   "source": [
    "import datetime\n",
    "formats = [\"nice\", \"slashes\"]\n",
    "\n",
    "def get_date_nice(date):\n",
    "    return f\"{date.strftime('%B')} {date.day}, {date.year}\"\n",
    "\n",
    "def get_with_slashes(date):\n",
    "    return f\"{date.month}/{date.day}/{date.year}\"\n",
    "\n",
    "def print_date(date, format):\n",
    "    if format == \"nice\":\n",
    "        print(get_date_nice(date))\n",
    "    elif format == \"slashes\":\n",
    "        print(get_with_slashes(date))\n",
    "    else:\n",
    "        raise ValueError(\"Unknown format\")\n",
    "\n",
    "today = datetime.date.today()\n",
    "nice = get_date_nice(today)\n",
    "print(nice)\n",
    "print(formats)"
   ]
  },
  {
   "cell_type": "code",
   "execution_count": null,
   "metadata": {},
   "outputs": [],
   "source": [
    "def pprint(lis):\n",
    "    for i in range(len(lis)):\n",
    "        print(f\"{i+1}: {lis[i]}\")\n",
    "\n",
    "if __name__ == \"__main__\":\n",
    "    print(\"testing code:\")\n",
    "    pprint(['Cookies and Cream', 'Peanut Butter Cookie', 'Moose Tracks'])\n"
   ]
  },
  {
   "cell_type": "code",
   "execution_count": null,
   "metadata": {},
   "outputs": [],
   "source": [
    "import csv\n",
    "with open('my_csv.csv', 'r') as f:\n",
    "    rows = list(csv.reader(f))\n",
    "\n",
    "# Add a total column\n",
    "for row in rows[1:]:\n",
    "    row.append(str(float(row[1]) * int(row[2])))\n",
    "\n",
    "# Writing the modified rows\n",
    "with open('new_csv.csv', 'w') as f:\n",
    "    writer = csv.writer(f)\n",
    "    for row in rows:\n",
    "        writer.writerow(row)\n"
   ]
  }
 ],
 "metadata": {
  "kernelspec": {
   "display_name": ".venv_data",
   "language": "python",
   "name": "python3"
  },
  "language_info": {
   "codemirror_mode": {
    "name": "ipython",
    "version": 3
   },
   "file_extension": ".py",
   "mimetype": "text/x-python",
   "name": "python",
   "nbconvert_exporter": "python",
   "pygments_lexer": "ipython3",
   "version": "3.10.12"
  }
 },
 "nbformat": 4,
 "nbformat_minor": 2
}
