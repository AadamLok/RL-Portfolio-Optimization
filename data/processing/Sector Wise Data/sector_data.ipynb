{
 "cells": [
  {
   "cell_type": "markdown",
   "metadata": {},
   "source": [
    "# Get data for all sectors: OCHLV + Indicators"
   ]
  },
  {
   "cell_type": "code",
   "execution_count": 1,
   "metadata": {},
   "outputs": [],
   "source": [
    "%load_ext rich"
   ]
  },
  {
   "cell_type": "code",
   "execution_count": 2,
   "metadata": {},
   "outputs": [],
   "source": [
    "import pandas as pd\n",
    "import numpy as np\n",
    "\n",
    "import urllib.request as request\n",
    "from dotenv import load_dotenv\n",
    "import os\n",
    "import time\n",
    "\n",
    "from rich import print\n",
    "from rich.progress import Progress, SpinnerColumn, TimeElapsedColumn"
   ]
  },
  {
   "cell_type": "code",
   "execution_count": 3,
   "metadata": {},
   "outputs": [],
   "source": [
    "load_dotenv()\n",
    "API_KEY = os.getenv(\"ALPHA_VANTAGE_API\")"
   ]
  },
  {
   "cell_type": "code",
   "execution_count": 4,
   "metadata": {},
   "outputs": [],
   "source": [
    "sectors = [\"XLC\", \"XLY\", \"XLP\", \"XLE\", \"XLF\", \"XLV\", \"XLI\", \"XLB\", \"XLRE\", \"XLK\", \"XLU\"]\n",
    "sp500 = \"SPY\"\n",
    "\n",
    "start_date = \"1999-12-31\""
   ]
  },
  {
   "cell_type": "code",
   "execution_count": 5,
   "metadata": {},
   "outputs": [],
   "source": [
    "indicators = {\n",
    "    \"open-SMA-5\" : [('function', 'SMA'), ('interval', 'daily'), ('time_period', 5), ('series_type', 'open')],\n",
    "    \"open-SMA-10\" : [('function', 'SMA'), ('interval', 'daily'), ('time_period', 10), ('series_type', 'open')],\n",
    "    \"open-SMA-20\" : [('function', 'SMA'), ('interval', 'daily'), ('time_period', 20), ('series_type', 'open')],\n",
    "    \"open-SMA-50\" : [('function', 'SMA'), ('interval', 'daily'), ('time_period', 50), ('series_type', 'open')],\n",
    "    \"open-SMA-100\" : [('function', 'SMA'), ('interval', 'daily'), ('time_period', 100), ('series_type', 'open')],\n",
    "    \"open-SMA-200\" : [('function', 'SMA'), ('interval', 'daily'), ('time_period', 200), ('series_type', 'open')],\n",
    "    \"open-SMA-500\" : [('function', 'SMA'), ('interval', 'daily'), ('time_period', 500), ('series_type', 'open')],\n",
    "    \"close-SMA-5\" : [('function', 'SMA'), ('interval', 'daily'), ('time_period', 5), ('series_type', 'close')],\n",
    "    \"close-SMA-10\" : [('function', 'SMA'), ('interval', 'daily'), ('time_period', 10), ('series_type', 'close')],\n",
    "    \"close-SMA-20\" : [('function', 'SMA'), ('interval', 'daily'), ('time_period', 20), ('series_type', 'close')],\n",
    "    \"close-SMA-50\" : [('function', 'SMA'), ('interval', 'daily'), ('time_period', 50), ('series_type', 'close')],\n",
    "    \"close-SMA-100\" : [('function', 'SMA'), ('interval', 'daily'), ('time_period', 100), ('series_type', 'close')],\n",
    "    \"close-SMA-200\" : [('function', 'SMA'), ('interval', 'daily'), ('time_period', 200), ('series_type', 'close')],\n",
    "    \"close-SMA-500\" : [('function', 'SMA'), ('interval', 'daily'), ('time_period', 500), ('series_type', 'close')],\n",
    "    \"high-SMA-5\" : [('function', 'SMA'), ('interval', 'daily'), ('time_period', 5), ('series_type', 'high')],\n",
    "    \"high-SMA-10\" : [('function', 'SMA'), ('interval', 'daily'), ('time_period', 10), ('series_type', 'high')],\n",
    "    \"high-SMA-20\" : [('function', 'SMA'), ('interval', 'daily'), ('time_period', 20), ('series_type', 'high')],\n",
    "    \"high-SMA-50\" : [('function', 'SMA'), ('interval', 'daily'), ('time_period', 50), ('series_type', 'high')],\n",
    "    \"high-SMA-100\" : [('function', 'SMA'), ('interval', 'daily'), ('time_period', 100), ('series_type', 'high')],\n",
    "    \"high-SMA-200\" : [('function', 'SMA'), ('interval', 'daily'), ('time_period', 200), ('series_type', 'high')],\n",
    "    \"high-SMA-500\" : [('function', 'SMA'), ('interval', 'daily'), ('time_period', 500), ('series_type', 'high')],\n",
    "    \"low-SMA-5\" : [('function', 'SMA'), ('interval', 'daily'), ('time_period', 5), ('series_type', 'low')],\n",
    "    \"low-SMA-10\" : [('function', 'SMA'), ('interval', 'daily'), ('time_period', 10), ('series_type', 'low')],\n",
    "    \"low-SMA-20\" : [('function', 'SMA'), ('interval', 'daily'), ('time_period', 20), ('series_type', 'low')],\n",
    "    \"low-SMA-50\" : [('function', 'SMA'), ('interval', 'daily'), ('time_period', 50), ('series_type', 'low')],\n",
    "    \"low-SMA-100\" : [('function', 'SMA'), ('interval', 'daily'), ('time_period', 100), ('series_type', 'low')],\n",
    "    \"low-SMA-200\" : [('function', 'SMA'), ('interval', 'daily'), ('time_period', 200), ('series_type', 'low')],\n",
    "    \"low-SMA-500\" : [('function', 'SMA'), ('interval', 'daily'), ('time_period', 500), ('series_type', 'low')],\n",
    "    \"open-EMA-12\" : [('function', 'EMA'), ('interval', 'daily'), ('time_period', 12), ('series_type', 'open')],\n",
    "    \"open-EMA-26\" : [('function', 'EMA'), ('interval', 'daily'), ('time_period', 26), ('series_type', 'open')],\n",
    "    \"open-EMA-50\" : [('function', 'EMA'), ('interval', 'daily'), ('time_period', 50), ('series_type', 'open')],\n",
    "    \"open-EMA-200\" : [('function', 'EMA'), ('interval', 'daily'), ('time_period', 200), ('series_type', 'open')],\n",
    "    \"close-EMA-12\" : [('function', 'EMA'), ('interval', 'daily'), ('time_period', 12), ('series_type', 'close')],\n",
    "    \"close-EMA-26\" : [('function', 'EMA'), ('interval', 'daily'), ('time_period', 26), ('series_type', 'close')],\n",
    "    \"close-EMA-50\" : [('function', 'EMA'), ('interval', 'daily'), ('time_period', 50), ('series_type', 'close')],\n",
    "    \"close-EMA-200\" : [('function', 'EMA'), ('interval', 'daily'), ('time_period', 200), ('series_type', 'close')],\n",
    "    \"high-EMA-12\" : [('function', 'EMA'), ('interval', 'daily'), ('time_period', 12), ('series_type', 'high')],\n",
    "    \"high-EMA-26\" : [('function', 'EMA'), ('interval', 'daily'), ('time_period', 26), ('series_type', 'high')],\n",
    "    \"high-EMA-50\" : [('function', 'EMA'), ('interval', 'daily'), ('time_period', 50), ('series_type', 'high')],\n",
    "    \"high-EMA-200\" : [('function', 'EMA'), ('interval', 'daily'), ('time_period', 200), ('series_type', 'high')],\n",
    "    \"low-EMA-12\" : [('function', 'EMA'), ('interval', 'daily'), ('time_period', 12), ('series_type', 'low')],\n",
    "    \"low-EMA-26\" : [('function', 'EMA'), ('interval', 'daily'), ('time_period', 26), ('series_type', 'low')],\n",
    "    \"low-EMA-50\" : [('function', 'EMA'), ('interval', 'daily'), ('time_period', 50), ('series_type', 'low')],\n",
    "    \"low-EMA-200\" : [('function', 'EMA'), ('interval', 'daily'), ('time_period', 200), ('series_type', 'low')],\n",
    "    \"open-WMA-5\" : [('function', 'WMA'), ('interval', 'daily'), ('time_period', 5), ('series_type', 'open')],\n",
    "    \"open-WMA-10\" : [('function', 'WMA'), ('interval', 'daily'), ('time_period', 10), ('series_type', 'open')],\n",
    "    \"open-WMA-20\" : [('function', 'WMA'), ('interval', 'daily'), ('time_period', 20), ('series_type', 'open')],\n",
    "    \"open-WMA-50\" : [('function', 'WMA'), ('interval', 'daily'), ('time_period', 50), ('series_type', 'open')],\n",
    "    \"open-WMA-100\" : [('function', 'WMA'), ('interval', 'daily'), ('time_period', 100), ('series_type', 'open')],\n",
    "    \"open-WMA-200\" : [('function', 'WMA'), ('interval', 'daily'), ('time_period', 200), ('series_type', 'open')],\n",
    "    \"open-WMA-500\" : [('function', 'WMA'), ('interval', 'daily'), ('time_period', 500), ('series_type', 'open')],\n",
    "    \"close-WMA-5\" : [('function', 'WMA'), ('interval', 'daily'), ('time_period', 5), ('series_type', 'close')],\n",
    "    \"close-WMA-10\" : [('function', 'WMA'), ('interval', 'daily'), ('time_period', 10), ('series_type', 'close')],\n",
    "    \"close-WMA-20\" : [('function', 'WMA'), ('interval', 'daily'), ('time_period', 20), ('series_type', 'close')],\n",
    "    \"close-WMA-50\" : [('function', 'WMA'), ('interval', 'daily'), ('time_period', 50), ('series_type', 'close')],\n",
    "    \"close-WMA-100\" : [('function', 'WMA'), ('interval', 'daily'), ('time_period', 100), ('series_type', 'close')],\n",
    "    \"close-WMA-200\" : [('function', 'WMA'), ('interval', 'daily'), ('time_period', 200), ('series_type', 'close')],\n",
    "    \"close-WMA-500\" : [('function', 'WMA'), ('interval', 'daily'), ('time_period', 500), ('series_type', 'close')],\n",
    "    \"high-WMA-5\" : [('function', 'WMA'), ('interval', 'daily'), ('time_period', 5), ('series_type', 'high')],\n",
    "    \"high-WMA-10\" : [('function', 'WMA'), ('interval', 'daily'), ('time_period', 10), ('series_type', 'high')],\n",
    "    \"high-WMA-20\" : [('function', 'WMA'), ('interval', 'daily'), ('time_period', 20), ('series_type', 'high')],\n",
    "    \"high-WMA-50\" : [('function', 'WMA'), ('interval', 'daily'), ('time_period', 50), ('series_type', 'high')],\n",
    "    \"high-WMA-100\" : [('function', 'WMA'), ('interval', 'daily'), ('time_period', 100), ('series_type', 'high')],\n",
    "    \"high-WMA-200\" : [('function', 'WMA'), ('interval', 'daily'), ('time_period', 200), ('series_type', 'high')],\n",
    "    \"high-WMA-500\" : [('function', 'WMA'), ('interval', 'daily'), ('time_period', 500), ('series_type', 'high')],\n",
    "    \"low-WMA-5\" : [('function', 'WMA'), ('interval', 'daily'), ('time_period', 5), ('series_type', 'low')],\n",
    "    \"low-WMA-10\" : [('function', 'WMA'), ('interval', 'daily'), ('time_period', 10), ('series_type', 'low')],\n",
    "    \"low-WMA-20\" : [('function', 'WMA'), ('interval', 'daily'), ('time_period', 20), ('series_type', 'low')],\n",
    "    \"low-WMA-50\" : [('function', 'WMA'), ('interval', 'daily'), ('time_period', 50), ('series_type', 'low')],\n",
    "    \"low-WMA-100\" : [('function', 'WMA'), ('interval', 'daily'), ('time_period', 100), ('series_type', 'low')],\n",
    "    \"low-WMA-200\" : [('function', 'WMA'), ('interval', 'daily'), ('time_period', 200), ('series_type', 'low')],\n",
    "    \"low-WMA-500\" : [('function', 'WMA'), ('interval', 'daily'), ('time_period', 500), ('series_type', 'low')],\n",
    "    \"open-DEMA-20\" : [('function', 'DEMA'), ('interval', 'daily'), ('time_period', 20), ('series_type', 'open')],\n",
    "    \"open-DEMA-50\" : [('function', 'DEMA'), ('interval', 'daily'), ('time_period', 50), ('series_type', 'open')],\n",
    "    \"open-DEMA-100\" : [('function', 'DEMA'), ('interval', 'daily'), ('time_period', 100), ('series_type', 'open')],\n",
    "    \"open-DEMA-200\" : [('function', 'DEMA'), ('interval', 'daily'), ('time_period', 200), ('series_type', 'open')],\n",
    "    \"close-DEMA-20\" : [('function', 'DEMA'), ('interval', 'daily'), ('time_period', 20), ('series_type', 'close')],\n",
    "    \"close-DEMA-50\" : [('function', 'DEMA'), ('interval', 'daily'), ('time_period', 50), ('series_type', 'close')],\n",
    "    \"close-DEMA-100\" : [('function', 'DEMA'), ('interval', 'daily'), ('time_period', 100), ('series_type', 'close')],\n",
    "    \"close-DEMA-200\" : [('function', 'DEMA'), ('interval', 'daily'), ('time_period', 200), ('series_type', 'close')],\n",
    "    \"high-DEMA-20\" : [('function', 'DEMA'), ('interval', 'daily'), ('time_period', 20), ('series_type', 'high')],\n",
    "    \"high-DEMA-50\" : [('function', 'DEMA'), ('interval', 'daily'), ('time_period', 50), ('series_type', 'high')],\n",
    "    \"high-DEMA-100\" : [('function', 'DEMA'), ('interval', 'daily'), ('time_period', 100), ('series_type', 'high')],\n",
    "    \"high-DEMA-200\" : [('function', 'DEMA'), ('interval', 'daily'), ('time_period', 200), ('series_type', 'high')],\n",
    "    \"low-DEMA-20\" : [('function', 'DEMA'), ('interval', 'daily'), ('time_period', 20), ('series_type', 'low')],\n",
    "    \"low-DEMA-50\" : [('function', 'DEMA'), ('interval', 'daily'), ('time_period', 50), ('series_type', 'low')],\n",
    "    \"low-DEMA-100\" : [('function', 'DEMA'), ('interval', 'daily'), ('time_period', 100), ('series_type', 'low')],\n",
    "    \"low-DEMA-200\" : [('function', 'DEMA'), ('interval', 'daily'), ('time_period', 200), ('series_type', 'low')],\n",
    "    \"open-TEMA-10\" : [('function', 'TEMA'), ('interval', 'daily'), ('time_period', 10), ('series_type', 'open')],\n",
    "    \"open-TEMA-20\" : [('function', 'TEMA'), ('interval', 'daily'), ('time_period', 20), ('series_type', 'open')],\n",
    "    \"open-TEMA-50\" : [('function', 'TEMA'), ('interval', 'daily'), ('time_period', 50), ('series_type', 'open')],\n",
    "    \"open-TEMA-100\" : [('function', 'TEMA'), ('interval', 'daily'), ('time_period', 100), ('series_type', 'open')],\n",
    "    \"close-TEMA-10\" : [('function', 'TEMA'), ('interval', 'daily'), ('time_period', 10), ('series_type', 'close')],\n",
    "    \"close-TEMA-20\" : [('function', 'TEMA'), ('interval', 'daily'), ('time_period', 20), ('series_type', 'close')],\n",
    "    \"close-TEMA-50\" : [('function', 'TEMA'), ('interval', 'daily'), ('time_period', 50), ('series_type', 'close')],\n",
    "    \"close-TEMA-100\" : [('function', 'TEMA'), ('interval', 'daily'), ('time_period', 100), ('series_type', 'close')],\n",
    "    \"high-TEMA-10\" : [('function', 'TEMA'), ('interval', 'daily'), ('time_period', 10), ('series_type', 'high')],\n",
    "    \"high-TEMA-20\" : [('function', 'TEMA'), ('interval', 'daily'), ('time_period', 20), ('series_type', 'high')],\n",
    "    \"high-TEMA-50\" : [('function', 'TEMA'), ('interval', 'daily'), ('time_period', 50), ('series_type', 'high')],\n",
    "    \"high-TEMA-100\" : [('function', 'TEMA'), ('interval', 'daily'), ('time_period', 100), ('series_type', 'high')],\n",
    "    \"low-TEMA-10\" : [('function', 'TEMA'), ('interval', 'daily'), ('time_period', 10), ('series_type', 'low')],\n",
    "    \"low-TEMA-20\" : [('function', 'TEMA'), ('interval', 'daily'), ('time_period', 20), ('series_type', 'low')],\n",
    "    \"low-TEMA-50\" : [('function', 'TEMA'), ('interval', 'daily'), ('time_period', 50), ('series_type', 'low')],\n",
    "    \"low-TEMA-100\" : [('function', 'TEMA'), ('interval', 'daily'), ('time_period', 100), ('series_type', 'low')],\n",
    "    \"open-TRIMA-5\" : [('function', 'TRIMA'), ('interval', 'daily'), ('time_period', 5), ('series_type', 'open')],\n",
    "    \"open-TRIMA-10\" : [('function', 'TRIMA'), ('interval', 'daily'), ('time_period', 10), ('series_type', 'open')],\n",
    "    \"open-TRIMA-20\" : [('function', 'TRIMA'), ('interval', 'daily'), ('time_period', 20), ('series_type', 'open')],\n",
    "    \"open-TRIMA-50\" : [('function', 'TRIMA'), ('interval', 'daily'), ('time_period', 50), ('series_type', 'open')],\n",
    "    \"open-TRIMA-100\" : [('function', 'TRIMA'), ('interval', 'daily'), ('time_period', 100), ('series_type', 'open')],\n",
    "    \"open-TRIMA-200\" : [('function', 'TRIMA'), ('interval', 'daily'), ('time_period', 200), ('series_type', 'open')],\n",
    "    \"open-TRIMA-500\" : [('function', 'TRIMA'), ('interval', 'daily'), ('time_period', 500), ('series_type', 'open')],\n",
    "    \"close-TRIMA-5\" : [('function', 'TRIMA'), ('interval', 'daily'), ('time_period', 5), ('series_type', 'close')],\n",
    "    \"close-TRIMA-10\" : [('function', 'TRIMA'), ('interval', 'daily'), ('time_period', 10), ('series_type', 'close')],\n",
    "    \"close-TRIMA-20\" : [('function', 'TRIMA'), ('interval', 'daily'), ('time_period', 20), ('series_type', 'close')],\n",
    "    \"close-TRIMA-50\" : [('function', 'TRIMA'), ('interval', 'daily'), ('time_period', 50), ('series_type', 'close')],\n",
    "    \"close-TRIMA-100\" : [('function', 'TRIMA'), ('interval', 'daily'), ('time_period', 100), ('series_type', 'close')],\n",
    "    \"close-TRIMA-200\" : [('function', 'TRIMA'), ('interval', 'daily'), ('time_period', 200), ('series_type', 'close')],\n",
    "    \"close-TRIMA-500\" : [('function', 'TRIMA'), ('interval', 'daily'), ('time_period', 500), ('series_type', 'close')],\n",
    "    \"high-TRIMA-5\" : [('function', 'TRIMA'), ('interval', 'daily'), ('time_period', 5), ('series_type', 'high')],\n",
    "    \"high-TRIMA-10\" : [('function', 'TRIMA'), ('interval', 'daily'), ('time_period', 10), ('series_type', 'high')],\n",
    "    \"high-TRIMA-20\" : [('function', 'TRIMA'), ('interval', 'daily'), ('time_period', 20), ('series_type', 'high')],\n",
    "    \"high-TRIMA-50\" : [('function', 'TRIMA'), ('interval', 'daily'), ('time_period', 50), ('series_type', 'high')],\n",
    "    \"high-TRIMA-100\" : [('function', 'TRIMA'), ('interval', 'daily'), ('time_period', 100), ('series_type', 'high')],\n",
    "    \"high-TRIMA-200\" : [('function', 'TRIMA'), ('interval', 'daily'), ('time_period', 200), ('series_type', 'high')],\n",
    "    \"high-TRIMA-500\" : [('function', 'TRIMA'), ('interval', 'daily'), ('time_period', 500), ('series_type', 'high')],\n",
    "    \"low-TRIMA-5\" : [('function', 'TRIMA'), ('interval', 'daily'), ('time_period', 5), ('series_type', 'low')],\n",
    "    \"low-TRIMA-10\" : [('function', 'TRIMA'), ('interval', 'daily'), ('time_period', 10), ('series_type', 'low')],\n",
    "    \"low-TRIMA-20\" : [('function', 'TRIMA'), ('interval', 'daily'), ('time_period', 20), ('series_type', 'low')],\n",
    "    \"low-TRIMA-50\" : [('function', 'TRIMA'), ('interval', 'daily'), ('time_period', 50), ('series_type', 'low')],\n",
    "    \"low-TRIMA-100\" : [('function', 'TRIMA'), ('interval', 'daily'), ('time_period', 100), ('series_type', 'low')],\n",
    "    \"low-TRIMA-200\" : [('function', 'TRIMA'), ('interval', 'daily'), ('time_period', 200), ('series_type', 'low')],\n",
    "    \"low-TRIMA-500\" : [('function', 'TRIMA'), ('interval', 'daily'), ('time_period', 500), ('series_type', 'low')],\n",
    "    \"open-KAMA-5\" : [('function', 'KAMA'), ('interval', 'daily'), ('time_period', 5), ('series_type', 'open')],\n",
    "    \"open-KAMA-10\" : [('function', 'KAMA'), ('interval', 'daily'), ('time_period', 10), ('series_type', 'open')],\n",
    "    \"open-KAMA-20\" : [('function', 'KAMA'), ('interval', 'daily'), ('time_period', 20), ('series_type', 'open')],\n",
    "    \"open-KAMA-50\" : [('function', 'KAMA'), ('interval', 'daily'), ('time_period', 50), ('series_type', 'open')],\n",
    "    \"open-KAMA-100\" : [('function', 'KAMA'), ('interval', 'daily'), ('time_period', 100), ('series_type', 'open')],\n",
    "    \"open-KAMA-200\" : [('function', 'KAMA'), ('interval', 'daily'), ('time_period', 200), ('series_type', 'open')],\n",
    "    \"open-KAMA-500\" : [('function', 'KAMA'), ('interval', 'daily'), ('time_period', 500), ('series_type', 'open')],\n",
    "    \"close-KAMA-5\" : [('function', 'KAMA'), ('interval', 'daily'), ('time_period', 5), ('series_type', 'close')],\n",
    "    \"close-KAMA-10\" : [('function', 'KAMA'), ('interval', 'daily'), ('time_period', 10), ('series_type', 'close')],\n",
    "    \"close-KAMA-20\" : [('function', 'KAMA'), ('interval', 'daily'), ('time_period', 20), ('series_type', 'close')],\n",
    "    \"close-KAMA-50\" : [('function', 'KAMA'), ('interval', 'daily'), ('time_period', 50), ('series_type', 'close')],\n",
    "    \"close-KAMA-100\" : [('function', 'KAMA'), ('interval', 'daily'), ('time_period', 100), ('series_type', 'close')],\n",
    "    \"close-KAMA-200\" : [('function', 'KAMA'), ('interval', 'daily'), ('time_period', 200), ('series_type', 'close')],\n",
    "    \"close-KAMA-500\" : [('function', 'KAMA'), ('interval', 'daily'), ('time_period', 500), ('series_type', 'close')],\n",
    "    \"high-KAMA-5\" : [('function', 'KAMA'), ('interval', 'daily'), ('time_period', 5), ('series_type', 'high')],\n",
    "    \"high-KAMA-10\" : [('function', 'KAMA'), ('interval', 'daily'), ('time_period', 10), ('series_type', 'high')],\n",
    "    \"high-KAMA-20\" : [('function', 'KAMA'), ('interval', 'daily'), ('time_period', 20), ('series_type', 'high')],\n",
    "    \"high-KAMA-50\" : [('function', 'KAMA'), ('interval', 'daily'), ('time_period', 50), ('series_type', 'high')],\n",
    "    \"high-KAMA-100\" : [('function', 'KAMA'), ('interval', 'daily'), ('time_period', 100), ('series_type', 'high')],\n",
    "    \"high-KAMA-200\" : [('function', 'KAMA'), ('interval', 'daily'), ('time_period', 200), ('series_type', 'high')],\n",
    "    \"high-KAMA-500\" : [('function', 'KAMA'), ('interval', 'daily'), ('time_period', 500), ('series_type', 'high')],\n",
    "    \"low-KAMA-5\" : [('function', 'KAMA'), ('interval', 'daily'), ('time_period', 5), ('series_type', 'low')],\n",
    "    \"low-KAMA-10\" : [('function', 'KAMA'), ('interval', 'daily'), ('time_period', 10), ('series_type', 'low')],\n",
    "    \"low-KAMA-20\" : [('function', 'KAMA'), ('interval', 'daily'), ('time_period', 20), ('series_type', 'low')],\n",
    "    \"low-KAMA-50\" : [('function', 'KAMA'), ('interval', 'daily'), ('time_period', 50), ('series_type', 'low')],\n",
    "    \"low-KAMA-100\" : [('function', 'KAMA'), ('interval', 'daily'), ('time_period', 100), ('series_type', 'low')],\n",
    "    \"low-KAMA-200\" : [('function', 'KAMA'), ('interval', 'daily'), ('time_period', 200), ('series_type', 'low')],\n",
    "    \"low-KAMA-500\" : [('function', 'KAMA'), ('interval', 'daily'), ('time_period', 500), ('series_type', 'low')],\n",
    "    \"open-MAMA\" : [('function', 'MAMA'), ('interval', 'daily'), ('series_type', 'open'), ('slow_limit', 0.05), ('fast_limit', 0.5)],\n",
    "    \"open-MAMA\" : [('function', 'MAMA'), ('interval', 'daily'), ('series_type', 'open'), ('slow_limit', 0.05), ('fast_limit', 0.3)],\n",
    "    \"close-MAMA\" : [('function', 'MAMA'), ('interval', 'daily'), ('series_type', 'close'), ('slow_limit', 0.05), ('fast_limit', 0.5)],\n",
    "    \"close-MAMA\" : [('function', 'MAMA'), ('interval', 'daily'), ('series_type', 'close'), ('slow_limit', 0.05), ('fast_limit', 0.3)],\n",
    "    \"high-MAMA\" : [('function', 'MAMA'), ('interval', 'daily'), ('series_type', 'high'), ('slow_limit', 0.05), ('fast_limit', 0.5)],\n",
    "    \"high-MAMA\" : [('function', 'MAMA'), ('interval', 'daily'), ('series_type', 'high'), ('slow_limit', 0.05), ('fast_limit', 0.3)],\n",
    "    \"low-MAMA\" : [('function', 'MAMA'), ('interval', 'daily'), ('series_type', 'low'), ('slow_limit', 0.05), ('fast_limit', 0.5)],\n",
    "    \"low-MAMA\" : [('function', 'MAMA'), ('interval', 'daily'), ('series_type', 'low'), ('slow_limit', 0.05), ('fast_limit', 0.3)],\n",
    "    \"open-T3-20\" : [('function', 'T3'), ('interval', 'daily'), ('time_period', 20), ('series_type', 'open')],\n",
    "    \"open-T3-50\" : [('function', 'T3'), ('interval', 'daily'), ('time_period', 50), ('series_type', 'open')],\n",
    "    \"open-T3-200\" : [('function', 'T3'), ('interval', 'daily'), ('time_period', 200), ('series_type', 'open')],\n",
    "    \"close-T3-20\" : [('function', 'T3'), ('interval', 'daily'), ('time_period', 20), ('series_type', 'close')],\n",
    "    \"close-T3-50\" : [('function', 'T3'), ('interval', 'daily'), ('time_period', 50), ('series_type', 'close')],\n",
    "    \"close-T3-200\" : [('function', 'T3'), ('interval', 'daily'), ('time_period', 200), ('series_type', 'close')],\n",
    "    \"high-T3-20\" : [('function', 'T3'), ('interval', 'daily'), ('time_period', 20), ('series_type', 'high')],\n",
    "    \"high-T3-50\" : [('function', 'T3'), ('interval', 'daily'), ('time_period', 50), ('series_type', 'high')],\n",
    "    \"high-T3-200\" : [('function', 'T3'), ('interval', 'daily'), ('time_period', 200), ('series_type', 'high')],\n",
    "    \"low-T3-20\" : [('function', 'T3'), ('interval', 'daily'), ('time_period', 20), ('series_type', 'low')],\n",
    "    \"low-T3-50\" : [('function', 'T3'), ('interval', 'daily'), ('time_period', 50), ('series_type', 'low')],\n",
    "    \"low-T3-200\" : [('function', 'T3'), ('interval', 'daily'), ('time_period', 200), ('series_type', 'low')],\n",
    "    \"open-MACD\" : [('function', 'MACD'), ('interval', 'daily'), ('series_type', 'open'), ('fast-period',12), ('slow-period',26), ('signal-period', 9)],\n",
    "    \"open-MACD\" : [('function', 'MACD'), ('interval', 'daily'), ('series_type', 'open'), ('fast-period',5), ('slow-period',13), ('signal-period', 5)],\n",
    "    \"close-MACD\" : [('function', 'MACD'), ('interval', 'daily'), ('series_type', 'close'), ('fast-period',12), ('slow-period',26), ('signal-period', 9)],\n",
    "    \"close-MACD\" : [('function', 'MACD'), ('interval', 'daily'), ('series_type', 'close'), ('fast-period',5), ('slow-period',13), ('signal-period', 5)],\n",
    "    \"high-MACD\" : [('function', 'MACD'), ('interval', 'daily'), ('series_type', 'high'), ('fast-period',12), ('slow-period',26), ('signal-period', 9)],\n",
    "    \"high-MACD\" : [('function', 'MACD'), ('interval', 'daily'), ('series_type', 'high'), ('fast-period',5), ('slow-period',13), ('signal-period', 5)],\n",
    "    \"low-MACD\" : [('function', 'MACD'), ('interval', 'daily'), ('series_type', 'low'), ('fast-period',12), ('slow-period',26), ('signal-period', 9)],\n",
    "    \"low-MACD\" : [('function', 'MACD'), ('interval', 'daily'), ('series_type', 'low'), ('fast-period',5), ('slow-period',13), ('signal-period', 5)],\n",
    "    \"STOCH\": [('function', 'STOCH'), ('interval', 'daily')],\n",
    "    \"open-RSI-10\" : [('function', 'RSI'), ('interval', 'daily'), ('time_period', 10), ('series_type', 'open')],\n",
    "    \"open-RSI-15\" : [('function', 'RSI'), ('interval', 'daily'), ('time_period', 15), ('series_type', 'open')],\n",
    "    \"open-RSI-20\" : [('function', 'RSI'), ('interval', 'daily'), ('time_period', 20), ('series_type', 'open')],\n",
    "    \"close-RSI-10\" : [('function', 'RSI'), ('interval', 'daily'), ('time_period', 10), ('series_type', 'close')],\n",
    "    \"close-RSI-15\" : [('function', 'RSI'), ('interval', 'daily'), ('time_period', 15), ('series_type', 'close')],\n",
    "    \"close-RSI-20\" : [('function', 'RSI'), ('interval', 'daily'), ('time_period', 20), ('series_type', 'close')],\n",
    "    \"high-RSI-10\" : [('function', 'RSI'), ('interval', 'daily'), ('time_period', 10), ('series_type', 'high')],\n",
    "    \"high-RSI-15\" : [('function', 'RSI'), ('interval', 'daily'), ('time_period', 15), ('series_type', 'high')],\n",
    "    \"high-RSI-20\" : [('function', 'RSI'), ('interval', 'daily'), ('time_period', 20), ('series_type', 'high')],\n",
    "    \"low-RSI-10\" : [('function', 'RSI'), ('interval', 'daily'), ('time_period', 10), ('series_type', 'low')],\n",
    "    \"low-RSI-15\" : [('function', 'RSI'), ('interval', 'daily'), ('time_period', 15), ('series_type', 'low')],\n",
    "    \"low-RSI-20\" : [('function', 'RSI'), ('interval', 'daily'), ('time_period', 20), ('series_type', 'low')],\n",
    "    \"open-STOCHRSI-10\" : [('function', 'STOCHRSI'), ('interval', 'daily'), ('time_period', 10), ('series_type', 'open')],\n",
    "    \"open-STOCHRSI-15\" : [('function', 'STOCHRSI'), ('interval', 'daily'), ('time_period', 15), ('series_type', 'open')],\n",
    "    \"open-STOCHRSI-20\" : [('function', 'STOCHRSI'), ('interval', 'daily'), ('time_period', 20), ('series_type', 'open')],\n",
    "    \"close-STOCHRSI-10\" : [('function', 'STOCHRSI'), ('interval', 'daily'), ('time_period', 10), ('series_type', 'close')],\n",
    "    \"close-STOCHRSI-15\" : [('function', 'STOCHRSI'), ('interval', 'daily'), ('time_period', 15), ('series_type', 'close')],\n",
    "    \"close-STOCHRSI-20\" : [('function', 'STOCHRSI'), ('interval', 'daily'), ('time_period', 20), ('series_type', 'close')],\n",
    "    \"high-STOCHRSI-10\" : [('function', 'STOCHRSI'), ('interval', 'daily'), ('time_period', 10), ('series_type', 'high')],\n",
    "    \"high-STOCHRSI-15\" : [('function', 'STOCHRSI'), ('interval', 'daily'), ('time_period', 15), ('series_type', 'high')],\n",
    "    \"high-STOCHRSI-20\" : [('function', 'STOCHRSI'), ('interval', 'daily'), ('time_period', 20), ('series_type', 'high')],\n",
    "    \"low-STOCHRSI-10\" : [('function', 'STOCHRSI'), ('interval', 'daily'), ('time_period', 10), ('series_type', 'low')],\n",
    "    \"low-STOCHRSI-15\" : [('function', 'STOCHRSI'), ('interval', 'daily'), ('time_period', 15), ('series_type', 'low')],\n",
    "    \"low-STOCHRSI-20\" : [('function', 'STOCHRSI'), ('interval', 'daily'), ('time_period', 20), ('series_type', 'low')],\n",
    "    \"WILLR-10\": [('function', 'WILLR'), ('interval', 'daily'), ('time_period', 10)],\n",
    "    \"WILLR-20\": [('function', 'WILLR'), ('interval', 'daily'), ('time_period', 20)],\n",
    "    \"WILLR-30\": [('function', 'WILLR'), ('interval', 'daily'), ('time_period', 30)],\n",
    "    \"ADX-10\": [('function', 'ADX'), ('interval', 'daily'), ('time_period', 10)],\n",
    "    \"ADX-20\": [('function', 'ADX'), ('interval', 'daily'), ('time_period', 20)],\n",
    "    \"ADX-30\": [('function', 'ADX'), ('interval', 'daily'), ('time_period', 30)],\n",
    "    \"ADXR-10\": [('function', 'ADXR'), ('interval', 'daily'), ('time_period', 10)],\n",
    "    \"ADXR-20\": [('function', 'ADXR'), ('interval', 'daily'), ('time_period', 20)],\n",
    "    \"ADXR-30\": [('function', 'ADXR'), ('interval', 'daily'), ('time_period', 30)],\n",
    "    \"open-APO\" : [('function', 'APO'), ('interval', 'daily'), ('series_type', 'open')],\n",
    "    \"close-APO\" : [('function', 'APO'), ('interval', 'daily'), ('series_type', 'close')],\n",
    "    \"high-APO\" : [('function', 'APO'), ('interval', 'daily'), ('series_type', 'high')],\n",
    "    \"low-APO\" : [('function', 'APO'), ('interval', 'daily'), ('series_type', 'low')],\n",
    "    \"open-PPO\" : [('function', 'PPO'), ('interval', 'daily'), ('series_type', 'open')],\n",
    "    \"close-PPO\" : [('function', 'PPO'), ('interval', 'daily'), ('series_type', 'close')],\n",
    "    \"high-PPO\" : [('function', 'PPO'), ('interval', 'daily'), ('series_type', 'high')],\n",
    "    \"low-PPO\" : [('function', 'PPO'), ('interval', 'daily'), ('series_type', 'low')],\n",
    "    \"open-MOM-10\" : [('function', 'MOM'), ('interval', 'daily'), ('time_period', 10), ('series_type', 'open')],\n",
    "    \"open-MOM-20\" : [('function', 'MOM'), ('interval', 'daily'), ('time_period', 20), ('series_type', 'open')],\n",
    "    \"open-MOM-50\" : [('function', 'MOM'), ('interval', 'daily'), ('time_period', 50), ('series_type', 'open')],\n",
    "    \"close-MOM-10\" : [('function', 'MOM'), ('interval', 'daily'), ('time_period', 10), ('series_type', 'close')],\n",
    "    \"close-MOM-20\" : [('function', 'MOM'), ('interval', 'daily'), ('time_period', 20), ('series_type', 'close')],\n",
    "    \"close-MOM-50\" : [('function', 'MOM'), ('interval', 'daily'), ('time_period', 50), ('series_type', 'close')],\n",
    "    \"high-MOM-10\" : [('function', 'MOM'), ('interval', 'daily'), ('time_period', 10), ('series_type', 'high')],\n",
    "    \"high-MOM-20\" : [('function', 'MOM'), ('interval', 'daily'), ('time_period', 20), ('series_type', 'high')],\n",
    "    \"high-MOM-50\" : [('function', 'MOM'), ('interval', 'daily'), ('time_period', 50), ('series_type', 'high')],\n",
    "    \"low-MOM-10\" : [('function', 'MOM'), ('interval', 'daily'), ('time_period', 10), ('series_type', 'low')],\n",
    "    \"low-MOM-20\" : [('function', 'MOM'), ('interval', 'daily'), ('time_period', 20), ('series_type', 'low')],\n",
    "    \"low-MOM-50\" : [('function', 'MOM'), ('interval', 'daily'), ('time_period', 50), ('series_type', 'low')],\n",
    "    \"BOP\": [('function', 'BOP'), ('interval', 'daily')],\n",
    "    \"CCI-10\": [('function', 'CCI'), ('interval', 'daily'), ('time_period', 10)],\n",
    "    \"CCI-20\": [('function', 'CCI'), ('interval', 'daily'), ('time_period', 20)],\n",
    "    \"CCI-50\": [('function', 'CCI'), ('interval', 'daily'), ('time_period', 50)],\n",
    "    \"CCI-100\": [('function', 'CCI'), ('interval', 'daily'), ('time_period', 100)],\n",
    "    \"open-CMO-5\" : [('function', 'CMO'), ('interval', 'daily'), ('time_period', 5), ('series_type', 'open')],\n",
    "    \"open-CMO-10\" : [('function', 'CMO'), ('interval', 'daily'), ('time_period', 10), ('series_type', 'open')],\n",
    "    \"open-CMO-20\" : [('function', 'CMO'), ('interval', 'daily'), ('time_period', 20), ('series_type', 'open')],\n",
    "    \"open-CMO-30\" : [('function', 'CMO'), ('interval', 'daily'), ('time_period', 30), ('series_type', 'open')],\n",
    "    \"close-CMO-5\" : [('function', 'CMO'), ('interval', 'daily'), ('time_period', 5), ('series_type', 'close')],\n",
    "    \"close-CMO-10\" : [('function', 'CMO'), ('interval', 'daily'), ('time_period', 10), ('series_type', 'close')],\n",
    "    \"close-CMO-20\" : [('function', 'CMO'), ('interval', 'daily'), ('time_period', 20), ('series_type', 'close')],\n",
    "    \"close-CMO-30\" : [('function', 'CMO'), ('interval', 'daily'), ('time_period', 30), ('series_type', 'close')],\n",
    "    \"high-CMO-5\" : [('function', 'CMO'), ('interval', 'daily'), ('time_period', 5), ('series_type', 'high')],\n",
    "    \"high-CMO-10\" : [('function', 'CMO'), ('interval', 'daily'), ('time_period', 10), ('series_type', 'high')],\n",
    "    \"high-CMO-20\" : [('function', 'CMO'), ('interval', 'daily'), ('time_period', 20), ('series_type', 'high')],\n",
    "    \"high-CMO-30\" : [('function', 'CMO'), ('interval', 'daily'), ('time_period', 30), ('series_type', 'high')],\n",
    "    \"low-CMO-5\" : [('function', 'CMO'), ('interval', 'daily'), ('time_period', 5), ('series_type', 'low')],\n",
    "    \"low-CMO-10\" : [('function', 'CMO'), ('interval', 'daily'), ('time_period', 10), ('series_type', 'low')],\n",
    "    \"low-CMO-20\" : [('function', 'CMO'), ('interval', 'daily'), ('time_period', 20), ('series_type', 'low')],\n",
    "    \"low-CMO-30\" : [('function', 'CMO'), ('interval', 'daily'), ('time_period', 30), ('series_type', 'low')],\n",
    "    \"open-ROC-5\" : [('function', 'ROC'), ('interval', 'daily'), ('time_period', 5), ('series_type', 'open')],\n",
    "    \"open-ROC-10\" : [('function', 'ROC'), ('interval', 'daily'), ('time_period', 10), ('series_type', 'open')],\n",
    "    \"open-ROC-20\" : [('function', 'ROC'), ('interval', 'daily'), ('time_period', 20), ('series_type', 'open')],\n",
    "    \"open-ROC-50\" : [('function', 'ROC'), ('interval', 'daily'), ('time_period', 50), ('series_type', 'open')],\n",
    "    \"open-ROC-30\" : [('function', 'ROC'), ('interval', 'daily'), ('time_period', 30), ('series_type', 'open')],\n",
    "    \"open-ROC-15\" : [('function', 'ROC'), ('interval', 'daily'), ('time_period', 15), ('series_type', 'open')],\n",
    "    \"close-ROC-5\" : [('function', 'ROC'), ('interval', 'daily'), ('time_period', 5), ('series_type', 'close')],\n",
    "    \"close-ROC-10\" : [('function', 'ROC'), ('interval', 'daily'), ('time_period', 10), ('series_type', 'close')],\n",
    "    \"close-ROC-20\" : [('function', 'ROC'), ('interval', 'daily'), ('time_period', 20), ('series_type', 'close')],\n",
    "    \"close-ROC-50\" : [('function', 'ROC'), ('interval', 'daily'), ('time_period', 50), ('series_type', 'close')],\n",
    "    \"close-ROC-30\" : [('function', 'ROC'), ('interval', 'daily'), ('time_period', 30), ('series_type', 'close')],\n",
    "    \"close-ROC-15\" : [('function', 'ROC'), ('interval', 'daily'), ('time_period', 15), ('series_type', 'close')],\n",
    "    \"high-ROC-5\" : [('function', 'ROC'), ('interval', 'daily'), ('time_period', 5), ('series_type', 'high')],\n",
    "    \"high-ROC-10\" : [('function', 'ROC'), ('interval', 'daily'), ('time_period', 10), ('series_type', 'high')],\n",
    "    \"high-ROC-20\" : [('function', 'ROC'), ('interval', 'daily'), ('time_period', 20), ('series_type', 'high')],\n",
    "    \"high-ROC-50\" : [('function', 'ROC'), ('interval', 'daily'), ('time_period', 50), ('series_type', 'high')],\n",
    "    \"high-ROC-30\" : [('function', 'ROC'), ('interval', 'daily'), ('time_period', 30), ('series_type', 'high')],\n",
    "    \"high-ROC-15\" : [('function', 'ROC'), ('interval', 'daily'), ('time_period', 15), ('series_type', 'high')],\n",
    "    \"low-ROC-5\" : [('function', 'ROC'), ('interval', 'daily'), ('time_period', 5), ('series_type', 'low')],\n",
    "    \"low-ROC-10\" : [('function', 'ROC'), ('interval', 'daily'), ('time_period', 10), ('series_type', 'low')],\n",
    "    \"low-ROC-20\" : [('function', 'ROC'), ('interval', 'daily'), ('time_period', 20), ('series_type', 'low')],\n",
    "    \"low-ROC-50\" : [('function', 'ROC'), ('interval', 'daily'), ('time_period', 50), ('series_type', 'low')],\n",
    "    \"low-ROC-30\" : [('function', 'ROC'), ('interval', 'daily'), ('time_period', 30), ('series_type', 'low')],\n",
    "    \"low-ROC-15\" : [('function', 'ROC'), ('interval', 'daily'), ('time_period', 15), ('series_type', 'low')],\n",
    "    \"open-ROCR-5\" : [('function', 'ROCR'), ('interval', 'daily'), ('time_period', 5), ('series_type', 'open')],\n",
    "    \"open-ROCR-10\" : [('function', 'ROCR'), ('interval', 'daily'), ('time_period', 10), ('series_type', 'open')],\n",
    "    \"open-ROCR-20\" : [('function', 'ROCR'), ('interval', 'daily'), ('time_period', 20), ('series_type', 'open')],\n",
    "    \"open-ROCR-50\" : [('function', 'ROCR'), ('interval', 'daily'), ('time_period', 50), ('series_type', 'open')],\n",
    "    \"open-ROCR-30\" : [('function', 'ROCR'), ('interval', 'daily'), ('time_period', 30), ('series_type', 'open')],\n",
    "    \"open-ROCR-15\" : [('function', 'ROCR'), ('interval', 'daily'), ('time_period', 15), ('series_type', 'open')],\n",
    "    \"close-ROCR-5\" : [('function', 'ROCR'), ('interval', 'daily'), ('time_period', 5), ('series_type', 'close')],\n",
    "    \"close-ROCR-10\" : [('function', 'ROCR'), ('interval', 'daily'), ('time_period', 10), ('series_type', 'close')],\n",
    "    \"close-ROCR-20\" : [('function', 'ROCR'), ('interval', 'daily'), ('time_period', 20), ('series_type', 'close')],\n",
    "    \"close-ROCR-50\" : [('function', 'ROCR'), ('interval', 'daily'), ('time_period', 50), ('series_type', 'close')],\n",
    "    \"close-ROCR-30\" : [('function', 'ROCR'), ('interval', 'daily'), ('time_period', 30), ('series_type', 'close')],\n",
    "    \"close-ROCR-15\" : [('function', 'ROCR'), ('interval', 'daily'), ('time_period', 15), ('series_type', 'close')],\n",
    "    \"high-ROCR-5\" : [('function', 'ROCR'), ('interval', 'daily'), ('time_period', 5), ('series_type', 'high')],\n",
    "    \"high-ROCR-10\" : [('function', 'ROCR'), ('interval', 'daily'), ('time_period', 10), ('series_type', 'high')],\n",
    "    \"high-ROCR-20\" : [('function', 'ROCR'), ('interval', 'daily'), ('time_period', 20), ('series_type', 'high')],\n",
    "    \"high-ROCR-50\" : [('function', 'ROCR'), ('interval', 'daily'), ('time_period', 50), ('series_type', 'high')],\n",
    "    \"high-ROCR-30\" : [('function', 'ROCR'), ('interval', 'daily'), ('time_period', 30), ('series_type', 'high')],\n",
    "    \"high-ROCR-15\" : [('function', 'ROCR'), ('interval', 'daily'), ('time_period', 15), ('series_type', 'high')],\n",
    "    \"low-ROCR-5\" : [('function', 'ROCR'), ('interval', 'daily'), ('time_period', 5), ('series_type', 'low')],\n",
    "    \"low-ROCR-10\" : [('function', 'ROCR'), ('interval', 'daily'), ('time_period', 10), ('series_type', 'low')],\n",
    "    \"low-ROCR-20\" : [('function', 'ROCR'), ('interval', 'daily'), ('time_period', 20), ('series_type', 'low')],\n",
    "    \"low-ROCR-50\" : [('function', 'ROCR'), ('interval', 'daily'), ('time_period', 50), ('series_type', 'low')],\n",
    "    \"low-ROCR-30\" : [('function', 'ROCR'), ('interval', 'daily'), ('time_period', 30), ('series_type', 'low')],\n",
    "    \"low-ROCR-15\" : [('function', 'ROCR'), ('interval', 'daily'), ('time_period', 15), ('series_type', 'low')],\n",
    "    \"AROON-7\": [('function', 'AROON'), ('interval', 'daily'), ('time_period', 7)],\n",
    "    \"AROON-10\": [('function', 'AROON'), ('interval', 'daily'), ('time_period', 10)],\n",
    "    \"AROON-20\": [('function', 'AROON'), ('interval', 'daily'), ('time_period', 20)],\n",
    "    \"AROON-14\": [('function', 'AROON'), ('interval', 'daily'), ('time_period', 14)],\n",
    "    \"AROON-25\": [('function', 'AROON'), ('interval', 'daily'), ('time_period', 25)],\n",
    "    \"AROONOSC-7\": [('function', 'AROONOSC'), ('interval', 'daily'), ('time_period', 7)],\n",
    "    \"AROONOSC-10\": [('function', 'AROONOSC'), ('interval', 'daily'), ('time_period', 10)],\n",
    "    \"AROONOSC-20\": [('function', 'AROONOSC'), ('interval', 'daily'), ('time_period', 20)],\n",
    "    \"AROONOSC-14\": [('function', 'AROONOSC'), ('interval', 'daily'), ('time_period', 14)],\n",
    "    \"AROONOSC-25\": [('function', 'AROONOSC'), ('interval', 'daily'), ('time_period', 25)],\n",
    "    \"MFI-7\": [('function', 'MFI'), ('interval', 'daily'), ('time_period', 7)],\n",
    "    \"MFI-10\": [('function', 'MFI'), ('interval', 'daily'), ('time_period', 10)],\n",
    "    \"MFI-20\": [('function', 'MFI'), ('interval', 'daily'), ('time_period', 20)],\n",
    "    \"MFI-50\": [('function', 'MFI'), ('interval', 'daily'), ('time_period', 50)],\n",
    "    \"MFI-30\": [('function', 'MFI'), ('interval', 'daily'), ('time_period', 30)],\n",
    "    \"open-TRIX-5\" : [('function', 'TRIX'), ('interval', 'daily'), ('time_period', 5), ('series_type', 'open')],\n",
    "    \"open-TRIX-10\" : [('function', 'TRIX'), ('interval', 'daily'), ('time_period', 10), ('series_type', 'open')],\n",
    "    \"open-TRIX-20\" : [('function', 'TRIX'), ('interval', 'daily'), ('time_period', 20), ('series_type', 'open')],\n",
    "    \"open-TRIX-30\" : [('function', 'TRIX'), ('interval', 'daily'), ('time_period', 30), ('series_type', 'open')],\n",
    "    \"open-TRIX-25\" : [('function', 'TRIX'), ('interval', 'daily'), ('time_period', 25), ('series_type', 'open')],\n",
    "    \"open-TRIX-15\" : [('function', 'TRIX'), ('interval', 'daily'), ('time_period', 15), ('series_type', 'open')],\n",
    "    \"close-TRIX-5\" : [('function', 'TRIX'), ('interval', 'daily'), ('time_period', 5), ('series_type', 'close')],\n",
    "    \"close-TRIX-10\" : [('function', 'TRIX'), ('interval', 'daily'), ('time_period', 10), ('series_type', 'close')],\n",
    "    \"close-TRIX-20\" : [('function', 'TRIX'), ('interval', 'daily'), ('time_period', 20), ('series_type', 'close')],\n",
    "    \"close-TRIX-30\" : [('function', 'TRIX'), ('interval', 'daily'), ('time_period', 30), ('series_type', 'close')],\n",
    "    \"close-TRIX-25\" : [('function', 'TRIX'), ('interval', 'daily'), ('time_period', 25), ('series_type', 'close')],\n",
    "    \"close-TRIX-15\" : [('function', 'TRIX'), ('interval', 'daily'), ('time_period', 15), ('series_type', 'close')],\n",
    "    \"high-TRIX-5\" : [('function', 'TRIX'), ('interval', 'daily'), ('time_period', 5), ('series_type', 'high')],\n",
    "    \"high-TRIX-10\" : [('function', 'TRIX'), ('interval', 'daily'), ('time_period', 10), ('series_type', 'high')],\n",
    "    \"high-TRIX-20\" : [('function', 'TRIX'), ('interval', 'daily'), ('time_period', 20), ('series_type', 'high')],\n",
    "    \"high-TRIX-30\" : [('function', 'TRIX'), ('interval', 'daily'), ('time_period', 30), ('series_type', 'high')],\n",
    "    \"high-TRIX-25\" : [('function', 'TRIX'), ('interval', 'daily'), ('time_period', 25), ('series_type', 'high')],\n",
    "    \"high-TRIX-15\" : [('function', 'TRIX'), ('interval', 'daily'), ('time_period', 15), ('series_type', 'high')],\n",
    "    \"low-TRIX-5\" : [('function', 'TRIX'), ('interval', 'daily'), ('time_period', 5), ('series_type', 'low')],\n",
    "    \"low-TRIX-10\" : [('function', 'TRIX'), ('interval', 'daily'), ('time_period', 10), ('series_type', 'low')],\n",
    "    \"low-TRIX-20\" : [('function', 'TRIX'), ('interval', 'daily'), ('time_period', 20), ('series_type', 'low')],\n",
    "    \"low-TRIX-30\" : [('function', 'TRIX'), ('interval', 'daily'), ('time_period', 30), ('series_type', 'low')],\n",
    "    \"low-TRIX-25\" : [('function', 'TRIX'), ('interval', 'daily'), ('time_period', 25), ('series_type', 'low')],\n",
    "    \"low-TRIX-15\" : [('function', 'TRIX'), ('interval', 'daily'), ('time_period', 15), ('series_type', 'low')],\n",
    "    \"ULTOSC\" : [('function', 'ULTOSC'), ('interval', 'daily')],\n",
    "    \"DX-5\": [('function', 'DX'), ('interval', 'daily'), ('time_period', 5)],\n",
    "    \"DX-10\": [('function', 'DX'), ('interval', 'daily'), ('time_period', 10)],\n",
    "    \"DX-20\": [('function', 'DX'), ('interval', 'daily'), ('time_period', 20)],\n",
    "    \"DX-30\": [('function', 'DX'), ('interval', 'daily'), ('time_period', 30)],\n",
    "    \"DX-15\": [('function', 'DX'), ('interval', 'daily'), ('time_period', 15)],\n",
    "    \"DX-25\": [('function', 'DX'), ('interval', 'daily'), ('time_period', 25)],\n",
    "    \"MINUS_DI-5\": [('function', 'MINUS_DI'), ('interval', 'daily'), ('time_period', 5)],\n",
    "    \"MINUS_DI-10\": [('function', 'MINUS_DI'), ('interval', 'daily'), ('time_period', 10)],\n",
    "    \"MINUS_DI-20\": [('function', 'MINUS_DI'), ('interval', 'daily'), ('time_period', 20)],\n",
    "    \"MINUS_DI-30\": [('function', 'MINUS_DI'), ('interval', 'daily'), ('time_period', 30)],\n",
    "    \"MINUS_DI-15\": [('function', 'MINUS_DI'), ('interval', 'daily'), ('time_period', 15)],\n",
    "    \"MINUS_DI-25\": [('function', 'MINUS_DI'), ('interval', 'daily'), ('time_period', 25)],\n",
    "    \"PLUS_DI-5\": [('function', 'PLUS_DI'), ('interval', 'daily'), ('time_period', 5)],\n",
    "    \"PLUS_DI-10\": [('function', 'PLUS_DI'), ('interval', 'daily'), ('time_period', 10)],\n",
    "    \"PLUS_DI-20\": [('function', 'PLUS_DI'), ('interval', 'daily'), ('time_period', 20)],\n",
    "    \"PLUS_DI-30\": [('function', 'PLUS_DI'), ('interval', 'daily'), ('time_period', 30)],\n",
    "    \"PLUS_DI-15\": [('function', 'PLUS_DI'), ('interval', 'daily'), ('time_period', 15)],\n",
    "    \"PLUS_DI-25\": [('function', 'PLUS_DI'), ('interval', 'daily'), ('time_period', 25)],\n",
    "    \"MINUS_DM-5\": [('function', 'MINUS_DM'), ('interval', 'daily'), ('time_period', 5)],\n",
    "    \"MINUS_DM-10\": [('function', 'MINUS_DM'), ('interval', 'daily'), ('time_period', 10)],\n",
    "    \"MINUS_DM-20\": [('function', 'MINUS_DM'), ('interval', 'daily'), ('time_period', 20)],\n",
    "    \"MINUS_DM-30\": [('function', 'MINUS_DM'), ('interval', 'daily'), ('time_period', 30)],\n",
    "    \"MINUS_DM-15\": [('function', 'MINUS_DM'), ('interval', 'daily'), ('time_period', 15)],\n",
    "    \"MINUS_DM-25\": [('function', 'MINUS_DM'), ('interval', 'daily'), ('time_period', 25)],\n",
    "    \"PLUS_DM-5\": [('function', 'PLUS_DM'), ('interval', 'daily'), ('time_period', 5)],\n",
    "    \"PLUS_DM-10\": [('function', 'PLUS_DM'), ('interval', 'daily'), ('time_period', 10)],\n",
    "    \"PLUS_DM-20\": [('function', 'PLUS_DM'), ('interval', 'daily'), ('time_period', 20)],\n",
    "    \"PLUS_DM-30\": [('function', 'PLUS_DM'), ('interval', 'daily'), ('time_period', 30)],\n",
    "    \"PLUS_DM-15\": [('function', 'PLUS_DM'), ('interval', 'daily'), ('time_period', 15)],\n",
    "    \"PLUS_DM-25\": [('function', 'PLUS_DM'), ('interval', 'daily'), ('time_period', 25)],\n",
    "    \"open-BBANDS-10\" : [('function', 'BBANDS'), ('interval', 'daily'), ('time_period', 10), ('series_type', 'open')],\n",
    "    \"open-BBANDS-20\" : [('function', 'BBANDS'), ('interval', 'daily'), ('time_period', 20), ('series_type', 'open')],\n",
    "    \"open-BBANDS-50\" : [('function', 'BBANDS'), ('interval', 'daily'), ('time_period', 50), ('series_type', 'open')],\n",
    "    \"open-BBANDS-15\" : [('function', 'BBANDS'), ('interval', 'daily'), ('time_period', 15), ('series_type', 'open')],\n",
    "    \"open-BBANDS-30\" : [('function', 'BBANDS'), ('interval', 'daily'), ('time_period', 30), ('series_type', 'open')],\n",
    "    \"open-BBANDS-50\" : [('function', 'BBANDS'), ('interval', 'daily'), ('time_period', 50), ('series_type', 'open')],\n",
    "    \"close-BBANDS-10\" : [('function', 'BBANDS'), ('interval', 'daily'), ('time_period', 10), ('series_type', 'close')],\n",
    "    \"close-BBANDS-20\" : [('function', 'BBANDS'), ('interval', 'daily'), ('time_period', 20), ('series_type', 'close')],\n",
    "    \"close-BBANDS-50\" : [('function', 'BBANDS'), ('interval', 'daily'), ('time_period', 50), ('series_type', 'close')],\n",
    "    \"close-BBANDS-15\" : [('function', 'BBANDS'), ('interval', 'daily'), ('time_period', 15), ('series_type', 'close')],\n",
    "    \"close-BBANDS-30\" : [('function', 'BBANDS'), ('interval', 'daily'), ('time_period', 30), ('series_type', 'close')],\n",
    "    \"close-BBANDS-50\" : [('function', 'BBANDS'), ('interval', 'daily'), ('time_period', 50), ('series_type', 'close')],\n",
    "    \"high-BBANDS-10\" : [('function', 'BBANDS'), ('interval', 'daily'), ('time_period', 10), ('series_type', 'high')],\n",
    "    \"high-BBANDS-20\" : [('function', 'BBANDS'), ('interval', 'daily'), ('time_period', 20), ('series_type', 'high')],\n",
    "    \"high-BBANDS-50\" : [('function', 'BBANDS'), ('interval', 'daily'), ('time_period', 50), ('series_type', 'high')],\n",
    "    \"high-BBANDS-15\" : [('function', 'BBANDS'), ('interval', 'daily'), ('time_period', 15), ('series_type', 'high')],\n",
    "    \"high-BBANDS-30\" : [('function', 'BBANDS'), ('interval', 'daily'), ('time_period', 30), ('series_type', 'high')],\n",
    "    \"high-BBANDS-50\" : [('function', 'BBANDS'), ('interval', 'daily'), ('time_period', 50), ('series_type', 'high')],\n",
    "    \"low-BBANDS-10\" : [('function', 'BBANDS'), ('interval', 'daily'), ('time_period', 10), ('series_type', 'low')],\n",
    "    \"low-BBANDS-20\" : [('function', 'BBANDS'), ('interval', 'daily'), ('time_period', 20), ('series_type', 'low')],\n",
    "    \"low-BBANDS-50\" : [('function', 'BBANDS'), ('interval', 'daily'), ('time_period', 50), ('series_type', 'low')],\n",
    "    \"low-BBANDS-15\" : [('function', 'BBANDS'), ('interval', 'daily'), ('time_period', 15), ('series_type', 'low')],\n",
    "    \"low-BBANDS-30\" : [('function', 'BBANDS'), ('interval', 'daily'), ('time_period', 30), ('series_type', 'low')],\n",
    "    \"low-BBANDS-50\" : [('function', 'BBANDS'), ('interval', 'daily'), ('time_period', 50), ('series_type', 'low')],\n",
    "    \"open-MIDPOINT-5\" : [('function', 'MIDPOINT'), ('interval', 'daily'), ('time_period', 5), ('series_type', 'open')],\n",
    "    \"open-MIDPOINT-10\" : [('function', 'MIDPOINT'), ('interval', 'daily'), ('time_period', 10), ('series_type', 'open')],\n",
    "    \"open-MIDPOINT-20\" : [('function', 'MIDPOINT'), ('interval', 'daily'), ('time_period', 20), ('series_type', 'open')],\n",
    "    \"open-MIDPOINT-50\" : [('function', 'MIDPOINT'), ('interval', 'daily'), ('time_period', 50), ('series_type', 'open')],\n",
    "    \"open-MIDPOINT-30\" : [('function', 'MIDPOINT'), ('interval', 'daily'), ('time_period', 30), ('series_type', 'open')],\n",
    "    \"close-MIDPOINT-5\" : [('function', 'MIDPOINT'), ('interval', 'daily'), ('time_period', 5), ('series_type', 'close')],\n",
    "    \"close-MIDPOINT-10\" : [('function', 'MIDPOINT'), ('interval', 'daily'), ('time_period', 10), ('series_type', 'close')],\n",
    "    \"close-MIDPOINT-20\" : [('function', 'MIDPOINT'), ('interval', 'daily'), ('time_period', 20), ('series_type', 'close')],\n",
    "    \"close-MIDPOINT-50\" : [('function', 'MIDPOINT'), ('interval', 'daily'), ('time_period', 50), ('series_type', 'close')],\n",
    "    \"close-MIDPOINT-30\" : [('function', 'MIDPOINT'), ('interval', 'daily'), ('time_period', 30), ('series_type', 'close')],\n",
    "    \"high-MIDPOINT-5\" : [('function', 'MIDPOINT'), ('interval', 'daily'), ('time_period', 5), ('series_type', 'high')],\n",
    "    \"high-MIDPOINT-10\" : [('function', 'MIDPOINT'), ('interval', 'daily'), ('time_period', 10), ('series_type', 'high')],\n",
    "    \"high-MIDPOINT-20\" : [('function', 'MIDPOINT'), ('interval', 'daily'), ('time_period', 20), ('series_type', 'high')],\n",
    "    \"high-MIDPOINT-50\" : [('function', 'MIDPOINT'), ('interval', 'daily'), ('time_period', 50), ('series_type', 'high')],\n",
    "    \"high-MIDPOINT-30\" : [('function', 'MIDPOINT'), ('interval', 'daily'), ('time_period', 30), ('series_type', 'high')],\n",
    "    \"low-MIDPOINT-5\" : [('function', 'MIDPOINT'), ('interval', 'daily'), ('time_period', 5), ('series_type', 'low')],\n",
    "    \"low-MIDPOINT-10\" : [('function', 'MIDPOINT'), ('interval', 'daily'), ('time_period', 10), ('series_type', 'low')],\n",
    "    \"low-MIDPOINT-20\" : [('function', 'MIDPOINT'), ('interval', 'daily'), ('time_period', 20), ('series_type', 'low')],\n",
    "    \"low-MIDPOINT-50\" : [('function', 'MIDPOINT'), ('interval', 'daily'), ('time_period', 50), ('series_type', 'low')],\n",
    "    \"low-MIDPOINT-30\" : [('function', 'MIDPOINT'), ('interval', 'daily'), ('time_period', 30), ('series_type', 'low')],\n",
    "    \"MIDPRICE-5\": [('function', 'MIDPRICE'), ('interval', 'daily'), ('time_period', 5)],\n",
    "    \"MIDPRICE-10\": [('function', 'MIDPRICE'), ('interval', 'daily'), ('time_period', 10)],\n",
    "    \"MIDPRICE-20\": [('function', 'MIDPRICE'), ('interval', 'daily'), ('time_period', 20)],\n",
    "    \"MIDPRICE-50\": [('function', 'MIDPRICE'), ('interval', 'daily'), ('time_period', 50)],\n",
    "    \"MIDPRICE-100\": [('function', 'MIDPRICE'), ('interval', 'daily'), ('time_period', 100)],\n",
    "    \"MIDPRICE-30\": [('function', 'MIDPRICE'), ('interval', 'daily'), ('time_period', 30)],\n",
    "    \"SAR\": [('function', 'SAR'), ('interval', 'daily')],\n",
    "    \"TRANGE\": [('function', 'TRANGE'), ('interval', 'daily')],\n",
    "    \"NATR-5\": [('function', 'NATR'), ('interval', 'daily'), ('time_period', 5)],\n",
    "    \"NATR-10\": [('function', 'NATR'), ('interval', 'daily'), ('time_period', 10)],\n",
    "    \"NATR-20\": [('function', 'NATR'), ('interval', 'daily'), ('time_period', 20)],\n",
    "    \"NATR-50\": [('function', 'NATR'), ('interval', 'daily'), ('time_period', 50)],\n",
    "    \"NATR-100\": [('function', 'NATR'), ('interval', 'daily'), ('time_period', 100)],\n",
    "    \"NATR-30\": [('function', 'NATR'), ('interval', 'daily'), ('time_period', 30)],\n",
    "    \"AD\" : [('function', 'AD'), ('interval', 'daily')],\n",
    "    \"ADOSC\" : [('function', 'ADOSC'), ('interval', 'daily')],\n",
    "    \"OBV\" : [('function', 'OBV'), ('interval', 'daily')],\n",
    "    \"open-HT_TRENDLINE\" : [('function', 'HT_TRENDLINE'), ('interval', 'daily'), ('series_type', 'open')],\n",
    "    \"close-HT_TRENDLINE\" : [('function', 'HT_TRENDLINE'), ('interval', 'daily'), ('series_type', 'close')],\n",
    "    \"high-HT_TRENDLINE\" : [('function', 'HT_TRENDLINE'), ('interval', 'daily'), ('series_type', 'high')],\n",
    "    \"low-HT_TRENDLINE\" : [('function', 'HT_TRENDLINE'), ('interval', 'daily'), ('series_type', 'low')],\n",
    "    \"open-HT_SINE\" : [('function', 'HT_SINE'), ('interval', 'daily'), ('series_type', 'open')],\n",
    "    \"close-HT_SINE\" : [('function', 'HT_SINE'), ('interval', 'daily'), ('series_type', 'close')],\n",
    "    \"high-HT_SINE\" : [('function', 'HT_SINE'), ('interval', 'daily'), ('series_type', 'high')],\n",
    "    \"low-HT_SINE\" : [('function', 'HT_SINE'), ('interval', 'daily'), ('series_type', 'low')],\n",
    "    \"open-HT_TRENDMODE\" : [('function', 'HT_TRENDMODE'), ('interval', 'daily'), ('series_type', 'open')],\n",
    "    \"close-HT_TRENDMODE\" : [('function', 'HT_TRENDMODE'), ('interval', 'daily'), ('series_type', 'close')],\n",
    "    \"high-HT_TRENDMODE\" : [('function', 'HT_TRENDMODE'), ('interval', 'daily'), ('series_type', 'high')],\n",
    "    \"low-HT_TRENDMODE\" : [('function', 'HT_TRENDMODE'), ('interval', 'daily'), ('series_type', 'low')],\n",
    "    \"open-HT_DCPERIOD\" : [('function', 'HT_DCPERIOD'), ('interval', 'daily'), ('series_type', 'open')],\n",
    "    \"close-HT_DCPERIOD\" : [('function', 'HT_DCPERIOD'), ('interval', 'daily'), ('series_type', 'close')],\n",
    "    \"high-HT_DCPERIOD\" : [('function', 'HT_DCPERIOD'), ('interval', 'daily'), ('series_type', 'high')],\n",
    "    \"low-HT_DCPERIOD\" : [('function', 'HT_DCPERIOD'), ('interval', 'daily'), ('series_type', 'low')],\n",
    "    \"open-HT_DCPHASE\" : [('function', 'HT_DCPHASE'), ('interval', 'daily'), ('series_type', 'open')],\n",
    "    \"close-HT_DCPHASE\" : [('function', 'HT_DCPHASE'), ('interval', 'daily'), ('series_type', 'close')],\n",
    "    \"high-HT_DCPHASE\" : [('function', 'HT_DCPHASE'), ('interval', 'daily'), ('series_type', 'high')],\n",
    "    \"low-HT_DCPHASE\" : [('function', 'HT_DCPHASE'), ('interval', 'daily'), ('series_type', 'low')],\n",
    "    \"open-HT_PHASOR\" : [('function', 'HT_PHASOR'), ('interval', 'daily'), ('series_type', 'open')],\n",
    "    \"close-HT_PHASOR\" : [('function', 'HT_PHASOR'), ('interval', 'daily'), ('series_type', 'close')],\n",
    "    \"high-HT_PHASOR\" : [('function', 'HT_PHASOR'), ('interval', 'daily'), ('series_type', 'high')],\n",
    "    \"low-HT_PHASOR\" : [('function', 'HT_PHASOR'), ('interval', 'daily'), ('series_type', 'low')],\n",
    "}"
   ]
  },
  {
   "cell_type": "code",
   "execution_count": 6,
   "metadata": {},
   "outputs": [],
   "source": [
    "def get_data_for(ticker):\n",
    "    url = f\"https://www.alphavantage.co/query?function=TIME_SERIES_DAILY_ADJUSTED&symbol={ticker}&outputsize=full&datatype=csv&apikey={API_KEY}\"\n",
    "    request.urlretrieve(url, f\"RAW-{ticker}.csv\")\n",
    "    df = pd.read_csv(f\"RAW-{ticker}.csv\")\n",
    "    df = df[df[\"timestamp\"] >= start_date]\n",
    "    df = df.sort_values(\"timestamp\")\n",
    "    df = df.reset_index(drop=True)\n",
    "    return df"
   ]
  },
  {
   "cell_type": "code",
   "execution_count": 7,
   "metadata": {},
   "outputs": [],
   "source": [
    "def prepare_data(df):\n",
    "    df[\"timestamp\"] = pd.to_datetime(df[\"timestamp\"])\n",
    "    df = df.set_index(\"timestamp\")\n",
    "    assert df[df['split_coefficient'] != 1].empty, \"There are split coefficients different from 1\"\n",
    "    df = df.drop(columns=[\"split_coefficient\", \"adjusted_close\"])\n",
    "    \n",
    "    return df"
   ]
  },
  {
   "cell_type": "code",
   "execution_count": 8,
   "metadata": {},
   "outputs": [],
   "source": [
    "def get_indicator_data(ticker, col_name, params):\n",
    "    while True:\n",
    "            query_params = '&'.join([f\"{k}={v}\" for k, v in params])\n",
    "            url = f\"https://www.alphavantage.co/query?symbol={ticker}&apikey={API_KEY}&datatype=csv&{query_params}\"\n",
    "            request.urlretrieve(url, f\"indicator.csv\")\n",
    "            \n",
    "            try:\n",
    "                with open(f\"indicator.csv\", \"r\") as f:\n",
    "                    first_line = f.readline().strip()\n",
    "                    if first_line == \"{\":\n",
    "                        raise Exception(\"API limit reached\")\n",
    "                    elif first_line == \"{}\":\n",
    "                        raise Exception(\"API call returned empty response\")\n",
    "            except Exception as e:\n",
    "                if \"API limit reached\" in str(e):\n",
    "                    print(f\"[bright_red]API limit reached for {ticker} - {col_name}\")\n",
    "                    time.sleep(10)\n",
    "                    continue\n",
    "                print(f\"[bright_red]Error occured while getting data for {ticker} - {col_name}: {e}\")\n",
    "                return None\n",
    "            \n",
    "            df = pd.read_csv(f\"indicator.csv\")\n",
    "            df = df[df[\"time\"] >= start_date]\n",
    "            df = df.sort_values(\"time\")\n",
    "            df = df.reset_index(drop=True)\n",
    "            df[\"time\"] = pd.to_datetime(df[\"time\"])\n",
    "            df = df.set_index(\"time\")\n",
    "            for col in df.columns:\n",
    "                if col != \"time\":\n",
    "                    df = df.rename(columns={col: f\"{col_name}-{col}\"})\n",
    "            break\n",
    "    return df"
   ]
  },
  {
   "cell_type": "code",
   "execution_count": 9,
   "metadata": {},
   "outputs": [],
   "source": [
    "def get_data_with_indicators(ticker, progress=None):\n",
    "    df = get_data_for(ticker)\n",
    "    df = prepare_data(df)\n",
    "    if progress is not None:\n",
    "        indicator_task = progress.add_task(\"Getting indicators\", total=len(indicators))\n",
    "    for indicator, params in indicators.items():\n",
    "        data = get_indicator_data(ticker, indicator, params)\n",
    "        if data is not None:\n",
    "            df = pd.concat([df, data], axis=1)\n",
    "        if progress is not None:\n",
    "            progress.update(indicator_task, advance=1)\n",
    "    return df"
   ]
  },
  {
   "cell_type": "code",
   "execution_count": 10,
   "metadata": {},
   "outputs": [
    {
     "data": {
      "application/vnd.jupyter.widget-view+json": {
       "model_id": "b2f7086ed2ae4f3b850dac5176878dab",
       "version_major": 2,
       "version_minor": 0
      },
      "text/plain": [
       "Output()"
      ]
     },
     "metadata": {},
     "output_type": "display_data"
    },
    {
     "data": {
      "text/html": [
       "<pre style=\"white-space:pre;overflow-x:auto;line-height:normal;font-family:Menlo,'DejaVu Sans Mono',consolas,'Courier New',monospace\"><span style=\"color: #ff0000; text-decoration-color: #ff0000\">API limit reached for XLC - close-KAMA-</span><span style=\"color: #ff0000; text-decoration-color: #ff0000; font-weight: bold\">5</span>\n",
       "</pre>\n"
      ],
      "text/plain": [
       "\u001b[91mAPI limit reached for XLC - close-KAMA-\u001b[0m\u001b[1;91m5\u001b[0m\n"
      ]
     },
     "metadata": {},
     "output_type": "display_data"
    },
    {
     "data": {
      "text/html": [
       "<pre style=\"white-space:pre;overflow-x:auto;line-height:normal;font-family:Menlo,'DejaVu Sans Mono',consolas,'Courier New',monospace\"><span style=\"color: #ff0000; text-decoration-color: #ff0000\">API limit reached for XLC - close-KAMA-</span><span style=\"color: #ff0000; text-decoration-color: #ff0000; font-weight: bold\">5</span>\n",
       "</pre>\n"
      ],
      "text/plain": [
       "\u001b[91mAPI limit reached for XLC - close-KAMA-\u001b[0m\u001b[1;91m5\u001b[0m\n"
      ]
     },
     "metadata": {},
     "output_type": "display_data"
    },
    {
     "data": {
      "text/html": [
       "<pre style=\"white-space:pre;overflow-x:auto;line-height:normal;font-family:Menlo,'DejaVu Sans Mono',consolas,'Courier New',monospace\"><span style=\"color: #ff0000; text-decoration-color: #ff0000\">API limit reached for XLC - AROONOSC-</span><span style=\"color: #ff0000; text-decoration-color: #ff0000; font-weight: bold\">10</span>\n",
       "</pre>\n"
      ],
      "text/plain": [
       "\u001b[91mAPI limit reached for XLC - AROONOSC-\u001b[0m\u001b[1;91m10\u001b[0m\n"
      ]
     },
     "metadata": {},
     "output_type": "display_data"
    },
    {
     "data": {
      "text/html": [
       "<pre style=\"white-space:pre;overflow-x:auto;line-height:normal;font-family:Menlo,'DejaVu Sans Mono',consolas,'Courier New',monospace\"><span style=\"color: #ff0000; text-decoration-color: #ff0000\">API limit reached for XLC - AROONOSC-</span><span style=\"color: #ff0000; text-decoration-color: #ff0000; font-weight: bold\">10</span>\n",
       "</pre>\n"
      ],
      "text/plain": [
       "\u001b[91mAPI limit reached for XLC - AROONOSC-\u001b[0m\u001b[1;91m10\u001b[0m\n"
      ]
     },
     "metadata": {},
     "output_type": "display_data"
    },
    {
     "data": {
      "text/html": [
       "<pre style=\"white-space:pre;overflow-x:auto;line-height:normal;font-family:Menlo,'DejaVu Sans Mono',consolas,'Courier New',monospace\"><span style=\"color: #ff0000; text-decoration-color: #ff0000\">API limit reached for XLY - open-EMA-</span><span style=\"color: #ff0000; text-decoration-color: #ff0000; font-weight: bold\">12</span>\n",
       "</pre>\n"
      ],
      "text/plain": [
       "\u001b[91mAPI limit reached for XLY - open-EMA-\u001b[0m\u001b[1;91m12\u001b[0m\n"
      ]
     },
     "metadata": {},
     "output_type": "display_data"
    },
    {
     "data": {
      "text/html": [
       "<pre style=\"white-space:pre;overflow-x:auto;line-height:normal;font-family:Menlo,'DejaVu Sans Mono',consolas,'Courier New',monospace\"><span style=\"color: #ff0000; text-decoration-color: #ff0000\">API limit reached for XLY - open-EMA-</span><span style=\"color: #ff0000; text-decoration-color: #ff0000; font-weight: bold\">12</span>\n",
       "</pre>\n"
      ],
      "text/plain": [
       "\u001b[91mAPI limit reached for XLY - open-EMA-\u001b[0m\u001b[1;91m12\u001b[0m\n"
      ]
     },
     "metadata": {},
     "output_type": "display_data"
    },
    {
     "data": {
      "text/html": [
       "<pre style=\"white-space:pre;overflow-x:auto;line-height:normal;font-family:Menlo,'DejaVu Sans Mono',consolas,'Courier New',monospace\"><span style=\"color: #ff0000; text-decoration-color: #ff0000\">API limit reached for XLE - low-ROC-</span><span style=\"color: #ff0000; text-decoration-color: #ff0000; font-weight: bold\">30</span>\n",
       "</pre>\n"
      ],
      "text/plain": [
       "\u001b[91mAPI limit reached for XLE - low-ROC-\u001b[0m\u001b[1;91m30\u001b[0m\n"
      ]
     },
     "metadata": {},
     "output_type": "display_data"
    },
    {
     "data": {
      "text/html": [
       "<pre style=\"white-space:pre;overflow-x:auto;line-height:normal;font-family:Menlo,'DejaVu Sans Mono',consolas,'Courier New',monospace\"><span style=\"color: #ff0000; text-decoration-color: #ff0000\">API limit reached for XLF - open-TRIX-</span><span style=\"color: #ff0000; text-decoration-color: #ff0000; font-weight: bold\">5</span>\n",
       "</pre>\n"
      ],
      "text/plain": [
       "\u001b[91mAPI limit reached for XLF - open-TRIX-\u001b[0m\u001b[1;91m5\u001b[0m\n"
      ]
     },
     "metadata": {},
     "output_type": "display_data"
    },
    {
     "data": {
      "text/html": [
       "<pre style=\"white-space:pre;overflow-x:auto;line-height:normal;font-family:Menlo,'DejaVu Sans Mono',consolas,'Courier New',monospace\"><span style=\"color: #ff0000; text-decoration-color: #ff0000\">API limit reached for XLV - low-T3-</span><span style=\"color: #ff0000; text-decoration-color: #ff0000; font-weight: bold\">50</span>\n",
       "</pre>\n"
      ],
      "text/plain": [
       "\u001b[91mAPI limit reached for XLV - low-T3-\u001b[0m\u001b[1;91m50\u001b[0m\n"
      ]
     },
     "metadata": {},
     "output_type": "display_data"
    },
    {
     "data": {
      "text/html": [
       "<pre style=\"white-space:pre;overflow-x:auto;line-height:normal;font-family:Menlo,'DejaVu Sans Mono',consolas,'Courier New',monospace\"><span style=\"color: #ff0000; text-decoration-color: #ff0000\">API limit reached for XLI - WILLR-</span><span style=\"color: #ff0000; text-decoration-color: #ff0000; font-weight: bold\">30</span>\n",
       "</pre>\n"
      ],
      "text/plain": [
       "\u001b[91mAPI limit reached for XLI - WILLR-\u001b[0m\u001b[1;91m30\u001b[0m\n"
      ]
     },
     "metadata": {},
     "output_type": "display_data"
    },
    {
     "data": {
      "text/html": [
       "<pre style=\"white-space:pre;overflow-x:auto;line-height:normal;font-family:Menlo,'DejaVu Sans Mono',consolas,'Courier New',monospace\"><span style=\"color: #ff0000; text-decoration-color: #ff0000\">API limit reached for XLB - high-CMO-</span><span style=\"color: #ff0000; text-decoration-color: #ff0000; font-weight: bold\">10</span>\n",
       "</pre>\n"
      ],
      "text/plain": [
       "\u001b[91mAPI limit reached for XLB - high-CMO-\u001b[0m\u001b[1;91m10\u001b[0m\n"
      ]
     },
     "metadata": {},
     "output_type": "display_data"
    },
    {
     "data": {
      "text/html": [
       "<pre style=\"white-space:pre;overflow-x:auto;line-height:normal;font-family:Menlo,'DejaVu Sans Mono',consolas,'Courier New',monospace\"><span style=\"color: #ff0000; text-decoration-color: #ff0000\">API limit reached for XLRE - close-TRIMA-</span><span style=\"color: #ff0000; text-decoration-color: #ff0000; font-weight: bold\">5</span>\n",
       "</pre>\n"
      ],
      "text/plain": [
       "\u001b[91mAPI limit reached for XLRE - close-TRIMA-\u001b[0m\u001b[1;91m5\u001b[0m\n"
      ]
     },
     "metadata": {},
     "output_type": "display_data"
    },
    {
     "data": {
      "text/html": [
       "<pre style=\"white-space:pre;overflow-x:auto;line-height:normal;font-family:Menlo,'DejaVu Sans Mono',consolas,'Courier New',monospace\"><span style=\"color: #ff0000; text-decoration-color: #ff0000\">API limit reached for XLRE - close-TRIMA-</span><span style=\"color: #ff0000; text-decoration-color: #ff0000; font-weight: bold\">5</span>\n",
       "</pre>\n"
      ],
      "text/plain": [
       "\u001b[91mAPI limit reached for XLRE - close-TRIMA-\u001b[0m\u001b[1;91m5\u001b[0m\n"
      ]
     },
     "metadata": {},
     "output_type": "display_data"
    },
    {
     "data": {
      "text/html": [
       "<pre style=\"white-space:pre;overflow-x:auto;line-height:normal;font-family:Menlo,'DejaVu Sans Mono',consolas,'Courier New',monospace\"><span style=\"color: #ff0000; text-decoration-color: #ff0000\">API limit reached for XLRE - open-ROCR-</span><span style=\"color: #ff0000; text-decoration-color: #ff0000; font-weight: bold\">20</span>\n",
       "</pre>\n"
      ],
      "text/plain": [
       "\u001b[91mAPI limit reached for XLRE - open-ROCR-\u001b[0m\u001b[1;91m20\u001b[0m\n"
      ]
     },
     "metadata": {},
     "output_type": "display_data"
    },
    {
     "data": {
      "text/html": [
       "<pre style=\"white-space:pre;overflow-x:auto;line-height:normal;font-family:Menlo,'DejaVu Sans Mono',consolas,'Courier New',monospace\"><span style=\"color: #ff0000; text-decoration-color: #ff0000\">API limit reached for XLRE - open-ROCR-</span><span style=\"color: #ff0000; text-decoration-color: #ff0000; font-weight: bold\">20</span>\n",
       "</pre>\n"
      ],
      "text/plain": [
       "\u001b[91mAPI limit reached for XLRE - open-ROCR-\u001b[0m\u001b[1;91m20\u001b[0m\n"
      ]
     },
     "metadata": {},
     "output_type": "display_data"
    },
    {
     "data": {
      "text/html": [
       "<pre style=\"white-space:pre;overflow-x:auto;line-height:normal;font-family:Menlo,'DejaVu Sans Mono',consolas,'Courier New',monospace\"><span style=\"color: #ff0000; text-decoration-color: #ff0000\">API limit reached for XLRE - close-HT_PHASOR</span>\n",
       "</pre>\n"
      ],
      "text/plain": [
       "\u001b[91mAPI limit reached for XLRE - close-HT_PHASOR\u001b[0m\n"
      ]
     },
     "metadata": {},
     "output_type": "display_data"
    },
    {
     "data": {
      "text/html": [
       "<pre style=\"white-space:pre;overflow-x:auto;line-height:normal;font-family:Menlo,'DejaVu Sans Mono',consolas,'Courier New',monospace\"><span style=\"color: #ff0000; text-decoration-color: #ff0000\">API limit reached for XLRE - close-HT_PHASOR</span>\n",
       "</pre>\n"
      ],
      "text/plain": [
       "\u001b[91mAPI limit reached for XLRE - close-HT_PHASOR\u001b[0m\n"
      ]
     },
     "metadata": {},
     "output_type": "display_data"
    },
    {
     "data": {
      "text/html": [
       "<pre style=\"white-space:pre;overflow-x:auto;line-height:normal;font-family:Menlo,'DejaVu Sans Mono',consolas,'Courier New',monospace\"><span style=\"color: #ff0000; text-decoration-color: #ff0000\">API limit reached for XLU - ADXR-</span><span style=\"color: #ff0000; text-decoration-color: #ff0000; font-weight: bold\">30</span>\n",
       "</pre>\n"
      ],
      "text/plain": [
       "\u001b[91mAPI limit reached for XLU - ADXR-\u001b[0m\u001b[1;91m30\u001b[0m\n"
      ]
     },
     "metadata": {},
     "output_type": "display_data"
    },
    {
     "data": {
      "text/html": [
       "<pre style=\"white-space:pre;overflow-x:auto;line-height:normal;font-family:Menlo,'DejaVu Sans Mono',consolas,'Courier New',monospace\"></pre>\n"
      ],
      "text/plain": []
     },
     "metadata": {},
     "output_type": "display_data"
    }
   ],
   "source": [
    "with Progress(SpinnerColumn(),*Progress.get_default_columns(),TimeElapsedColumn(),expand=True) as progress:\n",
    "    sector_task = progress.add_task(\"Getting data for sectors\", total=len(sectors) + 1)\n",
    "    \n",
    "    df = get_data_with_indicators(sp500, progress)\n",
    "    df.to_csv(f\"{sp500}.csv\")\n",
    "    del df\n",
    "    progress.update(sector_task, advance=1)\n",
    "    \n",
    "    for sector in sectors:\n",
    "        df = get_data_with_indicators(sector, progress)\n",
    "        df.to_csv(f\"{sector}.csv\")\n",
    "        del df\n",
    "        progress.update(sector_task, advance=1)"
   ]
  },
  {
   "cell_type": "code",
   "execution_count": null,
   "metadata": {},
   "outputs": [],
   "source": [
    "def change_data_to_change_ratio(df):\n",
    "    shifted_df = df.shift(1)\n",
    "    df = (df - shifted_df) / shifted_df\n",
    "    \n",
    "    df = df.fillna(0)\n",
    "    df.replace([np.inf, -np.inf], np.nan, inplace=True)\n",
    "    \n",
    "    return df"
   ]
  },
  {
   "cell_type": "code",
   "execution_count": 33,
   "metadata": {},
   "outputs": [
    {
     "data": {
      "application/vnd.jupyter.widget-view+json": {
       "model_id": "04ec16d15fc94354be0ae80b0d50c8ed",
       "version_major": 2,
       "version_minor": 0
      },
      "text/plain": [
       "Output()"
      ]
     },
     "metadata": {},
     "output_type": "display_data"
    },
    {
     "data": {
      "text/html": [
       "<pre style=\"white-space:pre;overflow-x:auto;line-height:normal;font-family:Menlo,'DejaVu Sans Mono',consolas,'Courier New',monospace\"></pre>\n"
      ],
      "text/plain": []
     },
     "metadata": {},
     "output_type": "display_data"
    }
   ],
   "source": [
    "with Progress(SpinnerColumn(),*Progress.get_default_columns(),TimeElapsedColumn(),expand=True) as progress:\n",
    "    sector_task = progress.add_task(\"Changing the data to change ratio\", total=len(sectors) + 1)\n",
    "    \n",
    "    df = pd.read_csv(f\"{sp500}.csv\", index_col=0)\n",
    "    df.drop(columns=[\"dividend_amount\"], inplace=True)\n",
    "    df = change_data_to_change_ratio(df)\n",
    "    \n",
    "    df.to_csv(f\"norm-{sp500}.csv\")\n",
    "    progress.update(sector_task, advance=1)\n",
    "    \n",
    "    for sector in sectors:\n",
    "        df = pd.read_csv(f\"{sector}.csv\", index_col=0)\n",
    "        df.drop(columns=[\"dividend_amount\"], inplace=True)\n",
    "        df = change_data_to_change_ratio(df)\n",
    "        \n",
    "        df.to_csv(f\"norm-{sector}.csv\")\n",
    "        progress.update(sector_task, advance=1)\n",
    "    progress.refresh()"
   ]
  }
 ],
 "metadata": {
  "kernelspec": {
   "display_name": ".venv_data",
   "language": "python",
   "name": "python3"
  },
  "language_info": {
   "codemirror_mode": {
    "name": "ipython",
    "version": 3
   },
   "file_extension": ".py",
   "mimetype": "text/x-python",
   "name": "python",
   "nbconvert_exporter": "python",
   "pygments_lexer": "ipython3",
   "version": "3.10.12"
  }
 },
 "nbformat": 4,
 "nbformat_minor": 2
}
