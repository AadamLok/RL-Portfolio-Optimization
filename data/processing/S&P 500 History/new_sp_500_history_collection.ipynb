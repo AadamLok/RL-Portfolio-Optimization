{
 "cells": [
  {
   "cell_type": "markdown",
   "metadata": {},
   "source": [
    "# S&P 500 Composition Changes\n",
    "\n",
    "Data collected from website called: [Siblis Research](https://siblisresearch.com/data-services-pricing/)"
   ]
  },
  {
   "cell_type": "code",
   "execution_count": 1,
   "metadata": {},
   "outputs": [
    {
     "data": {
      "text/plain": [
       "<bound method InteractiveShell.excepthook of <ipykernel.zmqshell.ZMQInteractiveShell object at 0x7fb6f4353fa0>>"
      ]
     },
     "execution_count": 1,
     "metadata": {},
     "output_type": "execute_result"
    }
   ],
   "source": [
    "import numpy as np\n",
    "import pandas as pd\n",
    "\n",
    "# To print nicely\n",
    "from rich import print, inspect\n",
    "from rich.traceback import install\n",
    "install()"
   ]
  },
  {
   "cell_type": "markdown",
   "metadata": {},
   "source": [
    "## Collecting Add Date and Stock Ticker"
   ]
  },
  {
   "cell_type": "code",
   "execution_count": 4,
   "metadata": {},
   "outputs": [
    {
     "data": {
      "text/html": [
       "<div>\n",
       "<style scoped>\n",
       "    .dataframe tbody tr th:only-of-type {\n",
       "        vertical-align: middle;\n",
       "    }\n",
       "\n",
       "    .dataframe tbody tr th {\n",
       "        vertical-align: top;\n",
       "    }\n",
       "\n",
       "    .dataframe thead th {\n",
       "        text-align: right;\n",
       "    }\n",
       "</style>\n",
       "<table border=\"1\" class=\"dataframe\">\n",
       "  <thead>\n",
       "    <tr style=\"text-align: right;\">\n",
       "      <th></th>\n",
       "      <th>Company Name</th>\n",
       "      <th>Ticker</th>\n",
       "      <th>Previous Name &amp; Ticker</th>\n",
       "      <th>Company Name.1</th>\n",
       "      <th>Ticker.1</th>\n",
       "      <th>Previous Name &amp; Ticker.1</th>\n",
       "      <th>Change Date</th>\n",
       "    </tr>\n",
       "  </thead>\n",
       "  <tbody>\n",
       "    <tr>\n",
       "      <th>0</th>\n",
       "      <td>Amentum Holdings Inc</td>\n",
       "      <td>AMTM</td>\n",
       "      <td>NaN</td>\n",
       "      <td>Bath &amp; Body Works Inc</td>\n",
       "      <td>BBWI</td>\n",
       "      <td>NaN</td>\n",
       "      <td>September 27, 2024</td>\n",
       "    </tr>\n",
       "    <tr>\n",
       "      <th>1</th>\n",
       "      <td>Palantir Technologies Inc</td>\n",
       "      <td>PLTR</td>\n",
       "      <td>NaN</td>\n",
       "      <td>American Airlines Group Inc</td>\n",
       "      <td>AAL</td>\n",
       "      <td>NaN</td>\n",
       "      <td>September 20, 2024</td>\n",
       "    </tr>\n",
       "    <tr>\n",
       "      <th>2</th>\n",
       "      <td>Dell Technologies Inc</td>\n",
       "      <td>DELL</td>\n",
       "      <td>NaN</td>\n",
       "      <td>Etsy Inc</td>\n",
       "      <td>ETSY</td>\n",
       "      <td>NaN</td>\n",
       "      <td>September 20, 2024</td>\n",
       "    </tr>\n",
       "    <tr>\n",
       "      <th>3</th>\n",
       "      <td>Erie Indemnity Co</td>\n",
       "      <td>ERIE</td>\n",
       "      <td>NaN</td>\n",
       "      <td>Bio-Rad Laboratories Inc</td>\n",
       "      <td>BIO</td>\n",
       "      <td>NaN</td>\n",
       "      <td>September 20, 2024</td>\n",
       "    </tr>\n",
       "    <tr>\n",
       "      <th>4</th>\n",
       "      <td>KKR &amp; Co Inc</td>\n",
       "      <td>KKR</td>\n",
       "      <td>NaN</td>\n",
       "      <td>Robert Half Inc</td>\n",
       "      <td>RHI</td>\n",
       "      <td>NaN</td>\n",
       "      <td>June 21, 2024</td>\n",
       "    </tr>\n",
       "  </tbody>\n",
       "</table>\n",
       "</div>"
      ],
      "text/plain": [
       "                Company Name Ticker Previous Name & Ticker  \\\n",
       "0       Amentum Holdings Inc   AMTM                    NaN   \n",
       "1  Palantir Technologies Inc   PLTR                    NaN   \n",
       "2      Dell Technologies Inc   DELL                    NaN   \n",
       "3          Erie Indemnity Co   ERIE                    NaN   \n",
       "4               KKR & Co Inc    KKR                    NaN   \n",
       "\n",
       "                Company Name.1 Ticker.1 Previous Name & Ticker.1  \\\n",
       "0        Bath & Body Works Inc     BBWI                      NaN   \n",
       "1  American Airlines Group Inc      AAL                      NaN   \n",
       "2                     Etsy Inc     ETSY                      NaN   \n",
       "3     Bio-Rad Laboratories Inc      BIO                      NaN   \n",
       "4              Robert Half Inc      RHI                      NaN   \n",
       "\n",
       "          Change Date  \n",
       "0  September 27, 2024  \n",
       "1  September 20, 2024  \n",
       "2  September 20, 2024  \n",
       "3  September 20, 2024  \n",
       "4       June 21, 2024  "
      ]
     },
     "execution_count": 4,
     "metadata": {},
     "output_type": "execute_result"
    }
   ],
   "source": [
    "sp500_composition = pd.read_csv(\"S&P 500 Composition Changes 1970 - 2024 - Component Changes.csv\")\n",
    "sp500_composition.head()"
   ]
  },
  {
   "cell_type": "code",
   "execution_count": 11,
   "metadata": {},
   "outputs": [
    {
     "data": {
      "text/html": [
       "<div>\n",
       "<style scoped>\n",
       "    .dataframe tbody tr th:only-of-type {\n",
       "        vertical-align: middle;\n",
       "    }\n",
       "\n",
       "    .dataframe tbody tr th {\n",
       "        vertical-align: top;\n",
       "    }\n",
       "\n",
       "    .dataframe thead th {\n",
       "        text-align: right;\n",
       "    }\n",
       "</style>\n",
       "<table border=\"1\" class=\"dataframe\">\n",
       "  <thead>\n",
       "    <tr style=\"text-align: right;\">\n",
       "      <th></th>\n",
       "      <th>Change Date</th>\n",
       "      <th>Ticker</th>\n",
       "    </tr>\n",
       "  </thead>\n",
       "  <tbody>\n",
       "    <tr>\n",
       "      <th>0</th>\n",
       "      <td>September 27, 2024</td>\n",
       "      <td>AMTM</td>\n",
       "    </tr>\n",
       "    <tr>\n",
       "      <th>1</th>\n",
       "      <td>September 20, 2024</td>\n",
       "      <td>PLTR</td>\n",
       "    </tr>\n",
       "    <tr>\n",
       "      <th>2</th>\n",
       "      <td>September 20, 2024</td>\n",
       "      <td>DELL</td>\n",
       "    </tr>\n",
       "    <tr>\n",
       "      <th>3</th>\n",
       "      <td>September 20, 2024</td>\n",
       "      <td>ERIE</td>\n",
       "    </tr>\n",
       "    <tr>\n",
       "      <th>4</th>\n",
       "      <td>June 21, 2024</td>\n",
       "      <td>KKR</td>\n",
       "    </tr>\n",
       "  </tbody>\n",
       "</table>\n",
       "</div>"
      ],
      "text/plain": [
       "          Change Date Ticker\n",
       "0  September 27, 2024   AMTM\n",
       "1  September 20, 2024   PLTR\n",
       "2  September 20, 2024   DELL\n",
       "3  September 20, 2024   ERIE\n",
       "4       June 21, 2024    KKR"
      ]
     },
     "execution_count": 11,
     "metadata": {},
     "output_type": "execute_result"
    }
   ],
   "source": [
    "add_data = sp500_composition[[\"Change Date\", \"Ticker\"]]\n",
    "add_data.head()"
   ]
  },
  {
   "cell_type": "markdown",
   "metadata": {},
   "source": [
    "Convert the string date to padas date datatype."
   ]
  },
  {
   "cell_type": "code",
   "execution_count": 14,
   "metadata": {},
   "outputs": [
    {
     "data": {
      "text/html": [
       "<div>\n",
       "<style scoped>\n",
       "    .dataframe tbody tr th:only-of-type {\n",
       "        vertical-align: middle;\n",
       "    }\n",
       "\n",
       "    .dataframe tbody tr th {\n",
       "        vertical-align: top;\n",
       "    }\n",
       "\n",
       "    .dataframe thead th {\n",
       "        text-align: right;\n",
       "    }\n",
       "</style>\n",
       "<table border=\"1\" class=\"dataframe\">\n",
       "  <thead>\n",
       "    <tr style=\"text-align: right;\">\n",
       "      <th></th>\n",
       "      <th>Change Date</th>\n",
       "      <th>Ticker</th>\n",
       "    </tr>\n",
       "  </thead>\n",
       "  <tbody>\n",
       "    <tr>\n",
       "      <th>0</th>\n",
       "      <td>2024-09-27</td>\n",
       "      <td>AMTM</td>\n",
       "    </tr>\n",
       "    <tr>\n",
       "      <th>1</th>\n",
       "      <td>2024-09-20</td>\n",
       "      <td>PLTR</td>\n",
       "    </tr>\n",
       "    <tr>\n",
       "      <th>2</th>\n",
       "      <td>2024-09-20</td>\n",
       "      <td>DELL</td>\n",
       "    </tr>\n",
       "    <tr>\n",
       "      <th>3</th>\n",
       "      <td>2024-09-20</td>\n",
       "      <td>ERIE</td>\n",
       "    </tr>\n",
       "    <tr>\n",
       "      <th>4</th>\n",
       "      <td>2024-06-21</td>\n",
       "      <td>KKR</td>\n",
       "    </tr>\n",
       "  </tbody>\n",
       "</table>\n",
       "</div>"
      ],
      "text/plain": [
       "  Change Date Ticker\n",
       "0  2024-09-27   AMTM\n",
       "1  2024-09-20   PLTR\n",
       "2  2024-09-20   DELL\n",
       "3  2024-09-20   ERIE\n",
       "4  2024-06-21    KKR"
      ]
     },
     "execution_count": 14,
     "metadata": {},
     "output_type": "execute_result"
    }
   ],
   "source": [
    "add_data.loc[:, \"Change Date\"] = pd.to_datetime(add_data[\"Change Date\"]).dt.date\n",
    "add_data.head()"
   ]
  },
  {
   "cell_type": "markdown",
   "metadata": {},
   "source": [
    "Only keep data since Jan 1 2000"
   ]
  },
  {
   "cell_type": "code",
   "execution_count": 15,
   "metadata": {},
   "outputs": [],
   "source": [
    "add_data = add_data[add_data[\"Change Date\"] >= pd.to_datetime(\"2000-01-01\").date()]"
   ]
  },
  {
   "cell_type": "markdown",
   "metadata": {},
   "source": [
    "Cleaning the data"
   ]
  },
  {
   "cell_type": "code",
   "execution_count": 16,
   "metadata": {},
   "outputs": [
    {
     "name": "stdout",
     "output_type": "stream",
     "text": [
      "<class 'pandas.core.frame.DataFrame'>\n",
      "Index: 615 entries, 0 to 614\n",
      "Data columns (total 2 columns):\n",
      " #   Column       Non-Null Count  Dtype \n",
      "---  ------       --------------  ----- \n",
      " 0   Change Date  615 non-null    object\n",
      " 1   Ticker       615 non-null    object\n",
      "dtypes: object(2)\n",
      "memory usage: 14.4+ KB\n"
     ]
    }
   ],
   "source": [
    "add_data.info()"
   ]
  },
  {
   "cell_type": "code",
   "execution_count": 18,
   "metadata": {},
   "outputs": [
    {
     "data": {
      "text/plain": [
       "array(['AMTM', 'PLTR', 'DELL', 'ERIE', 'KKR', 'CRWD', 'GDDY', 'VST', '-',\n",
       "       'GEV', 'SOLV', 'DECK', 'SMCI', 'UBER', 'JBL', 'BLDR', 'LULU',\n",
       "       'HUBB', 'VLTO', 'BX', 'ABNB', 'KVUE', 'PANW', 'AXON', 'FICO', 'BG',\n",
       "       'PODD', 'GEHC', 'STLD', 'FSLR', 'MBC', 'ACGL', 'TRGP', 'PCG',\n",
       "       'EQT', 'CSGP', 'INVH', 'ON', 'KDP', 'VICI', 'CPT', 'MOH', 'NDSN',\n",
       "       'CEG', 'SBNY', 'SEDG', 'FDS', 'EPAM', 'MTCH', 'DAY', 'BRO', 'TECH',\n",
       "       'MRNA', 'OGN', 'CRL', 'PTC', 'NXPI', 'PENN', 'GNRC', 'CZR', 'MPWR',\n",
       "       'TRMB', 'ENPH', 'TSLA', 'VNT', 'POOL', 'ETSY', 'TER', 'CTLT',\n",
       "       'TYL', 'BIO', 'TDY', 'WST', 'DXCM', 'DPZ', 'CARR', 'OTIS', 'IR',\n",
       "       'PAYC', 'STE', 'ZBRA', 'LYV', 'ODFL', 'WRB', 'NOW', 'LVS', 'NVR',\n",
       "       'CDW', 'LDOS', 'IEX', 'TMUS', 'MKTX', 'AMCR', 'CTVA', 'DOW',\n",
       "       'FOXA', 'FOX', 'WAB', 'ATO', 'TFX', 'FRC', 'CE', 'FANG', 'MXIM',\n",
       "       'LW', 'JKHY', 'KEYS', 'FTNT', 'ROL', 'WCG', 'ANET', 'CPRT', 'CPAY',\n",
       "       'HFC', 'BR', 'TWTR', 'EVRG', 'ABMD', 'MSCI', 'TTWO', 'SIVB',\n",
       "       'NKTR', 'IPGP', 'HII', 'NCLH', 'CDNS', 'SBAC', 'IQV', 'BHF', 'MGM',\n",
       "       'RMD', 'PKG', 'AOS', 'DRE', 'EG', 'HLT', 'ALGN', 'ANSS', 'INFO',\n",
       "       'IT', 'DXC', 'AMD', 'RJF', 'ARE', 'SNPS', 'DISH', 'REG', 'CBOE',\n",
       "       'INCY', 'IDXX', 'MAA', 'EVHC', 'HWM', 'COTY', 'COO', 'CHTR', 'MTD',\n",
       "       'FTV', 'LNT', 'ALB', 'FBIN', 'TDG', 'AJG', 'LKQ', 'DLR', 'ALK',\n",
       "       'AYI', 'GPN', 'ULTA', 'UA', 'FL', 'HOLX', 'CNC', 'UDR', 'AWK',\n",
       "       'CXO', 'CFG', 'FRT', 'EXR', 'WTW', 'CHD', 'CSRA', 'ILMN', 'SYF',\n",
       "       'HPE', 'VRSK', 'CMCSK', 'FOX (Old)', 'NWS', 'UAL', 'ATVI', 'SIG',\n",
       "       'PYPL', 'AAP', 'CPGX', 'JBHT', 'BXLT', 'QRVO', 'O', 'AAL', 'EQIX',\n",
       "       'SLG', 'HBI', 'HSIC', 'SWKS', 'HCA', 'ENDP', 'RCL', 'LVLT', 'URI',\n",
       "       'UHS', 'MNK', 'DISCK', 'MLM', 'AMG', 'XEC', 'AVGO', 'UA.A', 'NAVI',\n",
       "       'GOOG', 'ESS', 'GMCR', 'TSCO', 'ADS', 'MHK', 'META', 'GGP', 'ALLE',\n",
       "       'CPRI', 'RIG', 'VRTX', 'AME', 'DAL', 'NLSN', 'NWSA', 'ZTS', 'GM',\n",
       "       'KSU', 'MAC', 'REGN', 'PVH', 'ABBV', 'APTV', 'GRMN', 'DG', 'PETM',\n",
       "       'KHC', 'ADT', 'PNR', 'LYB', 'VAL', 'STX', 'MNST', 'LRCX', 'ALXN',\n",
       "       'KMI', 'PSX', 'FOSL', 'CCI', 'WPX', 'TRIP', 'BWA', 'PRGO', 'DLTR',\n",
       "       'GAS', 'CBE', 'XYL', 'TEL', 'MOS', 'ACN', 'MPC', 'ANR', 'CMG',\n",
       "       'BLK', 'EW', 'COV', 'JOY', 'NE', 'MMI (Mot)', 'RMG', 'FFIV',\n",
       "       'NFLX', 'NFX', 'TT', 'JCI', 'CB', 'QEP', 'KMX', 'CERN', 'OKE',\n",
       "       'WBD', 'HP', 'BRK.B', 'URBN', 'NRG', 'ROP', 'MJN', 'V', 'ROST',\n",
       "       'CLF', 'BKNG', 'ARG', 'CFN', 'FMC', 'RHT', 'WDC', 'PWR', 'ATGE',\n",
       "       'FTI', 'DNR', 'TWC', 'ORLY', 'ES', 'VTR', 'HRL', 'DO', 'WELL',\n",
       "       'IRM', 'SCG', 'FLIR', 'OI', 'MFE', 'RSG', 'DNB', 'LIFE (Tech)',\n",
       "       'SRCL', 'CEPH', 'XRAY', 'WYNN', 'PBCT', 'SJM', 'WEC', 'NDAQ',\n",
       "       'DPS', 'FLS', 'APH', 'PXD', 'LHX', 'CRM', 'FAST', 'CF', 'IVZ',\n",
       "       'DVA', 'MA', 'SNI', 'AKS', 'MEE', 'CTRA', 'LO', 'SWN', 'ISRG',\n",
       "       'DOC', 'PM', 'CAM', 'TSS', 'GHC', 'RRC', 'GME', 'AMT', 'MTW',\n",
       "       'POM', 'TIE', 'J', 'NYX', 'EXPD', 'NBL', 'EXPE', 'TDC', 'ANDV',\n",
       "       'ICE', 'MCHP', 'JEF', 'AKAM', 'ACAS', 'DFS', 'PCP', 'SUNEQ', 'AIZ',\n",
       "       'MDLZ', 'ANF', 'SITC', 'HST', 'CHRW', 'TEG', 'HCBK', 'VAR', 'RL',\n",
       "       'AVB', 'SE', 'TEX', 'DTV', 'IAC', 'STR', 'BTU', 'CTSH', 'CBRE',\n",
       "       'FIS', 'CELG', 'SII', 'WU', 'CME', 'WYND', 'RLGY', 'WIN', 'CNX',\n",
       "       'CBH', 'JNPR', 'EQ (Emb)', 'LM', 'SNDK', 'DF', 'KIM', 'BXP',\n",
       "       'GOOGL', 'CHK', 'BRL', 'VRSN', 'HAR', 'EL', 'VIAB', 'WFM', 'SSP',\n",
       "       'GNW', 'AMZN', 'PDCO', 'LEN', 'AMP', 'CVH', 'PSA', 'MUR', 'VNO',\n",
       "       'TSN', 'WFT', 'DHI', 'STZ', 'SHLD', 'NOV', 'XTO', 'ASN',\n",
       "       'FOXA (Old)', 'CBSS', 'FSLB', 'LLL', 'LH', 'CIT', 'TPR', 'FSH',\n",
       "       'GILD', 'SOV', 'HSP', 'VLO', 'VTRS', 'ACS', 'ETFC', 'CMX', 'MTB',\n",
       "       'BIIB', 'ESRX', 'MHS', 'PLD', 'FHI', 'GEN', 'MKC', 'AIV', 'AN',\n",
       "       'DGX', 'CMCSA', 'RAI', 'TAP.B', 'MON', 'ELV', 'EA', 'UPS', 'GS',\n",
       "       'PRU', 'EBAY', 'PFG', 'SDS', 'NFB', 'SPG', 'BJS', 'APOL',\n",
       "       'TT (Tra)', 'FHN', 'MI', 'RATL', 'PCL', 'WAT', 'JNY', 'GENZ',\n",
       "       'EQR', 'NVDA', 'HMA', 'TE', 'EOP', 'IMNX', 'XL', 'IGT (Old)',\n",
       "       'CIEN', 'COR', 'ZBH', 'FDO', 'PMCS', 'AWE', 'COL', 'JHF', 'ZION',\n",
       "       'MWW', 'PBG', 'GEN (Gen)', 'CE (Con)', 'FI', 'CTAS', 'FTR', 'UVN',\n",
       "       'AMCC', 'FLR', 'VTSS', 'SYK', 'QLGC', 'AYE', 'AMBC', 'SBL', 'MET',\n",
       "       'INTU', 'RHI', 'CPN', 'CHIR', 'FRX', 'HOT', 'BVSN', 'NI', 'EOG',\n",
       "       'PWER', 'NBR', 'KG', 'MCO', 'DYN', 'AV', 'DVN', 'KSE', 'PALM',\n",
       "       'VIAV', 'JNS', 'Q (Qwe)', 'BRCM', 'MERQ', 'VC', 'SANM', 'TIF',\n",
       "       'CF (Char)', 'NVLS (Nove)', 'MEDI', 'CVG', 'SBUX', 'A', 'APCC',\n",
       "       'SEBL', 'SAPE', 'ALTR (Alt)', 'LLTC', 'VRTS (Veri)', 'TSG', 'BGEN',\n",
       "       'CNXT', 'HOG', 'YNR', 'NCR'], dtype=object)"
      ]
     },
     "execution_count": 18,
     "metadata": {},
     "output_type": "execute_result"
    }
   ],
   "source": [
    "add_data[\"Ticker\"].unique()"
   ]
  },
  {
   "cell_type": "code",
   "execution_count": 19,
   "metadata": {},
   "outputs": [],
   "source": [
    "add_data = add_data[add_data[\"Ticker\"] != \"-\"]"
   ]
  },
  {
   "cell_type": "code",
   "execution_count": 20,
   "metadata": {},
   "outputs": [
    {
     "name": "stdout",
     "output_type": "stream",
     "text": [
      "<class 'pandas.core.frame.DataFrame'>\n",
      "Index: 581 entries, 0 to 614\n",
      "Data columns (total 2 columns):\n",
      " #   Column       Non-Null Count  Dtype \n",
      "---  ------       --------------  ----- \n",
      " 0   Change Date  581 non-null    object\n",
      " 1   Ticker       581 non-null    object\n",
      "dtypes: object(2)\n",
      "memory usage: 13.6+ KB\n"
     ]
    }
   ],
   "source": [
    "add_data.info()"
   ]
  },
  {
   "cell_type": "code",
   "execution_count": 24,
   "metadata": {},
   "outputs": [
    {
     "data": {
      "text/html": [
       "<div>\n",
       "<style scoped>\n",
       "    .dataframe tbody tr th:only-of-type {\n",
       "        vertical-align: middle;\n",
       "    }\n",
       "\n",
       "    .dataframe tbody tr th {\n",
       "        vertical-align: top;\n",
       "    }\n",
       "\n",
       "    .dataframe thead th {\n",
       "        text-align: right;\n",
       "    }\n",
       "</style>\n",
       "<table border=\"1\" class=\"dataframe\">\n",
       "  <thead>\n",
       "    <tr style=\"text-align: right;\">\n",
       "      <th></th>\n",
       "      <th>Change Date</th>\n",
       "      <th>Ticker</th>\n",
       "    </tr>\n",
       "  </thead>\n",
       "  <tbody>\n",
       "    <tr>\n",
       "      <th>0</th>\n",
       "      <td>2000-01-03</td>\n",
       "      <td>NCR</td>\n",
       "    </tr>\n",
       "    <tr>\n",
       "      <th>1</th>\n",
       "      <td>2000-01-05</td>\n",
       "      <td>YNR</td>\n",
       "    </tr>\n",
       "    <tr>\n",
       "      <th>2</th>\n",
       "      <td>2000-01-28</td>\n",
       "      <td>CNXT</td>\n",
       "    </tr>\n",
       "    <tr>\n",
       "      <th>3</th>\n",
       "      <td>2000-01-28</td>\n",
       "      <td>HOG</td>\n",
       "    </tr>\n",
       "    <tr>\n",
       "      <th>4</th>\n",
       "      <td>2000-01-28</td>\n",
       "      <td>BGEN</td>\n",
       "    </tr>\n",
       "  </tbody>\n",
       "</table>\n",
       "</div>"
      ],
      "text/plain": [
       "  Change Date Ticker\n",
       "0  2000-01-03    NCR\n",
       "1  2000-01-05    YNR\n",
       "2  2000-01-28   CNXT\n",
       "3  2000-01-28    HOG\n",
       "4  2000-01-28   BGEN"
      ]
     },
     "execution_count": 24,
     "metadata": {},
     "output_type": "execute_result"
    }
   ],
   "source": [
    "add_data.sort_values(\"Change Date\", inplace=True)\n",
    "add_data.reset_index(drop=True, inplace=True)\n",
    "add_data.head()"
   ]
  },
  {
   "cell_type": "markdown",
   "metadata": {},
   "source": [
    "Writing the data to csv as the final data"
   ]
  },
  {
   "cell_type": "code",
   "execution_count": 25,
   "metadata": {},
   "outputs": [],
   "source": [
    "add_data.to_csv(\"../../sp500_additions.csv\", index=False)"
   ]
  },
  {
   "cell_type": "markdown",
   "metadata": {},
   "source": [
    "## Collecting Remove Date and Stock Ticker"
   ]
  },
  {
   "cell_type": "code",
   "execution_count": 36,
   "metadata": {},
   "outputs": [
    {
     "data": {
      "text/html": [
       "<div>\n",
       "<style scoped>\n",
       "    .dataframe tbody tr th:only-of-type {\n",
       "        vertical-align: middle;\n",
       "    }\n",
       "\n",
       "    .dataframe tbody tr th {\n",
       "        vertical-align: top;\n",
       "    }\n",
       "\n",
       "    .dataframe thead th {\n",
       "        text-align: right;\n",
       "    }\n",
       "</style>\n",
       "<table border=\"1\" class=\"dataframe\">\n",
       "  <thead>\n",
       "    <tr style=\"text-align: right;\">\n",
       "      <th></th>\n",
       "      <th>Company Name</th>\n",
       "      <th>Ticker</th>\n",
       "      <th>Previous Name &amp; Ticker</th>\n",
       "      <th>Company Name.1</th>\n",
       "      <th>Ticker.1</th>\n",
       "      <th>Previous Name &amp; Ticker.1</th>\n",
       "      <th>Change Date</th>\n",
       "    </tr>\n",
       "  </thead>\n",
       "  <tbody>\n",
       "    <tr>\n",
       "      <th>0</th>\n",
       "      <td>Amentum Holdings Inc</td>\n",
       "      <td>AMTM</td>\n",
       "      <td>NaN</td>\n",
       "      <td>Bath &amp; Body Works Inc</td>\n",
       "      <td>BBWI</td>\n",
       "      <td>NaN</td>\n",
       "      <td>September 27, 2024</td>\n",
       "    </tr>\n",
       "    <tr>\n",
       "      <th>1</th>\n",
       "      <td>Palantir Technologies Inc</td>\n",
       "      <td>PLTR</td>\n",
       "      <td>NaN</td>\n",
       "      <td>American Airlines Group Inc</td>\n",
       "      <td>AAL</td>\n",
       "      <td>NaN</td>\n",
       "      <td>September 20, 2024</td>\n",
       "    </tr>\n",
       "    <tr>\n",
       "      <th>2</th>\n",
       "      <td>Dell Technologies Inc</td>\n",
       "      <td>DELL</td>\n",
       "      <td>NaN</td>\n",
       "      <td>Etsy Inc</td>\n",
       "      <td>ETSY</td>\n",
       "      <td>NaN</td>\n",
       "      <td>September 20, 2024</td>\n",
       "    </tr>\n",
       "    <tr>\n",
       "      <th>3</th>\n",
       "      <td>Erie Indemnity Co</td>\n",
       "      <td>ERIE</td>\n",
       "      <td>NaN</td>\n",
       "      <td>Bio-Rad Laboratories Inc</td>\n",
       "      <td>BIO</td>\n",
       "      <td>NaN</td>\n",
       "      <td>September 20, 2024</td>\n",
       "    </tr>\n",
       "    <tr>\n",
       "      <th>4</th>\n",
       "      <td>KKR &amp; Co Inc</td>\n",
       "      <td>KKR</td>\n",
       "      <td>NaN</td>\n",
       "      <td>Robert Half Inc</td>\n",
       "      <td>RHI</td>\n",
       "      <td>NaN</td>\n",
       "      <td>June 21, 2024</td>\n",
       "    </tr>\n",
       "  </tbody>\n",
       "</table>\n",
       "</div>"
      ],
      "text/plain": [
       "                Company Name Ticker Previous Name & Ticker  \\\n",
       "0       Amentum Holdings Inc   AMTM                    NaN   \n",
       "1  Palantir Technologies Inc   PLTR                    NaN   \n",
       "2      Dell Technologies Inc   DELL                    NaN   \n",
       "3          Erie Indemnity Co   ERIE                    NaN   \n",
       "4               KKR & Co Inc    KKR                    NaN   \n",
       "\n",
       "                Company Name.1 Ticker.1 Previous Name & Ticker.1  \\\n",
       "0        Bath & Body Works Inc     BBWI                      NaN   \n",
       "1  American Airlines Group Inc      AAL                      NaN   \n",
       "2                     Etsy Inc     ETSY                      NaN   \n",
       "3     Bio-Rad Laboratories Inc      BIO                      NaN   \n",
       "4              Robert Half Inc      RHI                      NaN   \n",
       "\n",
       "          Change Date  \n",
       "0  September 27, 2024  \n",
       "1  September 20, 2024  \n",
       "2  September 20, 2024  \n",
       "3  September 20, 2024  \n",
       "4       June 21, 2024  "
      ]
     },
     "execution_count": 36,
     "metadata": {},
     "output_type": "execute_result"
    }
   ],
   "source": [
    "sp500_composition = pd.read_csv(\"S&P 500 Composition Changes 1970 - 2024 - Component Changes.csv\")\n",
    "sp500_composition.head()"
   ]
  },
  {
   "cell_type": "code",
   "execution_count": 37,
   "metadata": {},
   "outputs": [
    {
     "data": {
      "text/html": [
       "<div>\n",
       "<style scoped>\n",
       "    .dataframe tbody tr th:only-of-type {\n",
       "        vertical-align: middle;\n",
       "    }\n",
       "\n",
       "    .dataframe tbody tr th {\n",
       "        vertical-align: top;\n",
       "    }\n",
       "\n",
       "    .dataframe thead th {\n",
       "        text-align: right;\n",
       "    }\n",
       "</style>\n",
       "<table border=\"1\" class=\"dataframe\">\n",
       "  <thead>\n",
       "    <tr style=\"text-align: right;\">\n",
       "      <th></th>\n",
       "      <th>Change Date</th>\n",
       "      <th>Ticker.1</th>\n",
       "    </tr>\n",
       "  </thead>\n",
       "  <tbody>\n",
       "    <tr>\n",
       "      <th>0</th>\n",
       "      <td>September 27, 2024</td>\n",
       "      <td>BBWI</td>\n",
       "    </tr>\n",
       "    <tr>\n",
       "      <th>1</th>\n",
       "      <td>September 20, 2024</td>\n",
       "      <td>AAL</td>\n",
       "    </tr>\n",
       "    <tr>\n",
       "      <th>2</th>\n",
       "      <td>September 20, 2024</td>\n",
       "      <td>ETSY</td>\n",
       "    </tr>\n",
       "    <tr>\n",
       "      <th>3</th>\n",
       "      <td>September 20, 2024</td>\n",
       "      <td>BIO</td>\n",
       "    </tr>\n",
       "    <tr>\n",
       "      <th>4</th>\n",
       "      <td>June 21, 2024</td>\n",
       "      <td>RHI</td>\n",
       "    </tr>\n",
       "  </tbody>\n",
       "</table>\n",
       "</div>"
      ],
      "text/plain": [
       "          Change Date Ticker.1\n",
       "0  September 27, 2024     BBWI\n",
       "1  September 20, 2024      AAL\n",
       "2  September 20, 2024     ETSY\n",
       "3  September 20, 2024      BIO\n",
       "4       June 21, 2024      RHI"
      ]
     },
     "execution_count": 37,
     "metadata": {},
     "output_type": "execute_result"
    }
   ],
   "source": [
    "remove_data = sp500_composition[[\"Change Date\", \"Ticker.1\"]]\n",
    "remove_data.head()"
   ]
  },
  {
   "cell_type": "code",
   "execution_count": 38,
   "metadata": {},
   "outputs": [],
   "source": [
    "remove_data = remove_data.rename(columns={\"Ticker.1\": \"Ticker\"})"
   ]
  },
  {
   "cell_type": "code",
   "execution_count": 39,
   "metadata": {},
   "outputs": [
    {
     "data": {
      "text/html": [
       "<div>\n",
       "<style scoped>\n",
       "    .dataframe tbody tr th:only-of-type {\n",
       "        vertical-align: middle;\n",
       "    }\n",
       "\n",
       "    .dataframe tbody tr th {\n",
       "        vertical-align: top;\n",
       "    }\n",
       "\n",
       "    .dataframe thead th {\n",
       "        text-align: right;\n",
       "    }\n",
       "</style>\n",
       "<table border=\"1\" class=\"dataframe\">\n",
       "  <thead>\n",
       "    <tr style=\"text-align: right;\">\n",
       "      <th></th>\n",
       "      <th>Change Date</th>\n",
       "      <th>Ticker</th>\n",
       "    </tr>\n",
       "  </thead>\n",
       "  <tbody>\n",
       "    <tr>\n",
       "      <th>0</th>\n",
       "      <td>September 27, 2024</td>\n",
       "      <td>BBWI</td>\n",
       "    </tr>\n",
       "    <tr>\n",
       "      <th>1</th>\n",
       "      <td>September 20, 2024</td>\n",
       "      <td>AAL</td>\n",
       "    </tr>\n",
       "    <tr>\n",
       "      <th>2</th>\n",
       "      <td>September 20, 2024</td>\n",
       "      <td>ETSY</td>\n",
       "    </tr>\n",
       "    <tr>\n",
       "      <th>3</th>\n",
       "      <td>September 20, 2024</td>\n",
       "      <td>BIO</td>\n",
       "    </tr>\n",
       "    <tr>\n",
       "      <th>4</th>\n",
       "      <td>June 21, 2024</td>\n",
       "      <td>RHI</td>\n",
       "    </tr>\n",
       "  </tbody>\n",
       "</table>\n",
       "</div>"
      ],
      "text/plain": [
       "          Change Date Ticker\n",
       "0  September 27, 2024   BBWI\n",
       "1  September 20, 2024    AAL\n",
       "2  September 20, 2024   ETSY\n",
       "3  September 20, 2024    BIO\n",
       "4       June 21, 2024    RHI"
      ]
     },
     "execution_count": 39,
     "metadata": {},
     "output_type": "execute_result"
    }
   ],
   "source": [
    "remove_data.head()"
   ]
  },
  {
   "cell_type": "markdown",
   "metadata": {},
   "source": [
    "Convert the string date to padas date datatype."
   ]
  },
  {
   "cell_type": "code",
   "execution_count": 40,
   "metadata": {},
   "outputs": [
    {
     "data": {
      "text/html": [
       "<div>\n",
       "<style scoped>\n",
       "    .dataframe tbody tr th:only-of-type {\n",
       "        vertical-align: middle;\n",
       "    }\n",
       "\n",
       "    .dataframe tbody tr th {\n",
       "        vertical-align: top;\n",
       "    }\n",
       "\n",
       "    .dataframe thead th {\n",
       "        text-align: right;\n",
       "    }\n",
       "</style>\n",
       "<table border=\"1\" class=\"dataframe\">\n",
       "  <thead>\n",
       "    <tr style=\"text-align: right;\">\n",
       "      <th></th>\n",
       "      <th>Change Date</th>\n",
       "      <th>Ticker</th>\n",
       "    </tr>\n",
       "  </thead>\n",
       "  <tbody>\n",
       "    <tr>\n",
       "      <th>0</th>\n",
       "      <td>2024-09-27</td>\n",
       "      <td>BBWI</td>\n",
       "    </tr>\n",
       "    <tr>\n",
       "      <th>1</th>\n",
       "      <td>2024-09-20</td>\n",
       "      <td>AAL</td>\n",
       "    </tr>\n",
       "    <tr>\n",
       "      <th>2</th>\n",
       "      <td>2024-09-20</td>\n",
       "      <td>ETSY</td>\n",
       "    </tr>\n",
       "    <tr>\n",
       "      <th>3</th>\n",
       "      <td>2024-09-20</td>\n",
       "      <td>BIO</td>\n",
       "    </tr>\n",
       "    <tr>\n",
       "      <th>4</th>\n",
       "      <td>2024-06-21</td>\n",
       "      <td>RHI</td>\n",
       "    </tr>\n",
       "  </tbody>\n",
       "</table>\n",
       "</div>"
      ],
      "text/plain": [
       "  Change Date Ticker\n",
       "0  2024-09-27   BBWI\n",
       "1  2024-09-20    AAL\n",
       "2  2024-09-20   ETSY\n",
       "3  2024-09-20    BIO\n",
       "4  2024-06-21    RHI"
      ]
     },
     "execution_count": 40,
     "metadata": {},
     "output_type": "execute_result"
    }
   ],
   "source": [
    "remove_data.loc[:, \"Change Date\"] = pd.to_datetime(remove_data[\"Change Date\"]).dt.date\n",
    "remove_data.head()"
   ]
  },
  {
   "cell_type": "markdown",
   "metadata": {},
   "source": [
    "Only keep data since Jan 1 2000"
   ]
  },
  {
   "cell_type": "code",
   "execution_count": 41,
   "metadata": {},
   "outputs": [],
   "source": [
    "remove_data = remove_data[remove_data[\"Change Date\"] >= pd.to_datetime(\"2000-01-01\").date()]"
   ]
  },
  {
   "cell_type": "markdown",
   "metadata": {},
   "source": [
    "Cleaning the data"
   ]
  },
  {
   "cell_type": "code",
   "execution_count": 42,
   "metadata": {},
   "outputs": [
    {
     "name": "stdout",
     "output_type": "stream",
     "text": [
      "<class 'pandas.core.frame.DataFrame'>\n",
      "Index: 615 entries, 0 to 614\n",
      "Data columns (total 2 columns):\n",
      " #   Column       Non-Null Count  Dtype \n",
      "---  ------       --------------  ----- \n",
      " 0   Change Date  615 non-null    object\n",
      " 1   Ticker       615 non-null    object\n",
      "dtypes: object(2)\n",
      "memory usage: 14.4+ KB\n"
     ]
    }
   ],
   "source": [
    "remove_data.info()"
   ]
  },
  {
   "cell_type": "code",
   "execution_count": 43,
   "metadata": {},
   "outputs": [
    {
     "data": {
      "text/plain": [
       "array(['BBWI', 'AAL', 'ETSY', 'BIO', 'RHI', 'CMA', 'ILMN', 'PXD', 'XRAY',\n",
       "       'VFC', '-', 'ZION', 'WHR', 'SEE', 'ALK', 'SEDG', 'ATVI', 'OGN',\n",
       "       'DXC', 'LNC', 'NWL', 'AAP', 'DISH', 'FRC', 'LUMN', 'SBNY', 'SIVB',\n",
       "       'VNO', 'ABMD', 'FBIN', 'MBC', 'TWTR', 'NLSN', 'CTXS', 'DRE', 'PVH',\n",
       "       'PENN', 'IPGP', 'UA', 'UA.A', 'CERN', 'DISCK', 'PBCT', 'INFO',\n",
       "       'XLNX', 'GPS', 'LEG', 'HBI', 'WU', 'KSU', 'PRGO', 'UNM', 'NOV',\n",
       "       'MXIM', 'ALXN', 'HFC', 'FLIR', 'VAR', 'FLS', 'SLG', 'XRX', 'VNT',\n",
       "       'FTI', 'CXO', 'TIF', 'AIV', 'NBL', 'ETFC', 'HRB', 'COTY', 'KSS',\n",
       "       'HOG', 'JWN', 'ADS', 'HP', 'AGN', 'CPRI', 'M', 'RTN', 'XEC', 'WCG',\n",
       "       'MAC', 'TRIP', 'AMG', 'STI', 'VIAB', 'CELG', 'NKTR', 'JEF', 'TSS',\n",
       "       'APC', 'FL', 'RHT', 'LLL', 'MAT', 'FLR', 'BHF', 'FOXA (Old)',\n",
       "       'FOX (Old)', 'GT', 'NFX', 'PCG', 'SCG', 'ESRX', 'SRCL', 'AET',\n",
       "       'COL', 'EQT', 'CA', 'EVHC', 'ANDV', 'XL', 'GGP', 'DPS', 'TWX',\n",
       "       'AYI', 'RRC', 'MON', 'NAVI', 'WYND', 'CSRA', 'SIG', 'PDCO', 'CHK',\n",
       "       'SNI', 'BCR', 'LVLT', 'SPLS', 'DD (Old)', 'WFM', 'AN', 'RAI',\n",
       "       'MNK', 'MUR', 'BBBY', 'RIG', 'MJN', 'YHOO', 'TDC', 'R', 'TGNA',\n",
       "       'DNB', 'SWN', 'URBN', 'FTR', 'FSLR', 'HAR', 'LLTC', 'ENDP', 'PBI',\n",
       "       'SE', 'STJ', 'OI', 'LM', 'AA', 'DO', 'HOT', 'EMC', 'JCI (Old)',\n",
       "       'CPGX', 'GAS', 'TE', 'RMG', 'BXLT', 'CCE', 'ARG', 'TWC', 'SNDK',\n",
       "       'ADT', 'GME', 'THC', 'CAM', 'POM', 'VAL', 'GMCR', 'CNX', 'PCL',\n",
       "       'PCP', 'BRCM', 'CB (Old)', 'FOSL', 'ALTR (Alt)', 'CMCSK', 'CSC',\n",
       "       'SIAL', 'GNW', 'HCBK', 'JOY', 'HSP', 'PLL', 'DTV', 'NE', 'FDO',\n",
       "       'ATI', 'TEG', 'QEP', 'LO', 'WIN', 'AGN (Old)', 'DNR', 'NBR', 'AVP',\n",
       "       'CFN', 'PETM', 'SWY', 'COV', 'BMS', 'JBL', 'BTU', 'GHC', 'RDC',\n",
       "       'X', 'FRX', 'IGT (Old)', 'LSI (LSI)', 'BEAM (Sun)', 'SLM', 'CLF',\n",
       "       'WPX', 'LIFE (Tech)', 'ANF', 'VIAV', 'TER', 'MOLX', 'JCP', 'NYX',\n",
       "       'DELL', 'AMD', 'LDOS', 'BMC', 'S', 'APOL', 'FHN', 'HNZ', 'DF',\n",
       "       'CVH', 'TMUS', 'BIG', 'FHI', 'TIE', 'RRD', 'CBE', 'SUN (Sun)',\n",
       "       'ANR', 'LXK', 'ATGE', 'SHLD', 'GR', 'PGN', 'HSH', 'NVLS (Nove)',\n",
       "       'MMI (Mot)', 'EP', 'SVU', 'MHS', 'CEG (Old)', 'CPWR', 'TLAB',\n",
       "       'AKS', 'MWW', 'SUNEQ', 'GAS (Nico)', 'JNS', 'ITT', 'CEPH',\n",
       "       'NSM (Nat)', 'MI', 'RSH', 'MEE', 'NOVL', 'GENZ', 'Q (Qwe)', 'MFE',\n",
       "       'AYE', 'QLGC', 'MDP', 'KG', 'KODK', 'ODP', 'NYT', 'PTV', 'SII',\n",
       "       'MIL', 'STR', 'XTO', 'BJS', 'BDK', 'PBG', 'IMS', 'BNI', 'ACS',\n",
       "       'JAVA', 'MBI', 'CIEN', 'DYN', 'KBH', 'CVG', 'SGP', 'WYE', 'MTW',\n",
       "       'CTX', 'CIT', 'EQ (Emb)', 'TT', 'TEL', 'GM', 'ROH', 'SITC', 'JCI',\n",
       "       'JNY', 'ACAS', 'WFT', 'SOV', 'UST', 'MER', 'NCC', 'WB', 'BRL',\n",
       "       'AW', 'KATE', 'ABI', 'BUD (Anh)', 'HPC', 'ASH', 'UIS', 'TEX',\n",
       "       'MTG', 'DDS', 'WWY', 'WEN', 'COOP', 'SAF', 'LEHMQ', 'FMCC', 'FNMA',\n",
       "       'EDS', 'IAC', 'IHRT', 'CB', 'SSP', 'CFC', 'OMX (Old)', 'BC',\n",
       "       'AMBC', 'TT (Tra)', 'BSC', 'CBH', 'CC (Circ)', 'CZR (Har)', 'SNV',\n",
       "       'TIN', 'TRCO', 'DJ', 'AT (All)', 'TEK', 'HCR', 'BOL', 'AV', 'HLT',\n",
       "       'TXU', 'ASN', 'SLR', 'NCR', 'FDC', 'CBSS', 'KSE', 'BMET', 'DG',\n",
       "       'PMCS', 'SANM', 'MEL', 'ADCT', 'MEDI', 'KMI', 'RLGY', 'TSG', 'UVN',\n",
       "       'CMX', 'PD', 'HMA', 'PGL', 'APCC', 'EOP', 'CMVT', 'SBL', 'BLS',\n",
       "       'PAR', 'NAV', 'FSLB', 'LU', 'NFB', 'HCA', 'ACV', 'FSH', 'LPX',\n",
       "       'ASO', 'GDW', 'ANDW', 'KMG (Ker)', 'CAR', 'GTW', 'CTB', 'KRI',\n",
       "       'EC', 'ABS', 'AMCC', 'GDT', 'CHIR', 'MYG', 'JP', 'CIN', 'BR (OLD)',\n",
       "       'DAN', 'SFA', 'RBK', 'SEBL', 'MERQ', 'VC', 'KRB', 'GP', 'CPN',\n",
       "       'T (Old)', 'DPH', 'PVN (Fin)', 'G (Gil)', 'MAY', 'DAL', 'NXTL',\n",
       "       'SDS', 'UCL', 'TOY', 'VRTS (Veri)', 'GLK (Chem)', 'S (Sears)',\n",
       "       'PWER', 'PSFT', 'CR', 'DLX', 'WOR', 'WIN (W-D)', 'WLP', 'SOTR',\n",
       "       'AWE', 'CF (Char)', 'TNB', 'ONE', 'UPC', 'AM', 'JHF',\n",
       "       'PCS (Sprint)', 'TAP.B', 'FBF', 'TUP', 'CE (Con)', 'BGEN', 'QTRN',\n",
       "       'MDR', 'GEN (Gen)', 'PHA', 'HI (Hou)', 'EHC', 'AMR (AMR)', 'RATL',\n",
       "       'TRW (TRW)', 'CMCSK (Old)', 'COC.B', 'VTSS', 'PALM', 'CNO', 'PDG',\n",
       "       'RD', 'UN', 'NT', 'AL (Alc)', 'ABX', 'N (Inc)', 'IMNX', 'CNXT',\n",
       "       'U', 'WCOM', 'SAPE', 'CPQ', 'WLL (Wil)', 'NMK', 'MEA', 'KM', 'FMC',\n",
       "       'HM', 'RAL', 'NSI', 'ENRNQ', 'GPU', 'GLBC (Glob)', 'TX', 'TOS',\n",
       "       'WB (Old)', 'BVSN', 'AGC', 'OKE', 'TKR', 'ETS', 'OAT', 'PCH',\n",
       "       'LDG', 'H (Har)', 'AZA.A', 'SXCL', 'BGG', 'CEN', 'OK', 'SUB',\n",
       "       'USB (FBS)', 'UK', 'CGP', 'TWX (Old)', 'JPM (Old)', 'SMI', 'RML',\n",
       "       'PRD', 'NGH', 'BS', 'CCK', 'GRA', 'VO', 'AFS.A', 'FPC', 'FJ',\n",
       "       'SEG', 'ACKH', 'PWJ', 'CG', 'EFU', 'UCM', 'MKG', 'YNR', 'BFO',\n",
       "       'OC', 'GAP', 'NCE', 'COMS', 'RAD', 'UPR', 'USW', 'GTE (GTE)', 'MZ',\n",
       "       'IKN', 'WLA', 'SGI (Old)', 'CHA', 'CSR', 'UMG', 'TMC.A', 'SMS',\n",
       "       'NC', 'MIR (M. R.)', 'JOS', 'CBS (Old)', 'RLM', 'ARC (Atl)', 'PNU',\n",
       "       'PBY', 'SCI', 'FWLT', 'CNG', 'FLE', 'NLV'], dtype=object)"
      ]
     },
     "execution_count": 43,
     "metadata": {},
     "output_type": "execute_result"
    }
   ],
   "source": [
    "remove_data[\"Ticker\"].unique()"
   ]
  },
  {
   "cell_type": "code",
   "execution_count": 44,
   "metadata": {},
   "outputs": [],
   "source": [
    "remove_data = remove_data[remove_data[\"Ticker\"] != \"-\"]"
   ]
  },
  {
   "cell_type": "code",
   "execution_count": 45,
   "metadata": {},
   "outputs": [
    {
     "name": "stdout",
     "output_type": "stream",
     "text": [
      "<class 'pandas.core.frame.DataFrame'>\n",
      "Index: 577 entries, 0 to 613\n",
      "Data columns (total 2 columns):\n",
      " #   Column       Non-Null Count  Dtype \n",
      "---  ------       --------------  ----- \n",
      " 0   Change Date  577 non-null    object\n",
      " 1   Ticker       577 non-null    object\n",
      "dtypes: object(2)\n",
      "memory usage: 13.5+ KB\n"
     ]
    }
   ],
   "source": [
    "remove_data.info()"
   ]
  },
  {
   "cell_type": "code",
   "execution_count": 46,
   "metadata": {},
   "outputs": [
    {
     "data": {
      "text/html": [
       "<div>\n",
       "<style scoped>\n",
       "    .dataframe tbody tr th:only-of-type {\n",
       "        vertical-align: middle;\n",
       "    }\n",
       "\n",
       "    .dataframe tbody tr th {\n",
       "        vertical-align: top;\n",
       "    }\n",
       "\n",
       "    .dataframe thead th {\n",
       "        text-align: right;\n",
       "    }\n",
       "</style>\n",
       "<table border=\"1\" class=\"dataframe\">\n",
       "  <thead>\n",
       "    <tr style=\"text-align: right;\">\n",
       "      <th></th>\n",
       "      <th>Change Date</th>\n",
       "      <th>Ticker</th>\n",
       "    </tr>\n",
       "  </thead>\n",
       "  <tbody>\n",
       "    <tr>\n",
       "      <th>0</th>\n",
       "      <td>2000-01-05</td>\n",
       "      <td>NLV</td>\n",
       "    </tr>\n",
       "    <tr>\n",
       "      <th>1</th>\n",
       "      <td>2000-01-28</td>\n",
       "      <td>FWLT</td>\n",
       "    </tr>\n",
       "    <tr>\n",
       "      <th>2</th>\n",
       "      <td>2000-01-28</td>\n",
       "      <td>FLE</td>\n",
       "    </tr>\n",
       "    <tr>\n",
       "      <th>3</th>\n",
       "      <td>2000-01-28</td>\n",
       "      <td>CNG</td>\n",
       "    </tr>\n",
       "    <tr>\n",
       "      <th>4</th>\n",
       "      <td>2000-03-15</td>\n",
       "      <td>SCI</td>\n",
       "    </tr>\n",
       "  </tbody>\n",
       "</table>\n",
       "</div>"
      ],
      "text/plain": [
       "  Change Date Ticker\n",
       "0  2000-01-05    NLV\n",
       "1  2000-01-28   FWLT\n",
       "2  2000-01-28    FLE\n",
       "3  2000-01-28    CNG\n",
       "4  2000-03-15    SCI"
      ]
     },
     "execution_count": 46,
     "metadata": {},
     "output_type": "execute_result"
    }
   ],
   "source": [
    "remove_data.sort_values(\"Change Date\", inplace=True)\n",
    "remove_data.reset_index(drop=True, inplace=True)\n",
    "remove_data.head()"
   ]
  },
  {
   "cell_type": "markdown",
   "metadata": {},
   "source": [
    "Writing the data to csv as the final data"
   ]
  },
  {
   "cell_type": "code",
   "execution_count": 47,
   "metadata": {},
   "outputs": [],
   "source": [
    "remove_data.to_csv(\"../../sp500_removals.csv\", index=False)"
   ]
  }
 ],
 "metadata": {
  "kernelspec": {
   "display_name": ".venv_data",
   "language": "python",
   "name": "python3"
  },
  "language_info": {
   "codemirror_mode": {
    "name": "ipython",
    "version": 3
   },
   "file_extension": ".py",
   "mimetype": "text/x-python",
   "name": "python",
   "nbconvert_exporter": "python",
   "pygments_lexer": "ipython3",
   "version": "3.10.12"
  }
 },
 "nbformat": 4,
 "nbformat_minor": 2
}
