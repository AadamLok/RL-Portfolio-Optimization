{
 "cells": [
  {
   "cell_type": "markdown",
   "metadata": {},
   "source": [
    "# S&P 500 History Data Collection\n",
    "\n",
    "This file will collect information about what stocks where added to/removed from s&p 500 at what point, and what sector and sub-industry do they belong to."
   ]
  },
  {
   "cell_type": "code",
   "execution_count": 13,
   "metadata": {},
   "outputs": [
    {
     "data": {
      "text/plain": [
       "<bound method InteractiveShell.excepthook of <ipykernel.zmqshell.ZMQInteractiveShell object at 0x7fcb1e373f40>>"
      ]
     },
     "execution_count": 13,
     "metadata": {},
     "output_type": "execute_result"
    }
   ],
   "source": [
    "import numpy as np\n",
    "import pandas as pd\n",
    "\n",
    "# To print nicely\n",
    "from rich import print, inspect\n",
    "from rich.traceback import install\n",
    "install()"
   ]
  },
  {
   "cell_type": "markdown",
   "metadata": {},
   "source": [
    "## Collecting Symbol, Added Date, Remove Date, Sector, Sub-Industry\n",
    "\n",
    "This will be done by scaraping wikipedia https://en.wikipedia.org/wiki/List_of_S%26P_500_companies table of Selected changes to the list of S&P 500 components."
   ]
  },
  {
   "cell_type": "code",
   "execution_count": 10,
   "metadata": {},
   "outputs": [
    {
     "data": {
      "text/html": [
       "<pre style=\"white-space:pre;overflow-x:auto;line-height:normal;font-family:Menlo,'DejaVu Sans Mono',consolas,'Courier New',monospace\">Total tables found: <span style=\"color: #008080; text-decoration-color: #008080; font-weight: bold\">2</span>\n",
       "</pre>\n"
      ],
      "text/plain": [
       "Total tables found: \u001b[1;36m2\u001b[0m\n"
      ]
     },
     "metadata": {},
     "output_type": "display_data"
    }
   ],
   "source": [
    "url = \"https://en.wikipedia.org/wiki/List_of_S%26P_500_companies\"\n",
    "tables = pd.read_html(url)\n",
    "\n",
    "print(f\"Total tables found: {len(tables)}\")"
   ]
  },
  {
   "cell_type": "code",
   "execution_count": 15,
   "metadata": {},
   "outputs": [
    {
     "data": {
      "text/html": [
       "<pre style=\"white-space:pre;overflow-x:auto;line-height:normal;font-family:Menlo,'DejaVu Sans Mono',consolas,'Courier New',monospace\">Table <span style=\"color: #008080; text-decoration-color: #008080; font-weight: bold\">0</span>\n",
       "</pre>\n"
      ],
      "text/plain": [
       "Table \u001b[1;36m0\u001b[0m\n"
      ]
     },
     "metadata": {},
     "output_type": "display_data"
    },
    {
     "data": {
      "text/html": [
       "<pre style=\"white-space:pre;overflow-x:auto;line-height:normal;font-family:Menlo,'DejaVu Sans Mono',consolas,'Courier New',monospace\">  Symbol             Security             GICS Sector  \\\n",
       "<span style=\"color: #008080; text-decoration-color: #008080; font-weight: bold\">0</span>    MMM                   3M             Industrials   \n",
       "<span style=\"color: #008080; text-decoration-color: #008080; font-weight: bold\">1</span>    AOS          A. O. Smith             Industrials   \n",
       "<span style=\"color: #008080; text-decoration-color: #008080; font-weight: bold\">2</span>    ABT  Abbott Laboratories             Health Care   \n",
       "<span style=\"color: #008080; text-decoration-color: #008080; font-weight: bold\">3</span>   ABBV               AbbVie             Health Care   \n",
       "<span style=\"color: #008080; text-decoration-color: #008080; font-weight: bold\">4</span>    ACN            Accenture  Information Technology   \n",
       "\n",
       "                GICS Sub-Industry    Headquarters Location  Date added  \\\n",
       "<span style=\"color: #008080; text-decoration-color: #008080; font-weight: bold\">0</span>        Industrial Conglomerates    Saint Paul, Minnesota  <span style=\"color: #008080; text-decoration-color: #008080; font-weight: bold\">1957</span>-<span style=\"color: #008080; text-decoration-color: #008080; font-weight: bold\">03</span>-<span style=\"color: #008080; text-decoration-color: #008080; font-weight: bold\">04</span>   \n",
       "<span style=\"color: #008080; text-decoration-color: #008080; font-weight: bold\">1</span>               Building Products     Milwaukee, Wisconsin  <span style=\"color: #008080; text-decoration-color: #008080; font-weight: bold\">2017</span>-<span style=\"color: #008080; text-decoration-color: #008080; font-weight: bold\">07</span>-<span style=\"color: #008080; text-decoration-color: #008080; font-weight: bold\">26</span>   \n",
       "<span style=\"color: #008080; text-decoration-color: #008080; font-weight: bold\">2</span>           Health Care Equipment  North Chicago, Illinois  <span style=\"color: #008080; text-decoration-color: #008080; font-weight: bold\">1957</span>-<span style=\"color: #008080; text-decoration-color: #008080; font-weight: bold\">03</span>-<span style=\"color: #008080; text-decoration-color: #008080; font-weight: bold\">04</span>   \n",
       "<span style=\"color: #008080; text-decoration-color: #008080; font-weight: bold\">3</span>                   Biotechnology  North Chicago, Illinois  <span style=\"color: #008080; text-decoration-color: #008080; font-weight: bold\">2012</span>-<span style=\"color: #008080; text-decoration-color: #008080; font-weight: bold\">12</span>-<span style=\"color: #008080; text-decoration-color: #008080; font-weight: bold\">31</span>   \n",
       "<span style=\"color: #008080; text-decoration-color: #008080; font-weight: bold\">4</span>  IT Consulting &amp; Other Services          Dublin, Ireland  <span style=\"color: #008080; text-decoration-color: #008080; font-weight: bold\">2011</span>-<span style=\"color: #008080; text-decoration-color: #008080; font-weight: bold\">07</span>-<span style=\"color: #008080; text-decoration-color: #008080; font-weight: bold\">06</span>   \n",
       "\n",
       "       CIK      Founded  \n",
       "<span style=\"color: #008080; text-decoration-color: #008080; font-weight: bold\">0</span>    <span style=\"color: #008080; text-decoration-color: #008080; font-weight: bold\">66740</span>         <span style=\"color: #008080; text-decoration-color: #008080; font-weight: bold\">1902</span>  \n",
       "<span style=\"color: #008080; text-decoration-color: #008080; font-weight: bold\">1</span>    <span style=\"color: #008080; text-decoration-color: #008080; font-weight: bold\">91142</span>         <span style=\"color: #008080; text-decoration-color: #008080; font-weight: bold\">1916</span>  \n",
       "<span style=\"color: #008080; text-decoration-color: #008080; font-weight: bold\">2</span>     <span style=\"color: #008080; text-decoration-color: #008080; font-weight: bold\">1800</span>         <span style=\"color: #008080; text-decoration-color: #008080; font-weight: bold\">1888</span>  \n",
       "<span style=\"color: #008080; text-decoration-color: #008080; font-weight: bold\">3</span>  <span style=\"color: #008080; text-decoration-color: #008080; font-weight: bold\">1551152</span>  <span style=\"color: #008080; text-decoration-color: #008080; font-weight: bold\">2013</span> <span style=\"font-weight: bold\">(</span><span style=\"color: #008080; text-decoration-color: #008080; font-weight: bold\">1888</span><span style=\"font-weight: bold\">)</span>  \n",
       "<span style=\"color: #008080; text-decoration-color: #008080; font-weight: bold\">4</span>  <span style=\"color: #008080; text-decoration-color: #008080; font-weight: bold\">1467373</span>         <span style=\"color: #008080; text-decoration-color: #008080; font-weight: bold\">1989</span>  \n",
       "</pre>\n"
      ],
      "text/plain": [
       "  Symbol             Security             GICS Sector  \\\n",
       "\u001b[1;36m0\u001b[0m    MMM                   3M             Industrials   \n",
       "\u001b[1;36m1\u001b[0m    AOS          A. O. Smith             Industrials   \n",
       "\u001b[1;36m2\u001b[0m    ABT  Abbott Laboratories             Health Care   \n",
       "\u001b[1;36m3\u001b[0m   ABBV               AbbVie             Health Care   \n",
       "\u001b[1;36m4\u001b[0m    ACN            Accenture  Information Technology   \n",
       "\n",
       "                GICS Sub-Industry    Headquarters Location  Date added  \\\n",
       "\u001b[1;36m0\u001b[0m        Industrial Conglomerates    Saint Paul, Minnesota  \u001b[1;36m1957\u001b[0m-\u001b[1;36m03\u001b[0m-\u001b[1;36m04\u001b[0m   \n",
       "\u001b[1;36m1\u001b[0m               Building Products     Milwaukee, Wisconsin  \u001b[1;36m2017\u001b[0m-\u001b[1;36m07\u001b[0m-\u001b[1;36m26\u001b[0m   \n",
       "\u001b[1;36m2\u001b[0m           Health Care Equipment  North Chicago, Illinois  \u001b[1;36m1957\u001b[0m-\u001b[1;36m03\u001b[0m-\u001b[1;36m04\u001b[0m   \n",
       "\u001b[1;36m3\u001b[0m                   Biotechnology  North Chicago, Illinois  \u001b[1;36m2012\u001b[0m-\u001b[1;36m12\u001b[0m-\u001b[1;36m31\u001b[0m   \n",
       "\u001b[1;36m4\u001b[0m  IT Consulting & Other Services          Dublin, Ireland  \u001b[1;36m2011\u001b[0m-\u001b[1;36m07\u001b[0m-\u001b[1;36m06\u001b[0m   \n",
       "\n",
       "       CIK      Founded  \n",
       "\u001b[1;36m0\u001b[0m    \u001b[1;36m66740\u001b[0m         \u001b[1;36m1902\u001b[0m  \n",
       "\u001b[1;36m1\u001b[0m    \u001b[1;36m91142\u001b[0m         \u001b[1;36m1916\u001b[0m  \n",
       "\u001b[1;36m2\u001b[0m     \u001b[1;36m1800\u001b[0m         \u001b[1;36m1888\u001b[0m  \n",
       "\u001b[1;36m3\u001b[0m  \u001b[1;36m1551152\u001b[0m  \u001b[1;36m2013\u001b[0m \u001b[1m(\u001b[0m\u001b[1;36m1888\u001b[0m\u001b[1m)\u001b[0m  \n",
       "\u001b[1;36m4\u001b[0m  \u001b[1;36m1467373\u001b[0m         \u001b[1;36m1989\u001b[0m  \n"
      ]
     },
     "metadata": {},
     "output_type": "display_data"
    },
    {
     "data": {
      "text/html": [
       "<pre style=\"white-space:pre;overflow-x:auto;line-height:normal;font-family:Menlo,'DejaVu Sans Mono',consolas,'Courier New',monospace\">\n",
       "\n",
       "\n",
       "</pre>\n"
      ],
      "text/plain": [
       "\n",
       "\n",
       "\n"
      ]
     },
     "metadata": {},
     "output_type": "display_data"
    },
    {
     "data": {
      "text/html": [
       "<pre style=\"white-space:pre;overflow-x:auto;line-height:normal;font-family:Menlo,'DejaVu Sans Mono',consolas,'Courier New',monospace\">Table <span style=\"color: #008080; text-decoration-color: #008080; font-weight: bold\">1</span>\n",
       "</pre>\n"
      ],
      "text/plain": [
       "Table \u001b[1;36m1\u001b[0m\n"
      ]
     },
     "metadata": {},
     "output_type": "display_data"
    },
    {
     "data": {
      "text/html": [
       "<pre style=\"white-space:pre;overflow-x:auto;line-height:normal;font-family:Menlo,'DejaVu Sans Mono',consolas,'Courier New',monospace\">                 Date  Added                        Removed  \\\n",
       "                 Date Ticker               Security  Ticker   \n",
       "<span style=\"color: #008080; text-decoration-color: #008080; font-weight: bold\">0</span>     October <span style=\"color: #008080; text-decoration-color: #008080; font-weight: bold\">1</span>, <span style=\"color: #008080; text-decoration-color: #008080; font-weight: bold\">2024</span>    NaN                    NaN    BBWI   \n",
       "<span style=\"color: #008080; text-decoration-color: #008080; font-weight: bold\">1</span>  September <span style=\"color: #008080; text-decoration-color: #008080; font-weight: bold\">30</span>, <span style=\"color: #008080; text-decoration-color: #008080; font-weight: bold\">2024</span>   AMTM                Amentum     NaN   \n",
       "<span style=\"color: #008080; text-decoration-color: #008080; font-weight: bold\">2</span>  September <span style=\"color: #008080; text-decoration-color: #008080; font-weight: bold\">23</span>, <span style=\"color: #008080; text-decoration-color: #008080; font-weight: bold\">2024</span>   PLTR  Palantir Technologies     AAL   \n",
       "<span style=\"color: #008080; text-decoration-color: #008080; font-weight: bold\">3</span>  September <span style=\"color: #008080; text-decoration-color: #008080; font-weight: bold\">23</span>, <span style=\"color: #008080; text-decoration-color: #008080; font-weight: bold\">2024</span>   DELL      Dell Technologies    ETSY   \n",
       "<span style=\"color: #008080; text-decoration-color: #008080; font-weight: bold\">4</span>  September <span style=\"color: #008080; text-decoration-color: #008080; font-weight: bold\">23</span>, <span style=\"color: #008080; text-decoration-color: #008080; font-weight: bold\">2024</span>   ERIE         Erie Indemnity     BIO   \n",
       "\n",
       "                                                                       Reason  \n",
       "                  Security                                             Reason  \n",
       "<span style=\"color: #008080; text-decoration-color: #008080; font-weight: bold\">0</span>  Bath &amp; Body Works, Inc.                   Market capitalization change.<span style=\"font-weight: bold\">[</span><span style=\"color: #008080; text-decoration-color: #008080; font-weight: bold\">4</span><span style=\"font-weight: bold\">]</span>  \n",
       "<span style=\"color: #008080; text-decoration-color: #008080; font-weight: bold\">1</span>                      NaN  S&amp;P <span style=\"color: #008080; text-decoration-color: #008080; font-weight: bold\">500</span> constituent Jacobs Solutions spun off <span style=\"color: #808000; text-decoration-color: #808000\">...</span>  \n",
       "<span style=\"color: #008080; text-decoration-color: #008080; font-weight: bold\">2</span>  American Airlines Group                   Market capitalization change.<span style=\"font-weight: bold\">[</span><span style=\"color: #008080; text-decoration-color: #008080; font-weight: bold\">5</span><span style=\"font-weight: bold\">]</span>  \n",
       "<span style=\"color: #008080; text-decoration-color: #008080; font-weight: bold\">3</span>                     Etsy                   Market capitalization change.<span style=\"font-weight: bold\">[</span><span style=\"color: #008080; text-decoration-color: #008080; font-weight: bold\">5</span><span style=\"font-weight: bold\">]</span>  \n",
       "<span style=\"color: #008080; text-decoration-color: #008080; font-weight: bold\">4</span>     Bio-Rad Laboratories                   Market capitalization change.<span style=\"font-weight: bold\">[</span><span style=\"color: #008080; text-decoration-color: #008080; font-weight: bold\">5</span><span style=\"font-weight: bold\">]</span>  \n",
       "</pre>\n"
      ],
      "text/plain": [
       "                 Date  Added                        Removed  \\\n",
       "                 Date Ticker               Security  Ticker   \n",
       "\u001b[1;36m0\u001b[0m     October \u001b[1;36m1\u001b[0m, \u001b[1;36m2024\u001b[0m    NaN                    NaN    BBWI   \n",
       "\u001b[1;36m1\u001b[0m  September \u001b[1;36m30\u001b[0m, \u001b[1;36m2024\u001b[0m   AMTM                Amentum     NaN   \n",
       "\u001b[1;36m2\u001b[0m  September \u001b[1;36m23\u001b[0m, \u001b[1;36m2024\u001b[0m   PLTR  Palantir Technologies     AAL   \n",
       "\u001b[1;36m3\u001b[0m  September \u001b[1;36m23\u001b[0m, \u001b[1;36m2024\u001b[0m   DELL      Dell Technologies    ETSY   \n",
       "\u001b[1;36m4\u001b[0m  September \u001b[1;36m23\u001b[0m, \u001b[1;36m2024\u001b[0m   ERIE         Erie Indemnity     BIO   \n",
       "\n",
       "                                                                       Reason  \n",
       "                  Security                                             Reason  \n",
       "\u001b[1;36m0\u001b[0m  Bath & Body Works, Inc.                   Market capitalization change.\u001b[1m[\u001b[0m\u001b[1;36m4\u001b[0m\u001b[1m]\u001b[0m  \n",
       "\u001b[1;36m1\u001b[0m                      NaN  S&P \u001b[1;36m500\u001b[0m constituent Jacobs Solutions spun off \u001b[33m...\u001b[0m  \n",
       "\u001b[1;36m2\u001b[0m  American Airlines Group                   Market capitalization change.\u001b[1m[\u001b[0m\u001b[1;36m5\u001b[0m\u001b[1m]\u001b[0m  \n",
       "\u001b[1;36m3\u001b[0m                     Etsy                   Market capitalization change.\u001b[1m[\u001b[0m\u001b[1;36m5\u001b[0m\u001b[1m]\u001b[0m  \n",
       "\u001b[1;36m4\u001b[0m     Bio-Rad Laboratories                   Market capitalization change.\u001b[1m[\u001b[0m\u001b[1;36m5\u001b[0m\u001b[1m]\u001b[0m  \n"
      ]
     },
     "metadata": {},
     "output_type": "display_data"
    },
    {
     "data": {
      "text/html": [
       "<pre style=\"white-space:pre;overflow-x:auto;line-height:normal;font-family:Menlo,'DejaVu Sans Mono',consolas,'Courier New',monospace\">\n",
       "\n",
       "\n",
       "</pre>\n"
      ],
      "text/plain": [
       "\n",
       "\n",
       "\n"
      ]
     },
     "metadata": {},
     "output_type": "display_data"
    }
   ],
   "source": [
    "for i, table in enumerate(tables):\n",
    "    print(f\"Table {i}\")\n",
    "    print(table.head())\n",
    "    print(\"\\n\\n\")"
   ]
  },
  {
   "cell_type": "code",
   "execution_count": 18,
   "metadata": {},
   "outputs": [
    {
     "name": "stdout",
     "output_type": "stream",
     "text": [
      "<class 'pandas.core.frame.DataFrame'>\n",
      "RangeIndex: 353 entries, 0 to 352\n",
      "Data columns (total 6 columns):\n",
      " #   Column               Non-Null Count  Dtype \n",
      "---  ------               --------------  ----- \n",
      " 0   (Date, Date)         353 non-null    object\n",
      " 1   (Added, Ticker)      339 non-null    object\n",
      " 2   (Added, Security)    339 non-null    object\n",
      " 3   (Removed, Ticker)    334 non-null    object\n",
      " 4   (Removed, Security)  334 non-null    object\n",
      " 5   (Reason, Reason)     353 non-null    object\n",
      "dtypes: object(6)\n",
      "memory usage: 16.7+ KB\n"
     ]
    }
   ],
   "source": [
    "changes = tables[1]\n",
    "changes.info()"
   ]
  }
 ],
 "metadata": {
  "kernelspec": {
   "display_name": ".venv_data",
   "language": "python",
   "name": "python3"
  },
  "language_info": {
   "codemirror_mode": {
    "name": "ipython",
    "version": 3
   },
   "file_extension": ".py",
   "mimetype": "text/x-python",
   "name": "python",
   "nbconvert_exporter": "python",
   "pygments_lexer": "ipython3",
   "version": "3.10.12"
  }
 },
 "nbformat": 4,
 "nbformat_minor": 2
}
